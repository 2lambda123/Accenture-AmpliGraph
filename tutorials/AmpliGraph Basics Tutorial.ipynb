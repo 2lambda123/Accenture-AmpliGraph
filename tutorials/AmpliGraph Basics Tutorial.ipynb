{
 "cells": [
  {
   "cell_type": "markdown",
   "metadata": {},
   "source": [
    "---\n",
    "# Getting Started with AmpliGraph\n",
    "---\n",
    "In this tutorial we will demonstrate how to use the AmpliGraph library. \n",
    "\n",
    "Things we will cover:\n",
    "\n",
    "1. Exploration of a graph dataset\n",
    "2. Splitting graph datasets into train and test sets\n",
    "3. Training a model\n",
    "4. Model selection and hyper-parameter search \n",
    "5. Saving and restoring a model\n",
    "6. Evaluating a model\n",
    "7. Using link prediction to discover unknown relations\n",
    "8. Visualizing embeddings using Tensorboard\n",
    "\n",
    "---\n",
    "\n",
    "## Requirements\n",
    "\n",
    "A python environment with the AmpliGraph library installed. Please follow [the install guide](http://docs.ampligraph.org/en/latest/install.html).\n",
    "\n"
   ]
  },
  {
   "cell_type": "markdown",
   "metadata": {},
   "source": [
    "Some sanity check:"
   ]
  },
  {
   "cell_type": "code",
   "execution_count": 6,
   "metadata": {},
   "outputs": [
    {
     "data": {
      "text/plain": [
       "'1.0.3'"
      ]
     },
     "execution_count": 6,
     "metadata": {},
     "output_type": "execute_result"
    }
   ],
   "source": [
    "import ampligraph\n",
    "import numpy as np\n",
    "\n",
    "ampligraph.__version__"
   ]
  },
  {
   "cell_type": "markdown",
   "metadata": {},
   "source": [
    "## 1. Dataset exploration\n",
    "\n",
    "First things first! Lets import the required libraries and retrieve some data:"
   ]
  },
  {
   "cell_type": "markdown",
   "metadata": {},
   "source": [
    "In this tutorial we're going to use the **`Game of Thrones`** knowledge Graph. Please note: this isn't the *greatest* dataset for demonstrating the power of knowledge graph embeddings, but is small, intuitive and should be familiar to most users. \n",
    "\n",
    "Run the following cell to pull down the dataset:"
   ]
  },
  {
   "cell_type": "markdown",
   "metadata": {},
   "source": [
    "Each data point is an triple in the form: \n",
    "\n",
    "    <subject, predicate, object>\n"
   ]
  },
  {
   "cell_type": "code",
   "execution_count": 2,
   "metadata": {},
   "outputs": [
    {
     "data": {
      "text/plain": [
       "161130"
      ]
     },
     "execution_count": 2,
     "metadata": {},
     "output_type": "execute_result"
    }
   ],
   "source": [
    "import requests\n",
    "url = 'https://ampligraph.s3-eu-west-1.amazonaws.com/datasets/GoT.csv'\n",
    "open('GoT.csv', 'wb').write(requests.get(url).content)"
   ]
  },
  {
   "cell_type": "code",
   "execution_count": 3,
   "metadata": {},
   "outputs": [],
   "source": [
    "from ampligraph.datasets import load_from_csv\n",
    "\n",
    "X = load_from_csv('.', 'GoT.csv', sep=',')"
   ]
  },
  {
   "cell_type": "code",
   "execution_count": 4,
   "metadata": {
    "scrolled": true
   },
   "outputs": [
    {
     "data": {
      "text/plain": [
       "array([['Smithyton', 'SEAT_OF', 'House Shermer of Smithyton'],\n",
       "       ['House Mormont of Bear Island', 'LED_BY', 'Maege Mormont'],\n",
       "       ['Margaery Tyrell', 'SPOUSE', 'Joffrey Baratheon'],\n",
       "       ['Maron Nymeros Martell', 'ALLIED_WITH',\n",
       "        'House Nymeros Martell of Sunspear'],\n",
       "       ['House Gargalen of Salt Shore', 'IN_REGION', 'Dorne']],\n",
       "      dtype=object)"
      ]
     },
     "execution_count": 4,
     "metadata": {},
     "output_type": "execute_result"
    }
   ],
   "source": [
    "X[:5, ]"
   ]
  },
  {
   "cell_type": "markdown",
   "metadata": {},
   "source": [
    "Let's list the subject and object entities found in the dataset:"
   ]
  },
  {
   "cell_type": "code",
   "execution_count": 15,
   "metadata": {},
   "outputs": [
    {
     "data": {
      "text/plain": [
       "array(['Abelar Hightower', 'Acorn Hall', 'Addam Frey', ..., 'the Antlers',\n",
       "       'the Paps', 'unnamed tower'], dtype=object)"
      ]
     },
     "execution_count": 15,
     "metadata": {},
     "output_type": "execute_result"
    }
   ],
   "source": [
    "entities = np.unique(np.concatenate([X[:, 0], X[:, 2]]))\n",
    "entities"
   ]
  },
  {
   "cell_type": "markdown",
   "metadata": {},
   "source": [
    ".. and all of the relationships that link them. Remember, these relationships only link *some* of the entities."
   ]
  },
  {
   "cell_type": "code",
   "execution_count": 19,
   "metadata": {},
   "outputs": [
    {
     "data": {
      "text/plain": [
       "array(['ALLIED_WITH', 'BRANCH_OF', 'FOUNDED_BY', 'HEIR_TO', 'IN_REGION',\n",
       "       'LED_BY', 'PARENT_OF', 'SEAT_OF', 'SPOUSE', 'SWORN_TO'],\n",
       "      dtype=object)"
      ]
     },
     "execution_count": 19,
     "metadata": {},
     "output_type": "execute_result"
    }
   ],
   "source": [
    "relations = np.unique(X[:, 1])\n",
    "relations"
   ]
  },
  {
   "cell_type": "markdown",
   "metadata": {},
   "source": [
    "# 2. Defining train and test datasets"
   ]
  },
  {
   "cell_type": "markdown",
   "metadata": {},
   "source": [
    "As is typical in machine learning, we need to split our dataset into training and test (and sometimes validation) datasets. \n",
    "\n",
    "What differs from the standard method of randomly sampling N points to make up our test set, is that our data points are two entities linked by some relationship, and we need to take care to ensure that all entities are represented in train and test sets by at least one triple. \n",
    "\n",
    "To accomplish this, AmpliGraph provides the [`train_test_split_no_unseen`](https://docs.ampligraph.org/en/latest/generated/ampligraph.evaluation.train_test_split_no_unseen.html#train-test-split-no-unseen) function.  \n",
    "\n",
    "For sake of example, we will create a small test size that includes only 100 triples:"
   ]
  },
  {
   "cell_type": "code",
   "execution_count": 22,
   "metadata": {},
   "outputs": [],
   "source": [
    "from ampligraph.evaluation import train_test_split_no_unseen \n",
    "\n",
    "X_train, X_test = train_test_split_no_unseen(X, test_size=100) "
   ]
  },
  {
   "cell_type": "markdown",
   "metadata": {},
   "source": [
    "Our data is now split into train/test sets. If we need to further divide into a validation dataset we can just repeat using the same procedure on the test set (and adjusting the split percentages). "
   ]
  },
  {
   "cell_type": "code",
   "execution_count": 23,
   "metadata": {},
   "outputs": [
    {
     "name": "stdout",
     "output_type": "stream",
     "text": [
      "Train set size:  (3075, 3)\n",
      "Test set size:  (100, 3)\n"
     ]
    }
   ],
   "source": [
    "print('Train set size: ', X_train.shape)\n",
    "print('Test set size: ', X_test.shape)"
   ]
  },
  {
   "cell_type": "markdown",
   "metadata": {},
   "source": [
    "---\n",
    "# 3. Training a model \n",
    "\n",
    "AmpliGraph has implemented [several Knoweldge Graph Embedding models](https://docs.ampligraph.org/en/latest/ampligraph.latent_features.html#knowledge-graph-embedding-models) (TransE, ComplEx, DistMult, HolE), but to begin with we're just going to use the [ComplEx](https://docs.ampligraph.org/en/latest/generated/ampligraph.latent_features.ComplEx.html#ampligraph.latent_features.ComplEx) model (with  default values), so lets import that:"
   ]
  },
  {
   "cell_type": "code",
   "execution_count": 24,
   "metadata": {},
   "outputs": [],
   "source": [
    "from ampligraph.latent_features import ComplEx"
   ]
  },
  {
   "cell_type": "markdown",
   "metadata": {},
   "source": [
    "Lets go through the parameters to understand what's going on:\n",
    "\n",
    "- **`k`** : the dimensionality of the embedding space\n",
    "- **`eta`** ($\\eta$) : the number of negative, or false triples that must be generated at training runtime for each positive, or true triple\n",
    "- **`batches_count`** : the number of batches in which the training set is split during the training loop. If you are having into low memory issues than settings this to a higher number may help.\n",
    "- **`epochs`** : the number of epochs to train the model for.\n",
    "- **`optimizer`** : the Adam optimizer, with a learning rate of 1e-3 set via the *optimizer_params* kwarg.\n",
    "- **`loss`** : pairwise loss, with a margin of 0.5 set via the *loss_params* kwarg.\n",
    "- **`regularizer`** : $L_p$ regularization with $p=2$, i.e. l2 regularization. $\\lambda$ = 1e-5, set via the *regularizer_params* kwarg. \n",
    "\n",
    "Now we can instantiate the model:\n"
   ]
  },
  {
   "cell_type": "code",
   "execution_count": 53,
   "metadata": {},
   "outputs": [],
   "source": [
    "model = ComplEx(batches_count=10, \n",
    "                seed=0, \n",
    "                epochs=200, \n",
    "                k=150, \n",
    "                eta=5,\n",
    "                optimizer='adam', \n",
    "                optimizer_params={'lr':1e-3},\n",
    "                loss='multiclass_nll', \n",
    "                regularizer='LP', \n",
    "                regularizer_params={'p':3, 'lambda':1e-5}, \n",
    "                verbose=True)"
   ]
  },
  {
   "cell_type": "markdown",
   "metadata": {},
   "source": [
    "## Filtering negatives\n",
    "\n",
    "AmpliGraph aims to follow scikit-learn's ease-of-use design philosophy and simplify everything down to **`fit`**, **`evaluate`**, and **`predict`** functions. \n",
    "\n",
    "However, there are some knowledge graph specific steps we must take to ensure our model can be trained and evaluated correctly. The first of these is defining the filter that will be used to ensure that no *negative* statements generated by the corruption procedure are actually positives. This is simply done by concatenating our train and test sets. Now when negative triples are generated by the corruption strategy, we can check that they aren't actually true statements.  \n"
   ]
  },
  {
   "cell_type": "code",
   "execution_count": 54,
   "metadata": {},
   "outputs": [],
   "source": [
    "positives_filter = X"
   ]
  },
  {
   "cell_type": "markdown",
   "metadata": {},
   "source": [
    "## Fitting the model\n",
    "\n",
    "Once you run the next cell the model will train. \n",
    "\n",
    "On a modern laptop this should take ~1 minute (although your mileage may vary, especially if you've changed any of the parameters above)."
   ]
  },
  {
   "cell_type": "code",
   "execution_count": 55,
   "metadata": {},
   "outputs": [
    {
     "name": "stderr",
     "output_type": "stream",
     "text": [
      "Average Loss:   0.028935: 100%|██████████| 200/200 [00:47<00:00,  4.22epoch/s]\n"
     ]
    }
   ],
   "source": [
    "# Fit the model on training and validation set\n",
    "model.fit(X_train, early_stopping = False)\n"
   ]
  },
  {
   "cell_type": "markdown",
   "metadata": {},
   "source": [
    "---\n",
    "# 5.  Saving and restoring a model\n",
    "\n",
    "Before we go any further, let's save the best model found so that we can restore it in future."
   ]
  },
  {
   "cell_type": "code",
   "execution_count": 30,
   "metadata": {},
   "outputs": [],
   "source": [
    "from ampligraph.latent_features import save_model, restore_model"
   ]
  },
  {
   "cell_type": "markdown",
   "metadata": {},
   "source": [
    "This will save the model in the ampligraph_tutorial directory as *model.pickle*."
   ]
  },
  {
   "cell_type": "code",
   "execution_count": 31,
   "metadata": {},
   "outputs": [],
   "source": [
    "save_model(model, './best_model.pkl')"
   ]
  },
  {
   "cell_type": "markdown",
   "metadata": {},
   "source": [
    ".. we can then delete the model .. "
   ]
  },
  {
   "cell_type": "code",
   "execution_count": 32,
   "metadata": {},
   "outputs": [],
   "source": [
    "del model"
   ]
  },
  {
   "cell_type": "markdown",
   "metadata": {},
   "source": [
    ".. and then restore it from disk! Ta-da! "
   ]
  },
  {
   "cell_type": "code",
   "execution_count": 33,
   "metadata": {},
   "outputs": [],
   "source": [
    "model = restore_model('./best_model.pkl')"
   ]
  },
  {
   "cell_type": "markdown",
   "metadata": {},
   "source": [
    "And let's just double check that the model we restored has been fit:"
   ]
  },
  {
   "cell_type": "code",
   "execution_count": 34,
   "metadata": {},
   "outputs": [
    {
     "name": "stdout",
     "output_type": "stream",
     "text": [
      "The model is fit!\n"
     ]
    }
   ],
   "source": [
    "if model.is_fitted:\n",
    "    print('The model is fit!')\n",
    "else:\n",
    "    print('The model is not fit! Did you skip a step?')"
   ]
  },
  {
   "cell_type": "markdown",
   "metadata": {},
   "source": [
    "---\n",
    "# 6. Evaluating a model\n",
    "\n",
    "Now it's time to evaluate our model on the test set to see how well it's performing. \n",
    "\n",
    "For this we'll use the `evaluate_performance` function:"
   ]
  },
  {
   "cell_type": "code",
   "execution_count": 35,
   "metadata": {},
   "outputs": [],
   "source": [
    "from ampligraph.evaluation import evaluate_performance"
   ]
  },
  {
   "cell_type": "markdown",
   "metadata": {},
   "source": [
    "And let's look at the arguments to this function:\n",
    "\n",
    "- **`X`** - the data to evaluate on. We're going to use our test set to evaluate.\n",
    "- **`model`** - the model we previously trained.\n",
    "- **`filter_triples`** - will filter out the false negatives generated by the corruption strategy. \n",
    "- **`use_default_protocol`** - specifies whether to use the default corruption protocol. If True, then subj and obj are corrupted separately during evaluation.\n",
    "- **`verbose`** - will give some nice log statements. Let's leave it on for now.\n"
   ]
  },
  {
   "cell_type": "markdown",
   "metadata": {},
   "source": [
    "## Running evaluation"
   ]
  },
  {
   "cell_type": "code",
   "execution_count": 56,
   "metadata": {},
   "outputs": [
    {
     "name": "stderr",
     "output_type": "stream",
     "text": [
      "100%|██████████| 100/100 [00:01<00:00, 62.10it/s]\n"
     ]
    }
   ],
   "source": [
    "ranks = evaluate_performance(X_test, \n",
    "                             model=model, \n",
    "                             filter_triples=positives_filter,   # Corruption strategy filter defined above \n",
    "                             use_default_protocol=True, # corrupt subj and obj separately while evaluating\n",
    "                             verbose=True)"
   ]
  },
  {
   "cell_type": "code",
   "execution_count": 85,
   "metadata": {},
   "outputs": [
    {
     "data": {
      "text/plain": [
       "200"
      ]
     },
     "execution_count": 85,
     "metadata": {},
     "output_type": "execute_result"
    }
   ],
   "source": [
    "len(ranks)"
   ]
  },
  {
   "cell_type": "markdown",
   "metadata": {},
   "source": [
    "\n",
    "The ***ranks*** returned by the evaluate_performance function indicate the rank at which the test set triple was found when performing link prediction using the model. \n",
    "\n",
    "For example, given the triple:\n",
    "\n",
    "    <cuba, independence, usa> \n",
    "    \n",
    "The model may return a rank of 2. This tells us that while it's not the highest likelihood true statement (which would be given a rank of 1), it's pretty likely.\n"
   ]
  },
  {
   "cell_type": "code",
   "execution_count": 44,
   "metadata": {},
   "outputs": [
    {
     "data": {
      "text/plain": [
       "array([['House Hutcheson', 'SWORN_TO', 'House Tyrell of Highgarden'],\n",
       "       ['Amory Lorch', 'ALLIED_WITH', 'House Lannister of Casterly Rock']],\n",
       "      dtype=object)"
      ]
     },
     "execution_count": 44,
     "metadata": {},
     "output_type": "execute_result"
    }
   ],
   "source": [
    "X_test[:2,]"
   ]
  },
  {
   "cell_type": "code",
   "execution_count": 84,
   "metadata": {
    "scrolled": true
   },
   "outputs": [
    {
     "data": {
      "text/plain": [
       "array([1, 1], dtype=int32)"
      ]
     },
     "execution_count": 84,
     "metadata": {},
     "output_type": "execute_result"
    }
   ],
   "source": [
    "ranks_split = np.array(ranks).reshape((2,-1))\n",
    "ranks_split.shape\n",
    "ranks_split[:,33]"
   ]
  },
  {
   "cell_type": "markdown",
   "metadata": {},
   "source": [
    "## Metrics"
   ]
  },
  {
   "cell_type": "markdown",
   "metadata": {},
   "source": [
    "Let's compute some evaluate metrics and print them out.\n",
    "\n",
    "We're going to use the mrr_score (mean reciprocal rank) and hits_at_n_score functions. \n",
    "\n",
    "- ***mrr_score***:  The function computes the mean of the reciprocal of elements of a vector of rankings ranks.\n",
    "- ***hits_at_n_score***: The function computes how many elements of a vector of rankings ranks make it to the top n positions.\n"
   ]
  },
  {
   "cell_type": "code",
   "execution_count": 102,
   "metadata": {},
   "outputs": [
    {
     "name": "stdout",
     "output_type": "stream",
     "text": [
      "MRR: 0.47\n",
      "MR: 240.25\n",
      "Hits@10: 0.59\n",
      "Hits@3: 0.48\n",
      "Hits@1: 0.41\n"
     ]
    }
   ],
   "source": [
    "from ampligraph.evaluation import mr_score, mrr_score, hits_at_n_score\n",
    "\n",
    "mr = mr_score(ranks)\n",
    "mrr = mrr_score(ranks)\n",
    "\n",
    "print(\"MRR: %.2f\" % (mrr))\n",
    "print(\"MR: %.2f\" % (mr))\n",
    "\n",
    "hits_10 = hits_at_n_score(ranks, n=10)\n",
    "print(\"Hits@10: %.2f\" % (hits_10))\n",
    "hits_3 = hits_at_n_score(ranks, n=3)\n",
    "print(\"Hits@3: %.2f\" % (hits_3))\n",
    "hits_1 = hits_at_n_score(ranks, n=1)\n",
    "print(\"Hits@1: %.2f\" % (hits_1))"
   ]
  },
  {
   "cell_type": "markdown",
   "metadata": {},
   "source": [
    "Now, how do we interpret those numbers? that means "
   ]
  },
  {
   "cell_type": "markdown",
   "metadata": {},
   "source": [
    "---\n",
    "# 7. Predicting New Links\n",
    "\n",
    "Link prediction allows us to infer missing links in a graph. This has many real-world use cases, such as predicting connections between people in a social network, interactions between proteins in a biological network, and music recommendation based on prior user taste. \n",
    "\n",
    "In our case, we're going to see which of the following statements are more likely to be true:\n"
   ]
  },
  {
   "cell_type": "code",
   "execution_count": 47,
   "metadata": {},
   "outputs": [],
   "source": [
    "from scipy.special import expit"
   ]
  },
  {
   "cell_type": "code",
   "execution_count": 48,
   "metadata": {
    "scrolled": true
   },
   "outputs": [
    {
     "data": {
      "text/plain": [
       "array([['House Hutcheson', 'SWORN_TO', 'House Tyrell of Highgarden'],\n",
       "       ['Amory Lorch', 'ALLIED_WITH', 'House Lannister of Casterly Rock'],\n",
       "       ['Brienne of Tarth', 'ALLIED_WITH',\n",
       "        'House Tarth of Evenfall Hall'],\n",
       "       ['Alyn', 'ALLIED_WITH', 'House Stark of Winterfell'],\n",
       "       ['House Ryder of the Rills', 'IN_REGION', 'The North'],\n",
       "       ['House Bridges', 'IN_REGION', 'The Reach'],\n",
       "       ['House Redfort of Redfort', 'IN_REGION', 'The Vale'],\n",
       "       ['House Arryn of the Eyrie', 'IN_REGION', 'The Vale'],\n",
       "       ['Brandon Stark', 'ALLIED_WITH', 'House Stark of Winterfell'],\n",
       "       ['House Hightower of the Hightower', 'LED_BY', 'Leyton Hightower'],\n",
       "       ['House Upcliff', 'SWORN_TO', 'House Arryn of the Eyrie'],\n",
       "       ['House Oakheart of Old Oak', 'IN_REGION', 'The Reach'],\n",
       "       ['Daenora Targaryen', 'SPOUSE', 'Aerion Targaryen'],\n",
       "       ['House Roxton of the Ring', 'SWORN_TO',\n",
       "        'House Tyrell of Highgarden'],\n",
       "       ['House Staedmon of Broad Arch', 'SWORN_TO',\n",
       "        \"House Baratheon of Storm's End\"],\n",
       "       ['House Darklyn of Duskendale', 'SWORN_TO',\n",
       "        \"House Targaryen of King's Landing\"],\n",
       "       ['House Prester of Feastfires', 'IN_REGION', 'The Westerlands'],\n",
       "       ['House Vikary', 'IN_REGION', 'The Westerlands'],\n",
       "       ['Deana Hardyng', 'ALLIED_WITH', 'House Hardyng'],\n",
       "       ['House Harte', 'IN_REGION', 'The Crownlands'],\n",
       "       ['House Manwoody of Kingsgrave', 'IN_REGION', 'Dorne'],\n",
       "       ['House Codd', 'IN_REGION', 'Iron Islands'],\n",
       "       ['Hallis Mollen', 'ALLIED_WITH', 'House Stark of Winterfell'],\n",
       "       ['Selyse Florent', 'ALLIED_WITH',\n",
       "        'House Florent of Brightwater Keep'],\n",
       "       ['House Woodfoot of Bear Island', 'IN_REGION', 'The North'],\n",
       "       ['House Dunn', 'IN_REGION', 'The Reach'],\n",
       "       ['Alys Arryn', 'ALLIED_WITH', \"House Targaryen of King's Landing\"],\n",
       "       ['Oswell Kettleblack', 'ALLIED_WITH', 'House Kettleblack'],\n",
       "       ['Arya Flint', 'ALLIED_WITH', 'House Stark of Winterfell'],\n",
       "       ['Harrold Hardyng', 'HEIR_TO', 'House Arryn of the Eyrie'],\n",
       "       ['House Tudbury', 'IN_REGION', 'The Stormlands'],\n",
       "       ['House Crabb', 'IN_REGION', 'The Crownlands'],\n",
       "       ['House Allyrion of Godsgrace', 'IN_REGION', 'Dorne'],\n",
       "       ['Rhonda Rowan', 'ALLIED_WITH', 'House Rowan of Goldengrove'],\n",
       "       ['Andrey Dalt', 'HEIR_TO', 'House Dalt of Lemonwood'],\n",
       "       ['Jeyne Royce', 'ALLIED_WITH', 'House Royce of Runestone'],\n",
       "       ['House Long', 'IN_REGION', 'The North'],\n",
       "       ['House Peasebury of Poddingfield', 'IN_REGION', 'The Stormlands'],\n",
       "       ['House Dustin of Barrowton', 'IN_REGION', 'The North'],\n",
       "       ['Amarei Crakehall', 'ALLIED_WITH',\n",
       "        'House Crakehall of Crakehall'],\n",
       "       ['House Waterman', 'SWORN_TO', 'House Bolton of the Dreadfort'],\n",
       "       ['House Ironmaker', 'SWORN_TO', 'House Greyjoy of Pyke'],\n",
       "       ['House Fenn', 'SWORN_TO', 'House Reed of Greywater Watch'],\n",
       "       ['House Botley of Lordsport', 'SWORN_TO', 'House Greyjoy of Pyke'],\n",
       "       ['Dyanna Dayne', 'ALLIED_WITH',\n",
       "        \"House Targaryen of King's Landing\"],\n",
       "       ['House Foote of Nightsong', 'BRANCH_OF', 'House Foote'],\n",
       "       ['Hosteen Frey', 'PARENT_OF', 'Arwood Frey'],\n",
       "       ['House Foote of Nightsong', 'IN_REGION', 'The Stormlands'],\n",
       "       ['Damon Vypren', 'HEIR_TO', 'House Vypren'],\n",
       "       ['House Frey of Riverrun', 'FOUNDED_BY', 'Emmon Frey'],\n",
       "       ['Eleanor Mooton', 'ALLIED_WITH', 'House Tarly of Horn Hill'],\n",
       "       [\"House Baratheon of Storm's End\", 'IN_REGION', 'The Stormlands'],\n",
       "       ['Jeyne Westerling', 'ALLIED_WITH',\n",
       "        'House Tarbeck of Tarbeck Hall'],\n",
       "       ['House Lowther', 'IN_REGION', 'The Reach'],\n",
       "       ['House Willum', 'IN_REGION', 'The Reach'],\n",
       "       ['Brynden Tully', 'ALLIED_WITH', 'House Tully of Riverrun'],\n",
       "       ['Lythene Frey', 'ALLIED_WITH', 'House Frey of the Crossing'],\n",
       "       ['House Forrester', 'SWORN_TO', 'House Glover of Deepwood Motte'],\n",
       "       ['House Byrch', 'IN_REGION', 'The Crownlands'],\n",
       "       ['Marq Piper', 'ALLIED_WITH', 'House Piper of Pinkmaiden'],\n",
       "       ['House Seaworth of Cape Wrath', 'IN_REGION', 'The Stormlands'],\n",
       "       ['Daenerys Targaryen', 'ALLIED_WITH',\n",
       "        'House Nymeros Martell of Sunspear'],\n",
       "       ['House Hersy of Newkeep', 'SWORN_TO', 'House Arryn of the Eyrie'],\n",
       "       ['House Norrey', 'SWORN_TO', 'House Stark of Winterfell'],\n",
       "       ['Rhaegel Targaryen', 'ALLIED_WITH',\n",
       "        \"House Targaryen of King's Landing\"],\n",
       "       ['Alester Tyrell', 'ALLIED_WITH', 'House Gardener of Highgarden'],\n",
       "       ['Alysane Mormont', 'HEIR_TO', 'House Mormont of Bear Island'],\n",
       "       ['House Mertyns of Mistwood', 'SWORN_TO',\n",
       "        \"House Baratheon of Storm's End\"],\n",
       "       ['House Shepherd', 'IN_REGION', 'Iron Islands'],\n",
       "       ['Jaehaera Targaryen', 'ALLIED_WITH',\n",
       "        \"House Targaryen of King's Landing\"],\n",
       "       ['House Wyl of the Boneway', 'IN_REGION', 'Dorne'],\n",
       "       ['House Webber of Coldmoat', 'BRANCH_OF',\n",
       "        'House Rowan of Goldengrove'],\n",
       "       ['House Lefford of the Golden Tooth', 'SWORN_TO',\n",
       "        'House Lannister of Casterly Rock'],\n",
       "       ['Justin Massey', 'ALLIED_WITH', 'House Baratheon of Dragonstone'],\n",
       "       ['Alicent Hightower', 'PARENT_OF', 'Aegon II'],\n",
       "       ['Elys Waynwood', 'SPOUSE', 'Alys Arryn'],\n",
       "       ['Jothos Slynt', 'ALLIED_WITH', 'House Slynt of Harrenhal'],\n",
       "       ['House Sunderland of the Three Sisters', 'SWORN_TO',\n",
       "        'House Arryn of the Eyrie'],\n",
       "       ['Brella', 'ALLIED_WITH', 'House Lannister of Casterly Rock'],\n",
       "       ['House Myatt', 'IN_REGION', 'The Westerlands'],\n",
       "       ['Ceryse Hightower', 'ALLIED_WITH',\n",
       "        'House Hightower of the Hightower'],\n",
       "       ['Dermot', 'ALLIED_WITH', 'House Baratheon of Dragonstone'],\n",
       "       ['House Frey of the Crossing', 'IN_REGION', 'The Riverlands'],\n",
       "       ['House Jordayne of the Tor', 'SWORN_TO',\n",
       "        'House Nymeros Martell of Sunspear'],\n",
       "       ['Aenys I', 'PARENT_OF', 'Alysanne Targaryen'],\n",
       "       ['Jeyne Beesbury', 'ALLIED_WITH', 'House Beesbury of Honeyholt'],\n",
       "       ['Willem Frey', 'ALLIED_WITH', 'House Frey of Riverrun'],\n",
       "       ['Daenaera Velaryon', 'ALLIED_WITH',\n",
       "        'House Velaryon of Driftmark'],\n",
       "       ['House Ryswell of the Rills', 'IN_REGION', 'The North'],\n",
       "       ['House Royce of the Gates of the Moon', 'BRANCH_OF',\n",
       "        'House Royce of Runestone'],\n",
       "       ['House Marbrand of Ashemark', 'SWORN_TO',\n",
       "        'House Lannister of Casterly Rock'],\n",
       "       ['Ravella Swann', 'ALLIED_WITH', 'House Swann of Stonehelm'],\n",
       "       ['House Lonmouth', 'SWORN_TO', \"House Baratheon of Storm's End\"],\n",
       "       ['House Mormont of Bear Island', 'IN_REGION', 'The North'],\n",
       "       ['House Vikary', 'SWORN_TO', 'House Lannister of Casterly Rock'],\n",
       "       ['Rolph Spicer', 'ALLIED_WITH', 'House Spicer of Castamere'],\n",
       "       ['Betharios', 'ALLIED_WITH', 'House Frey of the Crossing'],\n",
       "       ['House Burley', 'SWORN_TO', 'House Bolton of the Dreadfort'],\n",
       "       ['House Ashford of Ashford', 'SWORN_TO',\n",
       "        'House Tyrell of Highgarden'],\n",
       "       ['House Hunt', 'IN_REGION', 'The Reach']], dtype=object)"
      ]
     },
     "execution_count": 48,
     "metadata": {},
     "output_type": "execute_result"
    }
   ],
   "source": [
    "X_test"
   ]
  },
  {
   "cell_type": "code",
   "execution_count": 90,
   "metadata": {},
   "outputs": [],
   "source": [
    "X_unseen = np.array([\n",
    "           ['Jorah Mormont', 'SPOUSE', 'Daenerys Targaryen'],\n",
    "           ['Tyrion Lannister', 'SPOUSE', 'Missandei'],\n",
    "           [\"King's Landing\", 'SEAT_OF', 'House Lannister of Casterly Rock'],\n",
    "           ['Sansa Stark', 'SPOUSE',],\n",
    "           ['Daenerys Targaryen', 'SPOUSE', 'Jon Snow'],\n",
    "           ['Daenerys Targaryen', 'SPOUSE', 'Craster'],\n",
    "           ['House Stark of Winterfell', 'IN_REGION', 'The North'],\n",
    "           ['House Stark of Winterfell', 'IN_REGION', 'Dorne'],\n",
    "           ['House Tyrell of Highgarden', 'IN_REGION', 'Beyond the Wall'],\n",
    "           ['Brandon Stark', 'ALLIED_WITH', 'House Stark of Winterfell'],\n",
    "           ['Brandon Stark', 'ALLIED_WITH', 'House Lannister of Casterly Rock'],    \n",
    "           ['Rhaegar Targaryen', 'PARENT_OF', 'Jon Snow'],\n",
    "           ['House Hutcheson', 'SWORN_TO', 'House Tyrell of Highgarden'],\n",
    "           ['Daenerys Targaryen', 'ALLIED_WITH', 'House Stark of Winterfell'],\n",
    "           ['Daenerys Targaryen', 'ALLIED_WITH', 'House Lannister of Casterly Rock']])"
   ]
  },
  {
   "cell_type": "code",
   "execution_count": 106,
   "metadata": {},
   "outputs": [
    {
     "name": "stderr",
     "output_type": "stream",
     "text": [
      "100%|██████████| 14/14 [00:00<00:00, 104.60it/s]\n"
     ]
    },
    {
     "data": {
      "text/plain": [
       "[162, 1991, 530, 3097, 3575, 522, 4024, 3849, 79, 3734, 3041, 70, 723, 2364]"
      ]
     },
     "execution_count": 106,
     "metadata": {},
     "output_type": "execute_result"
    }
   ],
   "source": [
    "ranks_unseen = evaluate_performance(X_unseen, \n",
    "                             model=model, \n",
    "                             filter_triples=positives_filter,   # Corruption strategy filter defined above \n",
    "                             corrupt_side = 's+o',\n",
    "                             use_default_protocol=False, # corrupt subj and obj separately while evaluating\n",
    "                             verbose=True)\n",
    "ranks_unseen"
   ]
  },
  {
   "cell_type": "code",
   "execution_count": 109,
   "metadata": {},
   "outputs": [
    {
     "data": {
      "text/plain": [
       "([0.65758157], [735])"
      ]
     },
     "execution_count": 109,
     "metadata": {},
     "output_type": "execute_result"
    }
   ],
   "source": [
    "model.predict([\"House Stark of Winterfell\", 'ALLIED_WITH', 'House Lannister of Casterly Rock'], get_ranks=True)"
   ]
  },
  {
   "cell_type": "code",
   "execution_count": 107,
   "metadata": {},
   "outputs": [
    {
     "data": {
      "text/plain": [
       "([-0.34036514], [3097])"
      ]
     },
     "execution_count": 107,
     "metadata": {},
     "output_type": "execute_result"
    }
   ],
   "source": [
    "model.predict(['Daenerys Targaryen', 'SPOUSE', 'Jon Snow'], get_ranks=True)"
   ]
  },
  {
   "cell_type": "code",
   "execution_count": 87,
   "metadata": {},
   "outputs": [
    {
     "data": {
      "text/plain": [
       "array([0.41572076], dtype=float32)"
      ]
     },
     "execution_count": 87,
     "metadata": {},
     "output_type": "execute_result"
    }
   ],
   "source": [
    "expit(model.predict(['Daenerys Targaryen', 'SPOUSE', 'Jon Snow']))"
   ]
  },
  {
   "cell_type": "code",
   "execution_count": 133,
   "metadata": {},
   "outputs": [
    {
     "data": {
      "text/plain": [
       "([-0.31123507], [3235])"
      ]
     },
     "execution_count": 133,
     "metadata": {},
     "output_type": "execute_result"
    }
   ],
   "source": [
    "model.predict([\"Tywin Lannister\", 'PARENT_OF', 'Jaime Lannister'], get_ranks=True)"
   ]
  },
  {
   "cell_type": "code",
   "execution_count": 118,
   "metadata": {},
   "outputs": [
    {
     "data": {
      "text/plain": [
       "([0.8335249], [159])"
      ]
     },
     "execution_count": 118,
     "metadata": {},
     "output_type": "execute_result"
    }
   ],
   "source": [
    "model.predict([\"Missandei\", 'SPOUSE', 'Grey Worm'], get_ranks=True)"
   ]
  },
  {
   "cell_type": "code",
   "execution_count": 117,
   "metadata": {},
   "outputs": [
    {
     "data": {
      "text/plain": [
       "([-0.36812535], [3332])"
      ]
     },
     "execution_count": 117,
     "metadata": {},
     "output_type": "execute_result"
    }
   ],
   "source": [
    "model.predict([\"Brienne of Tarth\", 'SPOUSE', 'Jaime Lannister'], get_ranks=True)"
   ]
  },
  {
   "cell_type": "code",
   "execution_count": 130,
   "metadata": {},
   "outputs": [
    {
     "data": {
      "text/plain": [
       "array([0.7100901], dtype=float32)"
      ]
     },
     "execution_count": 130,
     "metadata": {},
     "output_type": "execute_result"
    }
   ],
   "source": [
    "expit(model.predict(['Cersei Lannister', 'PARENT_OF', 'Myrcella Baratheon']))"
   ]
  },
  {
   "cell_type": "code",
   "execution_count": 131,
   "metadata": {},
   "outputs": [
    {
     "data": {
      "text/plain": [
       "array([0.34972617], dtype=float32)"
      ]
     },
     "execution_count": 131,
     "metadata": {},
     "output_type": "execute_result"
    }
   ],
   "source": [
    "expit(model.predict(['Cersei Lannister', 'PARENT_OF', 'Brandon Stark']))"
   ]
  },
  {
   "cell_type": "code",
   "execution_count": 136,
   "metadata": {},
   "outputs": [
    {
     "data": {
      "text/plain": [
       "[59, 1891]"
      ]
     },
     "execution_count": 136,
     "metadata": {},
     "output_type": "execute_result"
    }
   ],
   "source": [
    "X_candidates = np.array([\n",
    "    ['Cersei Lannister', 'PARENT_OF', 'Myrcella Baratheon'],\n",
    "    ['Cersei Lannister', 'PARENT_OF', 'Brandon Stark']\n",
    "])\n",
    "evaluate_performance(X_candidates, model=model, filter_triples=positives_filter, corrupt_side = 'o', use_default_protocol=False)"
   ]
  },
  {
   "cell_type": "code",
   "execution_count": 135,
   "metadata": {},
   "outputs": [
    {
     "data": {
      "text/plain": [
       "[1172, 97]"
      ]
     },
     "execution_count": 135,
     "metadata": {},
     "output_type": "execute_result"
    }
   ],
   "source": [
    "X_candidates = np.array([\n",
    "    ['Jaime Lannister', 'PARENT_OF', 'Myrcella Baratheon'],\n",
    "    ['Robert I Baratheon', 'PARENT_OF', 'Myrcella Baratheon']\n",
    "])\n",
    "ranks_unseen = evaluate_performance(X_candidates, \n",
    "                             model=model, \n",
    "                             filter_triples=positives_filter,\n",
    "                             corrupt_side = 'o',\n",
    "                             use_default_protocol=False)\n",
    "ranks_unseen"
   ]
  },
  {
   "cell_type": "code",
   "execution_count": null,
   "metadata": {
    "collapsed": true
   },
   "outputs": [],
   "source": [
    "[\"King's Landing\", 'SEAT_OF', 'Brandon Stark']"
   ]
  },
  {
   "cell_type": "markdown",
   "metadata": {},
   "source": [
    "---\n",
    "# 8. Visualizing Embeddings with Tensorboard projector \n",
    "\n",
    "The kind folks at Google have created [Tensorboard](https://www.tensorflow.org/tensorboard), which allows us to graph how our model is learning (or .. not :|), peer into the innards of neural networks, and [visualize high-dimensional embeddings in the browser](https://projector.tensorflow.org/).   \n",
    "\n",
    "Lets import the [`create_tensorboard_visualization`](http://docs.ampligraph.org/en/1.0.3/generated/ampligraph.utils.create_tensorboard_visualizations.html#ampligraph.utils.create_tensorboard_visualizations) function, which simplifies the creation of the files necessary for Tensorboard to display the embeddings."
   ]
  },
  {
   "cell_type": "code",
   "execution_count": 96,
   "metadata": {},
   "outputs": [],
   "source": [
    "from ampligraph.utils import create_tensorboard_visualizations"
   ]
  },
  {
   "cell_type": "markdown",
   "metadata": {},
   "source": [
    "And now we'll run the function with our model, specifying the output path:"
   ]
  },
  {
   "cell_type": "code",
   "execution_count": 101,
   "metadata": {},
   "outputs": [],
   "source": [
    "create_tensorboard_visualizations(model, 'GoT_embeddings')"
   ]
  },
  {
   "cell_type": "markdown",
   "metadata": {},
   "source": [
    "If all went well, we should now have a number of files in the `AmpliGraph/tutorials/GoT_embeddings` directory:\n",
    "\n",
    "```\n",
    "GoT_embeddings/\n",
    "    ├── checkpoint\n",
    "    ├── embeddings_projector.tsv\n",
    "    ├── graph_embedding.ckpt.data-00000-of-00001\n",
    "    ├── graph_embedding.ckpt.index\n",
    "    ├── graph_embedding.ckpt.meta\n",
    "    ├── metadata.tsv\n",
    "    └── projector_config.pbtxt\n",
    "```\n",
    "\n",
    "To visualize the embeddings in Tensorboard, run the following from your command line inside `AmpliGraph/tutorials`:\n",
    "\n",
    "```bash\n",
    "tensorboard --logdir=./visualizations\n",
    "```\n",
    "    \n",
    ".. and once your browser opens up you should be able to see and explore your embeddings as below (PCA-reduced, two components):\n",
    "\n",
    "![](img/GoT_tensoboard.png)\n",
    "\n",
    "\n",
    "\n",
    "\n",
    "---\n",
    "# The End\n",
    "\n",
    "You made it to the end! Well done!\n",
    "\n",
    "For more information please visit the [AmpliGraph GitHub](github.com/Accenture/AmpliGraph) (and remember to star the project!), or check out the [documentation](docs.ampligraph.org) \n",
    "\n",
    "---\n"
   ]
  },
  {
   "cell_type": "code",
   "execution_count": null,
   "metadata": {
    "collapsed": true
   },
   "outputs": [],
   "source": []
  }
 ],
 "metadata": {
  "kernelspec": {
   "display_name": "Python 3",
   "language": "python",
   "name": "python3"
  },
  "language_info": {
   "codemirror_mode": {
    "name": "ipython",
    "version": 3
   },
   "file_extension": ".py",
   "mimetype": "text/x-python",
   "name": "python",
   "nbconvert_exporter": "python",
   "pygments_lexer": "ipython3",
   "version": "3.7.3"
  }
 },
 "nbformat": 4,
 "nbformat_minor": 2
}
