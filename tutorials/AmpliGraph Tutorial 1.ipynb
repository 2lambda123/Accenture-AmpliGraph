{
 "cells": [
  {
   "cell_type": "markdown",
   "metadata": {},
   "source": [
    "---\n",
    "# AmpliGraph Tutorial 1\n",
    "---\n",
    "In this tutorial we will demonstrate how to use the AmpliGraph library. \n",
    "\n",
    "Things we will cover:\n",
    "\n",
    "1. Exploration of a graph dataset\n",
    "2. Splitting graph datasets into train and test sets\n",
    "3. Training a model\n",
    "4. Model selection and hyper-parameter search \n",
    "5. Saving and restoring a model\n",
    "6. Evaluating a model\n",
    "7. Using link prediction to discover unknown relations\n",
    "8. Visualizing embeddings using Tensorboard\n",
    "\n",
    "---\n",
    "\n",
    "### Requirements:\n",
    "\n",
    "A python environment with the AmpliGraph library installed. Please follow [the install guide](http://docs.ampligraph.org/en/latest/install.html).\n",
    "\n",
    "In addition, you may want to install matplotlib and networkx to run some graph visualization code:\n",
    "\n",
    "    pip install matplotlib networkx \n",
    "\n",
    "---\n"
   ]
  },
  {
   "cell_type": "markdown",
   "metadata": {},
   "source": [
    "# 1. Dataset exploration\n",
    "\n",
    "First things first! Lets import the required libraries and retrieve some data:"
   ]
  },
  {
   "cell_type": "code",
   "execution_count": 1,
   "metadata": {},
   "outputs": [],
   "source": [
    "import ampligraph\n",
    "import numpy as np\n",
    "import pandas as pd"
   ]
  },
  {
   "cell_type": "markdown",
   "metadata": {},
   "source": [
    "In this tutorial we're going to use the **`Nations`** graph dataset. Please note: this isn't the *greatest* dataset for demonstrating the power of knowledge graph embeddings, but is small, intuitive and should be familiar to most users. \n",
    "\n",
    "Run the following cell to pull down the dataset:"
   ]
  },
  {
   "cell_type": "code",
   "execution_count": 2,
   "metadata": {},
   "outputs": [],
   "source": [
    "import io \n",
    "from zipfile import ZipFile\n",
    "from urllib.request import urlopen\n",
    "\n",
    "nations = pd.DataFrame()\n",
    "\n",
    "resp = urlopen('https://s3-eu-west-1.amazonaws.com/ampligraph/datasets/nations.zip')\n",
    "zipfile = ZipFile(io.BytesIO(resp.read()))\n",
    "for fname in ['train', 'test', 'valid']:\n",
    "    tmp = []\n",
    "    for line in zipfile.open('nations/%s.txt' % fname).readlines():\n",
    "        tmp.append(line.decode('utf-8'))\n",
    "    \n",
    "    nations = nations.append(pd.read_csv(io.StringIO('\\n'.join(tmp)), delim_whitespace=True, header=None))\n",
    "\n",
    "nations.columns = ['subject', 'predicate', 'object']\n",
    "nations.reset_index(inplace=True, drop=True)"
   ]
  },
  {
   "cell_type": "markdown",
   "metadata": {},
   "source": [
    "Each data point is an triple in the form: \n",
    "\n",
    "    <subject, predicate, object>\n"
   ]
  },
  {
   "cell_type": "code",
   "execution_count": 3,
   "metadata": {
    "scrolled": false
   },
   "outputs": [
    {
     "data": {
      "text/html": [
       "<div>\n",
       "<style scoped>\n",
       "    .dataframe tbody tr th:only-of-type {\n",
       "        vertical-align: middle;\n",
       "    }\n",
       "\n",
       "    .dataframe tbody tr th {\n",
       "        vertical-align: top;\n",
       "    }\n",
       "\n",
       "    .dataframe thead th {\n",
       "        text-align: right;\n",
       "    }\n",
       "</style>\n",
       "<table border=\"1\" class=\"dataframe\">\n",
       "  <thead>\n",
       "    <tr style=\"text-align: right;\">\n",
       "      <th></th>\n",
       "      <th>subject</th>\n",
       "      <th>predicate</th>\n",
       "      <th>object</th>\n",
       "    </tr>\n",
       "  </thead>\n",
       "  <tbody>\n",
       "    <tr>\n",
       "      <th>0</th>\n",
       "      <td>netherlands</td>\n",
       "      <td>militaryalliance</td>\n",
       "      <td>uk</td>\n",
       "    </tr>\n",
       "    <tr>\n",
       "      <th>1</th>\n",
       "      <td>egypt</td>\n",
       "      <td>intergovorgs3</td>\n",
       "      <td>usa</td>\n",
       "    </tr>\n",
       "    <tr>\n",
       "      <th>2</th>\n",
       "      <td>jordan</td>\n",
       "      <td>relbooktranslations</td>\n",
       "      <td>usa</td>\n",
       "    </tr>\n",
       "    <tr>\n",
       "      <th>3</th>\n",
       "      <td>poland</td>\n",
       "      <td>timesincewar</td>\n",
       "      <td>ussr</td>\n",
       "    </tr>\n",
       "    <tr>\n",
       "      <th>4</th>\n",
       "      <td>uk</td>\n",
       "      <td>negativebehavior</td>\n",
       "      <td>ussr</td>\n",
       "    </tr>\n",
       "    <tr>\n",
       "      <th>5</th>\n",
       "      <td>poland</td>\n",
       "      <td>relintergovorgs</td>\n",
       "      <td>uk</td>\n",
       "    </tr>\n",
       "    <tr>\n",
       "      <th>6</th>\n",
       "      <td>usa</td>\n",
       "      <td>weightedunvote</td>\n",
       "      <td>india</td>\n",
       "    </tr>\n",
       "    <tr>\n",
       "      <th>7</th>\n",
       "      <td>china</td>\n",
       "      <td>accusation</td>\n",
       "      <td>india</td>\n",
       "    </tr>\n",
       "    <tr>\n",
       "      <th>8</th>\n",
       "      <td>uk</td>\n",
       "      <td>unweightedunvote</td>\n",
       "      <td>egypt</td>\n",
       "    </tr>\n",
       "    <tr>\n",
       "      <th>9</th>\n",
       "      <td>poland</td>\n",
       "      <td>embassy</td>\n",
       "      <td>netherlands</td>\n",
       "    </tr>\n",
       "  </tbody>\n",
       "</table>\n",
       "</div>"
      ],
      "text/plain": [
       "       subject            predicate       object\n",
       "0  netherlands     militaryalliance           uk\n",
       "1        egypt        intergovorgs3          usa\n",
       "2       jordan  relbooktranslations          usa\n",
       "3       poland         timesincewar         ussr\n",
       "4           uk     negativebehavior         ussr\n",
       "5       poland      relintergovorgs           uk\n",
       "6          usa       weightedunvote        india\n",
       "7        china           accusation        india\n",
       "8           uk     unweightedunvote        egypt\n",
       "9       poland              embassy  netherlands"
      ]
     },
     "execution_count": 3,
     "metadata": {},
     "output_type": "execute_result"
    }
   ],
   "source": [
    "nations.head(10)"
   ]
  },
  {
   "cell_type": "markdown",
   "metadata": {},
   "source": [
    "Let's list the subject and object entities found in the dataset:"
   ]
  },
  {
   "cell_type": "code",
   "execution_count": 4,
   "metadata": {},
   "outputs": [
    {
     "name": "stdout",
     "output_type": "stream",
     "text": [
      "['brazil' 'burma' 'china' 'cuba' 'egypt' 'india' 'indonesia' 'israel'\n",
      " 'jordan' 'netherlands' 'poland' 'uk' 'usa' 'ussr']\n"
     ]
    }
   ],
   "source": [
    "entities = np.concatenate([nations['subject'], nations['object']])\n",
    "print(np.unique(entities))"
   ]
  },
  {
   "cell_type": "markdown",
   "metadata": {},
   "source": [
    ".. and all of the relationships that link them. Remember, these relationships only link *some* of the entities."
   ]
  },
  {
   "cell_type": "code",
   "execution_count": 5,
   "metadata": {},
   "outputs": [
    {
     "name": "stdout",
     "output_type": "stream",
     "text": [
      "['militaryalliance' 'intergovorgs3' 'relbooktranslations' 'timesincewar'\n",
      " 'negativebehavior' 'relintergovorgs' 'weightedunvote' 'accusation'\n",
      " 'unweightedunvote' 'embassy' 'commonbloc1' 'commonbloc2' 'ngoorgs3'\n",
      " 'exports3' 'economicaid' 'booktranslations' 'relexports' 'intergovorgs'\n",
      " 'independence' 'reltreaties' 'ngo' 'blockpositionindex' 'relstudents'\n",
      " 'aidenemy' 'eemigrants' 'officialvisits' 'unoffialacts' 'releconomicaid'\n",
      " 'commonbloc0' 'expeldiplomats' 'relngo' 'students' 'nonviolentbehavior'\n",
      " 'reldiplomacy' 'tourism' 'timesinceally' 'conferences' 'relexportbooks'\n",
      " 'treaties' 'militaryactions' 'exportbooks' 'boycottembargo'\n",
      " 'negativecomm' 'tourism3' 'reltourism' 'pprotests' 'emigrants3'\n",
      " 'duration' 'attackembassy' 'dependent' 'violentactions' 'relemigrants'\n",
      " 'warning' 'lostterritory' 'severdiplomatic']\n"
     ]
    }
   ],
   "source": [
    "relations = nations['predicate']\n",
    "print(relations.unique())"
   ]
  },
  {
   "cell_type": "markdown",
   "metadata": {},
   "source": [
    "## Visualizing graph data with NetworkX \n",
    "\n",
    "When working with graphs it's often useful (and even required) to visualize the data. Here, we're going to use the excellent [networkx](https://networkx.github.io/) library to display some of the relations found in our dataset. If you haven't installed NetworkX, or aren't interesting in generating visualizations right now then feel free to skip this section - it won't affect the rest of the tutorial. "
   ]
  },
  {
   "cell_type": "code",
   "execution_count": 6,
   "metadata": {},
   "outputs": [
    {
     "name": "stderr",
     "output_type": "stream",
     "text": [
      "C:\\Users\\nicholas.mccarthy\\miniconda3\\envs\\ampligraph\\lib\\site-packages\\networkx\\drawing\\nx_pylab.py:611: MatplotlibDeprecationWarning: isinstance(..., numbers.Number)\n",
      "  if cb.is_numlike(alpha):\n"
     ]
    },
    {
     "data": {
      "image/png": "[encoded data removed]",
      "text/plain": [
       "<Figure size 1440x360 with 4 Axes>"
      ]
     },
     "metadata": {
      "needs_background": "light"
     },
     "output_type": "display_data"
    }
   ],
   "source": [
    "import networkx as nx\n",
    "import matplotlib.pyplot as plt\n",
    "%matplotlib inline\n",
    "\n",
    "fig, axs = plt.subplots(1, 4, figsize=(20, 5))\n",
    "\n",
    "for index, relation in enumerate(['militaryalliance', 'treaties', 'economicaid', 'officialvisits']):\n",
    "\n",
    "    G = nx.MultiGraph()\n",
    "    for i, row in nations.loc[nations['predicate'] == relation].iterrows():\n",
    "        G.add_nodes_from([row[0], row[2]])\n",
    "        G.add_edge(row[0], row[2], name=row[1])\n",
    "\n",
    "    axs[index].set_title(relation)\n",
    "    nx.draw_networkx(G, ax=axs[index])"
   ]
  },
  {
   "cell_type": "markdown",
   "metadata": {},
   "source": [
    "# 2. Defining train and test datasets"
   ]
  },
  {
   "cell_type": "markdown",
   "metadata": {},
   "source": [
    "As is typical in machine learning, we need to split our dataset into training and test (and sometimes validation) datasets. What differs from the standard method of randomly sampling N points to make up our test set, is that our data points are two entities linked by some relationship, and we need to take care to ensure that all entities are represented in train and test sets by at least 1 triple. To accomplish AmpliGraph provides the `train_test_split_no_unseen` function. \n",
    "\n",
    "We'll stick to common practice and divide our training and test set in an 80/20 split. "
   ]
  },
  {
   "cell_type": "code",
   "execution_count": 7,
   "metadata": {},
   "outputs": [],
   "source": [
    "from ampligraph.evaluation import train_test_split_no_unseen \n",
    "\n",
    "num_test = int(len(nations) * (20 / 100))\n",
    "\n",
    "data = {}\n",
    "data['train'], data['test'] = train_test_split_no_unseen(nations.values, test_size=num_test, seed=0, allow_duplication=False) "
   ]
  },
  {
   "cell_type": "markdown",
   "metadata": {},
   "source": [
    "Our data is now split into train/test sets. If we need to further divide into a validation dataset we can just repeat using the same procedure on the test set (and adjusting the split percentages). "
   ]
  },
  {
   "cell_type": "code",
   "execution_count": 8,
   "metadata": {},
   "outputs": [
    {
     "name": "stdout",
     "output_type": "stream",
     "text": [
      "Train set size:  (1594, 3)\n",
      "Test set size:  (398, 3)\n"
     ]
    }
   ],
   "source": [
    "print('Train set size: ', data['train'].shape)\n",
    "print('Test set size: ', data['test'].shape)"
   ]
  },
  {
   "cell_type": "markdown",
   "metadata": {},
   "source": [
    "---\n",
    "# 3. Training a model \n",
    "\n",
    "AmpliGraph has implemented several Graph embedding models (TransE, ComplEx, DistMult, HolE), but to begin with we're just going to use the ComplEx model (with  default values), so lets import that:"
   ]
  },
  {
   "cell_type": "code",
   "execution_count": 9,
   "metadata": {},
   "outputs": [],
   "source": [
    "from ampligraph.latent_features import ComplEx"
   ]
  },
  {
   "cell_type": "markdown",
   "metadata": {},
   "source": [
    "Lets go through the parameters to understand what's going on:\n",
    "\n",
    "- **`k`** : the dimensionality of the embedding space\n",
    "- **`eta`** ($\\eta$) : the number of negative, or false triples that must be generated at training runtime for each positive, or true triple\n",
    "- **`batches_count`** : the number of batches in which the training set is split during the training loop. If you are having into low memory issues than settings this to a higher number may help.\n",
    "- **`epochs`** : the number of epochs to train the model for.\n",
    "- **`optimizer`** : the Adam optimizer, with a learning rate of 1e-3 set via the *optimizer_params* kwarg.\n",
    "- **`loss`** : pairwise loss, with a margin of 0.5 set via the *loss_params* kwarg.\n",
    "- **`regularizer`** : $L_p$ regularization with $p=2$, i.e. l2 regularization. $\\lambda$ = 1e-5, set via the *regularizer_params* kwarg. \n",
    "\n",
    "Now we can instantiate the model:\n"
   ]
  },
  {
   "cell_type": "code",
   "execution_count": 10,
   "metadata": {},
   "outputs": [],
   "source": [
    "model = ComplEx(batches_count=10, \n",
    "                seed=0, \n",
    "                epochs=200, \n",
    "                k=20, \n",
    "                eta=10,\n",
    "                optimizer='adam', \n",
    "                optimizer_params={'lr':1e-3},\n",
    "                loss='pairwise', \n",
    "                loss_params={'margin':0.5},\n",
    "                regularizer='LP', \n",
    "                regularizer_params={'p':2, 'lambda':1e-5}, \n",
    "                verbose=True)"
   ]
  },
  {
   "cell_type": "markdown",
   "metadata": {},
   "source": [
    "## Filtering negatives\n",
    "\n",
    "AmpliGraph aims to follow scikit-learn's ease-of-use design philosophy and simplify everything down to **`fit`**, **`evaluate`**, and **`predict`** functions. \n",
    "\n",
    "However, there are some knowledge graph specific steps we must take to ensure our model can be trained and evaluated correctly. The first of these is defining the filter that will be used to ensure that no *negative* statements generated by the corruption procedure are actually positives. This is simply done by concatenating our train and test sets. Now when negative triples are generated by the corruption strategy, we can check that they aren't actually true statements.  \n"
   ]
  },
  {
   "cell_type": "code",
   "execution_count": 11,
   "metadata": {},
   "outputs": [],
   "source": [
    "positives_filter = np.concatenate((data['train'], data['test']))    "
   ]
  },
  {
   "cell_type": "markdown",
   "metadata": {},
   "source": [
    "## Early stopping\n",
    "\n",
    "We're also going to use early stopping to ensure we don't waste our valuable time (or GPU resources!). \n",
    "\n",
    "To train with early stopping we typically need a validation set, so let's revisit the `train_test_split_no_unseen` function from before, and divide the current test set in half to obtain a test and validation set. "
   ]
  },
  {
   "cell_type": "code",
   "execution_count": 12,
   "metadata": {},
   "outputs": [],
   "source": [
    "num_valid = len(data['test']) // 2\n",
    "data['test'], data['valid'] = train_test_split_no_unseen(data['test'], test_size=num_valid, seed=0)"
   ]
  },
  {
   "cell_type": "markdown",
   "metadata": {},
   "source": [
    "Let's take a look at some of the early stopping parameters:\n",
    "\n",
    "- **`x_valid`** - specifies our validation set, so that we can test model performance on data we're not training on and stop at a good point\n",
    "- **`criteria`** - the metric we'll use to measure model performance on the validation set. We specify here the 'hits10' criteria, which measures the amount of times the positive sample is found in the top 10 closest values when performing link prediction #TODO: Check this text\n",
    "- **`burn_in`** - allows the model to train for a few epochs before early stopping kicks in\n",
    "- **`check_interval`** - specifies how often the validation set should be evaluated for early stopping. \n",
    "- **`stop_interval`** - specifies how many validation set evaluations must be bad for early stopping to kick in. \n",
    "- **`x_filter`** - specifies the filter used to filter out the positives (we defined this above)\n",
    "- **`corruption_entities`** - specifies the corruption strategy. Here we specify 'all' so corruptions are generated using all of the entitites.\n",
    "- **`corrupt_side`** - specifies which end of the triple should be used for corruptions. Here we specify 's+o', so both subject and object are used for corruptions, but now at the same time.\n",
    "\n",
    "Based on the burn_in, check_interval and stop_interval values we can see that the model will train for at least **n** epochs, where\n",
    "\n",
    "    n = burn_in + (stop_interval * check_interval)  "
   ]
  },
  {
   "cell_type": "code",
   "execution_count": 13,
   "metadata": {},
   "outputs": [],
   "source": [
    "early_stopping_params = { 'x_valid': data['valid'],    \n",
    "                         'criteria':'hits10',\n",
    "                         'burn_in': 100,\n",
    "                         'check_interval':5,\n",
    "                         'stop_interval':3,\n",
    "                         'x_filter': positives_filter, \n",
    "                         'corruption_entities':'all',  \n",
    "                         'corrupt_side':'s+o'          \n",
    "                        }"
   ]
  },
  {
   "cell_type": "markdown",
   "metadata": {},
   "source": [
    "We should now have a **`train`**, **`test`** and **`valid`** set, in an 80/10/10 split:\n"
   ]
  },
  {
   "cell_type": "code",
   "execution_count": 14,
   "metadata": {},
   "outputs": [
    {
     "name": "stdout",
     "output_type": "stream",
     "text": [
      "Train set size:  (1594, 3)\n",
      "Test set size:  (199, 3)\n",
      "Valid set size:  (199, 3)\n"
     ]
    }
   ],
   "source": [
    "print('Train set size: ', data['train'].shape)\n",
    "print('Test set size: ', data['test'].shape)\n",
    "print('Valid set size: ', data['valid'].shape)"
   ]
  },
  {
   "cell_type": "markdown",
   "metadata": {},
   "source": [
    "## Fitting the model\n",
    "\n",
    "Once you run the next cell the model will train. \n",
    "\n",
    "On the **`Nations`** dataset this shouldn't take too long: on an i7 CPU this was taking ~10secs before reaching early stopping, although your mileage may vary, especially if you've changed any of the parameters above. "
   ]
  },
  {
   "cell_type": "code",
   "execution_count": 15,
   "metadata": {},
   "outputs": [
    {
     "name": "stdout",
     "output_type": "stream",
     "text": [
      "WARNING - From C:\\Users\\nicholas.mccarthy\\miniconda3\\envs\\ampligraph\\lib\\site-packages\\tensorflow\\python\\framework\\op_def_library.py:263: colocate_with (from tensorflow.python.framework.ops) is deprecated and will be removed in a future version.\n",
      "Instructions for updating:\n",
      "Colocations handled automatically by placer.\n",
      "WARNING - From C:\\Users\\nicholas.mccarthy\\miniconda3\\envs\\ampligraph\\lib\\site-packages\\tensorflow\\python\\ops\\math_ops.py:3066: to_int32 (from tensorflow.python.ops.math_ops) is deprecated and will be removed in a future version.\n",
      "Instructions for updating:\n",
      "Use tf.cast instead.\n"
     ]
    },
    {
     "name": "stderr",
     "output_type": "stream",
     "text": [
      "Average Loss:   0.256606:  56%|█████▋    | 113/200 [00:05<00:05, 16.69epoch/s]\n"
     ]
    }
   ],
   "source": [
    "# Fit the model on training and validation set\n",
    "model.fit(data['train'], \n",
    "          early_stopping = True,\n",
    "          early_stopping_params = early_stopping_params\n",
    "         )\n"
   ]
  },
  {
   "cell_type": "markdown",
   "metadata": {},
   "source": [
    "---\n",
    "# 4. Model selection and hyper-parameter search \n",
    "\n",
    "The AmpliGraph team has run extensive hyperparameter searches to determine the best default values for each model on a range of datasets, but as there is [no free lunch](https://en.wikipedia.org/wiki/No_free_lunch_theorem), in most specific cases you'll want to search for the best parameters for your model. Let's cover how to do that in AmpliGraph. \n",
    "\n",
    "To begin, import the `select_best_model_ranking` function. \n"
   ]
  },
  {
   "cell_type": "code",
   "execution_count": 18,
   "metadata": {},
   "outputs": [],
   "source": [
    "from ampligraph.evaluation import select_best_model_ranking"
   ]
  },
  {
   "cell_type": "markdown",
   "metadata": {},
   "source": [
    "This function only supports selection over a single model class - easily extended in a simple list of classes - but for now let's just continue to work with the **`ComplEx`** model. "
   ]
  },
  {
   "cell_type": "code",
   "execution_count": 19,
   "metadata": {},
   "outputs": [],
   "source": [
    "from ampligraph.latent_features import ComplEx\n",
    "\n",
    "model_class = ComplEx"
   ]
  },
  {
   "cell_type": "markdown",
   "metadata": {},
   "source": [
    "## Parameter grid\n",
    "\n",
    "This function runs a grid search over defined parameters, so let's define our parameters in the **`param_grid`** dict. \n",
    "\n",
    "All of the parameters here have already been discussed in Section 3 (Training a model), the only difference is that here we provide a list of possible values to search over. Don't worry that some of the parameters only apply to certain classes or loss functions - we take care of mapping the params to the corresponding classes. \n",
    "\n"
   ]
  },
  {
   "cell_type": "code",
   "execution_count": 20,
   "metadata": {},
   "outputs": [],
   "source": [
    "param_grid = {\n",
    "    \"batches_count\": [10],\n",
    "    \"seed\": 0,\n",
    "    \"epochs\": [100],\n",
    "    \"k\": [10, 20],\n",
    "    \"eta\": [5,10],\n",
    "    \"loss\": [\"pairwise\", \"nll\"],\n",
    "    \"loss_params\": {\n",
    "        \"margin\": [0.5] \n",
    "    },\n",
    "    \"embedding_model_params\": {\n",
    "        # generate corruption using all entities during training\n",
    "        \"negative_corruption_entities\":\"all\"\n",
    "    },\n",
    "    \"regularizer\": [None, \"LP\"],\n",
    "        \"regularizer_params\": {\n",
    "        \"p\": [2],\n",
    "        \"lambda\": [1e-4, 1e-5]\n",
    "    },\n",
    "    \"optimizer\": [\"adam\"],\n",
    "    \"optimizer_params\":{\n",
    "        \"lr\": [0.01, 0.001]\n",
    "    },\n",
    "    # \n",
    "    \"verbose\": False\n",
    "}\n"
   ]
  },
  {
   "cell_type": "markdown",
   "metadata": {},
   "source": [
    "## Select best model\n",
    "\n",
    "Now that we've defined the parameters to search, let's run the `select_best_model_ranking` function using our **`model_class`**. \n",
    "\n",
    "The input parameters for this function are: \n",
    "\n",
    "- **`model_class`** - the class of the model to use - defined above.\n",
    "- **`X`** - a dictionary of datasets: `train`, `test`, and `valid`. \n",
    "- **`params_grid`** - the grid of hyperparameters to search - defined above.\n",
    "- **`use_filter`** - a bool indicating whether to use the entire input dataset X to compute filtered MRR. \n",
    "- **`early_stopping`** - a bool indicating whether to use early stopping - we won't use that here. \n",
    "- **`early_stopping_params`** - early stopping parameters - already covered above. \n",
    "- **`use_test_for_selection `** - use test set for model selection (false uses validation set)\n",
    "- **`rank_against_ent `** - list of entities to use for corruptions. The default (None) will generate corruptions using all distinct entities.  \n",
    "- **`corrupt_side `** - which side of the triples to corrupt entities. **`'s'`** corrupts only subject, **`'o'`** corrupts only object, **`'s+o'`** corrupts both. \n",
    "- **`use_default_protocol `** - a bool indicating whether to evaluate head and tail corruptions separately. If True, will  ignore the `corrupt_side` argument and corrupt head and tail separately. \n",
    "- **`verbose`** - use verbose mode during evaluation of trained model.\n",
    "\n",
    "Running the next cell may take a while, so you might want to go and grab a coffee "
   ]
  },
  {
   "cell_type": "code",
   "execution_count": 21,
   "metadata": {},
   "outputs": [
    {
     "name": "stdout",
     "output_type": "stream",
     "text": [
      "WARNING - From c:\\users\\nicholas.mccarthy\\projects\\ampligraph\\ampligraph\\ampligraph\\evaluation\\protocol.py:396: multinomial (from tensorflow.python.ops.random_ops) is deprecated and will be removed in a future version.\n",
      "Instructions for updating:\n",
      "Use tf.random.categorical instead.\n"
     ]
    }
   ],
   "source": [
    "best_model, best_params, best_mrr_train, ranks_test, mrr_test = select_best_model_ranking(model_class,\n",
    "                                                                                          X=data, \n",
    "                                                                                          param_grid=param_grid, \n",
    "                                                                                          use_filter=True,\n",
    "                                                                                          use_default_protocol=True, \n",
    "                                                                                          verbose=False)"
   ]
  },
  {
   "cell_type": "markdown",
   "metadata": {},
   "source": [
    "Now let's take a look at the output of `select_best_model_ranking`:\n",
    "\n",
    "- **`best_model`** - an instance of the best model found in the search. \n",
    "- **`best_params`** - a dict of the hyperparameters of the best model \n",
    "- **`best_mrr_train`** - the MRR (unfiltered) of the **`best_model`** computed over the validation set \n",
    "- **`ranks_test`** - the ranks of each triple in the test set for the **`best_model`**\n",
    "- **`mrr_test`**  - the MRR (filtered) of the **`best_model`**, re-trained on the concatenation of train and valid datasets, computed on the test set. \n"
   ]
  },
  {
   "cell_type": "code",
   "execution_count": 36,
   "metadata": {},
   "outputs": [
    {
     "name": "stdout",
     "output_type": "stream",
     "text": [
      "Best model parameters found:\n",
      "\t batches_count: 10\n",
      "\t epochs: 1\n",
      "\t k: 10\n",
      "\t eta: 5\n",
      "\t loss: nll\n",
      "\t loss_params: {}\n",
      "\t embedding_model_params: {'negative_corruption_entities': 'a'}\n",
      "\t regularizer: LP\n",
      "\t regularizer_params: {'p': 2, 'lambda': 0.0001}\n",
      "\t optimizer: adam\n",
      "\t optimizer_params: {'lr': 0.01}\n",
      "\t verbose: False\n",
      "\t seed: 0\n"
     ]
    }
   ],
   "source": [
    "print('Best model parameters found:')\n",
    "\n",
    "for k,v in best_params.items():\n",
    "    print('\\t %s: %s' % (k,v))\n"
   ]
  },
  {
   "cell_type": "markdown",
   "metadata": {},
   "source": [
    "---\n",
    "# 5.  Saving and restoring a model\n",
    "\n",
    "Before we go any further, let's save the best model found so that we can restore it in future."
   ]
  },
  {
   "cell_type": "code",
   "execution_count": 38,
   "metadata": {},
   "outputs": [],
   "source": [
    "from ampligraph.latent_features import save_model, restore_model"
   ]
  },
  {
   "cell_type": "markdown",
   "metadata": {},
   "source": [
    "This will save the model in the ampligraph_tutorial directory as *model.pickle*."
   ]
  },
  {
   "cell_type": "code",
   "execution_count": 39,
   "metadata": {},
   "outputs": [],
   "source": [
    "save_model(best_model, './best_model.pkl')"
   ]
  },
  {
   "cell_type": "markdown",
   "metadata": {},
   "source": [
    ".. we can then delete the model .. "
   ]
  },
  {
   "cell_type": "code",
   "execution_count": 40,
   "metadata": {},
   "outputs": [],
   "source": [
    "del model"
   ]
  },
  {
   "cell_type": "markdown",
   "metadata": {},
   "source": [
    ".. and then restore it from disk! Ta-da! "
   ]
  },
  {
   "cell_type": "code",
   "execution_count": 41,
   "metadata": {},
   "outputs": [],
   "source": [
    "model = restore_model('./best_model.pkl')"
   ]
  },
  {
   "cell_type": "markdown",
   "metadata": {},
   "source": [
    "And let's just double check that the model we restored has been fit:"
   ]
  },
  {
   "cell_type": "code",
   "execution_count": 42,
   "metadata": {},
   "outputs": [
    {
     "name": "stdout",
     "output_type": "stream",
     "text": [
      "The model is fit!\n"
     ]
    }
   ],
   "source": [
    "if model.is_fitted:\n",
    "    print('The model is fit!')\n",
    "else:\n",
    "    print('The model is not fit! Did you skip a step?')"
   ]
  },
  {
   "cell_type": "markdown",
   "metadata": {},
   "source": [
    "---\n",
    "# 6. Evaluating a model\n",
    "\n",
    "Now it's time to evaluate our model on the test set to see how well it's performing. \n",
    "\n",
    "For this we'll use the `evaluate_performance` function:"
   ]
  },
  {
   "cell_type": "code",
   "execution_count": 51,
   "metadata": {},
   "outputs": [],
   "source": [
    "from ampligraph.evaluation import evaluate_performance"
   ]
  },
  {
   "cell_type": "markdown",
   "metadata": {},
   "source": [
    "And let's look at the arguments to this function:\n",
    "\n",
    "- **`X`** - the data to evaluate on. We're going to use our test set to evaluate.\n",
    "- **`model`** - the model we previously trained.\n",
    "- **`filter_triples`** - will filter out the false negatives generated by the corruption strategy. \n",
    "- **`use_default_protocol`** - specifies whether to use the default corruption protocol. If True, then subj and obj are corrupted separately during evaluation.\n",
    "- **`verbose`** - will give some nice log statements. Let's leave it on for now.\n"
   ]
  },
  {
   "cell_type": "markdown",
   "metadata": {},
   "source": [
    "## Running evaluation"
   ]
  },
  {
   "cell_type": "code",
   "execution_count": 69,
   "metadata": {},
   "outputs": [
    {
     "name": "stderr",
     "output_type": "stream",
     "text": [
      "100%|██████████| 199/199 [00:00<00:00, 251.62it/s]\n"
     ]
    }
   ],
   "source": [
    "ranks = evaluate_performance(data['test'], \n",
    "                             model=model, \n",
    "                             filter_triples=positives_filter,   # Corruption strategy filter defined above \n",
    "                             use_default_protocol=True, # corrupt subj and obj separately while evaluating\n",
    "                             verbose=True)"
   ]
  },
  {
   "cell_type": "markdown",
   "metadata": {},
   "source": [
    "\n",
    "The ***ranks*** returned by the evaluate_performance function indicate the rank at which the test set triple was found when performing link prediction using the model. \n",
    "\n",
    "For example, given the triple:\n",
    "\n",
    "    <cuba, independence, usa> \n",
    "    \n",
    "The model may return a rank of 2. This tells us that while it's not the highest likelihood true statement (which would be given a rank of 1), it's pretty likely.\n"
   ]
  },
  {
   "cell_type": "markdown",
   "metadata": {},
   "source": [
    "## Metrics"
   ]
  },
  {
   "cell_type": "markdown",
   "metadata": {},
   "source": [
    "Let's compute some evaluate metrics and print them out.\n",
    "\n",
    "We're going to use the mrr_score (mean reciprocal rank) and hits_at_n_score functions. \n",
    "\n",
    "- ***mrr_score***:  The function computes the mean of the reciprocal of elements of a vector of rankings ranks.\n",
    "- ***hits_at_n_score***: The function computes how many elements of a vector of rankings ranks make it to the top n positions.\n"
   ]
  },
  {
   "cell_type": "code",
   "execution_count": 70,
   "metadata": {},
   "outputs": [
    {
     "name": "stdout",
     "output_type": "stream",
     "text": [
      "MRR: 0.374746\n",
      "Hits@10: 0.937186\n"
     ]
    }
   ],
   "source": [
    "from ampligraph.evaluation import mrr_score, hits_at_n_score\n",
    "\n",
    "mrr = mrr_score(ranks)\n",
    "\n",
    "print(\"MRR: %f\" % (mrr))\n",
    "\n",
    "hits_10 = hits_at_n_score(ranks, n=10)\n",
    "print(\"Hits@10: %f\" % (hits_10))"
   ]
  },
  {
   "cell_type": "markdown",
   "metadata": {},
   "source": [
    "---\n",
    "# 7. Performing link prediction\n",
    "\n",
    "Link prediction allows us to infer missing links in a graph. This has many real-world use cases, such as predicting connections between people in a social network, interactions between proteins in a biological network, and music recommendation based on prior user taste. \n",
    "\n",
    "In our case, we're going to see which of the following statements are more likely to be true:\n"
   ]
  },
  {
   "cell_type": "code",
   "execution_count": 71,
   "metadata": {},
   "outputs": [],
   "source": [
    "unseen_triples = np.array([['ussr', 'militaryalliance', 'usa'], \n",
    "                           ['usa', 'militaryalliance', 'ussr'], \n",
    "                           ['usa', 'boycottembargo', 'cuba'],\n",
    "                           ['ussr', 'attackembassy', 'cuba'],\n",
    "                           ['usa', 'militaryalliance', 'cuba'], \n",
    "                           ['usa', 'attackembassy', 'burma']])"
   ]
  },
  {
   "cell_type": "markdown",
   "metadata": {},
   "source": [
    "Because our dataset here is a very small graph, there aren't actually all that many missing links \n",
    "\n",
    "Before predicting, let's make sure that our model wasn't trained on these statements. "
   ]
  },
  {
   "cell_type": "code",
   "execution_count": 72,
   "metadata": {},
   "outputs": [],
   "source": [
    "for new_triple in unseen_triples:\n",
    "    for train_triple in data['train']:\n",
    "        if np.all(train_triple == new_triple):\n",
    "            print('Machine learning? More like machine cheating!')"
   ]
  },
  {
   "cell_type": "markdown",
   "metadata": {},
   "source": [
    "Now lets make our predictions:"
   ]
  },
  {
   "cell_type": "code",
   "execution_count": 73,
   "metadata": {},
   "outputs": [],
   "source": [
    "predictions = model.predict(unseen_triples)"
   ]
  },
  {
   "cell_type": "markdown",
   "metadata": {},
   "source": [
    ".. and print them out. "
   ]
  },
  {
   "cell_type": "code",
   "execution_count": 74,
   "metadata": {
    "scrolled": true
   },
   "outputs": [
    {
     "name": "stdout",
     "output_type": "stream",
     "text": [
      "['ussr' 'militaryalliance' 'usa'] score: 0.08\n",
      "['usa' 'militaryalliance' 'ussr'] score: 0.06\n",
      "['usa' 'boycottembargo' 'cuba'] score: 0.08\n",
      "['ussr' 'attackembassy' 'cuba'] score: -0.01\n",
      "['usa' 'militaryalliance' 'cuba'] score: 0.06\n",
      "['usa' 'attackembassy' 'burma'] score: 0.05\n"
     ]
    }
   ],
   "source": [
    "for triple, y in zip(unseen_triples, predictions):\n",
    "    print(triple, 'score: %0.2f' % y)"
   ]
  },
  {
   "cell_type": "markdown",
   "metadata": {},
   "source": [
    "---\n",
    "# 8. Visualizing with Tensorboard projector \n",
    "\n",
    "The kind folks at Google have created Tensorboard, which allows us to graph how our model is learning (or .. not :|), peer into the innards of neural networks, and visualize high-dimensional embeddings in the browser.   \n",
    "\n",
    "Lets import the `create_tensorboard_visualization` function, which simplifies the creation of the files necessary for Tensorboard to display the embeddings."
   ]
  },
  {
   "cell_type": "code",
   "execution_count": 75,
   "metadata": {},
   "outputs": [],
   "source": [
    "from ampligraph.utils import create_tensorboard_visualizations"
   ]
  },
  {
   "cell_type": "markdown",
   "metadata": {},
   "source": [
    "And now we'll run the function with our model, specifying the output path:"
   ]
  },
  {
   "cell_type": "code",
   "execution_count": 77,
   "metadata": {},
   "outputs": [],
   "source": [
    "create_tensorboard_visualizations(model, './visualizations')"
   ]
  },
  {
   "cell_type": "markdown",
   "metadata": {},
   "source": [
    "If all went well, we should now have a number of files in the *'AmpliGraph/tutorials/visualizations/'* directory:\n",
    "\n",
    "- checkpoint\n",
    "- metadata.tsv\n",
    "- projector_config.pbtxt\n",
    "- .. and a number of graph_embedding.ckpt.* files \n",
    "\n",
    "To visualize the embeddings in Tensorboard, run the following from your command line in the *ampligraph_tutorial* directory.\n",
    "\n",
    "    tensorboard --logdir=./visualizations\n",
    "    \n",
    "    \n",
    ".. and once your browser opens up you should be able to see and explore your embeddings as below. \n",
    "\n",
    "![title](tensorboard_graph_example.png)\n",
    "\n",
    "\n",
    "---\n",
    "# The End\n",
    "\n",
    "You made it to the end! Well done!\n",
    "\n",
    "For more information please visit the [AmpliGraph GitHub](github.com/Accenture/AmpliGraph) (and remember to star the project!), or check out the [documentation](docs.ampligraph.org) \n",
    "\n",
    "---\n"
   ]
  },
  {
   "cell_type": "code",
   "execution_count": null,
   "metadata": {},
   "outputs": [],
   "source": []
  }
 ],
 "metadata": {
  "kernelspec": {
   "display_name": "Python [conda env:ampligraph]",
   "language": "python",
   "name": "conda-env-ampligraph-py"
  },
  "language_info": {
   "codemirror_mode": {
    "name": "ipython",
    "version": 3
   },
   "file_extension": ".py",
   "mimetype": "text/x-python",
   "name": "python",
   "nbconvert_exporter": "python",
   "pygments_lexer": "ipython3",
   "version": "3.7.3"
  }
 },
 "nbformat": 4,
 "nbformat_minor": 2
}
