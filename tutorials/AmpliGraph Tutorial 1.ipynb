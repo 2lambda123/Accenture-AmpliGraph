{
 "cells": [
  {
   "cell_type": "markdown",
   "metadata": {},
   "source": [
    "---\n",
    "# AmpliGraph Tutorial 1\n",
    "---\n",
    "In this tutorial we will demonstrate how to use the AmpliGraph library. \n",
    "\n",
    "Things we will cover:\n",
    "\n",
    "1. Exploration of a graph dataset\n",
    "2. Splitting graph datasets into train and test sets\n",
    "3. Training a model\n",
    "4. Model selection and hyper-parameter search \n",
    "5. Saving and restoring a model\n",
    "6. Evaluating a model\n",
    "7. Using link prediction to discover unknown relations\n",
    "8. Visualizing embeddings using Tensorboard\n",
    "\n",
    "---\n",
    "\n",
    "### Requirements:\n",
    "\n",
    "A python environment with the AmpliGraph library installed. Please follow [the install guide](http://docs.ampligraph.org/en/latest/install.html).\n",
    "\n",
    "In addition, you may want to install matplotlib and networkx to run some graph visualization code:\n",
    "\n",
    "    pip install matplotlib networkx \n",
    "\n",
    "---\n"
   ]
  },
  {
   "cell_type": "markdown",
   "metadata": {},
   "source": [
    "# 1. Dataset exploration\n",
    "\n",
    "First things first! Lets import the required libraries and retrieve some data:"
   ]
  },
  {
   "cell_type": "code",
   "execution_count": 1,
   "metadata": {},
   "outputs": [],
   "source": [
    "import ampligraph\n",
    "import numpy as np\n",
    "import pandas as pd"
   ]
  },
  {
   "cell_type": "markdown",
   "metadata": {},
   "source": [
    "In this tutorial we're going to use the **`Nations`** graph dataset. Please note: this isn't the *greatest* dataset for demonstrating the power of knowledge graph embeddings, but is small, intuitive and should be familiar to most users. \n",
    "\n",
    "Run the following cell to pull down the dataset:"
   ]
  },
  {
   "cell_type": "code",
   "execution_count": 7,
   "metadata": {},
   "outputs": [
    {
     "name": "stdout",
     "output_type": "stream",
     "text": [
      "Successfully retrieved dataset!\n"
     ]
    }
   ],
   "source": [
    "import io \n",
    "from zipfile import ZipFile\n",
    "from urllib.request import urlopen\n",
    "\n",
    "nations = pd.DataFrame()\n",
    "\n",
    "resp = urlopen('https://s3-eu-west-1.amazonaws.com/ampligraph/datasets/nations.zip')\n",
    "zipfile = ZipFile(io.BytesIO(resp.read()))\n",
    "for fname in ['train', 'test', 'valid']:\n",
    "    tmp = []\n",
    "    for line in zipfile.open('nations/%s.txt' % fname).readlines():\n",
    "        tmp.append(line.decode('utf-8'))\n",
    "    \n",
    "    nations = nations.append(pd.read_csv(io.StringIO('\\n'.join(tmp)), delim_whitespace=True, header=None))\n",
    "\n",
    "nations.columns = ['subject', 'predicate', 'object']\n",
    "nations.reset_index(inplace=True, drop=True)"
   ]
  },
  {
   "cell_type": "markdown",
   "metadata": {},
   "source": [
    "Each data point is an triple in the form: \n",
    "\n",
    "    <subject, predicate, object>\n"
   ]
  },
  {
   "cell_type": "code",
   "execution_count": 3,
   "metadata": {
    "scrolled": false
   },
   "outputs": [
    {
     "data": {
      "text/html": [
       "<div>\n",
       "<style scoped>\n",
       "    .dataframe tbody tr th:only-of-type {\n",
       "        vertical-align: middle;\n",
       "    }\n",
       "\n",
       "    .dataframe tbody tr th {\n",
       "        vertical-align: top;\n",
       "    }\n",
       "\n",
       "    .dataframe thead th {\n",
       "        text-align: right;\n",
       "    }\n",
       "</style>\n",
       "<table border=\"1\" class=\"dataframe\">\n",
       "  <thead>\n",
       "    <tr style=\"text-align: right;\">\n",
       "      <th></th>\n",
       "      <th>subject</th>\n",
       "      <th>predicate</th>\n",
       "      <th>object</th>\n",
       "    </tr>\n",
       "  </thead>\n",
       "  <tbody>\n",
       "    <tr>\n",
       "      <th>0</th>\n",
       "      <td>netherlands</td>\n",
       "      <td>militaryalliance</td>\n",
       "      <td>uk</td>\n",
       "    </tr>\n",
       "    <tr>\n",
       "      <th>1</th>\n",
       "      <td>egypt</td>\n",
       "      <td>intergovorgs3</td>\n",
       "      <td>usa</td>\n",
       "    </tr>\n",
       "    <tr>\n",
       "      <th>2</th>\n",
       "      <td>jordan</td>\n",
       "      <td>relbooktranslations</td>\n",
       "      <td>usa</td>\n",
       "    </tr>\n",
       "    <tr>\n",
       "      <th>3</th>\n",
       "      <td>poland</td>\n",
       "      <td>timesincewar</td>\n",
       "      <td>ussr</td>\n",
       "    </tr>\n",
       "    <tr>\n",
       "      <th>4</th>\n",
       "      <td>uk</td>\n",
       "      <td>negativebehavior</td>\n",
       "      <td>ussr</td>\n",
       "    </tr>\n",
       "    <tr>\n",
       "      <th>5</th>\n",
       "      <td>poland</td>\n",
       "      <td>relintergovorgs</td>\n",
       "      <td>uk</td>\n",
       "    </tr>\n",
       "    <tr>\n",
       "      <th>6</th>\n",
       "      <td>usa</td>\n",
       "      <td>weightedunvote</td>\n",
       "      <td>india</td>\n",
       "    </tr>\n",
       "    <tr>\n",
       "      <th>7</th>\n",
       "      <td>china</td>\n",
       "      <td>accusation</td>\n",
       "      <td>india</td>\n",
       "    </tr>\n",
       "    <tr>\n",
       "      <th>8</th>\n",
       "      <td>uk</td>\n",
       "      <td>unweightedunvote</td>\n",
       "      <td>egypt</td>\n",
       "    </tr>\n",
       "    <tr>\n",
       "      <th>9</th>\n",
       "      <td>poland</td>\n",
       "      <td>embassy</td>\n",
       "      <td>netherlands</td>\n",
       "    </tr>\n",
       "  </tbody>\n",
       "</table>\n",
       "</div>"
      ],
      "text/plain": [
       "       subject            predicate       object\n",
       "0  netherlands     militaryalliance           uk\n",
       "1        egypt        intergovorgs3          usa\n",
       "2       jordan  relbooktranslations          usa\n",
       "3       poland         timesincewar         ussr\n",
       "4           uk     negativebehavior         ussr\n",
       "5       poland      relintergovorgs           uk\n",
       "6          usa       weightedunvote        india\n",
       "7        china           accusation        india\n",
       "8           uk     unweightedunvote        egypt\n",
       "9       poland              embassy  netherlands"
      ]
     },
     "execution_count": 3,
     "metadata": {},
     "output_type": "execute_result"
    }
   ],
   "source": [
    "nations.head(10)"
   ]
  },
  {
   "cell_type": "markdown",
   "metadata": {},
   "source": [
    "Let's list the subject and object entities found in the dataset:"
   ]
  },
  {
   "cell_type": "code",
   "execution_count": 7,
   "metadata": {},
   "outputs": [
    {
     "name": "stdout",
     "output_type": "stream",
     "text": [
      "['brazil' 'burma' 'china' 'cuba' 'egypt' 'india' 'indonesia' 'israel'\n",
      " 'jordan' 'netherlands' 'poland' 'uk' 'usa' 'ussr']\n"
     ]
    }
   ],
   "source": [
    "entities = np.concatenate([nations['subject'], nations['object']])\n",
    "print(np.unique(entities))"
   ]
  },
  {
   "cell_type": "markdown",
   "metadata": {},
   "source": [
    ".. and all of the relationships that link them. Remember, these relationships only link *some* of the entities."
   ]
  },
  {
   "cell_type": "code",
   "execution_count": 8,
   "metadata": {},
   "outputs": [
    {
     "name": "stdout",
     "output_type": "stream",
     "text": [
      "['militaryalliance' 'intergovorgs3' 'relbooktranslations' 'timesincewar'\n",
      " 'negativebehavior' 'relintergovorgs' 'weightedunvote' 'accusation'\n",
      " 'unweightedunvote' 'embassy' 'commonbloc1' 'commonbloc2' 'ngoorgs3'\n",
      " 'exports3' 'economicaid' 'booktranslations' 'relexports' 'intergovorgs'\n",
      " 'independence' 'reltreaties' 'ngo' 'blockpositionindex' 'relstudents'\n",
      " 'aidenemy' 'eemigrants' 'officialvisits' 'unoffialacts' 'releconomicaid'\n",
      " 'commonbloc0' 'expeldiplomats' 'relngo' 'students' 'nonviolentbehavior'\n",
      " 'reldiplomacy' 'tourism' 'timesinceally' 'conferences' 'relexportbooks'\n",
      " 'treaties' 'militaryactions' 'exportbooks' 'boycottembargo'\n",
      " 'negativecomm' 'tourism3' 'reltourism' 'pprotests' 'emigrants3'\n",
      " 'duration' 'attackembassy' 'dependent' 'violentactions' 'relemigrants'\n",
      " 'warning' 'lostterritory' 'severdiplomatic']\n"
     ]
    }
   ],
   "source": [
    "relations = nations['predicate']\n",
    "print(relations.unique())"
   ]
  },
  {
   "cell_type": "markdown",
   "metadata": {},
   "source": [
    "## Visualizing graph data with NetworkX \n",
    "\n",
    "When working with graphs it's often useful (and even required) to visualize the data. Here, we're going to use the excellent [networkx](https://networkx.github.io/) library to display some of the relations found in our dataset. If you haven't installed NetworkX, or aren't interesting in generating visualizations right now then feel free to skip this section - it won't affect the rest of the tutorial. "
   ]
  },
  {
   "cell_type": "code",
   "execution_count": 10,
   "metadata": {},
   "outputs": [
    {
     "name": "stderr",
     "output_type": "stream",
     "text": [
      "C:\\Users\\nicholas.mccarthy\\miniconda3\\envs\\ampligraph\\lib\\site-packages\\networkx\\drawing\\nx_pylab.py:611: MatplotlibDeprecationWarning: isinstance(..., numbers.Number)\n",
      "  if cb.is_numlike(alpha):\n"
     ]
    },
    {
     "data": {
      "image/png": "[encoded data removed]",
      "text/plain": [
       "<Figure size 1440x360 with 4 Axes>"
      ]
     },
     "metadata": {
      "needs_background": "light"
     },
     "output_type": "display_data"
    }
   ],
   "source": [
    "import networkx as nx\n",
    "import matplotlib.pyplot as plt\n",
    "%matplotlib inline\n",
    "\n",
    "fig, axs = plt.subplots(1, 4, figsize=(20, 5))\n",
    "\n",
    "for index, relation in enumerate(['militaryalliance', 'treaties', 'economicaid', 'officialvisits']):\n",
    "\n",
    "    G = nx.MultiGraph()\n",
    "    for i, row in nations.loc[nations['predicate'] == relation].iterrows():\n",
    "        G.add_nodes_from([row[0], row[2]])\n",
    "        G.add_edge(row[0], row[2], name=row[1])\n",
    "\n",
    "    axs[index].set_title(relation)\n",
    "    nx.draw_networkx(G, ax=axs[index])"
   ]
  },
  {
   "cell_type": "markdown",
   "metadata": {},
   "source": [
    "# 2. Defining train and test datasets"
   ]
  },
  {
   "cell_type": "markdown",
   "metadata": {},
   "source": [
    "As is typical in machine learning, we need to split our dataset into training and test (and sometimes validation) datasets. What differs from the standard method of randomly sampling N points to make up our test set, is that our data points are two entities linked by some relationship, and we need to take care to ensure that all entities are represented in train and test sets by at least 1 triple. To accomplish AmpliGraph provides the `train_test_split_no_unseen` function. \n",
    "\n",
    "We'll stick to common practice and divide our training and test set in an 80/20 split. "
   ]
  },
  {
   "cell_type": "code",
   "execution_count": 11,
   "metadata": {},
   "outputs": [],
   "source": [
    "from ampligraph.evaluation import train_test_split_no_unseen \n",
    "\n",
    "num_test = int(len(nations) * (20 / 100))\n",
    "\n",
    "data = {}\n",
    "data['train'], data['test'] = train_test_split_no_unseen(nations.values, test_size=num_test, seed=0, allow_duplication=False) "
   ]
  },
  {
   "cell_type": "markdown",
   "metadata": {},
   "source": [
    "Our data is now split into train/test sets. If we need to further divide into a validation dataset we can just repeat using the same procedure on the test set (and adjusting the split percentages). "
   ]
  },
  {
   "cell_type": "code",
   "execution_count": 12,
   "metadata": {},
   "outputs": [
    {
     "name": "stdout",
     "output_type": "stream",
     "text": [
      "Train set size:  (1594, 3)\n",
      "Test set size:  (398, 3)\n"
     ]
    }
   ],
   "source": [
    "print('Train set size: ', data['train'].shape)\n",
    "print('Test set size: ', data['test'].shape)"
   ]
  },
  {
   "cell_type": "markdown",
   "metadata": {},
   "source": [
    "---\n",
    "# 3. Training a model \n",
    "\n",
    "AmpliGraph has implemented several Graph embedding models (TransE, ComplEx, DistMult, HolE), but to begin with we're just going to use the ComplEx model (with  default values), so lets import that:"
   ]
  },
  {
   "cell_type": "code",
   "execution_count": 13,
   "metadata": {},
   "outputs": [],
   "source": [
    "from ampligraph.latent_features import ComplEx"
   ]
  },
  {
   "cell_type": "markdown",
   "metadata": {},
   "source": [
    "Lets go through the parameters to understand what's going on:\n",
    "\n",
    "- **`k`** : the dimensionality of the embedding space\n",
    "- **`eta`** ($\\eta$) : the number of negative, or false triples that must be generated at training runtime for each positive, or true triple\n",
    "- **`batches_count`** : the number of batches in which the training set is split during the training loop. If you are having into low memory issues than settings this to a higher number may help.\n",
    "- **`epochs`** : the number of epochs to train the model for.\n",
    "- **`optimizer`** : the Adam optimizer, with a learning rate of 1e-3 set via the *optimizer_params* kwarg.\n",
    "- **`loss`** : pairwise loss, with a margin of 0.5 set via the *loss_params* kwarg.\n",
    "- **`regularizer`** : $L_p$ regularization with $p=2$, i.e. l2 regularization. $\\lambda$ = 1e-5, set via the *regularizer_params* kwarg. \n",
    "\n",
    "Now we can instantiate the model:\n"
   ]
  },
  {
   "cell_type": "code",
   "execution_count": 14,
   "metadata": {},
   "outputs": [
    {
     "name": "stdout",
     "output_type": "stream",
     "text": [
      "------ Loss-----\n",
      "INFO - Name:pairwise\n",
      "Name: pairwise\n",
      "INFO - Parameters:\n",
      "Parameters:\n",
      "INFO - \teta: \n",
      "   eta :  10\n",
      "INFO - \tmargin: \n",
      "   margin :  0.5\n",
      "------ Regularizer-----\n",
      "INFO - ------ Regularizer-----\n",
      "Name: LP\n",
      "INFO - Name:LP\n",
      "Parameters:\n",
      "INFO - Parameters:\n",
      "INFO - \tlambda:1e-05\n",
      "\n",
      "   lambda :  1e-05\n",
      "INFO - \tp:2\n",
      "\n",
      "   p :  2\n"
     ]
    }
   ],
   "source": [
    "model = ComplEx(batches_count=10, \n",
    "                seed=0, \n",
    "                epochs=200, \n",
    "                k=20, \n",
    "                eta=10,\n",
    "                optimizer='adam', \n",
    "                optimizer_params={'lr':1e-3},\n",
    "                loss='pairwise', \n",
    "                loss_params={'margin':0.5},\n",
    "                regularizer='LP', \n",
    "                regularizer_params={'p':2, 'lambda':1e-5}, \n",
    "                verbose=True)"
   ]
  },
  {
   "cell_type": "markdown",
   "metadata": {},
   "source": [
    "## Filtering negatives\n",
    "\n",
    "AmpliGraph aims to follow scikit-learn's ease-of-use design philosophy and simplify everything down to **`fit`**, **`evaluate`**, and **`predict`** functions. \n",
    "\n",
    "However, there are some knowledge graph specific steps we must take to ensure our model can be trained and evaluated correctly. The first of these is defining the filter that will be used to ensure that no *negative* statements generated by the corruption procedure are actually positives. This is simply done by concatenating our train and test sets. Now when negative triples are generated by the corruption strategy, we can check that they aren't actually true statements.  \n"
   ]
  },
  {
   "cell_type": "code",
   "execution_count": 17,
   "metadata": {},
   "outputs": [],
   "source": [
    "positives_filter = np.concatenate((data['train'], data['test']))    "
   ]
  },
  {
   "cell_type": "markdown",
   "metadata": {},
   "source": [
    "## Early stopping\n",
    "\n",
    "We're also going to use early stopping to ensure we don't waste our valuable time (or GPU resources!). \n",
    "\n",
    "To train with early stopping we typically need a validation set, so let's revisit the `train_test_split_no_unseen` function from before, and divide the current test set in half to obtain a test and validation set. "
   ]
  },
  {
   "cell_type": "code",
   "execution_count": 19,
   "metadata": {},
   "outputs": [],
   "source": [
    "num_valid = len(data['test']) // 2\n",
    "data['test'], data['valid'] = train_test_split_no_unseen(data['test'], test_size=num_valid, seed=0)"
   ]
  },
  {
   "cell_type": "markdown",
   "metadata": {},
   "source": [
    "Let's take a look at some of the early stopping parameters:\n",
    "\n",
    "- **`x_valid`** - specifies our validation set, so that we can test model performance on data we're not training on and stop at a good point\n",
    "- **`criteria`** - the metric we'll use to measure model performance on the validation set. We specify here the 'hits10' criteria, which measures the amount of times the positive sample is found in the top 10 closest values when performing link prediction #TODO: Check this text\n",
    "- **`burn_in`** - allows the model to train for a few epochs before early stopping kicks in\n",
    "- **`check_interval`** - specifies how often the validation set should be evaluated for early stopping. \n",
    "- **`stop_interval`** - specifies how many validation set evaluations must be bad for early stopping to kick in. \n",
    "- **`x_filter`** - specifies the filter used to filter out the positives (we defined this above)\n",
    "- **`corruption_entities`** - specifies the corruption strategy. Here we specify 'all' so corruptions are generated using all of the entitites.\n",
    "- **`corrupt_side`** - specifies which end of the triple should be used for corruptions. Here we specify 's+o', so both subject and object are used for corruptions, but now at the same time.\n",
    "\n",
    "Based on the burn_in, check_interval and stop_interval values we can see that the model will train for at least **n** epochs, where\n",
    "\n",
    "    n = burn_in + (stop_interval * check_interval)  "
   ]
  },
  {
   "cell_type": "code",
   "execution_count": 20,
   "metadata": {},
   "outputs": [],
   "source": [
    "early_stopping_params = { 'x_valid': data['valid'],    \n",
    "                         'criteria':'hits10',\n",
    "                         'burn_in': 100,\n",
    "                         'check_interval':5,\n",
    "                         'stop_interval':3,\n",
    "                         'x_filter': positives_filter, \n",
    "                         'corruption_entities':'all',  \n",
    "                         'corrupt_side':'s+o'          \n",
    "                        }"
   ]
  },
  {
   "cell_type": "markdown",
   "metadata": {},
   "source": [
    "We should now have a **`train`**, **`test`** and **`valid`** set, in an 80/10/10 split:\n"
   ]
  },
  {
   "cell_type": "code",
   "execution_count": 21,
   "metadata": {},
   "outputs": [
    {
     "name": "stdout",
     "output_type": "stream",
     "text": [
      "Train set size:  (1594, 3)\n",
      "Test set size:  (100, 3)\n",
      "Valid set size:  (99, 3)\n"
     ]
    }
   ],
   "source": [
    "print('Train set size: ', data['train'].shape)\n",
    "print('Test set size: ', data['test'].shape)\n",
    "print('Valid set size: ', data['valid'].shape)"
   ]
  },
  {
   "cell_type": "markdown",
   "metadata": {},
   "source": [
    "## Fitting the model\n",
    "\n",
    "Once you run the next cell the model will train. \n",
    "\n",
    "On the **`Nations`** dataset this shouldn't take too long: on an i7 CPU this was taking ~10secs before reaching early stopping, although your mileage may vary, especially if you've changed any of the parameters above. "
   ]
  },
  {
   "cell_type": "code",
   "execution_count": 22,
   "metadata": {},
   "outputs": [
    {
     "name": "stdout",
     "output_type": "stream",
     "text": [
      "WARNING - From C:\\Users\\nicholas.mccarthy\\miniconda3\\envs\\ampligraph\\lib\\site-packages\\tensorflow\\python\\framework\\op_def_library.py:263: colocate_with (from tensorflow.python.framework.ops) is deprecated and will be removed in a future version.\n",
      "Instructions for updating:\n",
      "Colocations handled automatically by placer.\n",
      "INFO - Using all entities for generation of corruptions\n",
      "['s+o']\n",
      "WARNING - From C:\\Users\\nicholas.mccarthy\\miniconda3\\envs\\ampligraph\\lib\\site-packages\\tensorflow\\python\\ops\\math_ops.py:3066: to_int32 (from tensorflow.python.ops.math_ops) is deprecated and will be removed in a future version.\n",
      "Instructions for updating:\n",
      "Use tf.cast instead.\n"
     ]
    },
    {
     "name": "stderr",
     "output_type": "stream",
     "text": [
      "  0%|          | 0/200 [00:00<?, ?epoch/s]"
     ]
    },
    {
     "name": "stdout",
     "output_type": "stream",
     "text": [
      "INFO - epoch: 1: mean loss:   0.499744\n"
     ]
    },
    {
     "name": "stderr",
     "output_type": "stream",
     "text": []
    },
    {
     "name": "stdout",
     "output_type": "stream",
     "text": [
      "epoch: 1: mean loss:   0.499744\n"
     ]
    },
    {
     "name": "stderr",
     "output_type": "stream",
     "text": [
      "  0%|          | 1/200 [00:00<03:05,  1.07epoch/s]"
     ]
    },
    {
     "name": "stdout",
     "output_type": "stream",
     "text": [
      "INFO - epoch: 2: mean loss:   0.498775\n"
     ]
    },
    {
     "name": "stderr",
     "output_type": "stream",
     "text": []
    },
    {
     "name": "stdout",
     "output_type": "stream",
     "text": [
      "epoch: 2: mean loss:   0.498775\n"
     ]
    },
    {
     "name": "stderr",
     "output_type": "stream",
     "text": [
      "  0%|          | 1/200 [00:00<03:05,  1.07epoch/s]"
     ]
    },
    {
     "name": "stdout",
     "output_type": "stream",
     "text": [
      "INFO - epoch: 3: mean loss:   0.496037\n"
     ]
    },
    {
     "name": "stderr",
     "output_type": "stream",
     "text": []
    },
    {
     "name": "stdout",
     "output_type": "stream",
     "text": [
      "epoch: 3: mean loss:   0.496037\n"
     ]
    },
    {
     "name": "stderr",
     "output_type": "stream",
     "text": [
      "  2%|▏         | 3/200 [00:01<02:12,  1.49epoch/s]"
     ]
    },
    {
     "name": "stdout",
     "output_type": "stream",
     "text": [
      "INFO - epoch: 4: mean loss:   0.495207\n"
     ]
    },
    {
     "name": "stderr",
     "output_type": "stream",
     "text": []
    },
    {
     "name": "stdout",
     "output_type": "stream",
     "text": [
      "epoch: 4: mean loss:   0.495207\n"
     ]
    },
    {
     "name": "stderr",
     "output_type": "stream",
     "text": [
      "  2%|▏         | 3/200 [00:01<02:12,  1.49epoch/s]"
     ]
    },
    {
     "name": "stdout",
     "output_type": "stream",
     "text": [
      "INFO - epoch: 5: mean loss:   0.494661\n"
     ]
    },
    {
     "name": "stderr",
     "output_type": "stream",
     "text": []
    },
    {
     "name": "stdout",
     "output_type": "stream",
     "text": [
      "epoch: 5: mean loss:   0.494661\n"
     ]
    },
    {
     "name": "stderr",
     "output_type": "stream",
     "text": [
      "  2%|▎         | 5/200 [00:01<01:35,  2.05epoch/s]"
     ]
    },
    {
     "name": "stdout",
     "output_type": "stream",
     "text": [
      "INFO - epoch: 6: mean loss:   0.492997\n"
     ]
    },
    {
     "name": "stderr",
     "output_type": "stream",
     "text": []
    },
    {
     "name": "stdout",
     "output_type": "stream",
     "text": [
      "epoch: 6: mean loss:   0.492997\n"
     ]
    },
    {
     "name": "stderr",
     "output_type": "stream",
     "text": [
      "  2%|▎         | 5/200 [00:01<01:35,  2.05epoch/s]"
     ]
    },
    {
     "name": "stdout",
     "output_type": "stream",
     "text": [
      "INFO - epoch: 7: mean loss:   0.492899\n"
     ]
    },
    {
     "name": "stderr",
     "output_type": "stream",
     "text": []
    },
    {
     "name": "stdout",
     "output_type": "stream",
     "text": [
      "epoch: 7: mean loss:   0.492899\n"
     ]
    },
    {
     "name": "stderr",
     "output_type": "stream",
     "text": [
      "  4%|▎         | 7/200 [00:01<01:09,  2.78epoch/s]"
     ]
    },
    {
     "name": "stdout",
     "output_type": "stream",
     "text": [
      "INFO - epoch: 8: mean loss:   0.491220\n"
     ]
    },
    {
     "name": "stderr",
     "output_type": "stream",
     "text": []
    },
    {
     "name": "stdout",
     "output_type": "stream",
     "text": [
      "epoch: 8: mean loss:   0.491220\n"
     ]
    },
    {
     "name": "stderr",
     "output_type": "stream",
     "text": [
      "  4%|▎         | 7/200 [00:01<01:09,  2.78epoch/s]"
     ]
    },
    {
     "name": "stdout",
     "output_type": "stream",
     "text": [
      "INFO - epoch: 9: mean loss:   0.489918\n"
     ]
    },
    {
     "name": "stderr",
     "output_type": "stream",
     "text": []
    },
    {
     "name": "stdout",
     "output_type": "stream",
     "text": [
      "epoch: 9: mean loss:   0.489918\n"
     ]
    },
    {
     "name": "stderr",
     "output_type": "stream",
     "text": [
      "  4%|▍         | 9/200 [00:01<00:51,  3.69epoch/s]"
     ]
    },
    {
     "name": "stdout",
     "output_type": "stream",
     "text": [
      "INFO - epoch: 10: mean loss:   0.488133\n"
     ]
    },
    {
     "name": "stderr",
     "output_type": "stream",
     "text": []
    },
    {
     "name": "stdout",
     "output_type": "stream",
     "text": [
      "epoch: 10: mean loss:   0.488133\n"
     ]
    },
    {
     "name": "stderr",
     "output_type": "stream",
     "text": [
      "  4%|▍         | 9/200 [00:01<00:51,  3.69epoch/s]"
     ]
    },
    {
     "name": "stdout",
     "output_type": "stream",
     "text": [
      "INFO - epoch: 11: mean loss:   0.485836\n"
     ]
    },
    {
     "name": "stderr",
     "output_type": "stream",
     "text": []
    },
    {
     "name": "stdout",
     "output_type": "stream",
     "text": [
      "epoch: 11: mean loss:   0.485836\n"
     ]
    },
    {
     "name": "stderr",
     "output_type": "stream",
     "text": [
      "  6%|▌         | 11/200 [00:01<00:39,  4.78epoch/s]"
     ]
    },
    {
     "name": "stdout",
     "output_type": "stream",
     "text": [
      "INFO - epoch: 12: mean loss:   0.484796\n"
     ]
    },
    {
     "name": "stderr",
     "output_type": "stream",
     "text": []
    },
    {
     "name": "stdout",
     "output_type": "stream",
     "text": [
      "epoch: 12: mean loss:   0.484796\n"
     ]
    },
    {
     "name": "stderr",
     "output_type": "stream",
     "text": [
      "  6%|▌         | 11/200 [00:01<00:39,  4.78epoch/s]"
     ]
    },
    {
     "name": "stdout",
     "output_type": "stream",
     "text": [
      "INFO - epoch: 13: mean loss:   0.483142\n"
     ]
    },
    {
     "name": "stderr",
     "output_type": "stream",
     "text": []
    },
    {
     "name": "stdout",
     "output_type": "stream",
     "text": [
      "epoch: 13: mean loss:   0.483142\n"
     ]
    },
    {
     "name": "stderr",
     "output_type": "stream",
     "text": [
      "  6%|▋         | 13/200 [00:01<00:30,  6.16epoch/s]"
     ]
    },
    {
     "name": "stdout",
     "output_type": "stream",
     "text": [
      "INFO - epoch: 14: mean loss:   0.480589\n"
     ]
    },
    {
     "name": "stderr",
     "output_type": "stream",
     "text": []
    },
    {
     "name": "stdout",
     "output_type": "stream",
     "text": [
      "epoch: 14: mean loss:   0.480589\n"
     ]
    },
    {
     "name": "stderr",
     "output_type": "stream",
     "text": [
      "  6%|▋         | 13/200 [00:01<00:30,  6.16epoch/s]"
     ]
    },
    {
     "name": "stdout",
     "output_type": "stream",
     "text": [
      "INFO - epoch: 15: mean loss:   0.479233\n"
     ]
    },
    {
     "name": "stderr",
     "output_type": "stream",
     "text": []
    },
    {
     "name": "stdout",
     "output_type": "stream",
     "text": [
      "epoch: 15: mean loss:   0.479233\n"
     ]
    },
    {
     "name": "stderr",
     "output_type": "stream",
     "text": [
      "  8%|▊         | 15/200 [00:01<00:23,  7.74epoch/s]"
     ]
    },
    {
     "name": "stdout",
     "output_type": "stream",
     "text": [
      "INFO - epoch: 16: mean loss:   0.476869\n"
     ]
    },
    {
     "name": "stderr",
     "output_type": "stream",
     "text": []
    },
    {
     "name": "stdout",
     "output_type": "stream",
     "text": [
      "epoch: 16: mean loss:   0.476869\n"
     ]
    },
    {
     "name": "stderr",
     "output_type": "stream",
     "text": [
      "  8%|▊         | 15/200 [00:01<00:23,  7.74epoch/s]"
     ]
    },
    {
     "name": "stdout",
     "output_type": "stream",
     "text": [
      "INFO - epoch: 17: mean loss:   0.473498\n"
     ]
    },
    {
     "name": "stderr",
     "output_type": "stream",
     "text": []
    },
    {
     "name": "stdout",
     "output_type": "stream",
     "text": [
      "epoch: 17: mean loss:   0.473498\n"
     ]
    },
    {
     "name": "stderr",
     "output_type": "stream",
     "text": [
      "  8%|▊         | 17/200 [00:01<00:19,  9.35epoch/s]"
     ]
    },
    {
     "name": "stdout",
     "output_type": "stream",
     "text": [
      "INFO - epoch: 18: mean loss:   0.470322\n"
     ]
    },
    {
     "name": "stderr",
     "output_type": "stream",
     "text": []
    },
    {
     "name": "stdout",
     "output_type": "stream",
     "text": [
      "epoch: 18: mean loss:   0.470322\n"
     ]
    },
    {
     "name": "stderr",
     "output_type": "stream",
     "text": [
      "  8%|▊         | 17/200 [00:01<00:19,  9.35epoch/s]"
     ]
    },
    {
     "name": "stdout",
     "output_type": "stream",
     "text": [
      "INFO - epoch: 19: mean loss:   0.467946\n"
     ]
    },
    {
     "name": "stderr",
     "output_type": "stream",
     "text": []
    },
    {
     "name": "stdout",
     "output_type": "stream",
     "text": [
      "epoch: 19: mean loss:   0.467946\n"
     ]
    },
    {
     "name": "stderr",
     "output_type": "stream",
     "text": [
      " 10%|▉         | 19/200 [00:01<00:16, 10.88epoch/s]"
     ]
    },
    {
     "name": "stdout",
     "output_type": "stream",
     "text": [
      "INFO - epoch: 20: mean loss:   0.466135\n"
     ]
    },
    {
     "name": "stderr",
     "output_type": "stream",
     "text": []
    },
    {
     "name": "stdout",
     "output_type": "stream",
     "text": [
      "epoch: 20: mean loss:   0.466135\n"
     ]
    },
    {
     "name": "stderr",
     "output_type": "stream",
     "text": [
      " 10%|▉         | 19/200 [00:02<00:16, 10.88epoch/s]"
     ]
    },
    {
     "name": "stdout",
     "output_type": "stream",
     "text": [
      "INFO - epoch: 21: mean loss:   0.462549\n"
     ]
    },
    {
     "name": "stderr",
     "output_type": "stream",
     "text": []
    },
    {
     "name": "stdout",
     "output_type": "stream",
     "text": [
      "epoch: 21: mean loss:   0.462549\n"
     ]
    },
    {
     "name": "stderr",
     "output_type": "stream",
     "text": [
      " 10%|█         | 21/200 [00:02<00:14, 12.49epoch/s]"
     ]
    },
    {
     "name": "stdout",
     "output_type": "stream",
     "text": [
      "INFO - epoch: 22: mean loss:   0.458295\n"
     ]
    },
    {
     "name": "stderr",
     "output_type": "stream",
     "text": []
    },
    {
     "name": "stdout",
     "output_type": "stream",
     "text": [
      "epoch: 22: mean loss:   0.458295\n"
     ]
    },
    {
     "name": "stderr",
     "output_type": "stream",
     "text": [
      " 10%|█         | 21/200 [00:02<00:14, 12.49epoch/s]"
     ]
    },
    {
     "name": "stdout",
     "output_type": "stream",
     "text": [
      "INFO - epoch: 23: mean loss:   0.454783\n"
     ]
    },
    {
     "name": "stderr",
     "output_type": "stream",
     "text": []
    },
    {
     "name": "stdout",
     "output_type": "stream",
     "text": [
      "epoch: 23: mean loss:   0.454783\n"
     ]
    },
    {
     "name": "stderr",
     "output_type": "stream",
     "text": [
      " 10%|█         | 21/200 [00:02<00:14, 12.49epoch/s]"
     ]
    },
    {
     "name": "stdout",
     "output_type": "stream",
     "text": [
      "INFO - epoch: 24: mean loss:   0.450050\n"
     ]
    },
    {
     "name": "stderr",
     "output_type": "stream",
     "text": []
    },
    {
     "name": "stdout",
     "output_type": "stream",
     "text": [
      "epoch: 24: mean loss:   0.450050\n"
     ]
    },
    {
     "name": "stderr",
     "output_type": "stream",
     "text": [
      " 12%|█▏        | 24/200 [00:02<00:12, 14.13epoch/s]"
     ]
    },
    {
     "name": "stdout",
     "output_type": "stream",
     "text": [
      "INFO - epoch: 25: mean loss:   0.445377\n"
     ]
    },
    {
     "name": "stderr",
     "output_type": "stream",
     "text": []
    },
    {
     "name": "stdout",
     "output_type": "stream",
     "text": [
      "epoch: 25: mean loss:   0.445377\n"
     ]
    },
    {
     "name": "stderr",
     "output_type": "stream",
     "text": [
      " 12%|█▏        | 24/200 [00:02<00:12, 14.13epoch/s]"
     ]
    },
    {
     "name": "stdout",
     "output_type": "stream",
     "text": [
      "INFO - epoch: 26: mean loss:   0.440394\n"
     ]
    },
    {
     "name": "stderr",
     "output_type": "stream",
     "text": []
    },
    {
     "name": "stdout",
     "output_type": "stream",
     "text": [
      "epoch: 26: mean loss:   0.440394\n"
     ]
    },
    {
     "name": "stderr",
     "output_type": "stream",
     "text": [
      " 13%|█▎        | 26/200 [00:02<00:11, 14.75epoch/s]"
     ]
    },
    {
     "name": "stdout",
     "output_type": "stream",
     "text": [
      "INFO - epoch: 27: mean loss:   0.435611\n"
     ]
    },
    {
     "name": "stderr",
     "output_type": "stream",
     "text": []
    },
    {
     "name": "stdout",
     "output_type": "stream",
     "text": [
      "epoch: 27: mean loss:   0.435611\n"
     ]
    },
    {
     "name": "stderr",
     "output_type": "stream",
     "text": [
      " 13%|█▎        | 26/200 [00:02<00:11, 14.75epoch/s]"
     ]
    },
    {
     "name": "stdout",
     "output_type": "stream",
     "text": [
      "INFO - epoch: 28: mean loss:   0.429547\n"
     ]
    },
    {
     "name": "stderr",
     "output_type": "stream",
     "text": []
    },
    {
     "name": "stdout",
     "output_type": "stream",
     "text": [
      "epoch: 28: mean loss:   0.429547\n"
     ]
    },
    {
     "name": "stderr",
     "output_type": "stream",
     "text": [
      " 14%|█▍        | 28/200 [00:02<00:11, 15.46epoch/s]"
     ]
    },
    {
     "name": "stdout",
     "output_type": "stream",
     "text": [
      "INFO - epoch: 29: mean loss:   0.424776\n"
     ]
    },
    {
     "name": "stderr",
     "output_type": "stream",
     "text": []
    },
    {
     "name": "stdout",
     "output_type": "stream",
     "text": [
      "epoch: 29: mean loss:   0.424776\n"
     ]
    },
    {
     "name": "stderr",
     "output_type": "stream",
     "text": [
      " 14%|█▍        | 28/200 [00:02<00:11, 15.46epoch/s]"
     ]
    },
    {
     "name": "stdout",
     "output_type": "stream",
     "text": [
      "INFO - epoch: 30: mean loss:   0.418630\n"
     ]
    },
    {
     "name": "stderr",
     "output_type": "stream",
     "text": []
    },
    {
     "name": "stdout",
     "output_type": "stream",
     "text": [
      "epoch: 30: mean loss:   0.418630\n"
     ]
    },
    {
     "name": "stderr",
     "output_type": "stream",
     "text": [
      " 15%|█▌        | 30/200 [00:02<00:10, 16.36epoch/s]"
     ]
    },
    {
     "name": "stdout",
     "output_type": "stream",
     "text": [
      "INFO - epoch: 31: mean loss:   0.411599\n"
     ]
    },
    {
     "name": "stderr",
     "output_type": "stream",
     "text": []
    },
    {
     "name": "stdout",
     "output_type": "stream",
     "text": [
      "epoch: 31: mean loss:   0.411599\n"
     ]
    },
    {
     "name": "stderr",
     "output_type": "stream",
     "text": [
      " 15%|█▌        | 30/200 [00:02<00:10, 16.36epoch/s]"
     ]
    },
    {
     "name": "stdout",
     "output_type": "stream",
     "text": [
      "INFO - epoch: 32: mean loss:   0.406941\n"
     ]
    },
    {
     "name": "stderr",
     "output_type": "stream",
     "text": []
    },
    {
     "name": "stdout",
     "output_type": "stream",
     "text": [
      "epoch: 32: mean loss:   0.406941\n"
     ]
    },
    {
     "name": "stderr",
     "output_type": "stream",
     "text": [
      " 16%|█▌        | 32/200 [00:02<00:09, 16.96epoch/s]"
     ]
    },
    {
     "name": "stdout",
     "output_type": "stream",
     "text": [
      "INFO - epoch: 33: mean loss:   0.399421\n"
     ]
    },
    {
     "name": "stderr",
     "output_type": "stream",
     "text": []
    },
    {
     "name": "stdout",
     "output_type": "stream",
     "text": [
      "epoch: 33: mean loss:   0.399421\n"
     ]
    },
    {
     "name": "stderr",
     "output_type": "stream",
     "text": [
      " 16%|█▌        | 32/200 [00:02<00:09, 16.96epoch/s]"
     ]
    },
    {
     "name": "stdout",
     "output_type": "stream",
     "text": [
      "INFO - epoch: 34: mean loss:   0.395336\n"
     ]
    },
    {
     "name": "stderr",
     "output_type": "stream",
     "text": []
    },
    {
     "name": "stdout",
     "output_type": "stream",
     "text": [
      "epoch: 34: mean loss:   0.395336\n"
     ]
    },
    {
     "name": "stderr",
     "output_type": "stream",
     "text": [
      " 16%|█▌        | 32/200 [00:02<00:09, 16.96epoch/s]"
     ]
    },
    {
     "name": "stdout",
     "output_type": "stream",
     "text": [
      "INFO - epoch: 35: mean loss:   0.388935\n"
     ]
    },
    {
     "name": "stderr",
     "output_type": "stream",
     "text": []
    },
    {
     "name": "stdout",
     "output_type": "stream",
     "text": [
      "epoch: 35: mean loss:   0.388935\n"
     ]
    },
    {
     "name": "stderr",
     "output_type": "stream",
     "text": [
      " 18%|█▊        | 35/200 [00:02<00:09, 17.76epoch/s]"
     ]
    },
    {
     "name": "stdout",
     "output_type": "stream",
     "text": [
      "INFO - epoch: 36: mean loss:   0.382959\n"
     ]
    },
    {
     "name": "stderr",
     "output_type": "stream",
     "text": []
    },
    {
     "name": "stdout",
     "output_type": "stream",
     "text": [
      "epoch: 36: mean loss:   0.382959\n"
     ]
    },
    {
     "name": "stderr",
     "output_type": "stream",
     "text": [
      " 18%|█▊        | 35/200 [00:02<00:09, 17.76epoch/s]"
     ]
    },
    {
     "name": "stdout",
     "output_type": "stream",
     "text": [
      "INFO - epoch: 37: mean loss:   0.379223\n"
     ]
    },
    {
     "name": "stderr",
     "output_type": "stream",
     "text": []
    },
    {
     "name": "stdout",
     "output_type": "stream",
     "text": [
      "epoch: 37: mean loss:   0.379223\n"
     ]
    },
    {
     "name": "stderr",
     "output_type": "stream",
     "text": [
      " 18%|█▊        | 35/200 [00:02<00:09, 17.76epoch/s]"
     ]
    },
    {
     "name": "stdout",
     "output_type": "stream",
     "text": [
      "INFO - epoch: 38: mean loss:   0.374762\n"
     ]
    },
    {
     "name": "stderr",
     "output_type": "stream",
     "text": []
    },
    {
     "name": "stdout",
     "output_type": "stream",
     "text": [
      "epoch: 38: mean loss:   0.374762\n"
     ]
    },
    {
     "name": "stderr",
     "output_type": "stream",
     "text": [
      " 19%|█▉        | 38/200 [00:02<00:08, 18.70epoch/s]"
     ]
    },
    {
     "name": "stdout",
     "output_type": "stream",
     "text": [
      "INFO - epoch: 39: mean loss:   0.370734\n"
     ]
    },
    {
     "name": "stderr",
     "output_type": "stream",
     "text": []
    },
    {
     "name": "stdout",
     "output_type": "stream",
     "text": [
      "epoch: 39: mean loss:   0.370734\n"
     ]
    },
    {
     "name": "stderr",
     "output_type": "stream",
     "text": [
      " 19%|█▉        | 38/200 [00:03<00:08, 18.70epoch/s]"
     ]
    },
    {
     "name": "stdout",
     "output_type": "stream",
     "text": [
      "INFO - epoch: 40: mean loss:   0.364858\n"
     ]
    },
    {
     "name": "stderr",
     "output_type": "stream",
     "text": []
    },
    {
     "name": "stdout",
     "output_type": "stream",
     "text": [
      "epoch: 40: mean loss:   0.364858\n"
     ]
    },
    {
     "name": "stderr",
     "output_type": "stream",
     "text": [
      " 20%|██        | 40/200 [00:03<00:08, 18.97epoch/s]"
     ]
    },
    {
     "name": "stdout",
     "output_type": "stream",
     "text": [
      "INFO - epoch: 41: mean loss:   0.362131\n"
     ]
    },
    {
     "name": "stderr",
     "output_type": "stream",
     "text": []
    },
    {
     "name": "stdout",
     "output_type": "stream",
     "text": [
      "epoch: 41: mean loss:   0.362131\n"
     ]
    },
    {
     "name": "stderr",
     "output_type": "stream",
     "text": [
      " 20%|██        | 40/200 [00:03<00:08, 18.97epoch/s]"
     ]
    },
    {
     "name": "stdout",
     "output_type": "stream",
     "text": [
      "INFO - epoch: 42: mean loss:   0.360476\n"
     ]
    },
    {
     "name": "stderr",
     "output_type": "stream",
     "text": []
    },
    {
     "name": "stdout",
     "output_type": "stream",
     "text": [
      "epoch: 42: mean loss:   0.360476\n"
     ]
    },
    {
     "name": "stderr",
     "output_type": "stream",
     "text": [
      " 21%|██        | 42/200 [00:03<00:08, 18.23epoch/s]"
     ]
    },
    {
     "name": "stdout",
     "output_type": "stream",
     "text": [
      "INFO - epoch: 43: mean loss:   0.353606\n"
     ]
    },
    {
     "name": "stderr",
     "output_type": "stream",
     "text": []
    },
    {
     "name": "stdout",
     "output_type": "stream",
     "text": [
      "epoch: 43: mean loss:   0.353606\n"
     ]
    },
    {
     "name": "stderr",
     "output_type": "stream",
     "text": [
      " 21%|██        | 42/200 [00:03<00:08, 18.23epoch/s]"
     ]
    },
    {
     "name": "stdout",
     "output_type": "stream",
     "text": [
      "INFO - epoch: 44: mean loss:   0.352616\n"
     ]
    },
    {
     "name": "stderr",
     "output_type": "stream",
     "text": []
    },
    {
     "name": "stdout",
     "output_type": "stream",
     "text": [
      "epoch: 44: mean loss:   0.352616\n"
     ]
    },
    {
     "name": "stderr",
     "output_type": "stream",
     "text": [
      " 22%|██▏       | 44/200 [00:03<00:09, 16.85epoch/s]"
     ]
    },
    {
     "name": "stdout",
     "output_type": "stream",
     "text": [
      "INFO - epoch: 45: mean loss:   0.347400\n"
     ]
    },
    {
     "name": "stderr",
     "output_type": "stream",
     "text": []
    },
    {
     "name": "stdout",
     "output_type": "stream",
     "text": [
      "epoch: 45: mean loss:   0.347400\n"
     ]
    },
    {
     "name": "stderr",
     "output_type": "stream",
     "text": [
      " 22%|██▏       | 44/200 [00:03<00:09, 16.85epoch/s]"
     ]
    },
    {
     "name": "stdout",
     "output_type": "stream",
     "text": [
      "INFO - epoch: 46: mean loss:   0.345823\n"
     ]
    },
    {
     "name": "stderr",
     "output_type": "stream",
     "text": []
    },
    {
     "name": "stdout",
     "output_type": "stream",
     "text": [
      "epoch: 46: mean loss:   0.345823\n"
     ]
    },
    {
     "name": "stderr",
     "output_type": "stream",
     "text": [
      " 23%|██▎       | 46/200 [00:03<00:09, 17.07epoch/s]"
     ]
    },
    {
     "name": "stdout",
     "output_type": "stream",
     "text": [
      "INFO - epoch: 47: mean loss:   0.344199\n"
     ]
    },
    {
     "name": "stderr",
     "output_type": "stream",
     "text": []
    },
    {
     "name": "stdout",
     "output_type": "stream",
     "text": [
      "epoch: 47: mean loss:   0.344199\n"
     ]
    },
    {
     "name": "stderr",
     "output_type": "stream",
     "text": [
      " 23%|██▎       | 46/200 [00:03<00:09, 17.07epoch/s]"
     ]
    },
    {
     "name": "stdout",
     "output_type": "stream",
     "text": [
      "INFO - epoch: 48: mean loss:   0.337611\n"
     ]
    },
    {
     "name": "stderr",
     "output_type": "stream",
     "text": []
    },
    {
     "name": "stdout",
     "output_type": "stream",
     "text": [
      "epoch: 48: mean loss:   0.337611\n"
     ]
    },
    {
     "name": "stderr",
     "output_type": "stream",
     "text": [
      " 24%|██▍       | 48/200 [00:03<00:08, 17.05epoch/s]"
     ]
    },
    {
     "name": "stdout",
     "output_type": "stream",
     "text": [
      "INFO - epoch: 49: mean loss:   0.338606\n"
     ]
    },
    {
     "name": "stderr",
     "output_type": "stream",
     "text": []
    },
    {
     "name": "stdout",
     "output_type": "stream",
     "text": [
      "epoch: 49: mean loss:   0.338606\n"
     ]
    },
    {
     "name": "stderr",
     "output_type": "stream",
     "text": [
      " 24%|██▍       | 48/200 [00:03<00:08, 17.05epoch/s]"
     ]
    },
    {
     "name": "stdout",
     "output_type": "stream",
     "text": [
      "INFO - epoch: 50: mean loss:   0.335823\n"
     ]
    },
    {
     "name": "stderr",
     "output_type": "stream",
     "text": []
    },
    {
     "name": "stdout",
     "output_type": "stream",
     "text": [
      "epoch: 50: mean loss:   0.335823\n"
     ]
    },
    {
     "name": "stderr",
     "output_type": "stream",
     "text": [
      " 25%|██▌       | 50/200 [00:03<00:08, 17.07epoch/s]"
     ]
    },
    {
     "name": "stdout",
     "output_type": "stream",
     "text": [
      "INFO - epoch: 51: mean loss:   0.331242\n"
     ]
    },
    {
     "name": "stderr",
     "output_type": "stream",
     "text": []
    },
    {
     "name": "stdout",
     "output_type": "stream",
     "text": [
      "epoch: 51: mean loss:   0.331242\n"
     ]
    },
    {
     "name": "stderr",
     "output_type": "stream",
     "text": [
      " 25%|██▌       | 50/200 [00:03<00:08, 17.07epoch/s]"
     ]
    },
    {
     "name": "stdout",
     "output_type": "stream",
     "text": [
      "INFO - epoch: 52: mean loss:   0.330163\n"
     ]
    },
    {
     "name": "stderr",
     "output_type": "stream",
     "text": []
    },
    {
     "name": "stdout",
     "output_type": "stream",
     "text": [
      "epoch: 52: mean loss:   0.330163\n"
     ]
    },
    {
     "name": "stderr",
     "output_type": "stream",
     "text": [
      " 26%|██▌       | 52/200 [00:03<00:08, 17.27epoch/s]"
     ]
    },
    {
     "name": "stdout",
     "output_type": "stream",
     "text": [
      "INFO - epoch: 53: mean loss:   0.325788\n"
     ]
    },
    {
     "name": "stderr",
     "output_type": "stream",
     "text": []
    },
    {
     "name": "stdout",
     "output_type": "stream",
     "text": [
      "epoch: 53: mean loss:   0.325788\n"
     ]
    },
    {
     "name": "stderr",
     "output_type": "stream",
     "text": [
      " 26%|██▌       | 52/200 [00:03<00:08, 17.27epoch/s]"
     ]
    },
    {
     "name": "stdout",
     "output_type": "stream",
     "text": [
      "INFO - epoch: 54: mean loss:   0.325746\n"
     ]
    },
    {
     "name": "stderr",
     "output_type": "stream",
     "text": []
    },
    {
     "name": "stdout",
     "output_type": "stream",
     "text": [
      "epoch: 54: mean loss:   0.325746\n"
     ]
    },
    {
     "name": "stderr",
     "output_type": "stream",
     "text": [
      " 27%|██▋       | 54/200 [00:03<00:08, 17.59epoch/s]"
     ]
    },
    {
     "name": "stdout",
     "output_type": "stream",
     "text": [
      "INFO - epoch: 55: mean loss:   0.324197\n"
     ]
    },
    {
     "name": "stderr",
     "output_type": "stream",
     "text": []
    },
    {
     "name": "stdout",
     "output_type": "stream",
     "text": [
      "epoch: 55: mean loss:   0.324197\n"
     ]
    },
    {
     "name": "stderr",
     "output_type": "stream",
     "text": [
      " 27%|██▋       | 54/200 [00:03<00:08, 17.59epoch/s]"
     ]
    },
    {
     "name": "stdout",
     "output_type": "stream",
     "text": [
      "INFO - epoch: 56: mean loss:   0.320104\n"
     ]
    },
    {
     "name": "stderr",
     "output_type": "stream",
     "text": []
    },
    {
     "name": "stdout",
     "output_type": "stream",
     "text": [
      "epoch: 56: mean loss:   0.320104\n"
     ]
    },
    {
     "name": "stderr",
     "output_type": "stream",
     "text": [
      " 28%|██▊       | 56/200 [00:04<00:08, 17.32epoch/s]"
     ]
    },
    {
     "name": "stdout",
     "output_type": "stream",
     "text": [
      "INFO - epoch: 57: mean loss:   0.316976\n"
     ]
    },
    {
     "name": "stderr",
     "output_type": "stream",
     "text": []
    },
    {
     "name": "stdout",
     "output_type": "stream",
     "text": [
      "epoch: 57: mean loss:   0.316976\n"
     ]
    },
    {
     "name": "stderr",
     "output_type": "stream",
     "text": [
      " 28%|██▊       | 56/200 [00:04<00:08, 17.32epoch/s]"
     ]
    },
    {
     "name": "stdout",
     "output_type": "stream",
     "text": [
      "INFO - epoch: 58: mean loss:   0.319194\n"
     ]
    },
    {
     "name": "stderr",
     "output_type": "stream",
     "text": []
    },
    {
     "name": "stdout",
     "output_type": "stream",
     "text": [
      "epoch: 58: mean loss:   0.319194\n"
     ]
    },
    {
     "name": "stderr",
     "output_type": "stream",
     "text": [
      " 29%|██▉       | 58/200 [00:04<00:08, 17.49epoch/s]"
     ]
    },
    {
     "name": "stdout",
     "output_type": "stream",
     "text": [
      "INFO - epoch: 59: mean loss:   0.312629\n"
     ]
    },
    {
     "name": "stderr",
     "output_type": "stream",
     "text": []
    },
    {
     "name": "stdout",
     "output_type": "stream",
     "text": [
      "epoch: 59: mean loss:   0.312629\n"
     ]
    },
    {
     "name": "stderr",
     "output_type": "stream",
     "text": [
      " 29%|██▉       | 58/200 [00:04<00:08, 17.49epoch/s]"
     ]
    },
    {
     "name": "stdout",
     "output_type": "stream",
     "text": [
      "INFO - epoch: 60: mean loss:   0.314692\n"
     ]
    },
    {
     "name": "stderr",
     "output_type": "stream",
     "text": []
    },
    {
     "name": "stdout",
     "output_type": "stream",
     "text": [
      "epoch: 60: mean loss:   0.314692\n"
     ]
    },
    {
     "name": "stderr",
     "output_type": "stream",
     "text": [
      " 30%|███       | 60/200 [00:04<00:08, 17.34epoch/s]"
     ]
    },
    {
     "name": "stdout",
     "output_type": "stream",
     "text": [
      "INFO - epoch: 61: mean loss:   0.311950\n"
     ]
    },
    {
     "name": "stderr",
     "output_type": "stream",
     "text": []
    },
    {
     "name": "stdout",
     "output_type": "stream",
     "text": [
      "epoch: 61: mean loss:   0.311950\n"
     ]
    },
    {
     "name": "stderr",
     "output_type": "stream",
     "text": [
      " 30%|███       | 60/200 [00:04<00:08, 17.34epoch/s]"
     ]
    },
    {
     "name": "stdout",
     "output_type": "stream",
     "text": [
      "INFO - epoch: 62: mean loss:   0.308388\n"
     ]
    },
    {
     "name": "stderr",
     "output_type": "stream",
     "text": []
    },
    {
     "name": "stdout",
     "output_type": "stream",
     "text": [
      "epoch: 62: mean loss:   0.308388\n"
     ]
    },
    {
     "name": "stderr",
     "output_type": "stream",
     "text": [
      " 31%|███       | 62/200 [00:04<00:08, 16.84epoch/s]"
     ]
    },
    {
     "name": "stdout",
     "output_type": "stream",
     "text": [
      "INFO - epoch: 63: mean loss:   0.308931\n"
     ]
    },
    {
     "name": "stderr",
     "output_type": "stream",
     "text": []
    },
    {
     "name": "stdout",
     "output_type": "stream",
     "text": [
      "epoch: 63: mean loss:   0.308931\n"
     ]
    },
    {
     "name": "stderr",
     "output_type": "stream",
     "text": [
      " 31%|███       | 62/200 [00:04<00:08, 16.84epoch/s]"
     ]
    },
    {
     "name": "stdout",
     "output_type": "stream",
     "text": [
      "INFO - epoch: 64: mean loss:   0.305325\n"
     ]
    },
    {
     "name": "stderr",
     "output_type": "stream",
     "text": []
    },
    {
     "name": "stdout",
     "output_type": "stream",
     "text": [
      "epoch: 64: mean loss:   0.305325\n"
     ]
    },
    {
     "name": "stderr",
     "output_type": "stream",
     "text": [
      " 32%|███▏      | 64/200 [00:04<00:08, 16.51epoch/s]"
     ]
    },
    {
     "name": "stdout",
     "output_type": "stream",
     "text": [
      "INFO - epoch: 65: mean loss:   0.311424\n"
     ]
    },
    {
     "name": "stderr",
     "output_type": "stream",
     "text": []
    },
    {
     "name": "stdout",
     "output_type": "stream",
     "text": [
      "epoch: 65: mean loss:   0.311424\n"
     ]
    },
    {
     "name": "stderr",
     "output_type": "stream",
     "text": [
      " 32%|███▏      | 64/200 [00:04<00:08, 16.51epoch/s]"
     ]
    },
    {
     "name": "stdout",
     "output_type": "stream",
     "text": [
      "INFO - epoch: 66: mean loss:   0.303906\n"
     ]
    },
    {
     "name": "stderr",
     "output_type": "stream",
     "text": []
    },
    {
     "name": "stdout",
     "output_type": "stream",
     "text": [
      "epoch: 66: mean loss:   0.303906\n"
     ]
    },
    {
     "name": "stderr",
     "output_type": "stream",
     "text": [
      " 33%|███▎      | 66/200 [00:04<00:08, 16.21epoch/s]"
     ]
    },
    {
     "name": "stdout",
     "output_type": "stream",
     "text": [
      "INFO - epoch: 67: mean loss:   0.297595\n"
     ]
    },
    {
     "name": "stderr",
     "output_type": "stream",
     "text": []
    },
    {
     "name": "stdout",
     "output_type": "stream",
     "text": [
      "epoch: 67: mean loss:   0.297595\n"
     ]
    },
    {
     "name": "stderr",
     "output_type": "stream",
     "text": [
      " 33%|███▎      | 66/200 [00:04<00:08, 16.21epoch/s]"
     ]
    },
    {
     "name": "stdout",
     "output_type": "stream",
     "text": [
      "INFO - epoch: 68: mean loss:   0.298631\n"
     ]
    },
    {
     "name": "stderr",
     "output_type": "stream",
     "text": []
    },
    {
     "name": "stdout",
     "output_type": "stream",
     "text": [
      "epoch: 68: mean loss:   0.298631\n"
     ]
    },
    {
     "name": "stderr",
     "output_type": "stream",
     "text": [
      " 34%|███▍      | 68/200 [00:04<00:08, 16.44epoch/s]"
     ]
    },
    {
     "name": "stdout",
     "output_type": "stream",
     "text": [
      "INFO - epoch: 69: mean loss:   0.298749\n"
     ]
    },
    {
     "name": "stderr",
     "output_type": "stream",
     "text": []
    },
    {
     "name": "stdout",
     "output_type": "stream",
     "text": [
      "epoch: 69: mean loss:   0.298749\n"
     ]
    },
    {
     "name": "stderr",
     "output_type": "stream",
     "text": [
      " 34%|███▍      | 68/200 [00:04<00:08, 16.44epoch/s]"
     ]
    },
    {
     "name": "stdout",
     "output_type": "stream",
     "text": [
      "INFO - epoch: 70: mean loss:   0.297396\n"
     ]
    },
    {
     "name": "stderr",
     "output_type": "stream",
     "text": []
    },
    {
     "name": "stdout",
     "output_type": "stream",
     "text": [
      "epoch: 70: mean loss:   0.297396\n"
     ]
    },
    {
     "name": "stderr",
     "output_type": "stream",
     "text": [
      " 35%|███▌      | 70/200 [00:04<00:08, 15.85epoch/s]"
     ]
    },
    {
     "name": "stdout",
     "output_type": "stream",
     "text": [
      "INFO - epoch: 71: mean loss:   0.300942\n"
     ]
    },
    {
     "name": "stderr",
     "output_type": "stream",
     "text": []
    },
    {
     "name": "stdout",
     "output_type": "stream",
     "text": [
      "epoch: 71: mean loss:   0.300942\n"
     ]
    },
    {
     "name": "stderr",
     "output_type": "stream",
     "text": [
      " 35%|███▌      | 70/200 [00:04<00:08, 15.85epoch/s]"
     ]
    },
    {
     "name": "stdout",
     "output_type": "stream",
     "text": [
      "INFO - epoch: 72: mean loss:   0.290799\n"
     ]
    },
    {
     "name": "stderr",
     "output_type": "stream",
     "text": []
    },
    {
     "name": "stdout",
     "output_type": "stream",
     "text": [
      "epoch: 72: mean loss:   0.290799\n"
     ]
    },
    {
     "name": "stderr",
     "output_type": "stream",
     "text": [
      " 36%|███▌      | 72/200 [00:04<00:07, 16.87epoch/s]"
     ]
    },
    {
     "name": "stdout",
     "output_type": "stream",
     "text": [
      "INFO - epoch: 73: mean loss:   0.294039\n"
     ]
    },
    {
     "name": "stderr",
     "output_type": "stream",
     "text": []
    },
    {
     "name": "stdout",
     "output_type": "stream",
     "text": [
      "epoch: 73: mean loss:   0.294039\n"
     ]
    },
    {
     "name": "stderr",
     "output_type": "stream",
     "text": [
      " 36%|███▌      | 72/200 [00:05<00:07, 16.87epoch/s]"
     ]
    },
    {
     "name": "stdout",
     "output_type": "stream",
     "text": [
      "INFO - epoch: 74: mean loss:   0.291525\n"
     ]
    },
    {
     "name": "stderr",
     "output_type": "stream",
     "text": []
    },
    {
     "name": "stdout",
     "output_type": "stream",
     "text": [
      "epoch: 74: mean loss:   0.291525\n"
     ]
    },
    {
     "name": "stderr",
     "output_type": "stream",
     "text": [
      " 37%|███▋      | 74/200 [00:05<00:07, 17.30epoch/s]"
     ]
    },
    {
     "name": "stdout",
     "output_type": "stream",
     "text": [
      "INFO - epoch: 75: mean loss:   0.292641\n"
     ]
    },
    {
     "name": "stderr",
     "output_type": "stream",
     "text": []
    },
    {
     "name": "stdout",
     "output_type": "stream",
     "text": [
      "epoch: 75: mean loss:   0.292641\n"
     ]
    },
    {
     "name": "stderr",
     "output_type": "stream",
     "text": [
      " 37%|███▋      | 74/200 [00:05<00:07, 17.30epoch/s]"
     ]
    },
    {
     "name": "stdout",
     "output_type": "stream",
     "text": [
      "INFO - epoch: 76: mean loss:   0.291730\n"
     ]
    },
    {
     "name": "stderr",
     "output_type": "stream",
     "text": []
    },
    {
     "name": "stdout",
     "output_type": "stream",
     "text": [
      "epoch: 76: mean loss:   0.291730\n"
     ]
    },
    {
     "name": "stderr",
     "output_type": "stream",
     "text": [
      " 37%|███▋      | 74/200 [00:05<00:07, 17.30epoch/s]"
     ]
    },
    {
     "name": "stdout",
     "output_type": "stream",
     "text": [
      "INFO - epoch: 77: mean loss:   0.284926\n"
     ]
    },
    {
     "name": "stderr",
     "output_type": "stream",
     "text": []
    },
    {
     "name": "stdout",
     "output_type": "stream",
     "text": [
      "epoch: 77: mean loss:   0.284926\n"
     ]
    },
    {
     "name": "stderr",
     "output_type": "stream",
     "text": [
      " 38%|███▊      | 77/200 [00:05<00:06, 17.98epoch/s]"
     ]
    },
    {
     "name": "stdout",
     "output_type": "stream",
     "text": [
      "INFO - epoch: 78: mean loss:   0.293444\n"
     ]
    },
    {
     "name": "stderr",
     "output_type": "stream",
     "text": []
    },
    {
     "name": "stdout",
     "output_type": "stream",
     "text": [
      "epoch: 78: mean loss:   0.293444\n"
     ]
    },
    {
     "name": "stderr",
     "output_type": "stream",
     "text": [
      " 38%|███▊      | 77/200 [00:05<00:06, 17.98epoch/s]"
     ]
    },
    {
     "name": "stdout",
     "output_type": "stream",
     "text": [
      "INFO - epoch: 79: mean loss:   0.287269\n"
     ]
    },
    {
     "name": "stderr",
     "output_type": "stream",
     "text": []
    },
    {
     "name": "stdout",
     "output_type": "stream",
     "text": [
      "epoch: 79: mean loss:   0.287269\n"
     ]
    },
    {
     "name": "stderr",
     "output_type": "stream",
     "text": [
      " 40%|███▉      | 79/200 [00:05<00:06, 18.06epoch/s]"
     ]
    },
    {
     "name": "stdout",
     "output_type": "stream",
     "text": [
      "INFO - epoch: 80: mean loss:   0.286490\n"
     ]
    },
    {
     "name": "stderr",
     "output_type": "stream",
     "text": []
    },
    {
     "name": "stdout",
     "output_type": "stream",
     "text": [
      "epoch: 80: mean loss:   0.286490\n"
     ]
    },
    {
     "name": "stderr",
     "output_type": "stream",
     "text": [
      " 40%|███▉      | 79/200 [00:05<00:06, 18.06epoch/s]"
     ]
    },
    {
     "name": "stdout",
     "output_type": "stream",
     "text": [
      "INFO - epoch: 81: mean loss:   0.284736\n"
     ]
    },
    {
     "name": "stderr",
     "output_type": "stream",
     "text": []
    },
    {
     "name": "stdout",
     "output_type": "stream",
     "text": [
      "epoch: 81: mean loss:   0.284736\n"
     ]
    },
    {
     "name": "stderr",
     "output_type": "stream",
     "text": [
      " 40%|████      | 81/200 [00:05<00:06, 17.82epoch/s]"
     ]
    },
    {
     "name": "stdout",
     "output_type": "stream",
     "text": [
      "INFO - epoch: 82: mean loss:   0.286769\n"
     ]
    },
    {
     "name": "stderr",
     "output_type": "stream",
     "text": []
    },
    {
     "name": "stdout",
     "output_type": "stream",
     "text": [
      "epoch: 82: mean loss:   0.286769\n"
     ]
    },
    {
     "name": "stderr",
     "output_type": "stream",
     "text": [
      " 40%|████      | 81/200 [00:05<00:06, 17.82epoch/s]"
     ]
    },
    {
     "name": "stdout",
     "output_type": "stream",
     "text": [
      "INFO - epoch: 83: mean loss:   0.276227\n"
     ]
    },
    {
     "name": "stderr",
     "output_type": "stream",
     "text": []
    },
    {
     "name": "stdout",
     "output_type": "stream",
     "text": [
      "epoch: 83: mean loss:   0.276227\n"
     ]
    },
    {
     "name": "stderr",
     "output_type": "stream",
     "text": [
      " 42%|████▏     | 83/200 [00:05<00:06, 17.56epoch/s]"
     ]
    },
    {
     "name": "stdout",
     "output_type": "stream",
     "text": [
      "INFO - epoch: 84: mean loss:   0.278327\n"
     ]
    },
    {
     "name": "stderr",
     "output_type": "stream",
     "text": []
    },
    {
     "name": "stdout",
     "output_type": "stream",
     "text": [
      "epoch: 84: mean loss:   0.278327\n"
     ]
    },
    {
     "name": "stderr",
     "output_type": "stream",
     "text": [
      " 42%|████▏     | 83/200 [00:05<00:06, 17.56epoch/s]"
     ]
    },
    {
     "name": "stdout",
     "output_type": "stream",
     "text": [
      "INFO - epoch: 85: mean loss:   0.278438\n"
     ]
    },
    {
     "name": "stderr",
     "output_type": "stream",
     "text": []
    },
    {
     "name": "stdout",
     "output_type": "stream",
     "text": [
      "epoch: 85: mean loss:   0.278438\n"
     ]
    },
    {
     "name": "stderr",
     "output_type": "stream",
     "text": [
      " 42%|████▎     | 85/200 [00:05<00:06, 18.00epoch/s]"
     ]
    },
    {
     "name": "stdout",
     "output_type": "stream",
     "text": [
      "INFO - epoch: 86: mean loss:   0.279154\n"
     ]
    },
    {
     "name": "stderr",
     "output_type": "stream",
     "text": []
    },
    {
     "name": "stdout",
     "output_type": "stream",
     "text": [
      "epoch: 86: mean loss:   0.279154\n"
     ]
    },
    {
     "name": "stderr",
     "output_type": "stream",
     "text": [
      " 42%|████▎     | 85/200 [00:05<00:06, 18.00epoch/s]"
     ]
    },
    {
     "name": "stdout",
     "output_type": "stream",
     "text": [
      "INFO - epoch: 87: mean loss:   0.282147\n"
     ]
    },
    {
     "name": "stderr",
     "output_type": "stream",
     "text": []
    },
    {
     "name": "stdout",
     "output_type": "stream",
     "text": [
      "epoch: 87: mean loss:   0.282147\n"
     ]
    },
    {
     "name": "stderr",
     "output_type": "stream",
     "text": [
      " 42%|████▎     | 85/200 [00:05<00:06, 18.00epoch/s]"
     ]
    },
    {
     "name": "stdout",
     "output_type": "stream",
     "text": [
      "INFO - epoch: 88: mean loss:   0.276890\n"
     ]
    },
    {
     "name": "stderr",
     "output_type": "stream",
     "text": []
    },
    {
     "name": "stdout",
     "output_type": "stream",
     "text": [
      "epoch: 88: mean loss:   0.276890\n"
     ]
    },
    {
     "name": "stderr",
     "output_type": "stream",
     "text": [
      " 44%|████▍     | 88/200 [00:05<00:05, 18.74epoch/s]"
     ]
    },
    {
     "name": "stdout",
     "output_type": "stream",
     "text": [
      "INFO - epoch: 89: mean loss:   0.277791\n"
     ]
    },
    {
     "name": "stderr",
     "output_type": "stream",
     "text": []
    },
    {
     "name": "stdout",
     "output_type": "stream",
     "text": [
      "epoch: 89: mean loss:   0.277791\n"
     ]
    },
    {
     "name": "stderr",
     "output_type": "stream",
     "text": [
      " 44%|████▍     | 88/200 [00:05<00:05, 18.74epoch/s]"
     ]
    },
    {
     "name": "stdout",
     "output_type": "stream",
     "text": [
      "INFO - epoch: 90: mean loss:   0.267892\n"
     ]
    },
    {
     "name": "stderr",
     "output_type": "stream",
     "text": []
    },
    {
     "name": "stdout",
     "output_type": "stream",
     "text": [
      "epoch: 90: mean loss:   0.267892\n"
     ]
    },
    {
     "name": "stderr",
     "output_type": "stream",
     "text": [
      " 45%|████▌     | 90/200 [00:05<00:06, 17.79epoch/s]"
     ]
    },
    {
     "name": "stdout",
     "output_type": "stream",
     "text": [
      "INFO - epoch: 91: mean loss:   0.274737\n"
     ]
    },
    {
     "name": "stderr",
     "output_type": "stream",
     "text": []
    },
    {
     "name": "stdout",
     "output_type": "stream",
     "text": [
      "epoch: 91: mean loss:   0.274737\n"
     ]
    },
    {
     "name": "stderr",
     "output_type": "stream",
     "text": [
      " 45%|████▌     | 90/200 [00:06<00:06, 17.79epoch/s]"
     ]
    },
    {
     "name": "stdout",
     "output_type": "stream",
     "text": [
      "INFO - epoch: 92: mean loss:   0.272067\n"
     ]
    },
    {
     "name": "stderr",
     "output_type": "stream",
     "text": []
    },
    {
     "name": "stdout",
     "output_type": "stream",
     "text": [
      "epoch: 92: mean loss:   0.272067\n"
     ]
    },
    {
     "name": "stderr",
     "output_type": "stream",
     "text": [
      " 46%|████▌     | 92/200 [00:06<00:06, 17.41epoch/s]"
     ]
    },
    {
     "name": "stdout",
     "output_type": "stream",
     "text": [
      "INFO - epoch: 93: mean loss:   0.277657\n"
     ]
    },
    {
     "name": "stderr",
     "output_type": "stream",
     "text": []
    },
    {
     "name": "stdout",
     "output_type": "stream",
     "text": [
      "epoch: 93: mean loss:   0.277657\n"
     ]
    },
    {
     "name": "stderr",
     "output_type": "stream",
     "text": [
      " 46%|████▌     | 92/200 [00:06<00:06, 17.41epoch/s]"
     ]
    },
    {
     "name": "stdout",
     "output_type": "stream",
     "text": [
      "INFO - epoch: 94: mean loss:   0.271876\n"
     ]
    },
    {
     "name": "stderr",
     "output_type": "stream",
     "text": []
    },
    {
     "name": "stdout",
     "output_type": "stream",
     "text": [
      "epoch: 94: mean loss:   0.271876\n"
     ]
    },
    {
     "name": "stderr",
     "output_type": "stream",
     "text": [
      " 47%|████▋     | 94/200 [00:06<00:05, 17.98epoch/s]"
     ]
    },
    {
     "name": "stdout",
     "output_type": "stream",
     "text": [
      "INFO - epoch: 95: mean loss:   0.269849\n"
     ]
    },
    {
     "name": "stderr",
     "output_type": "stream",
     "text": []
    },
    {
     "name": "stdout",
     "output_type": "stream",
     "text": [
      "epoch: 95: mean loss:   0.269849\n"
     ]
    },
    {
     "name": "stderr",
     "output_type": "stream",
     "text": [
      " 47%|████▋     | 94/200 [00:06<00:05, 17.98epoch/s]"
     ]
    },
    {
     "name": "stdout",
     "output_type": "stream",
     "text": [
      "INFO - epoch: 96: mean loss:   0.273822\n"
     ]
    },
    {
     "name": "stderr",
     "output_type": "stream",
     "text": []
    },
    {
     "name": "stdout",
     "output_type": "stream",
     "text": [
      "epoch: 96: mean loss:   0.273822\n"
     ]
    },
    {
     "name": "stderr",
     "output_type": "stream",
     "text": [
      " 48%|████▊     | 96/200 [00:06<00:05, 18.05epoch/s]"
     ]
    },
    {
     "name": "stdout",
     "output_type": "stream",
     "text": [
      "INFO - epoch: 97: mean loss:   0.273816\n"
     ]
    },
    {
     "name": "stderr",
     "output_type": "stream",
     "text": []
    },
    {
     "name": "stdout",
     "output_type": "stream",
     "text": [
      "epoch: 97: mean loss:   0.273816\n"
     ]
    },
    {
     "name": "stderr",
     "output_type": "stream",
     "text": [
      " 48%|████▊     | 96/200 [00:06<00:05, 18.05epoch/s]"
     ]
    },
    {
     "name": "stdout",
     "output_type": "stream",
     "text": [
      "INFO - epoch: 98: mean loss:   0.266804\n"
     ]
    },
    {
     "name": "stderr",
     "output_type": "stream",
     "text": []
    },
    {
     "name": "stdout",
     "output_type": "stream",
     "text": [
      "epoch: 98: mean loss:   0.266804\n"
     ]
    },
    {
     "name": "stderr",
     "output_type": "stream",
     "text": [
      " 49%|████▉     | 98/200 [00:06<00:05, 18.25epoch/s]"
     ]
    },
    {
     "name": "stdout",
     "output_type": "stream",
     "text": [
      "INFO - epoch: 99: mean loss:   0.266361\n"
     ]
    },
    {
     "name": "stderr",
     "output_type": "stream",
     "text": []
    },
    {
     "name": "stdout",
     "output_type": "stream",
     "text": [
      "epoch: 99: mean loss:   0.266361\n"
     ]
    },
    {
     "name": "stderr",
     "output_type": "stream",
     "text": [
      " 49%|████▉     | 98/200 [00:06<00:05, 18.25epoch/s]"
     ]
    },
    {
     "name": "stdout",
     "output_type": "stream",
     "text": [
      "INFO - epoch: 100: mean loss:   0.263146\n"
     ]
    },
    {
     "name": "stderr",
     "output_type": "stream",
     "text": []
    },
    {
     "name": "stdout",
     "output_type": "stream",
     "text": [
      "epoch: 100: mean loss:   0.263146\n"
     ]
    },
    {
     "name": "stderr",
     "output_type": "stream",
     "text": [
      " 49%|████▉     | 98/200 [00:06<00:05, 18.25epoch/s]"
     ]
    },
    {
     "name": "stdout",
     "output_type": "stream",
     "text": [
      "INFO - Current best:0.8686868686868687\n",
      "INFO - Current:0.8686868686868687\n"
     ]
    },
    {
     "name": "stderr",
     "output_type": "stream",
     "text": [
      " 50%|█████     | 100/200 [00:06<00:09, 10.33epoch/s]"
     ]
    },
    {
     "name": "stdout",
     "output_type": "stream",
     "text": [
      "INFO - epoch: 101: mean loss:   0.265481\n"
     ]
    },
    {
     "name": "stderr",
     "output_type": "stream",
     "text": []
    },
    {
     "name": "stdout",
     "output_type": "stream",
     "text": [
      "epoch: 101: mean loss:   0.265481\n"
     ]
    },
    {
     "name": "stderr",
     "output_type": "stream",
     "text": [
      " 50%|█████     | 100/200 [00:06<00:09, 10.33epoch/s]"
     ]
    },
    {
     "name": "stdout",
     "output_type": "stream",
     "text": [
      "INFO - epoch: 102: mean loss:   0.259716\n"
     ]
    },
    {
     "name": "stderr",
     "output_type": "stream",
     "text": []
    },
    {
     "name": "stdout",
     "output_type": "stream",
     "text": [
      "epoch: 102: mean loss:   0.259716\n"
     ]
    },
    {
     "name": "stderr",
     "output_type": "stream",
     "text": [
      " 51%|█████     | 102/200 [00:06<00:08, 11.27epoch/s]"
     ]
    },
    {
     "name": "stdout",
     "output_type": "stream",
     "text": [
      "INFO - epoch: 103: mean loss:   0.264763\n"
     ]
    },
    {
     "name": "stderr",
     "output_type": "stream",
     "text": []
    },
    {
     "name": "stdout",
     "output_type": "stream",
     "text": [
      "epoch: 103: mean loss:   0.264763\n"
     ]
    },
    {
     "name": "stderr",
     "output_type": "stream",
     "text": [
      " 51%|█████     | 102/200 [00:07<00:08, 11.27epoch/s]"
     ]
    },
    {
     "name": "stdout",
     "output_type": "stream",
     "text": [
      "INFO - epoch: 104: mean loss:   0.269795\n"
     ]
    },
    {
     "name": "stderr",
     "output_type": "stream",
     "text": []
    },
    {
     "name": "stdout",
     "output_type": "stream",
     "text": [
      "epoch: 104: mean loss:   0.269795\n"
     ]
    },
    {
     "name": "stderr",
     "output_type": "stream",
     "text": [
      " 52%|█████▏    | 104/200 [00:07<00:07, 12.13epoch/s]"
     ]
    },
    {
     "name": "stdout",
     "output_type": "stream",
     "text": [
      "INFO - epoch: 105: mean loss:   0.263350\n"
     ]
    },
    {
     "name": "stderr",
     "output_type": "stream",
     "text": []
    },
    {
     "name": "stdout",
     "output_type": "stream",
     "text": [
      "epoch: 105: mean loss:   0.263350\n"
     ]
    },
    {
     "name": "stderr",
     "output_type": "stream",
     "text": [
      " 52%|█████▏    | 104/200 [00:07<00:07, 12.13epoch/s]"
     ]
    },
    {
     "name": "stdout",
     "output_type": "stream",
     "text": [
      "INFO - Current best:0.898989898989899\n",
      "INFO - Current:0.898989898989899\n",
      "INFO - epoch: 106: mean loss:   0.264029\n"
     ]
    },
    {
     "name": "stderr",
     "output_type": "stream",
     "text": []
    },
    {
     "name": "stdout",
     "output_type": "stream",
     "text": [
      "epoch: 106: mean loss:   0.264029\n"
     ]
    },
    {
     "name": "stderr",
     "output_type": "stream",
     "text": [
      " 53%|█████▎    | 106/200 [00:07<00:08, 10.85epoch/s]"
     ]
    },
    {
     "name": "stdout",
     "output_type": "stream",
     "text": [
      "INFO - epoch: 107: mean loss:   0.262157\n"
     ]
    },
    {
     "name": "stderr",
     "output_type": "stream",
     "text": []
    },
    {
     "name": "stdout",
     "output_type": "stream",
     "text": [
      "epoch: 107: mean loss:   0.262157\n"
     ]
    },
    {
     "name": "stderr",
     "output_type": "stream",
     "text": [
      " 53%|█████▎    | 106/200 [00:07<00:08, 10.85epoch/s]"
     ]
    },
    {
     "name": "stdout",
     "output_type": "stream",
     "text": [
      "INFO - epoch: 108: mean loss:   0.256894\n"
     ]
    },
    {
     "name": "stderr",
     "output_type": "stream",
     "text": []
    },
    {
     "name": "stdout",
     "output_type": "stream",
     "text": [
      "epoch: 108: mean loss:   0.256894\n"
     ]
    },
    {
     "name": "stderr",
     "output_type": "stream",
     "text": [
      " 54%|█████▍    | 108/200 [00:07<00:07, 11.68epoch/s]"
     ]
    },
    {
     "name": "stdout",
     "output_type": "stream",
     "text": [
      "INFO - epoch: 109: mean loss:   0.260459\n"
     ]
    },
    {
     "name": "stderr",
     "output_type": "stream",
     "text": []
    },
    {
     "name": "stdout",
     "output_type": "stream",
     "text": [
      "epoch: 109: mean loss:   0.260459\n"
     ]
    },
    {
     "name": "stderr",
     "output_type": "stream",
     "text": [
      " 54%|█████▍    | 108/200 [00:07<00:07, 11.68epoch/s]"
     ]
    },
    {
     "name": "stdout",
     "output_type": "stream",
     "text": [
      "INFO - epoch: 110: mean loss:   0.261770\n"
     ]
    },
    {
     "name": "stderr",
     "output_type": "stream",
     "text": []
    },
    {
     "name": "stdout",
     "output_type": "stream",
     "text": [
      "epoch: 110: mean loss:   0.261770\n"
     ]
    },
    {
     "name": "stderr",
     "output_type": "stream",
     "text": [
      " 54%|█████▍    | 108/200 [00:07<00:07, 11.68epoch/s]"
     ]
    },
    {
     "name": "stdout",
     "output_type": "stream",
     "text": [
      "INFO - Current best:0.898989898989899\n",
      "INFO - Current:0.898989898989899\n"
     ]
    },
    {
     "name": "stderr",
     "output_type": "stream",
     "text": [
      " 55%|█████▌    | 110/200 [00:07<00:08, 11.11epoch/s]"
     ]
    },
    {
     "name": "stdout",
     "output_type": "stream",
     "text": [
      "INFO - epoch: 111: mean loss:   0.261764\n"
     ]
    },
    {
     "name": "stderr",
     "output_type": "stream",
     "text": []
    },
    {
     "name": "stdout",
     "output_type": "stream",
     "text": [
      "epoch: 111: mean loss:   0.261764\n"
     ]
    },
    {
     "name": "stderr",
     "output_type": "stream",
     "text": [
      " 55%|█████▌    | 110/200 [00:07<00:08, 11.11epoch/s]"
     ]
    },
    {
     "name": "stdout",
     "output_type": "stream",
     "text": [
      "INFO - epoch: 112: mean loss:   0.254378\n"
     ]
    },
    {
     "name": "stderr",
     "output_type": "stream",
     "text": []
    },
    {
     "name": "stdout",
     "output_type": "stream",
     "text": [
      "epoch: 112: mean loss:   0.254378\n"
     ]
    },
    {
     "name": "stderr",
     "output_type": "stream",
     "text": [
      " 56%|█████▌    | 112/200 [00:07<00:06, 12.78epoch/s]"
     ]
    },
    {
     "name": "stdout",
     "output_type": "stream",
     "text": [
      "INFO - epoch: 113: mean loss:   0.258638\n"
     ]
    },
    {
     "name": "stderr",
     "output_type": "stream",
     "text": []
    },
    {
     "name": "stdout",
     "output_type": "stream",
     "text": [
      "epoch: 113: mean loss:   0.258638\n"
     ]
    },
    {
     "name": "stderr",
     "output_type": "stream",
     "text": [
      " 56%|█████▌    | 112/200 [00:07<00:06, 12.78epoch/s]"
     ]
    },
    {
     "name": "stdout",
     "output_type": "stream",
     "text": [
      "INFO - epoch: 114: mean loss:   0.258996\n"
     ]
    },
    {
     "name": "stderr",
     "output_type": "stream",
     "text": []
    },
    {
     "name": "stdout",
     "output_type": "stream",
     "text": [
      "epoch: 114: mean loss:   0.258996\n"
     ]
    },
    {
     "name": "stderr",
     "output_type": "stream",
     "text": [
      " 57%|█████▋    | 114/200 [00:07<00:06, 14.31epoch/s]"
     ]
    },
    {
     "name": "stdout",
     "output_type": "stream",
     "text": [
      "INFO - epoch: 115: mean loss:   0.256606\n"
     ]
    },
    {
     "name": "stderr",
     "output_type": "stream",
     "text": []
    },
    {
     "name": "stdout",
     "output_type": "stream",
     "text": [
      "epoch: 115: mean loss:   0.256606\n"
     ]
    },
    {
     "name": "stderr",
     "output_type": "stream",
     "text": [
      " 57%|█████▋    | 114/200 [00:07<00:06, 14.31epoch/s]"
     ]
    },
    {
     "name": "stdout",
     "output_type": "stream",
     "text": [
      "INFO - Current best:0.898989898989899\n",
      "INFO - Current:0.8888888888888888\n",
      "INFO - epoch: 116: mean loss:   0.260884\n"
     ]
    },
    {
     "name": "stderr",
     "output_type": "stream",
     "text": []
    },
    {
     "name": "stdout",
     "output_type": "stream",
     "text": [
      "epoch: 116: mean loss:   0.260884\n"
     ]
    },
    {
     "name": "stderr",
     "output_type": "stream",
     "text": [
      " 58%|█████▊    | 116/200 [00:08<00:06, 12.88epoch/s]"
     ]
    },
    {
     "name": "stdout",
     "output_type": "stream",
     "text": [
      "INFO - epoch: 117: mean loss:   0.253167\n"
     ]
    },
    {
     "name": "stderr",
     "output_type": "stream",
     "text": []
    },
    {
     "name": "stdout",
     "output_type": "stream",
     "text": [
      "epoch: 117: mean loss:   0.253167\n"
     ]
    },
    {
     "name": "stderr",
     "output_type": "stream",
     "text": [
      " 58%|█████▊    | 116/200 [00:08<00:06, 12.88epoch/s]"
     ]
    },
    {
     "name": "stdout",
     "output_type": "stream",
     "text": [
      "INFO - epoch: 118: mean loss:   0.254852\n"
     ]
    },
    {
     "name": "stderr",
     "output_type": "stream",
     "text": []
    },
    {
     "name": "stdout",
     "output_type": "stream",
     "text": [
      "epoch: 118: mean loss:   0.254852\n"
     ]
    },
    {
     "name": "stderr",
     "output_type": "stream",
     "text": [
      " 59%|█████▉    | 118/200 [00:08<00:05, 14.08epoch/s]"
     ]
    },
    {
     "name": "stdout",
     "output_type": "stream",
     "text": [
      "INFO - epoch: 119: mean loss:   0.253626\n"
     ]
    },
    {
     "name": "stderr",
     "output_type": "stream",
     "text": []
    },
    {
     "name": "stdout",
     "output_type": "stream",
     "text": [
      "epoch: 119: mean loss:   0.253626\n"
     ]
    },
    {
     "name": "stderr",
     "output_type": "stream",
     "text": [
      " 59%|█████▉    | 118/200 [00:08<00:05, 14.08epoch/s]"
     ]
    },
    {
     "name": "stdout",
     "output_type": "stream",
     "text": [
      "INFO - epoch: 120: mean loss:   0.252801\n"
     ]
    },
    {
     "name": "stderr",
     "output_type": "stream",
     "text": []
    },
    {
     "name": "stdout",
     "output_type": "stream",
     "text": [
      "epoch: 120: mean loss:   0.252801\n"
     ]
    },
    {
     "name": "stderr",
     "output_type": "stream",
     "text": [
      " 59%|█████▉    | 118/200 [00:08<00:05, 14.08epoch/s]"
     ]
    },
    {
     "name": "stdout",
     "output_type": "stream",
     "text": [
      "INFO - Early stopping at epoch:120\n",
      "INFO - Best hits10:   0.898990\n"
     ]
    },
    {
     "name": "stderr",
     "output_type": "stream",
     "text": [
      "\n"
     ]
    }
   ],
   "source": [
    "# Fit the model on training and validation set\n",
    "model.fit(data['train'], \n",
    "          early_stopping = True,\n",
    "          early_stopping_params = early_stopping_params\n",
    "         )\n"
   ]
  },
  {
   "cell_type": "markdown",
   "metadata": {},
   "source": [
    "---\n",
    "# 4. Model selection and hyper-parameter search \n",
    "\n",
    "The AmpliGraph team has run extensive hyperparameter searches to determine the best default values for each model on a range of datasets, but as there is [no free lunch](https://en.wikipedia.org/wiki/No_free_lunch_theorem), in most specific cases you'll want to search for the best parameters for your model. Let's cover how to do that in AmpliGraph. \n",
    "\n",
    "To begin, import the `select_best_model_ranking` function. \n"
   ]
  },
  {
   "cell_type": "code",
   "execution_count": 23,
   "metadata": {},
   "outputs": [],
   "source": [
    "from ampligraph.evaluation import select_best_model_ranking"
   ]
  },
  {
   "cell_type": "markdown",
   "metadata": {},
   "source": [
    "This function only supports selection over a single model class - easily extended in a simple list of classes - but for now let's just continue to work with the **`ComplEx`** model. "
   ]
  },
  {
   "cell_type": "code",
   "execution_count": 24,
   "metadata": {},
   "outputs": [],
   "source": [
    "from ampligraph.latent_features import ComplEx\n",
    "\n",
    "model_class = ComplEx"
   ]
  },
  {
   "cell_type": "markdown",
   "metadata": {},
   "source": [
    "## Parameter grid\n",
    "\n",
    "This function runs a grid search over defined parameters, so let's define our parameters in the **`param_grid`** dict. \n",
    "\n",
    "All of the parameters here have already been discussed in Section 3 (Training a model), the only difference is that here we provide a list of possible values to search over. Don't worry that some of the parameters only apply to certain classes or loss functions - we take care of mapping the params to the corresponding classes. \n",
    "\n"
   ]
  },
  {
   "cell_type": "code",
   "execution_count": 33,
   "metadata": {},
   "outputs": [],
   "source": [
    "param_grid = {\n",
    "    \"batches_count\": [10],\n",
    "    \"seed\": 0,\n",
    "    \"epochs\": [100],\n",
    "    \"k\": [10, 20],\n",
    "    \"eta\": [5,10],\n",
    "    \"loss\": [\"pairwise\", \"nll\"],\n",
    "    \"loss_params\": {\n",
    "        \"margin\": [0.5] \n",
    "    },\n",
    "    \"embedding_model_params\": {\n",
    "        # generate corruption using all entities during training\n",
    "        \"negative_corruption_entities\":\"all\"\n",
    "    },\n",
    "    \"regularizer\": [None, \"LP\"],\n",
    "        \"regularizer_params\": {\n",
    "        \"p\": [2],\n",
    "        \"lambda\": [1e-4, 1e-5]\n",
    "    },\n",
    "    \"optimizer\": [\"adam\"],\n",
    "    \"optimizer_params\":{\n",
    "        \"lr\": [0.01, 0.001]\n",
    "    },\n",
    "    # \n",
    "    \"verbose\": False\n",
    "}\n"
   ]
  },
  {
   "cell_type": "markdown",
   "metadata": {},
   "source": [
    "## Select best model\n",
    "\n",
    "Now that we've defined the parameters to search, let's run the `select_best_model_ranking` function using our **`model_class`**. \n",
    "\n",
    "The input parameters for this function are: \n",
    "\n",
    "- **`model_class`** - the class of the model to use - defined above.\n",
    "- **`X`** - a dictionary of datasets: `train`, `test`, and `valid`. \n",
    "- **`params_grid`** - the grid of hyperparameters to search - defined above.\n",
    "- **`use_filter`** - a bool indicating whether to use the entire input dataset X to compute filtered MRR. \n",
    "- **`early_stopping`** - a bool indicating whether to use early stopping - we won't use that here. \n",
    "- **`early_stopping_params`** - early stopping parameters - already covered above. \n",
    "- **`use_test_for_selection `** - use test set for model selection (false uses validation set)\n",
    "- **`rank_against_ent `** - list of entities to use for corruptions. The default (None) will generate corruptions using all distinct entities.  \n",
    "- **`corrupt_side `** - which side of the triples to corrupt entities. **`'s'`** corrupts only subject, **`'o'`** corrupts only object, **`'s+o'`** corrupts both. \n",
    "- **`use_default_protocol `** - a bool indicating whether to evaluate head and tail corruptions separately. If True, will  ignore the `corrupt_side` argument and corrupt head and tail separately. \n",
    "- **`verbose`** - use verbose mode during evaluation of trained model.\n",
    "\n",
    "Running the next cell may take a while, so you might want to go and grab a coffee "
   ]
  },
  {
   "cell_type": "code",
   "execution_count": 32,
   "metadata": {},
   "outputs": [
    {
     "name": "stdout",
     "output_type": "stream",
     "text": [
      "2728.374463558197\n"
     ]
    }
   ],
   "source": []
  },
  {
   "cell_type": "code",
   "execution_count": 34,
   "metadata": {},
   "outputs": [
    {
     "name": "stdout",
     "output_type": "stream",
     "text": [
      "['s+o']\n",
      "INFO - Returning ranks of positive test triples obtained by corrupting s+o.\n",
      "['s+o']\n",
      "INFO - Returning ranks of positive test triples obtained by corrupting s+o.\n",
      "['s+o']\n",
      "INFO - Returning ranks of positive test triples obtained by corrupting s+o.\n",
      "['s+o']\n",
      "INFO - Returning ranks of positive test triples obtained by corrupting s+o.\n",
      "['s+o']\n",
      "INFO - Returning ranks of positive test triples obtained by corrupting s+o.\n",
      "['s+o']\n",
      "INFO - Returning ranks of positive test triples obtained by corrupting s+o.\n",
      "['s+o']\n",
      "INFO - Returning ranks of positive test triples obtained by corrupting s+o.\n",
      "['s+o']\n",
      "INFO - Returning ranks of positive test triples obtained by corrupting s+o.\n",
      "['s+o']\n",
      "INFO - Returning ranks of positive test triples obtained by corrupting s+o.\n",
      "['s+o']\n",
      "INFO - Returning ranks of positive test triples obtained by corrupting s+o.\n",
      "['s+o']\n",
      "INFO - Returning ranks of positive test triples obtained by corrupting s+o.\n",
      "['s+o']\n",
      "INFO - Returning ranks of positive test triples obtained by corrupting s+o.\n",
      "['s+o']\n",
      "INFO - Returning ranks of positive test triples obtained by corrupting s+o.\n",
      "['s+o']\n",
      "INFO - Returning ranks of positive test triples obtained by corrupting s+o.\n",
      "['s+o']\n",
      "INFO - Returning ranks of positive test triples obtained by corrupting s+o.\n",
      "['s+o']\n",
      "INFO - Returning ranks of positive test triples obtained by corrupting s+o.\n",
      "['s+o']\n",
      "INFO - Returning ranks of positive test triples obtained by corrupting s+o.\n",
      "['s+o']\n",
      "INFO - Returning ranks of positive test triples obtained by corrupting s+o.\n",
      "['s+o']\n",
      "INFO - Returning ranks of positive test triples obtained by corrupting s+o.\n",
      "['s+o']\n",
      "INFO - Returning ranks of positive test triples obtained by corrupting s+o.\n",
      "['s+o']\n",
      "INFO - Returning ranks of positive test triples obtained by corrupting s+o.\n",
      "['s+o']\n",
      "INFO - Returning ranks of positive test triples obtained by corrupting s+o.\n",
      "['s+o']\n",
      "INFO - Returning ranks of positive test triples obtained by corrupting s+o.\n",
      "['s+o']\n",
      "INFO - Returning ranks of positive test triples obtained by corrupting s+o.\n",
      "['s+o']\n",
      "INFO - Returning ranks of positive test triples obtained by corrupting s+o.\n",
      "['s+o']\n",
      "INFO - Returning ranks of positive test triples obtained by corrupting s+o.\n",
      "['s+o']\n",
      "INFO - Returning ranks of positive test triples obtained by corrupting s+o.\n",
      "['s+o']\n",
      "INFO - Returning ranks of positive test triples obtained by corrupting s+o.\n",
      "['s+o']\n",
      "INFO - Returning ranks of positive test triples obtained by corrupting s+o.\n",
      "['s+o']\n",
      "INFO - Returning ranks of positive test triples obtained by corrupting s+o.\n",
      "['s+o']\n",
      "INFO - Returning ranks of positive test triples obtained by corrupting s+o.\n",
      "['s+o']\n",
      "INFO - Returning ranks of positive test triples obtained by corrupting s+o.\n",
      "['s+o']\n",
      "INFO - Returning ranks of positive test triples obtained by corrupting s+o.\n",
      "['s+o']\n",
      "INFO - Returning ranks of positive test triples obtained by corrupting s+o.\n",
      "['s+o']\n",
      "INFO - Returning ranks of positive test triples obtained by corrupting s+o.\n",
      "['s+o']\n",
      "INFO - Returning ranks of positive test triples obtained by corrupting s+o.\n",
      "['s+o']\n",
      "INFO - Returning ranks of positive test triples obtained by corrupting s+o.\n",
      "['s+o']\n",
      "INFO - Returning ranks of positive test triples obtained by corrupting s+o.\n",
      "['s+o']\n",
      "INFO - Returning ranks of positive test triples obtained by corrupting s+o.\n",
      "['s+o']\n",
      "INFO - Returning ranks of positive test triples obtained by corrupting s+o.\n",
      "['s+o']\n",
      "INFO - Returning ranks of positive test triples obtained by corrupting s+o.\n",
      "['s+o']\n",
      "INFO - Returning ranks of positive test triples obtained by corrupting s+o.\n",
      "['s+o']\n",
      "INFO - Returning ranks of positive test triples obtained by corrupting s+o.\n",
      "['s+o']\n",
      "INFO - Returning ranks of positive test triples obtained by corrupting s+o.\n",
      "['s+o']\n",
      "INFO - Returning ranks of positive test triples obtained by corrupting s+o.\n",
      "['s+o']\n",
      "INFO - Returning ranks of positive test triples obtained by corrupting s+o.\n",
      "['s+o']\n",
      "INFO - Returning ranks of positive test triples obtained by corrupting s+o.\n",
      "['s+o']\n",
      "INFO - Returning ranks of positive test triples obtained by corrupting s+o.\n",
      "['s+o']\n",
      "INFO - Returning ranks of positive test triples obtained by corrupting s+o.\n",
      "['s+o']\n",
      "INFO - Returning ranks of positive test triples obtained by corrupting s+o.\n",
      "['s+o']\n",
      "INFO - Returning ranks of positive test triples obtained by corrupting s+o.\n",
      "['s+o']\n",
      "INFO - Returning ranks of positive test triples obtained by corrupting s+o.\n",
      "['s+o']\n",
      "INFO - Returning ranks of positive test triples obtained by corrupting s+o.\n",
      "['s+o']\n",
      "INFO - Returning ranks of positive test triples obtained by corrupting s+o.\n",
      "['s+o']\n",
      "INFO - Returning ranks of positive test triples obtained by corrupting s+o.\n",
      "['s+o']\n",
      "INFO - Returning ranks of positive test triples obtained by corrupting s+o.\n",
      "['s+o']\n",
      "INFO - Returning ranks of positive test triples obtained by corrupting s+o.\n",
      "['s+o']\n",
      "INFO - Returning ranks of positive test triples obtained by corrupting s+o.\n",
      "['s+o']\n",
      "INFO - Returning ranks of positive test triples obtained by corrupting s+o.\n",
      "['s+o']\n",
      "INFO - Returning ranks of positive test triples obtained by corrupting s+o.\n",
      "['s+o']\n",
      "INFO - Returning ranks of positive test triples obtained by corrupting s+o.\n",
      "['s+o']\n",
      "INFO - Returning ranks of positive test triples obtained by corrupting s+o.\n",
      "['s+o']\n",
      "INFO - Returning ranks of positive test triples obtained by corrupting s+o.\n",
      "['s+o']\n",
      "INFO - Returning ranks of positive test triples obtained by corrupting s+o.\n",
      "['s+o']\n",
      "INFO - Returning ranks of positive test triples obtained by corrupting s+o.\n",
      "['s+o']\n",
      "INFO - Returning ranks of positive test triples obtained by corrupting s+o.\n",
      "['s+o']\n",
      "INFO - Returning ranks of positive test triples obtained by corrupting s+o.\n",
      "['s+o']\n",
      "INFO - Returning ranks of positive test triples obtained by corrupting s+o.\n",
      "['s+o']\n",
      "INFO - Returning ranks of positive test triples obtained by corrupting s+o.\n",
      "['s+o']\n",
      "INFO - Returning ranks of positive test triples obtained by corrupting s+o.\n",
      "['s+o']\n",
      "INFO - Returning ranks of positive test triples obtained by corrupting s+o.\n",
      "['s+o']\n",
      "INFO - Returning ranks of positive test triples obtained by corrupting s+o.\n",
      "['s+o']\n",
      "INFO - Returning ranks of positive test triples obtained by corrupting s+o.\n",
      "['s+o']\n",
      "INFO - Returning ranks of positive test triples obtained by corrupting s+o.\n",
      "['s+o']\n",
      "INFO - Returning ranks of positive test triples obtained by corrupting s+o.\n",
      "['s+o']\n",
      "INFO - Returning ranks of positive test triples obtained by corrupting s+o.\n",
      "['s+o']\n",
      "INFO - Returning ranks of positive test triples obtained by corrupting s+o.\n",
      "['s+o']\n",
      "INFO - Returning ranks of positive test triples obtained by corrupting s+o.\n",
      "['s+o']\n",
      "INFO - Returning ranks of positive test triples obtained by corrupting s+o.\n",
      "['s+o']\n",
      "INFO - Returning ranks of positive test triples obtained by corrupting s+o.\n",
      "['s+o']\n",
      "INFO - Returning ranks of positive test triples obtained by corrupting s+o.\n",
      "['s+o']\n",
      "INFO - Returning ranks of positive test triples obtained by corrupting s+o.\n",
      "['s+o']\n",
      "INFO - Returning ranks of positive test triples obtained by corrupting s+o.\n",
      "['s+o']\n",
      "INFO - Returning ranks of positive test triples obtained by corrupting s+o.\n",
      "['s+o']\n",
      "INFO - Returning ranks of positive test triples obtained by corrupting s+o.\n",
      "['s+o']\n",
      "INFO - Returning ranks of positive test triples obtained by corrupting s+o.\n",
      "['s+o']\n",
      "INFO - Returning ranks of positive test triples obtained by corrupting s+o.\n",
      "['s+o']\n",
      "INFO - Returning ranks of positive test triples obtained by corrupting s+o.\n",
      "['s+o']\n",
      "INFO - Returning ranks of positive test triples obtained by corrupting s+o.\n",
      "['s+o']\n",
      "INFO - Returning ranks of positive test triples obtained by corrupting s+o.\n",
      "['s+o']\n",
      "INFO - Returning ranks of positive test triples obtained by corrupting s+o.\n",
      "['s+o']\n",
      "INFO - Returning ranks of positive test triples obtained by corrupting s+o.\n",
      "['s+o']\n",
      "INFO - Returning ranks of positive test triples obtained by corrupting s+o.\n",
      "['s+o']\n",
      "INFO - Returning ranks of positive test triples obtained by corrupting s+o.\n",
      "['s+o']\n",
      "INFO - Returning ranks of positive test triples obtained by corrupting s+o.\n",
      "['s+o']\n",
      "INFO - Returning ranks of positive test triples obtained by corrupting s+o.\n",
      "['s+o']\n",
      "INFO - Returning ranks of positive test triples obtained by corrupting s+o.\n",
      "['s+o']\n",
      "INFO - Returning ranks of positive test triples obtained by corrupting s+o.\n",
      "['s+o']\n",
      "INFO - Returning ranks of positive test triples obtained by corrupting s+o.\n",
      "['s+o']\n",
      "INFO - Returning ranks of positive test triples obtained by corrupting s+o.\n",
      "['s+o']\n",
      "INFO - Returning ranks of positive test triples obtained by corrupting s+o.\n",
      "['s+o']\n",
      "INFO - Returning ranks of positive test triples obtained by corrupting s+o.\n",
      "['s+o']\n",
      "INFO - Returning ranks of positive test triples obtained by corrupting s+o.\n",
      "['s+o']\n",
      "INFO - Returning ranks of positive test triples obtained by corrupting s+o.\n",
      "['s+o']\n",
      "INFO - Returning ranks of positive test triples obtained by corrupting s+o.\n",
      "['s+o']\n",
      "INFO - Returning ranks of positive test triples obtained by corrupting s+o.\n",
      "['s+o']\n",
      "INFO - Returning ranks of positive test triples obtained by corrupting s+o.\n",
      "['s+o']\n",
      "INFO - Returning ranks of positive test triples obtained by corrupting s+o.\n",
      "['s+o']\n",
      "INFO - Returning ranks of positive test triples obtained by corrupting s+o.\n",
      "['s+o']\n",
      "INFO - Returning ranks of positive test triples obtained by corrupting s+o.\n",
      "['s+o']\n",
      "INFO - Returning ranks of positive test triples obtained by corrupting s+o.\n",
      "['s+o']\n",
      "INFO - Returning ranks of positive test triples obtained by corrupting s+o.\n",
      "['s+o']\n",
      "INFO - Returning ranks of positive test triples obtained by corrupting s+o.\n",
      "['s+o']\n",
      "INFO - Returning ranks of positive test triples obtained by corrupting s+o.\n",
      "['s+o']\n",
      "INFO - Returning ranks of positive test triples obtained by corrupting s+o.\n",
      "['s+o']\n",
      "INFO - Returning ranks of positive test triples obtained by corrupting s+o.\n",
      "['s+o']\n",
      "INFO - Returning ranks of positive test triples obtained by corrupting s+o.\n",
      "['s+o']\n",
      "INFO - Returning ranks of positive test triples obtained by corrupting s+o.\n",
      "['s+o']\n",
      "INFO - Returning ranks of positive test triples obtained by corrupting s+o.\n",
      "['s+o']\n",
      "INFO - Returning ranks of positive test triples obtained by corrupting s+o.\n",
      "['s+o']\n",
      "INFO - Returning ranks of positive test triples obtained by corrupting s+o.\n",
      "['s+o']\n",
      "INFO - Returning ranks of positive test triples obtained by corrupting s+o.\n",
      "['s+o']\n",
      "INFO - Returning ranks of positive test triples obtained by corrupting s+o.\n",
      "['s+o']\n",
      "INFO - Returning ranks of positive test triples obtained by corrupting s+o.\n",
      "['s+o']\n",
      "INFO - Returning ranks of positive test triples obtained by corrupting s+o.\n",
      "['s+o']\n",
      "INFO - Returning ranks of positive test triples obtained by corrupting s+o.\n",
      "['s+o']\n",
      "INFO - Returning ranks of positive test triples obtained by corrupting s+o.\n",
      "['s+o']\n",
      "INFO - Returning ranks of positive test triples obtained by corrupting s+o.\n",
      "['s+o']\n",
      "INFO - Returning ranks of positive test triples obtained by corrupting s+o.\n",
      "['s+o']\n",
      "INFO - Returning ranks of positive test triples obtained by corrupting s+o.\n",
      "['s+o']\n",
      "INFO - Returning ranks of positive test triples obtained by corrupting s+o.\n",
      "['s+o']\n",
      "INFO - Returning ranks of positive test triples obtained by corrupting s+o.\n",
      "['s+o']\n",
      "INFO - Returning ranks of positive test triples obtained by corrupting s+o.\n",
      "['s+o']\n",
      "INFO - Returning ranks of positive test triples obtained by corrupting s+o.\n",
      "['s+o']\n",
      "INFO - Returning ranks of positive test triples obtained by corrupting s+o.\n",
      "['s+o']\n",
      "INFO - Returning ranks of positive test triples obtained by corrupting s+o.\n",
      "['s+o']\n",
      "INFO - Returning ranks of positive test triples obtained by corrupting s+o.\n",
      "['s+o']\n",
      "INFO - Returning ranks of positive test triples obtained by corrupting s+o.\n",
      "['s+o']\n",
      "INFO - Returning ranks of positive test triples obtained by corrupting s+o.\n",
      "['s+o']\n",
      "INFO - Returning ranks of positive test triples obtained by corrupting s+o.\n",
      "['s+o']\n",
      "INFO - Returning ranks of positive test triples obtained by corrupting s+o.\n",
      "['s+o']\n",
      "INFO - Returning ranks of positive test triples obtained by corrupting s+o.\n",
      "['s+o']\n",
      "INFO - Returning ranks of positive test triples obtained by corrupting s+o.\n",
      "['s+o']\n",
      "INFO - Returning ranks of positive test triples obtained by corrupting s+o.\n",
      "['s+o']\n",
      "INFO - Returning ranks of positive test triples obtained by corrupting s+o.\n"
     ]
    }
   ],
   "source": [
    "import time\n",
    "\n",
    "start = time.time()\n",
    "\n",
    "best_model, best_params, best_mrr_train, ranks_test, mrr_test = select_best_model_ranking(model_class,\n",
    "                                                                                          X=data, \n",
    "                                                                                          param_grid=param_grid, \n",
    "                                                                                          use_filter=True,\n",
    "                                                                                          use_default_protocol=True, \n",
    "                                                                                          verbose=False)\n",
    "end = time.time()"
   ]
  },
  {
   "cell_type": "markdown",
   "metadata": {},
   "source": [
    "Now let's take a look at the output of `select_best_model_ranking`:\n",
    "\n",
    "- **`best_model`** - an instance of the best model found in the search. \n",
    "- **`best_params`** - a dict of the hyperparameters of the best model \n",
    "- **`best_mrr_train`** - the MRR (unfiltered) of the **`best_model`** computed over the validation set \n",
    "- **`ranks_test`** - the ranks of each triple in the test set for the **`best_model`**\n",
    "- **`mrr_test`**  - the MRR (filtered) of the **`best_model`**, re-trained on the concatenation of train and valid datasets, computed on the test set. \n"
   ]
  },
  {
   "cell_type": "code",
   "execution_count": null,
   "metadata": {},
   "outputs": [],
   "source": []
  },
  {
   "cell_type": "markdown",
   "metadata": {},
   "source": [
    "---\n",
    "# 5.  Saving and restoring a model\n",
    "\n",
    "Before we go any further, let's save the best model found so that we can restore it in future."
   ]
  },
  {
   "cell_type": "code",
   "execution_count": 98,
   "metadata": {},
   "outputs": [],
   "source": [
    "from ampligraph.latent_features import save_model, restore_model"
   ]
  },
  {
   "cell_type": "markdown",
   "metadata": {},
   "source": [
    "This will save the model in the ampligraph_tutorial directory as *model.pickle*."
   ]
  },
  {
   "cell_type": "code",
   "execution_count": 88,
   "metadata": {},
   "outputs": [],
   "source": [
    "save_model(model, './best_model.pkl')"
   ]
  },
  {
   "cell_type": "markdown",
   "metadata": {},
   "source": [
    ".. we can then delete the model .. "
   ]
  },
  {
   "cell_type": "code",
   "execution_count": 89,
   "metadata": {},
   "outputs": [],
   "source": [
    "del model"
   ]
  },
  {
   "cell_type": "markdown",
   "metadata": {},
   "source": [
    ".. and then restore it from disk! Ta-da! "
   ]
  },
  {
   "cell_type": "code",
   "execution_count": 90,
   "metadata": {},
   "outputs": [
    {
     "name": "stdout",
     "output_type": "stream",
     "text": [
      "------ Loss-----\n",
      "2019-04-10 18:23:59,601 - ampligraph.latent_features.loss_functions - INFO - Name:pairwise\n",
      "Name: pairwise\n",
      "2019-04-10 18:23:59,602 - ampligraph.latent_features.loss_functions - INFO - Parameters:\n",
      "Parameters:\n",
      "2019-04-10 18:23:59,603 - ampligraph.latent_features.loss_functions - INFO - \teta: \n",
      "   eta :  10\n",
      "2019-04-10 18:23:59,604 - ampligraph.latent_features.loss_functions - INFO - \tmargin: \n",
      "   margin :  0.5\n",
      "------ Regularizer-----\n",
      "2019-04-10 18:23:59,605 - ampligraph.latent_features.regularizers - INFO - ------ Regularizer-----\n",
      "Name: LP\n",
      "2019-04-10 18:23:59,606 - ampligraph.latent_features.regularizers - INFO - Name:LP\n",
      "Parameters:\n",
      "2019-04-10 18:23:59,607 - ampligraph.latent_features.regularizers - INFO - Parameters:\n",
      "2019-04-10 18:23:59,608 - ampligraph.latent_features.regularizers - INFO - \tlambda:1e-05\n",
      "\n",
      "   lambda :  1e-05\n",
      "2019-04-10 18:23:59,608 - ampligraph.latent_features.regularizers - INFO - \tp:2\n",
      "\n",
      "   p :  2\n"
     ]
    }
   ],
   "source": [
    "model = restore_model('./ampligraph_tutorial/')"
   ]
  },
  {
   "cell_type": "markdown",
   "metadata": {},
   "source": [
    "And let's just double check that the model we restored has been fit:"
   ]
  },
  {
   "cell_type": "code",
   "execution_count": 14,
   "metadata": {},
   "outputs": [
    {
     "name": "stdout",
     "output_type": "stream",
     "text": [
      "The model is fit!\n"
     ]
    }
   ],
   "source": [
    "if model.is_fitted:\n",
    "    print('The model is fit!')\n",
    "else:\n",
    "    print('The model is not fit! Did you skip a step?')"
   ]
  },
  {
   "cell_type": "markdown",
   "metadata": {},
   "source": [
    "---\n",
    "# 6. Evaluating a model\n",
    "\n",
    "Now it's time to evaluate our model on the test set to see how well it's performing. \n",
    "\n",
    "For this we'll use the `evaluate_performance` function:"
   ]
  },
  {
   "cell_type": "code",
   "execution_count": null,
   "metadata": {},
   "outputs": [],
   "source": [
    "from ampligraph.evaluation import evaluate_performance"
   ]
  },
  {
   "cell_type": "markdown",
   "metadata": {},
   "source": [
    "And let's look at the parameters required:\n",
    "\n",
    "- **`X`** - the data to evaluate on. We're going to use our test set to evaluate.\n",
    "- **`model`** - the model we previously trained.\n",
    "- **`filter_triples`** - will filter out the false negatives generated by the corruption strategy. \n",
    "- **`use_default_protocol`** - specifies whether to use the default corruption protocol. If True, then subj and obj are corrupted separately during evaluation.\n",
    "- **`verbose`** - will give some nice log statements. Let's leave it on for now.\n",
    "\n",
    "Run the cell below to evaluate the model and obtain ranks for each of the test set triples."
   ]
  },
  {
   "cell_type": "code",
   "execution_count": 78,
   "metadata": {},
   "outputs": [
    {
     "name": "stderr",
     "output_type": "stream",
     "text": [
      "100%|██████████| 201/201 [00:00<00:00, 211.28it/s]\n",
      "100%|██████████| 201/201 [00:00<00:00, 38.85it/s]"
     ]
    },
    {
     "name": "stdout",
     "output_type": "stream",
     "text": [
      "2019-04-10 18:23:15,899 - ampligraph.evaluation.protocol - INFO - Returning ranks of positive test triples obtained by corrupting ['s', 'o'].\n"
     ]
    },
    {
     "name": "stderr",
     "output_type": "stream",
     "text": [
      "\n"
     ]
    }
   ],
   "source": [
    "ranks = evaluate_performance(data['test'], \n",
    "                             model=model, \n",
    "                             filter_triples=positives_filter,\n",
    "                             use_default_protocol=True, # corrupt subj and obj separately while evaluating\n",
    "                             verbose=True)"
   ]
  },
  {
   "cell_type": "markdown",
   "metadata": {},
   "source": [
    "\n",
    "The ***ranks*** returned by the evaluate_performance function indicate the rank at which the test set triple was found when performing link prediction using the model. \n",
    "\n",
    "For example, given the triple:\n",
    "\n",
    "    <cuba, independence, usa> \n",
    "    \n",
    "The model may return a rank of 2. This tells us that while it's not the highest likelihood true statement (which would be given a rank of 1), it's pretty darn likely.\n"
   ]
  },
  {
   "cell_type": "markdown",
   "metadata": {},
   "source": [
    "Let's compute some evaluate metrics and print them out.\n",
    "\n",
    "We're going to use the mrr_score (mean reciprocal rank) and hits_at_n_score functions. \n",
    "\n",
    "- ***mrr_score***:  The function computes the mean of the reciprocal of elements of a vector of rankings ranks.\n",
    "\n",
    "\n",
    "#TODO: Get the LateX for the equation below\n",
    "\n",
    "It is formally defined as follows:\n",
    "MRR=1|Q|∑i=1|Q|1rank(s,p,o)i\n",
    "\n",
    "where Q\n",
    "is a set of triples and (s,p,o) is a triple ∈Q.\n",
    "\n",
    "- ***hits_at_n_score***: The function computes how many elements of a vector of rankings ranks make it to the top n positions.\n",
    "\n",
    "It is formally defined as follows:\n",
    "Hits@N=∑i=1|Q|1ifrank(s,p,o)i≤N\n",
    "\n",
    "where Q\n",
    "is a set of triples and (s,p,o) is a triple ∈Q.\n",
    "\n"
   ]
  },
  {
   "cell_type": "code",
   "execution_count": 97,
   "metadata": {},
   "outputs": [
    {
     "name": "stdout",
     "output_type": "stream",
     "text": [
      "MRR: 0.545759, Hits@10: 0.975124\n"
     ]
    }
   ],
   "source": [
    "from ampligraph.evaluation import mrr_score, hits_at_n_score\n",
    "\n",
    "mrr = mrr_score(ranks)\n",
    "hits_10 = hits_at_n_score(ranks, n=10)\n",
    "print(\"MRR: %f, Hits@10: %f\" % (mrr, hits_10))"
   ]
  },
  {
   "cell_type": "markdown",
   "metadata": {},
   "source": [
    "---\n",
    "# 7. Performing link prediction\n",
    "\n",
    "Link prediction allows us to infer missing links in a graph. This has many real-world use cases, such as predicting connections between people in a social network, interactions between proteins in a biological network, and music recommendation based on prior user taste. \n",
    "\n",
    "In our case, we're going to see which of the following statements are more likely to be true:\n"
   ]
  },
  {
   "cell_type": "code",
   "execution_count": 78,
   "metadata": {},
   "outputs": [],
   "source": [
    "unseen_triples = np.array([['ussr', 'militaryalliance', 'usa'], \n",
    "                           ['usa', 'militaryalliance', 'ussr'], \n",
    "                           ['usa', 'boycottembargo', 'cuba'],\n",
    "                           ['ussr', 'attackembassy', 'cuba'],\n",
    "                           ['usa', 'militaryalliance', 'cuba'], \n",
    "                           ['usa', 'attackembassy', 'burma']])"
   ]
  },
  {
   "cell_type": "markdown",
   "metadata": {},
   "source": [
    "Because our dataset here is a very small graph, there aren't actually all that many missing links \n",
    "\n",
    "Before predicting, let's make sure that our model wasn't trained on these statements. "
   ]
  },
  {
   "cell_type": "code",
   "execution_count": 92,
   "metadata": {},
   "outputs": [],
   "source": [
    "for new_triple in unseen_triples:\n",
    "    for train_triple in data['train']:\n",
    "        if np.all(train_triple == new_triple):\n",
    "            print('Machine learning? More like machine cheating!')"
   ]
  },
  {
   "cell_type": "markdown",
   "metadata": {},
   "source": [
    "Now lets make our predictions:"
   ]
  },
  {
   "cell_type": "code",
   "execution_count": 93,
   "metadata": {},
   "outputs": [],
   "source": [
    "predictions = model.predict(unseen_triples)"
   ]
  },
  {
   "cell_type": "markdown",
   "metadata": {},
   "source": [
    ".. and print them out. "
   ]
  },
  {
   "cell_type": "code",
   "execution_count": 96,
   "metadata": {
    "scrolled": true
   },
   "outputs": [
    {
     "name": "stdout",
     "output_type": "stream",
     "text": [
      "['ussr' 'militaryalliance' 'usa'] score: 0.29\n",
      "['usa' 'militaryalliance' 'ussr'] score: 0.05\n",
      "['usa' 'boycottembargo' 'cuba'] score: -0.08\n",
      "['ussr' 'attackembassy' 'cuba'] score: 0.06\n",
      "['usa' 'militaryalliance' 'cuba'] score: 0.25\n",
      "['usa' 'attackembassy' 'burma'] score: -0.13\n"
     ]
    }
   ],
   "source": [
    "for triple, y in zip(unseen_triples, predictions):\n",
    "    print(triple, 'score: %0.2f' % y)"
   ]
  },
  {
   "cell_type": "markdown",
   "metadata": {},
   "source": [
    "---\n",
    "# 8. Visualizing with Tensorboard projector \n",
    "\n",
    "The kind folks at Google have created Tensorboard, which allows us to graph how our model is learning (or .. not :|), peer into the innards of neural networks, and visualize high-dimensional embeddings in the browser.   \n",
    "\n",
    "Lets import the `create_tensorboard_visualization` function, which simplifies the creation of the files necessary for Tensorboard to display the embeddings."
   ]
  },
  {
   "cell_type": "code",
   "execution_count": 8,
   "metadata": {},
   "outputs": [],
   "source": [
    "from ampligraph.utils import create_tensorboard_visualizations"
   ]
  },
  {
   "cell_type": "markdown",
   "metadata": {},
   "source": [
    "And now we'll run the function with our model, specifying the output path:"
   ]
  },
  {
   "cell_type": "code",
   "execution_count": null,
   "metadata": {},
   "outputs": [],
   "source": [
    "create_tensorboard_visualizations(model, './ampligraph_tutorial/visualizations')"
   ]
  },
  {
   "cell_type": "markdown",
   "metadata": {},
   "source": [
    "If all went well, we should now have a number of files in the *'./ampligraph_tutoria/visualizations/'* directory:\n",
    "\n",
    "- checkpoint\n",
    "- metadata.tsv\n",
    "- projector_config.pbtxt\n",
    "- .. and a number of graph_embedding.ckpt.* files \n",
    "\n",
    "To visualize the embeddings in Tensorboard, run the following from your command line in the *ampligraph_tutorial* directory.\n",
    "\n",
    "    tensorboard --logdir=./visualizations\n",
    "    \n",
    "    \n",
    ".. and once your browser opens up you should be able to see and explore your embeddings as below. \n",
    "\n",
    "![title](tensorboard_graph_example.png)\n",
    "\n",
    "\n",
    "---\n",
    "## The End\n",
    "\n",
    "You made it to the end! Well done!\n",
    "\n",
    "For more information please visit:\n",
    "\n",
    "- github.com/Accenture/AmpliGraph (and remember to star the project!) \n",
    "- docs.ampligraph.com\n",
    "\n",
    "\n",
    "---\n"
   ]
  }
 ],
 "metadata": {
  "kernelspec": {
   "display_name": "Python [conda env:ampligraph]",
   "language": "python",
   "name": "conda-env-ampligraph-py"
  },
  "language_info": {
   "codemirror_mode": {
    "name": "ipython",
    "version": 3
   },
   "file_extension": ".py",
   "mimetype": "text/x-python",
   "name": "python",
   "nbconvert_exporter": "python",
   "pygments_lexer": "ipython3",
   "version": "3.7.3"
  }
 },
 "nbformat": 4,
 "nbformat_minor": 2
}
