{
 "cells": [
  {
   "cell_type": "markdown",
   "metadata": {},
   "source": [
    "---\n",
    "# AmpliGraph Tutorial 1\n",
    "---\n",
    "In this tutorial we will demonstrate how to use the AmpliGraph library. \n",
    "\n",
    "Things we will cover:\n",
    "- Exploring a graph dataset\n",
    "- Training a graph embeddings model\n",
    "- Evaluating the graph embeddings model \n",
    "- Using link prediction to discover unknown relations\n",
    "- Extracting embeddings from a model\n",
    "- Visualizing embeddings using Tensorboard\n",
    "\n",
    "---\n",
    "\n",
    "### Requirements:\n",
    "\n",
    "A python environment (conda, virtualenv) with the AmpliGraph library installed:\n",
    "\n",
    "    pip install ampligraph numpy pandas \n",
    "\n",
    "Additionally, you may want to install matplotlib and networkx to run some graph visualization code:\n",
    "\n",
    "    pip install matplotlib networkx \n",
    "\n",
    "---\n"
   ]
  },
  {
   "cell_type": "markdown",
   "metadata": {},
   "source": [
    "## First things first! \n",
    "Lets import the required libraries and retrieve some data "
   ]
  },
  {
   "cell_type": "code",
   "execution_count": 1,
   "metadata": {},
   "outputs": [],
   "source": [
    "import ampligraph\n",
    "import numpy as np\n",
    "import pandas as pd"
   ]
  },
  {
   "cell_type": "markdown",
   "metadata": {},
   "source": [
    "In this tutorial we're going to use the Nations graph dataset. "
   ]
  },
  {
   "cell_type": "code",
   "execution_count": 2,
   "metadata": {},
   "outputs": [],
   "source": [
    "\n",
    "data = dict()\n",
    "data['train'] = pd.read_csv('./data/nations/train.txt', sep='\\t', header=None).values\n",
    "data['test'] = pd.read_csv('./data/nations/test.txt', sep='\\t', header=None).values\n",
    "data['valid'] = pd.read_csv('./data/nations/valid.txt', sep='\\t', header=None).values\n",
    "\n",
    "# Making a DataFrame of all the sets just to help data exploration. :)\n",
    "df = pd.DataFrame(np.concatenate([data['train'], data['test'], data['valid']]), columns=['subject', 'predicate', 'object'])\n"
   ]
  },
  {
   "cell_type": "markdown",
   "metadata": {},
   "source": [
    "The data is pre-split into train/test/valid sets."
   ]
  },
  {
   "cell_type": "code",
   "execution_count": 42,
   "metadata": {},
   "outputs": [
    {
     "name": "stdout",
     "output_type": "stream",
     "text": [
      "Train set size:  (1592, 3)\n",
      "Test set size:  (201, 3)\n",
      "Valid set size:  (199, 3)\n"
     ]
    }
   ],
   "source": [
    "print('Train set size: ', data['train'].shape)\n",
    "print('Test set size: ', data['test'].shape)\n",
    "print('Valid set size: ', data['valid'].shape)"
   ]
  },
  {
   "cell_type": "markdown",
   "metadata": {},
   "source": [
    "Each data point is an RDF triple in the form: \n",
    "\n",
    "    <subject, predicate, object>\n"
   ]
  },
  {
   "cell_type": "code",
   "execution_count": 38,
   "metadata": {
    "scrolled": false
   },
   "outputs": [
    {
     "data": {
      "text/html": [
       "<div>\n",
       "<style scoped>\n",
       "    .dataframe tbody tr th:only-of-type {\n",
       "        vertical-align: middle;\n",
       "    }\n",
       "\n",
       "    .dataframe tbody tr th {\n",
       "        vertical-align: top;\n",
       "    }\n",
       "\n",
       "    .dataframe thead th {\n",
       "        text-align: right;\n",
       "    }\n",
       "</style>\n",
       "<table border=\"1\" class=\"dataframe\">\n",
       "  <thead>\n",
       "    <tr style=\"text-align: right;\">\n",
       "      <th></th>\n",
       "      <th>subject</th>\n",
       "      <th>predicate</th>\n",
       "      <th>object</th>\n",
       "    </tr>\n",
       "  </thead>\n",
       "  <tbody>\n",
       "    <tr>\n",
       "      <th>0</th>\n",
       "      <td>netherlands</td>\n",
       "      <td>militaryalliance</td>\n",
       "      <td>uk</td>\n",
       "    </tr>\n",
       "    <tr>\n",
       "      <th>1</th>\n",
       "      <td>egypt</td>\n",
       "      <td>intergovorgs3</td>\n",
       "      <td>usa</td>\n",
       "    </tr>\n",
       "    <tr>\n",
       "      <th>2</th>\n",
       "      <td>jordan</td>\n",
       "      <td>relbooktranslations</td>\n",
       "      <td>usa</td>\n",
       "    </tr>\n",
       "    <tr>\n",
       "      <th>3</th>\n",
       "      <td>poland</td>\n",
       "      <td>timesincewar</td>\n",
       "      <td>ussr</td>\n",
       "    </tr>\n",
       "    <tr>\n",
       "      <th>4</th>\n",
       "      <td>uk</td>\n",
       "      <td>negativebehavior</td>\n",
       "      <td>ussr</td>\n",
       "    </tr>\n",
       "    <tr>\n",
       "      <th>5</th>\n",
       "      <td>poland</td>\n",
       "      <td>relintergovorgs</td>\n",
       "      <td>uk</td>\n",
       "    </tr>\n",
       "    <tr>\n",
       "      <th>6</th>\n",
       "      <td>usa</td>\n",
       "      <td>weightedunvote</td>\n",
       "      <td>india</td>\n",
       "    </tr>\n",
       "    <tr>\n",
       "      <th>7</th>\n",
       "      <td>china</td>\n",
       "      <td>accusation</td>\n",
       "      <td>india</td>\n",
       "    </tr>\n",
       "    <tr>\n",
       "      <th>8</th>\n",
       "      <td>uk</td>\n",
       "      <td>unweightedunvote</td>\n",
       "      <td>egypt</td>\n",
       "    </tr>\n",
       "    <tr>\n",
       "      <th>9</th>\n",
       "      <td>poland</td>\n",
       "      <td>embassy</td>\n",
       "      <td>netherlands</td>\n",
       "    </tr>\n",
       "  </tbody>\n",
       "</table>\n",
       "</div>"
      ],
      "text/plain": [
       "       subject            predicate       object\n",
       "0  netherlands     militaryalliance           uk\n",
       "1        egypt        intergovorgs3          usa\n",
       "2       jordan  relbooktranslations          usa\n",
       "3       poland         timesincewar         ussr\n",
       "4           uk     negativebehavior         ussr\n",
       "5       poland      relintergovorgs           uk\n",
       "6          usa       weightedunvote        india\n",
       "7        china           accusation        india\n",
       "8           uk     unweightedunvote        egypt\n",
       "9       poland              embassy  netherlands"
      ]
     },
     "execution_count": 38,
     "metadata": {},
     "output_type": "execute_result"
    }
   ],
   "source": [
    "df.head(10)"
   ]
  },
  {
   "cell_type": "markdown",
   "metadata": {},
   "source": [
    "These are the subject and object entities in the dataset:"
   ]
  },
  {
   "cell_type": "code",
   "execution_count": 4,
   "metadata": {},
   "outputs": [
    {
     "name": "stdout",
     "output_type": "stream",
     "text": [
      "['brazil' 'burma' 'china' 'cuba' 'egypt' 'india' 'indonesia' 'israel'\n",
      " 'jordan' 'netherlands' 'poland' 'uk' 'usa' 'ussr']\n"
     ]
    }
   ],
   "source": [
    "entities = np.concatenate([df['subject'], df['object']])\n",
    "\n",
    "print(np.unique(entities))"
   ]
  },
  {
   "cell_type": "markdown",
   "metadata": {},
   "source": [
    ".. and here are the relations that can are defined between them:"
   ]
  },
  {
   "cell_type": "code",
   "execution_count": 5,
   "metadata": {},
   "outputs": [
    {
     "name": "stdout",
     "output_type": "stream",
     "text": [
      "['militaryalliance' 'intergovorgs3' 'relbooktranslations' 'timesincewar'\n",
      " 'negativebehavior' 'relintergovorgs' 'weightedunvote' 'accusation'\n",
      " 'unweightedunvote' 'embassy' 'commonbloc1' 'commonbloc2' 'ngoorgs3'\n",
      " 'exports3' 'economicaid' 'booktranslations' 'relexports' 'intergovorgs'\n",
      " 'independence' 'reltreaties' 'ngo' 'blockpositionindex' 'relstudents'\n",
      " 'aidenemy' 'eemigrants' 'officialvisits' 'unoffialacts' 'releconomicaid'\n",
      " 'commonbloc0' 'expeldiplomats' 'relngo' 'students' 'nonviolentbehavior'\n",
      " 'reldiplomacy' 'tourism' 'timesinceally' 'conferences' 'relexportbooks'\n",
      " 'treaties' 'militaryactions' 'exportbooks' 'boycottembargo'\n",
      " 'negativecomm' 'tourism3' 'reltourism' 'pprotests' 'emigrants3'\n",
      " 'duration' 'attackembassy' 'dependent' 'violentactions' 'relemigrants'\n",
      " 'warning' 'lostterritory' 'severdiplomatic']\n"
     ]
    }
   ],
   "source": [
    "relations = df['predicate']\n",
    "\n",
    "print(relations.unique())"
   ]
  },
  {
   "cell_type": "markdown",
   "metadata": {},
   "source": [
    "## Visualizing graph data with NetworkX \n",
    "\n",
    "When working with graphs it's often useful to visualize the data. \n",
    "\n",
    "Here, we're going to use the excellent NetworkX library to show some of the relations defined between the entities in our data.\n"
   ]
  },
  {
   "cell_type": "code",
   "execution_count": 6,
   "metadata": {},
   "outputs": [
    {
     "name": "stderr",
     "output_type": "stream",
     "text": [
      "C:\\Users\\nicholas.mccarthy\\miniconda3\\envs\\ampligraph\\lib\\site-packages\\networkx\\drawing\\nx_pylab.py:611: MatplotlibDeprecationWarning: isinstance(..., numbers.Number)\n",
      "  if cb.is_numlike(alpha):\n"
     ]
    },
    {
     "data": {
      "image/png": "[encoded data removed]",
      "text/plain": [
       "<Figure size 1440x360 with 4 Axes>"
      ]
     },
     "metadata": {
      "needs_background": "light"
     },
     "output_type": "display_data"
    }
   ],
   "source": [
    "import json\n",
    "import numpy as np\n",
    "import networkx as nx\n",
    "import matplotlib.pyplot as plt\n",
    "%matplotlib inline\n",
    "\n",
    "fig, axs = plt.subplots(1, 4, figsize=(20, 5))\n",
    "\n",
    "for index, relation in enumerate(['militaryalliance', 'treaties', 'economicaid', 'officialvisits']):\n",
    "\n",
    "    G = nx.MultiGraph()\n",
    "    for i, row in df.loc[df['predicate'] == relation].iterrows():\n",
    "        G.add_nodes_from([row[0], row[2]])\n",
    "        G.add_edge(row[0], row[2], name=row[1])\n",
    "\n",
    "    axs[index].set_title(relation)\n",
    "    nx.draw_networkx(G, ax=axs[index])"
   ]
  },
  {
   "cell_type": "markdown",
   "metadata": {},
   "source": [
    "---\n",
    "## Selecting a graph embedding model \n",
    "\n",
    "AmpliGraph has implemented several Graph embedding models (TransE, ComplEx, DistMult, HolE), but in this tutorial we will use the ComplEx model, so lets import that:"
   ]
  },
  {
   "cell_type": "code",
   "execution_count": 6,
   "metadata": {},
   "outputs": [],
   "source": [
    "from ampligraph.latent_features import ComplEx"
   ]
  },
  {
   "cell_type": "markdown",
   "metadata": {},
   "source": [
    "We've run extensive hyperparameter searches to determine the best default values for each model, but lets go through the parameters to understand what's going on:\n",
    "\n",
    "- ***k*** : the dimensionality of the embedding space\n",
    "- ***$\\eta$*** (eta) : the number of negative, or false triples that must be generated at training runtime for each positive, or true triple\n",
    "- ***batches_count*** : the number of batches in which the training set is split during the training loop. If you are having into low memory issues than settings this to a higher number may help.\n",
    "- ***epochs*** : the number of epochs to train the model for.\n",
    "- ***optimizer*** : the Adam optimizer, with a learning rate of 1e-3 set via the *optimizer_params* kwarg.\n",
    "- ***loss*** : pairwise loss, with a margin of 0.5 set via the *loss_params* kwarg.\n",
    "- ***regularizer*** : $L_p$ regularization with $p=2$, i.e. l2 regularization. $\\lambda$ = 1e-5, set via the *regularizer_params* kwarg. \n",
    "\n",
    "Now we can instantiate the model:\n"
   ]
  },
  {
   "cell_type": "code",
   "execution_count": 84,
   "metadata": {},
   "outputs": [
    {
     "name": "stdout",
     "output_type": "stream",
     "text": [
      "------ Loss-----\n",
      "2019-04-10 18:23:48,140 - ampligraph.latent_features.loss_functions - INFO - Name:pairwise\n",
      "Name: pairwise\n",
      "2019-04-10 18:23:48,142 - ampligraph.latent_features.loss_functions - INFO - Parameters:\n",
      "Parameters:\n",
      "2019-04-10 18:23:48,143 - ampligraph.latent_features.loss_functions - INFO - \teta: \n",
      "   eta :  10\n",
      "2019-04-10 18:23:48,144 - ampligraph.latent_features.loss_functions - INFO - \tmargin: \n",
      "   margin :  0.5\n",
      "------ Regularizer-----\n",
      "2019-04-10 18:23:48,146 - ampligraph.latent_features.regularizers - INFO - ------ Regularizer-----\n",
      "Name: LP\n",
      "2019-04-10 18:23:48,147 - ampligraph.latent_features.regularizers - INFO - Name:LP\n",
      "Parameters:\n",
      "2019-04-10 18:23:48,148 - ampligraph.latent_features.regularizers - INFO - Parameters:\n",
      "2019-04-10 18:23:48,148 - ampligraph.latent_features.regularizers - INFO - \tlambda:1e-05\n",
      "\n",
      "   lambda :  1e-05\n",
      "2019-04-10 18:23:48,149 - ampligraph.latent_features.regularizers - INFO - \tp:2\n",
      "\n",
      "   p :  2\n"
     ]
    }
   ],
   "source": [
    "model = ComplEx(batches_count=10, \n",
    "                seed=0, \n",
    "                epochs=100, \n",
    "                k=10, \n",
    "                eta=10,\n",
    "                optimizer='adam', \n",
    "                optimizer_params={'lr':1e-3},\n",
    "                loss='pairwise', \n",
    "                loss_params={'margin':0.5},\n",
    "                regularizer='LP', \n",
    "                regularizer_params={'p':2, 'lambda':1e-5}, \n",
    "                verbose=True)"
   ]
  },
  {
   "cell_type": "markdown",
   "metadata": {},
   "source": [
    "---\n",
    "## Training the graph embeddings model\n",
    "\n",
    "In this section we'll show you how to train the model.\n",
    "\n",
    "AmpliGraph aims to follow scikit-learn's ease-of-use design philosophy and simplify everything down to *fit, evaluate, predict* functions. \n",
    "\n",
    "However, there are some knowledge graph specific steps we must take to ensure our model can be trained and evaluated correctly. The first of these is defining the filter that will be used to ensure that no *negative* statements generated by the corruption procedure are actually positives. This is simply done by concatenating our train, valid and test sets. Now when negative triples are generated by the corruption strategy, we can check that they aren't actually true statements.  \n"
   ]
  },
  {
   "cell_type": "code",
   "execution_count": 85,
   "metadata": {},
   "outputs": [],
   "source": [
    "positives_filter = np.concatenate((data['train'], data['valid'], data['test']))    "
   ]
  },
  {
   "cell_type": "markdown",
   "metadata": {},
   "source": [
    "We're going to use early stopping to ensure we don't waste our valuable GPU cycles, so let's take a look at some of the parameters:\n",
    "\n",
    "- ***x_valid*** - specifies our validation set, so that we can test model performance on data we're not training on and stop at a good point\n",
    "- ***criteria*** - the metric we'll use to measure model performance on the validation set. We specify here the 'hits10' criteria, which measures the amount of times the positive sample is found in the top 10 closest values when performing link prediction #TODO: Check this text\n",
    "- ***burn_in*** - allows the model to train for a few epochs before early stopping kicks in\n",
    "- ***check_interval*** - specifies how often the validation set should be evaluated for early stopping. \n",
    "- ***stop_interval*** - specifies how many validation set evaluations must be bad for early stopping to kick in. \n",
    "- ***x_filter*** - specifies the filter used to filter out the positives (we defined this above)\n",
    "- ***corruption_entities*** - specifies the corruption strategy. Here we specify 'all' so corruptions are generated using all of the entitites.\n",
    "- ***corrupt_side*** - specifies which end of the triple should be used for corruptions. Here we specify 's+o', so both subject and object are used for corruptions, but now at the same time.\n",
    "\n",
    "Based on the burn_in, check_interval and stop_interval values we can see that the model will train for at least **n** epochs, where\n",
    "\n",
    "    n = burn_in + (stop_interval * check_interval)  \n",
    "\n",
    "Once you run the next cell the model will train. On the ***Nations*** dataset this shouldn't take too long: on an i7 CPU each epoch was training in at least under a second, up to a top speed of *6.51 epoch/s*. Early stopping was reached at epoch 64, although your mileage may vary.  "
   ]
  },
  {
   "cell_type": "code",
   "execution_count": 86,
   "metadata": {},
   "outputs": [
    {
     "name": "stdout",
     "output_type": "stream",
     "text": [
      "2019-04-10 18:23:49,524 - ampligraph.latent_features.models - INFO - Using all entities for generation of corruptions\n"
     ]
    },
    {
     "name": "stderr",
     "output_type": "stream",
     "text": [
      "  0%|          | 0/100 [00:00<?, ?epoch/s]"
     ]
    },
    {
     "name": "stdout",
     "output_type": "stream",
     "text": [
      "2019-04-10 18:23:51,092 - ampligraph.latent_features.models - INFO - epoch: 1: mean loss:   0.499690\n"
     ]
    },
    {
     "name": "stderr",
     "output_type": "stream",
     "text": [
      "  1%|          | 1/100 [00:00<00:29,  3.31epoch/s]"
     ]
    },
    {
     "name": "stdout",
     "output_type": "stream",
     "text": [
      "epoch: 1: mean loss:   0.499690\n",
      "2019-04-10 18:23:51,134 - ampligraph.latent_features.models - INFO - epoch: 2: mean loss:   0.498971\n"
     ]
    },
    {
     "name": "stderr",
     "output_type": "stream",
     "text": [
      "  1%|          | 1/100 [00:00<00:29,  3.31epoch/s]"
     ]
    },
    {
     "name": "stdout",
     "output_type": "stream",
     "text": [
      "epoch: 2: mean loss:   0.498971\n",
      "2019-04-10 18:23:51,175 - ampligraph.latent_features.models - INFO - epoch: 3: mean loss:   0.497889\n"
     ]
    },
    {
     "name": "stderr",
     "output_type": "stream",
     "text": [
      "  1%|          | 1/100 [00:00<00:29,  3.31epoch/s]"
     ]
    },
    {
     "name": "stdout",
     "output_type": "stream",
     "text": [
      "epoch: 3: mean loss:   0.497889\n",
      "2019-04-10 18:23:51,217 - ampligraph.latent_features.models - INFO - epoch: 4: mean loss:   0.497814\n"
     ]
    },
    {
     "name": "stderr",
     "output_type": "stream",
     "text": [
      "  4%|▍         | 4/100 [00:00<00:21,  4.47epoch/s]"
     ]
    },
    {
     "name": "stdout",
     "output_type": "stream",
     "text": [
      "epoch: 4: mean loss:   0.497814\n",
      "2019-04-10 18:23:51,263 - ampligraph.latent_features.models - INFO - epoch: 5: mean loss:   0.496050\n"
     ]
    },
    {
     "name": "stderr",
     "output_type": "stream",
     "text": [
      "  4%|▍         | 4/100 [00:00<00:21,  4.47epoch/s]"
     ]
    },
    {
     "name": "stdout",
     "output_type": "stream",
     "text": [
      "epoch: 5: mean loss:   0.496050\n",
      "2019-04-10 18:23:51,304 - ampligraph.latent_features.models - INFO - epoch: 6: mean loss:   0.494836\n"
     ]
    },
    {
     "name": "stderr",
     "output_type": "stream",
     "text": [
      "  4%|▍         | 4/100 [00:00<00:21,  4.47epoch/s]"
     ]
    },
    {
     "name": "stdout",
     "output_type": "stream",
     "text": [
      "epoch: 6: mean loss:   0.494836\n",
      "2019-04-10 18:23:51,344 - ampligraph.latent_features.models - INFO - epoch: 7: mean loss:   0.493969\n"
     ]
    },
    {
     "name": "stderr",
     "output_type": "stream",
     "text": [
      "  7%|▋         | 7/100 [00:00<00:15,  5.90epoch/s]"
     ]
    },
    {
     "name": "stdout",
     "output_type": "stream",
     "text": [
      "epoch: 7: mean loss:   0.493969\n",
      "2019-04-10 18:23:51,384 - ampligraph.latent_features.models - INFO - epoch: 8: mean loss:   0.493775\n"
     ]
    },
    {
     "name": "stderr",
     "output_type": "stream",
     "text": [
      "  7%|▋         | 7/100 [00:00<00:15,  5.90epoch/s]"
     ]
    },
    {
     "name": "stdout",
     "output_type": "stream",
     "text": [
      "epoch: 8: mean loss:   0.493775\n",
      "2019-04-10 18:23:51,426 - ampligraph.latent_features.models - INFO - epoch: 9: mean loss:   0.491377\n"
     ]
    },
    {
     "name": "stderr",
     "output_type": "stream",
     "text": [
      "  7%|▋         | 7/100 [00:00<00:15,  5.90epoch/s]"
     ]
    },
    {
     "name": "stdout",
     "output_type": "stream",
     "text": [
      "epoch: 9: mean loss:   0.491377\n",
      "2019-04-10 18:23:51,467 - ampligraph.latent_features.models - INFO - epoch: 10: mean loss:   0.490001\n"
     ]
    },
    {
     "name": "stderr",
     "output_type": "stream",
     "text": [
      " 10%|█         | 10/100 [00:00<00:11,  7.64epoch/s]"
     ]
    },
    {
     "name": "stdout",
     "output_type": "stream",
     "text": [
      "epoch: 10: mean loss:   0.490001\n",
      "2019-04-10 18:23:51,509 - ampligraph.latent_features.models - INFO - epoch: 11: mean loss:   0.491265\n"
     ]
    },
    {
     "name": "stderr",
     "output_type": "stream",
     "text": [
      " 10%|█         | 10/100 [00:00<00:11,  7.64epoch/s]"
     ]
    },
    {
     "name": "stdout",
     "output_type": "stream",
     "text": [
      "epoch: 11: mean loss:   0.491265\n",
      "2019-04-10 18:23:51,550 - ampligraph.latent_features.models - INFO - epoch: 12: mean loss:   0.489148\n"
     ]
    },
    {
     "name": "stderr",
     "output_type": "stream",
     "text": [
      " 10%|█         | 10/100 [00:00<00:11,  7.64epoch/s]"
     ]
    },
    {
     "name": "stdout",
     "output_type": "stream",
     "text": [
      "epoch: 12: mean loss:   0.489148\n",
      "2019-04-10 18:23:51,594 - ampligraph.latent_features.models - INFO - epoch: 13: mean loss:   0.486947\n"
     ]
    },
    {
     "name": "stderr",
     "output_type": "stream",
     "text": [
      " 13%|█▎        | 13/100 [00:00<00:09,  9.58epoch/s]"
     ]
    },
    {
     "name": "stdout",
     "output_type": "stream",
     "text": [
      "epoch: 13: mean loss:   0.486947\n",
      "2019-04-10 18:23:51,637 - ampligraph.latent_features.models - INFO - epoch: 14: mean loss:   0.486682\n"
     ]
    },
    {
     "name": "stderr",
     "output_type": "stream",
     "text": [
      " 13%|█▎        | 13/100 [00:00<00:09,  9.58epoch/s]"
     ]
    },
    {
     "name": "stdout",
     "output_type": "stream",
     "text": [
      "epoch: 14: mean loss:   0.486682\n",
      "2019-04-10 18:23:51,681 - ampligraph.latent_features.models - INFO - epoch: 15: mean loss:   0.484538\n"
     ]
    },
    {
     "name": "stderr",
     "output_type": "stream",
     "text": [
      " 13%|█▎        | 13/100 [00:00<00:09,  9.58epoch/s]"
     ]
    },
    {
     "name": "stdout",
     "output_type": "stream",
     "text": [
      "epoch: 15: mean loss:   0.484538\n",
      "2019-04-10 18:23:51,727 - ampligraph.latent_features.models - INFO - epoch: 16: mean loss:   0.482644\n"
     ]
    },
    {
     "name": "stderr",
     "output_type": "stream",
     "text": [
      " 16%|█▌        | 16/100 [00:00<00:07, 11.58epoch/s]"
     ]
    },
    {
     "name": "stdout",
     "output_type": "stream",
     "text": [
      "epoch: 16: mean loss:   0.482644\n",
      "2019-04-10 18:23:51,774 - ampligraph.latent_features.models - INFO - epoch: 17: mean loss:   0.480879\n"
     ]
    },
    {
     "name": "stderr",
     "output_type": "stream",
     "text": [
      " 16%|█▌        | 16/100 [00:00<00:07, 11.58epoch/s]"
     ]
    },
    {
     "name": "stdout",
     "output_type": "stream",
     "text": [
      "epoch: 17: mean loss:   0.480879\n",
      "2019-04-10 18:23:51,819 - ampligraph.latent_features.models - INFO - epoch: 18: mean loss:   0.479821\n"
     ]
    },
    {
     "name": "stderr",
     "output_type": "stream",
     "text": [
      " 16%|█▌        | 16/100 [00:01<00:07, 11.58epoch/s]"
     ]
    },
    {
     "name": "stdout",
     "output_type": "stream",
     "text": [
      "epoch: 18: mean loss:   0.479821\n",
      "2019-04-10 18:23:51,865 - ampligraph.latent_features.models - INFO - epoch: 19: mean loss:   0.478669\n"
     ]
    },
    {
     "name": "stderr",
     "output_type": "stream",
     "text": [
      " 19%|█▉        | 19/100 [00:01<00:06, 13.46epoch/s]"
     ]
    },
    {
     "name": "stdout",
     "output_type": "stream",
     "text": [
      "epoch: 19: mean loss:   0.478669\n",
      "2019-04-10 18:23:51,913 - ampligraph.latent_features.models - INFO - epoch: 20: mean loss:   0.476785\n"
     ]
    },
    {
     "name": "stderr",
     "output_type": "stream",
     "text": [
      " 19%|█▉        | 19/100 [00:01<00:06, 13.46epoch/s]"
     ]
    },
    {
     "name": "stdout",
     "output_type": "stream",
     "text": [
      "epoch: 20: mean loss:   0.476785\n",
      "2019-04-10 18:23:52,389 - ampligraph.latent_features.models - INFO - Current best:0.7236180904522613\n",
      "Current best:0.7236180904522613\n",
      "2019-04-10 18:23:52,390 - ampligraph.latent_features.models - INFO - Current:0.7236180904522613\n",
      "Current:0.7236180904522613\n",
      "2019-04-10 18:23:52,434 - ampligraph.latent_features.models - INFO - epoch: 21: mean loss:   0.474924\n"
     ]
    },
    {
     "name": "stderr",
     "output_type": "stream",
     "text": [
      " 19%|█▉        | 19/100 [00:01<00:06, 13.46epoch/s]"
     ]
    },
    {
     "name": "stdout",
     "output_type": "stream",
     "text": [
      "epoch: 21: mean loss:   0.474924\n",
      "2019-04-10 18:23:52,477 - ampligraph.latent_features.models - INFO - epoch: 22: mean loss:   0.474028\n"
     ]
    },
    {
     "name": "stderr",
     "output_type": "stream",
     "text": [
      " 22%|██▏       | 22/100 [00:01<00:08,  8.84epoch/s]"
     ]
    },
    {
     "name": "stdout",
     "output_type": "stream",
     "text": [
      "epoch: 22: mean loss:   0.474028\n",
      "2019-04-10 18:23:52,523 - ampligraph.latent_features.models - INFO - epoch: 23: mean loss:   0.469915\n"
     ]
    },
    {
     "name": "stderr",
     "output_type": "stream",
     "text": [
      " 22%|██▏       | 22/100 [00:01<00:08,  8.84epoch/s]"
     ]
    },
    {
     "name": "stdout",
     "output_type": "stream",
     "text": [
      "epoch: 23: mean loss:   0.469915\n",
      "2019-04-10 18:23:52,567 - ampligraph.latent_features.models - INFO - epoch: 24: mean loss:   0.467427\n"
     ]
    },
    {
     "name": "stderr",
     "output_type": "stream",
     "text": [
      " 22%|██▏       | 22/100 [00:01<00:08,  8.84epoch/s]"
     ]
    },
    {
     "name": "stdout",
     "output_type": "stream",
     "text": [
      "epoch: 24: mean loss:   0.467427\n",
      "2019-04-10 18:23:52,981 - ampligraph.latent_features.models - INFO - Current best:0.7437185929648241\n",
      "Current best:0.7437185929648241\n",
      "2019-04-10 18:23:52,982 - ampligraph.latent_features.models - INFO - Current:0.7437185929648241\n"
     ]
    },
    {
     "name": "stderr",
     "output_type": "stream",
     "text": [
      " 24%|██▍       | 24/100 [00:02<00:11,  6.47epoch/s]"
     ]
    },
    {
     "name": "stdout",
     "output_type": "stream",
     "text": [
      "Current:0.7437185929648241\n",
      "2019-04-10 18:23:53,029 - ampligraph.latent_features.models - INFO - epoch: 25: mean loss:   0.466644\n"
     ]
    },
    {
     "name": "stderr",
     "output_type": "stream",
     "text": [
      " 24%|██▍       | 24/100 [00:02<00:11,  6.47epoch/s]"
     ]
    },
    {
     "name": "stdout",
     "output_type": "stream",
     "text": [
      "epoch: 25: mean loss:   0.466644\n",
      "2019-04-10 18:23:53,079 - ampligraph.latent_features.models - INFO - epoch: 26: mean loss:   0.464076\n"
     ]
    },
    {
     "name": "stderr",
     "output_type": "stream",
     "text": [
      " 26%|██▌       | 26/100 [00:02<00:09,  8.12epoch/s]"
     ]
    },
    {
     "name": "stdout",
     "output_type": "stream",
     "text": [
      "epoch: 26: mean loss:   0.464076\n",
      "2019-04-10 18:23:53,127 - ampligraph.latent_features.models - INFO - epoch: 27: mean loss:   0.462090\n"
     ]
    },
    {
     "name": "stderr",
     "output_type": "stream",
     "text": [
      " 26%|██▌       | 26/100 [00:02<00:09,  8.12epoch/s]"
     ]
    },
    {
     "name": "stdout",
     "output_type": "stream",
     "text": [
      "epoch: 27: mean loss:   0.462090\n",
      "2019-04-10 18:23:53,168 - ampligraph.latent_features.models - INFO - epoch: 28: mean loss:   0.456942\n"
     ]
    },
    {
     "name": "stderr",
     "output_type": "stream",
     "text": [
      " 26%|██▌       | 26/100 [00:02<00:09,  8.12epoch/s]"
     ]
    },
    {
     "name": "stdout",
     "output_type": "stream",
     "text": [
      "epoch: 28: mean loss:   0.456942\n",
      "2019-04-10 18:23:53,575 - ampligraph.latent_features.models - INFO - Current best:0.7437185929648241\n",
      "Current best:0.7437185929648241\n",
      "2019-04-10 18:23:53,576 - ampligraph.latent_features.models - INFO - Current:0.7437185929648241\n"
     ]
    },
    {
     "name": "stderr",
     "output_type": "stream",
     "text": [
      " 28%|██▊       | 28/100 [00:02<00:11,  6.23epoch/s]"
     ]
    },
    {
     "name": "stdout",
     "output_type": "stream",
     "text": [
      "Current:0.7437185929648241\n",
      "2019-04-10 18:23:53,626 - ampligraph.latent_features.models - INFO - epoch: 29: mean loss:   0.454890\n"
     ]
    },
    {
     "name": "stderr",
     "output_type": "stream",
     "text": [
      " 28%|██▊       | 28/100 [00:02<00:11,  6.23epoch/s]"
     ]
    },
    {
     "name": "stdout",
     "output_type": "stream",
     "text": [
      "epoch: 29: mean loss:   0.454890\n",
      "2019-04-10 18:23:53,673 - ampligraph.latent_features.models - INFO - epoch: 30: mean loss:   0.450216\n"
     ]
    },
    {
     "name": "stderr",
     "output_type": "stream",
     "text": [
      " 28%|██▊       | 28/100 [00:02<00:11,  6.23epoch/s]"
     ]
    },
    {
     "name": "stdout",
     "output_type": "stream",
     "text": [
      "epoch: 30: mean loss:   0.450216\n",
      "2019-04-10 18:23:53,721 - ampligraph.latent_features.models - INFO - epoch: 31: mean loss:   0.447937\n"
     ]
    },
    {
     "name": "stderr",
     "output_type": "stream",
     "text": [
      " 31%|███       | 31/100 [00:02<00:08,  7.87epoch/s]"
     ]
    },
    {
     "name": "stdout",
     "output_type": "stream",
     "text": [
      "epoch: 31: mean loss:   0.447937\n",
      "2019-04-10 18:23:53,769 - ampligraph.latent_features.models - INFO - epoch: 32: mean loss:   0.445705\n"
     ]
    },
    {
     "name": "stderr",
     "output_type": "stream",
     "text": [
      " 31%|███       | 31/100 [00:02<00:08,  7.87epoch/s]"
     ]
    },
    {
     "name": "stdout",
     "output_type": "stream",
     "text": [
      "epoch: 32: mean loss:   0.445705\n",
      "2019-04-10 18:23:54,172 - ampligraph.latent_features.models - INFO - Current best:0.7537688442211056\n",
      "Current best:0.7537688442211056\n",
      "2019-04-10 18:23:54,173 - ampligraph.latent_features.models - INFO - Current:0.7537688442211056\n",
      "Current:0.7537688442211056\n",
      "2019-04-10 18:23:54,215 - ampligraph.latent_features.models - INFO - epoch: 33: mean loss:   0.441696\n"
     ]
    },
    {
     "name": "stderr",
     "output_type": "stream",
     "text": [
      " 33%|███▎      | 33/100 [00:03<00:10,  6.13epoch/s]"
     ]
    },
    {
     "name": "stdout",
     "output_type": "stream",
     "text": [
      "epoch: 33: mean loss:   0.441696\n",
      "2019-04-10 18:23:54,264 - ampligraph.latent_features.models - INFO - epoch: 34: mean loss:   0.437885\n"
     ]
    },
    {
     "name": "stderr",
     "output_type": "stream",
     "text": [
      " 33%|███▎      | 33/100 [00:03<00:10,  6.13epoch/s]"
     ]
    },
    {
     "name": "stdout",
     "output_type": "stream",
     "text": [
      "epoch: 34: mean loss:   0.437885\n",
      "2019-04-10 18:23:54,309 - ampligraph.latent_features.models - INFO - epoch: 35: mean loss:   0.435203\n"
     ]
    },
    {
     "name": "stderr",
     "output_type": "stream",
     "text": [
      " 33%|███▎      | 33/100 [00:03<00:10,  6.13epoch/s]"
     ]
    },
    {
     "name": "stdout",
     "output_type": "stream",
     "text": [
      "epoch: 35: mean loss:   0.435203\n",
      "2019-04-10 18:23:54,353 - ampligraph.latent_features.models - INFO - epoch: 36: mean loss:   0.430041\n"
     ]
    },
    {
     "name": "stderr",
     "output_type": "stream",
     "text": [
      " 33%|███▎      | 33/100 [00:03<00:10,  6.13epoch/s]"
     ]
    },
    {
     "name": "stdout",
     "output_type": "stream",
     "text": [
      "epoch: 36: mean loss:   0.430041\n",
      "2019-04-10 18:23:54,770 - ampligraph.latent_features.models - INFO - Current best:0.7638190954773869\n",
      "Current best:0.7638190954773869\n",
      "2019-04-10 18:23:54,771 - ampligraph.latent_features.models - INFO - Current:0.7638190954773869\n"
     ]
    },
    {
     "name": "stderr",
     "output_type": "stream",
     "text": [
      " 36%|███▌      | 36/100 [00:03<00:10,  5.90epoch/s]"
     ]
    },
    {
     "name": "stdout",
     "output_type": "stream",
     "text": [
      "Current:0.7638190954773869\n",
      "2019-04-10 18:23:54,820 - ampligraph.latent_features.models - INFO - epoch: 37: mean loss:   0.427989\n"
     ]
    },
    {
     "name": "stderr",
     "output_type": "stream",
     "text": [
      " 36%|███▌      | 36/100 [00:04<00:10,  5.90epoch/s]"
     ]
    },
    {
     "name": "stdout",
     "output_type": "stream",
     "text": [
      "epoch: 37: mean loss:   0.427989\n",
      "2019-04-10 18:23:54,861 - ampligraph.latent_features.models - INFO - epoch: 38: mean loss:   0.421776\n"
     ]
    },
    {
     "name": "stderr",
     "output_type": "stream",
     "text": [
      " 36%|███▌      | 36/100 [00:04<00:10,  5.90epoch/s]"
     ]
    },
    {
     "name": "stdout",
     "output_type": "stream",
     "text": [
      "epoch: 38: mean loss:   0.421776\n",
      "2019-04-10 18:23:54,904 - ampligraph.latent_features.models - INFO - epoch: 39: mean loss:   0.419695\n"
     ]
    },
    {
     "name": "stderr",
     "output_type": "stream",
     "text": [
      " 39%|███▉      | 39/100 [00:04<00:08,  7.57epoch/s]"
     ]
    },
    {
     "name": "stdout",
     "output_type": "stream",
     "text": [
      "epoch: 39: mean loss:   0.419695\n",
      "2019-04-10 18:23:54,947 - ampligraph.latent_features.models - INFO - epoch: 40: mean loss:   0.417755\n"
     ]
    },
    {
     "name": "stderr",
     "output_type": "stream",
     "text": [
      " 39%|███▉      | 39/100 [00:04<00:08,  7.57epoch/s]"
     ]
    },
    {
     "name": "stdout",
     "output_type": "stream",
     "text": [
      "epoch: 40: mean loss:   0.417755\n",
      "2019-04-10 18:23:55,352 - ampligraph.latent_features.models - INFO - Current best:0.7738693467336684\n",
      "Current best:0.7738693467336684\n",
      "2019-04-10 18:23:55,353 - ampligraph.latent_features.models - INFO - Current:0.7738693467336684\n",
      "Current:0.7738693467336684\n",
      "2019-04-10 18:23:55,401 - ampligraph.latent_features.models - INFO - epoch: 41: mean loss:   0.412031\n"
     ]
    },
    {
     "name": "stderr",
     "output_type": "stream",
     "text": [
      " 41%|████      | 41/100 [00:04<00:09,  5.98epoch/s]"
     ]
    },
    {
     "name": "stdout",
     "output_type": "stream",
     "text": [
      "epoch: 41: mean loss:   0.412031\n",
      "2019-04-10 18:23:55,451 - ampligraph.latent_features.models - INFO - epoch: 42: mean loss:   0.410049\n"
     ]
    },
    {
     "name": "stderr",
     "output_type": "stream",
     "text": [
      " 41%|████      | 41/100 [00:04<00:09,  5.98epoch/s]"
     ]
    },
    {
     "name": "stdout",
     "output_type": "stream",
     "text": [
      "epoch: 42: mean loss:   0.410049\n",
      "2019-04-10 18:23:55,494 - ampligraph.latent_features.models - INFO - epoch: 43: mean loss:   0.406345\n"
     ]
    },
    {
     "name": "stderr",
     "output_type": "stream",
     "text": [
      " 41%|████      | 41/100 [00:04<00:09,  5.98epoch/s]"
     ]
    },
    {
     "name": "stdout",
     "output_type": "stream",
     "text": [
      "epoch: 43: mean loss:   0.406345\n",
      "2019-04-10 18:23:55,542 - ampligraph.latent_features.models - INFO - epoch: 44: mean loss:   0.400399\n"
     ]
    },
    {
     "name": "stderr",
     "output_type": "stream",
     "text": [
      " 41%|████      | 41/100 [00:04<00:09,  5.98epoch/s]"
     ]
    },
    {
     "name": "stdout",
     "output_type": "stream",
     "text": [
      "epoch: 44: mean loss:   0.400399\n",
      "2019-04-10 18:23:55,966 - ampligraph.latent_features.models - INFO - Current best:0.7889447236180904\n",
      "Current best:0.7889447236180904\n",
      "2019-04-10 18:23:55,967 - ampligraph.latent_features.models - INFO - Current:0.7889447236180904\n"
     ]
    },
    {
     "name": "stderr",
     "output_type": "stream",
     "text": [
      " 44%|████▍     | 44/100 [00:05<00:09,  5.77epoch/s]"
     ]
    },
    {
     "name": "stdout",
     "output_type": "stream",
     "text": [
      "Current:0.7889447236180904\n",
      "2019-04-10 18:23:56,013 - ampligraph.latent_features.models - INFO - epoch: 45: mean loss:   0.394735\n"
     ]
    },
    {
     "name": "stderr",
     "output_type": "stream",
     "text": [
      " 44%|████▍     | 44/100 [00:05<00:09,  5.77epoch/s]"
     ]
    },
    {
     "name": "stdout",
     "output_type": "stream",
     "text": [
      "epoch: 45: mean loss:   0.394735\n",
      "2019-04-10 18:23:56,056 - ampligraph.latent_features.models - INFO - epoch: 46: mean loss:   0.394836\n"
     ]
    },
    {
     "name": "stderr",
     "output_type": "stream",
     "text": [
      " 44%|████▍     | 44/100 [00:05<00:09,  5.77epoch/s]"
     ]
    },
    {
     "name": "stdout",
     "output_type": "stream",
     "text": [
      "epoch: 46: mean loss:   0.394836\n",
      "2019-04-10 18:23:56,105 - ampligraph.latent_features.models - INFO - epoch: 47: mean loss:   0.392859\n"
     ]
    },
    {
     "name": "stderr",
     "output_type": "stream",
     "text": [
      " 47%|████▋     | 47/100 [00:05<00:07,  7.38epoch/s]"
     ]
    },
    {
     "name": "stdout",
     "output_type": "stream",
     "text": [
      "epoch: 47: mean loss:   0.392859\n",
      "2019-04-10 18:23:56,153 - ampligraph.latent_features.models - INFO - epoch: 48: mean loss:   0.389345\n"
     ]
    },
    {
     "name": "stderr",
     "output_type": "stream",
     "text": [
      " 47%|████▋     | 47/100 [00:05<00:07,  7.38epoch/s]"
     ]
    },
    {
     "name": "stdout",
     "output_type": "stream",
     "text": [
      "epoch: 48: mean loss:   0.389345\n",
      "2019-04-10 18:23:56,562 - ampligraph.latent_features.models - INFO - Current best:0.8140703517587939\n",
      "Current best:0.8140703517587939\n",
      "2019-04-10 18:23:56,563 - ampligraph.latent_features.models - INFO - Current:0.8140703517587939\n",
      "Current:0.8140703517587939\n",
      "2019-04-10 18:23:56,607 - ampligraph.latent_features.models - INFO - epoch: 49: mean loss:   0.381182\n"
     ]
    },
    {
     "name": "stderr",
     "output_type": "stream",
     "text": [
      " 49%|████▉     | 49/100 [00:05<00:08,  5.87epoch/s]"
     ]
    },
    {
     "name": "stdout",
     "output_type": "stream",
     "text": [
      "epoch: 49: mean loss:   0.381182\n",
      "2019-04-10 18:23:56,657 - ampligraph.latent_features.models - INFO - epoch: 50: mean loss:   0.383120\n"
     ]
    },
    {
     "name": "stderr",
     "output_type": "stream",
     "text": [
      " 49%|████▉     | 49/100 [00:05<00:08,  5.87epoch/s]"
     ]
    },
    {
     "name": "stdout",
     "output_type": "stream",
     "text": [
      "epoch: 50: mean loss:   0.383120\n",
      "2019-04-10 18:23:56,704 - ampligraph.latent_features.models - INFO - epoch: 51: mean loss:   0.379908\n"
     ]
    },
    {
     "name": "stderr",
     "output_type": "stream",
     "text": [
      " 49%|████▉     | 49/100 [00:05<00:08,  5.87epoch/s]"
     ]
    },
    {
     "name": "stdout",
     "output_type": "stream",
     "text": [
      "epoch: 51: mean loss:   0.379908\n",
      "2019-04-10 18:23:56,750 - ampligraph.latent_features.models - INFO - epoch: 52: mean loss:   0.378909\n"
     ]
    },
    {
     "name": "stderr",
     "output_type": "stream",
     "text": [
      " 49%|████▉     | 49/100 [00:05<00:08,  5.87epoch/s]"
     ]
    },
    {
     "name": "stdout",
     "output_type": "stream",
     "text": [
      "epoch: 52: mean loss:   0.378909\n",
      "2019-04-10 18:23:57,159 - ampligraph.latent_features.models - INFO - Current best:0.8140703517587939\n",
      "Current best:0.8140703517587939\n",
      "2019-04-10 18:23:57,159 - ampligraph.latent_features.models - INFO - Current:0.8090452261306532\n"
     ]
    },
    {
     "name": "stderr",
     "output_type": "stream",
     "text": [
      " 52%|█████▏    | 52/100 [00:06<00:08,  5.75epoch/s]"
     ]
    },
    {
     "name": "stdout",
     "output_type": "stream",
     "text": [
      "Current:0.8090452261306532\n",
      "2019-04-10 18:23:57,201 - ampligraph.latent_features.models - INFO - epoch: 53: mean loss:   0.375017\n"
     ]
    },
    {
     "name": "stderr",
     "output_type": "stream",
     "text": [
      " 52%|█████▏    | 52/100 [00:06<00:08,  5.75epoch/s]"
     ]
    },
    {
     "name": "stdout",
     "output_type": "stream",
     "text": [
      "epoch: 53: mean loss:   0.375017\n",
      "2019-04-10 18:23:57,244 - ampligraph.latent_features.models - INFO - epoch: 54: mean loss:   0.370924\n"
     ]
    },
    {
     "name": "stderr",
     "output_type": "stream",
     "text": [
      " 52%|█████▏    | 52/100 [00:06<00:08,  5.75epoch/s]"
     ]
    },
    {
     "name": "stdout",
     "output_type": "stream",
     "text": [
      "epoch: 54: mean loss:   0.370924\n",
      "2019-04-10 18:23:57,289 - ampligraph.latent_features.models - INFO - epoch: 55: mean loss:   0.368265\n"
     ]
    },
    {
     "name": "stderr",
     "output_type": "stream",
     "text": [
      " 55%|█████▌    | 55/100 [00:06<00:06,  7.41epoch/s]"
     ]
    },
    {
     "name": "stdout",
     "output_type": "stream",
     "text": [
      "epoch: 55: mean loss:   0.368265\n",
      "2019-04-10 18:23:57,334 - ampligraph.latent_features.models - INFO - epoch: 56: mean loss:   0.368875\n"
     ]
    },
    {
     "name": "stderr",
     "output_type": "stream",
     "text": [
      " 55%|█████▌    | 55/100 [00:06<00:06,  7.41epoch/s]"
     ]
    },
    {
     "name": "stdout",
     "output_type": "stream",
     "text": [
      "epoch: 56: mean loss:   0.368875\n",
      "2019-04-10 18:23:57,745 - ampligraph.latent_features.models - INFO - Current best:0.8140703517587939\n",
      "Current best:0.8140703517587939\n",
      "2019-04-10 18:23:57,746 - ampligraph.latent_features.models - INFO - Current:0.7989949748743719\n",
      "Current:0.7989949748743719\n",
      "2019-04-10 18:23:57,793 - ampligraph.latent_features.models - INFO - epoch: 57: mean loss:   0.362015\n"
     ]
    },
    {
     "name": "stderr",
     "output_type": "stream",
     "text": [
      " 57%|█████▋    | 57/100 [00:07<00:07,  5.88epoch/s]"
     ]
    },
    {
     "name": "stdout",
     "output_type": "stream",
     "text": [
      "epoch: 57: mean loss:   0.362015\n",
      "2019-04-10 18:23:57,842 - ampligraph.latent_features.models - INFO - epoch: 58: mean loss:   0.361557\n"
     ]
    },
    {
     "name": "stderr",
     "output_type": "stream",
     "text": [
      " 57%|█████▋    | 57/100 [00:07<00:07,  5.88epoch/s]"
     ]
    },
    {
     "name": "stdout",
     "output_type": "stream",
     "text": [
      "epoch: 58: mean loss:   0.361557\n",
      "2019-04-10 18:23:57,889 - ampligraph.latent_features.models - INFO - epoch: 59: mean loss:   0.360408\n"
     ]
    },
    {
     "name": "stderr",
     "output_type": "stream",
     "text": [
      " 57%|█████▋    | 57/100 [00:07<00:07,  5.88epoch/s]"
     ]
    },
    {
     "name": "stdout",
     "output_type": "stream",
     "text": [
      "epoch: 59: mean loss:   0.360408\n",
      "2019-04-10 18:23:57,933 - ampligraph.latent_features.models - INFO - epoch: 60: mean loss:   0.358642\n"
     ]
    },
    {
     "name": "stderr",
     "output_type": "stream",
     "text": [
      " 57%|█████▋    | 57/100 [00:07<00:07,  5.88epoch/s]"
     ]
    },
    {
     "name": "stdout",
     "output_type": "stream",
     "text": [
      "epoch: 60: mean loss:   0.358642\n",
      "2019-04-10 18:23:58,333 - ampligraph.latent_features.models - INFO - Current best:0.8140703517587939\n",
      "Current best:0.8140703517587939\n",
      "2019-04-10 18:23:58,334 - ampligraph.latent_features.models - INFO - Current:0.7989949748743719\n"
     ]
    },
    {
     "name": "stderr",
     "output_type": "stream",
     "text": [
      " 60%|██████    | 60/100 [00:07<00:06,  5.78epoch/s]"
     ]
    },
    {
     "name": "stdout",
     "output_type": "stream",
     "text": [
      "Current:0.7989949748743719\n",
      "2019-04-10 18:23:58,380 - ampligraph.latent_features.models - INFO - epoch: 61: mean loss:   0.355684\n"
     ]
    },
    {
     "name": "stderr",
     "output_type": "stream",
     "text": [
      " 60%|██████    | 60/100 [00:07<00:06,  5.78epoch/s]"
     ]
    },
    {
     "name": "stdout",
     "output_type": "stream",
     "text": [
      "epoch: 61: mean loss:   0.355684\n",
      "2019-04-10 18:23:58,427 - ampligraph.latent_features.models - INFO - epoch: 62: mean loss:   0.356285\n"
     ]
    },
    {
     "name": "stderr",
     "output_type": "stream",
     "text": [
      " 60%|██████    | 60/100 [00:07<00:06,  5.78epoch/s]"
     ]
    },
    {
     "name": "stdout",
     "output_type": "stream",
     "text": [
      "epoch: 62: mean loss:   0.356285\n",
      "2019-04-10 18:23:58,472 - ampligraph.latent_features.models - INFO - epoch: 63: mean loss:   0.352092\n"
     ]
    },
    {
     "name": "stderr",
     "output_type": "stream",
     "text": [
      " 63%|██████▎   | 63/100 [00:07<00:04,  7.40epoch/s]"
     ]
    },
    {
     "name": "stdout",
     "output_type": "stream",
     "text": [
      "epoch: 63: mean loss:   0.352092\n",
      "2019-04-10 18:23:58,520 - ampligraph.latent_features.models - INFO - epoch: 64: mean loss:   0.351863\n"
     ]
    },
    {
     "name": "stderr",
     "output_type": "stream",
     "text": [
      " 63%|██████▎   | 63/100 [00:07<00:04,  7.40epoch/s]"
     ]
    },
    {
     "name": "stdout",
     "output_type": "stream",
     "text": [
      "epoch: 64: mean loss:   0.351863\n",
      "2019-04-10 18:23:58,939 - ampligraph.latent_features.models - INFO - Current best:0.8140703517587939\n",
      "Current best:0.8140703517587939\n",
      "2019-04-10 18:23:58,940 - ampligraph.latent_features.models - INFO - Current:0.8040201005025126\n",
      "Current:0.8040201005025126\n",
      "2019-04-10 18:23:58,986 - ampligraph.latent_features.models - INFO - epoch: 65: mean loss:   0.347416\n"
     ]
    },
    {
     "name": "stderr",
     "output_type": "stream",
     "text": [
      " 65%|██████▌   | 65/100 [00:08<00:06,  5.82epoch/s]"
     ]
    },
    {
     "name": "stdout",
     "output_type": "stream",
     "text": [
      "epoch: 65: mean loss:   0.347416\n",
      "2019-04-10 18:23:59,038 - ampligraph.latent_features.models - INFO - epoch: 66: mean loss:   0.349324\n"
     ]
    },
    {
     "name": "stderr",
     "output_type": "stream",
     "text": [
      " 65%|██████▌   | 65/100 [00:08<00:06,  5.82epoch/s]"
     ]
    },
    {
     "name": "stdout",
     "output_type": "stream",
     "text": [
      "epoch: 66: mean loss:   0.349324\n",
      "2019-04-10 18:23:59,086 - ampligraph.latent_features.models - INFO - epoch: 67: mean loss:   0.349854\n"
     ]
    },
    {
     "name": "stderr",
     "output_type": "stream",
     "text": [
      " 65%|██████▌   | 65/100 [00:08<00:06,  5.82epoch/s]"
     ]
    },
    {
     "name": "stdout",
     "output_type": "stream",
     "text": [
      "epoch: 67: mean loss:   0.349854\n",
      "2019-04-10 18:23:59,131 - ampligraph.latent_features.models - INFO - epoch: 68: mean loss:   0.343502\n"
     ]
    },
    {
     "name": "stderr",
     "output_type": "stream",
     "text": [
      " 65%|██████▌   | 65/100 [00:08<00:06,  5.82epoch/s]"
     ]
    },
    {
     "name": "stdout",
     "output_type": "stream",
     "text": [
      "epoch: 68: mean loss:   0.343502\n",
      "2019-04-10 18:23:59,531 - ampligraph.latent_features.models - INFO - Early stopping at epoch:68\n",
      "Early stopping at epoch:68\n",
      "2019-04-10 18:23:59,532 - ampligraph.latent_features.models - INFO - Best hits10:   0.814070\n",
      "Best hits10:   0.814070\n"
     ]
    },
    {
     "name": "stderr",
     "output_type": "stream",
     "text": [
      "\n"
     ]
    }
   ],
   "source": [
    "# Fit the model on training and validation set\n",
    "model.fit(data['train'], \n",
    "          early_stopping = True,\n",
    "          early_stopping_params = \\\n",
    "              {\n",
    "                  'x_valid': data['valid'],    \n",
    "                  'criteria':'hits10',         \n",
    "                  'burn_in': 20,                \n",
    "                  'check_interval':4,          \n",
    "                  'stop_interval':5,            \n",
    "                  'x_filter': positives_filter, \n",
    "                  'corruption_entities':'all',  \n",
    "                  'corrupt_side':'s+o'          \n",
    "              })\n",
    "\n",
    "    "
   ]
  },
  {
   "cell_type": "markdown",
   "metadata": {},
   "source": [
    "---\n",
    "## Saving and restoring a model\n",
    "\n",
    "Before we go any further, let's save the model so that we can restore it in future. "
   ]
  },
  {
   "cell_type": "code",
   "execution_count": 98,
   "metadata": {},
   "outputs": [],
   "source": [
    "from ampligraph.latent_features import save_model, restore_model"
   ]
  },
  {
   "cell_type": "markdown",
   "metadata": {},
   "source": [
    "This will save the model in the ampligraph_tutorial directory as *model.pickle*."
   ]
  },
  {
   "cell_type": "code",
   "execution_count": 88,
   "metadata": {},
   "outputs": [],
   "source": [
    "save_model(model, './ampligraph_tutorial')"
   ]
  },
  {
   "cell_type": "markdown",
   "metadata": {},
   "source": [
    ".. we can then delete the model .. "
   ]
  },
  {
   "cell_type": "code",
   "execution_count": 89,
   "metadata": {},
   "outputs": [],
   "source": [
    "del model"
   ]
  },
  {
   "cell_type": "markdown",
   "metadata": {},
   "source": [
    ".. and then restore it from disk! Ta-da! "
   ]
  },
  {
   "cell_type": "code",
   "execution_count": 90,
   "metadata": {},
   "outputs": [
    {
     "name": "stdout",
     "output_type": "stream",
     "text": [
      "------ Loss-----\n",
      "2019-04-10 18:23:59,601 - ampligraph.latent_features.loss_functions - INFO - Name:pairwise\n",
      "Name: pairwise\n",
      "2019-04-10 18:23:59,602 - ampligraph.latent_features.loss_functions - INFO - Parameters:\n",
      "Parameters:\n",
      "2019-04-10 18:23:59,603 - ampligraph.latent_features.loss_functions - INFO - \teta: \n",
      "   eta :  10\n",
      "2019-04-10 18:23:59,604 - ampligraph.latent_features.loss_functions - INFO - \tmargin: \n",
      "   margin :  0.5\n",
      "------ Regularizer-----\n",
      "2019-04-10 18:23:59,605 - ampligraph.latent_features.regularizers - INFO - ------ Regularizer-----\n",
      "Name: LP\n",
      "2019-04-10 18:23:59,606 - ampligraph.latent_features.regularizers - INFO - Name:LP\n",
      "Parameters:\n",
      "2019-04-10 18:23:59,607 - ampligraph.latent_features.regularizers - INFO - Parameters:\n",
      "2019-04-10 18:23:59,608 - ampligraph.latent_features.regularizers - INFO - \tlambda:1e-05\n",
      "\n",
      "   lambda :  1e-05\n",
      "2019-04-10 18:23:59,608 - ampligraph.latent_features.regularizers - INFO - \tp:2\n",
      "\n",
      "   p :  2\n"
     ]
    }
   ],
   "source": [
    "model = restore_model('./ampligraph_tutorial/')"
   ]
  },
  {
   "cell_type": "markdown",
   "metadata": {},
   "source": [
    "And let's just double check that the model we restored has been fit:"
   ]
  },
  {
   "cell_type": "code",
   "execution_count": 14,
   "metadata": {},
   "outputs": [
    {
     "name": "stdout",
     "output_type": "stream",
     "text": [
      "The model is fit!\n"
     ]
    }
   ],
   "source": [
    "if model.is_fitted:\n",
    "    print('The model is fit!')\n",
    "else:\n",
    "    print('The model is not fit! Did you skip a step?')"
   ]
  },
  {
   "cell_type": "markdown",
   "metadata": {},
   "source": [
    "---\n",
    "## Evaluating a model\n",
    "\n",
    "Now it's time to evaluate our model on the test set to see how well it's performing. \n",
    "\n",
    "For this we'll use the `evaluate_performance` function. "
   ]
  },
  {
   "cell_type": "code",
   "execution_count": 77,
   "metadata": {},
   "outputs": [],
   "source": [
    "from ampligraph.evaluation import evaluate_performance"
   ]
  },
  {
   "cell_type": "markdown",
   "metadata": {},
   "source": [
    "And let's look at the parameters required:\n",
    "\n",
    "- ***X*** - the data to evaluate on. We're going to use our test set to evaluate.\n",
    "- ***model*** - the model we previously trained.\n",
    "- ***filter_triples*** - will filter out the false negatives generated by the corruption strategy. \n",
    "- ***use_default_protocol*** - specifies whether to use the default corruption protocol. If True, then subj and obj are corrupted separately during evaluation.\n",
    "- ***verbose*** - will give some nice log statements. Let's leave it on for now.\n",
    "\n",
    "Run the cell below to evaluate the model and obtain ranks for each of the test set triples."
   ]
  },
  {
   "cell_type": "code",
   "execution_count": 78,
   "metadata": {},
   "outputs": [
    {
     "name": "stderr",
     "output_type": "stream",
     "text": [
      "100%|██████████| 201/201 [00:00<00:00, 211.28it/s]\n",
      "100%|██████████| 201/201 [00:00<00:00, 38.85it/s]"
     ]
    },
    {
     "name": "stdout",
     "output_type": "stream",
     "text": [
      "2019-04-10 18:23:15,899 - ampligraph.evaluation.protocol - INFO - Returning ranks of positive test triples obtained by corrupting ['s', 'o'].\n"
     ]
    },
    {
     "name": "stderr",
     "output_type": "stream",
     "text": [
      "\n"
     ]
    }
   ],
   "source": [
    "ranks = evaluate_performance(data['test'], \n",
    "                             model=model, \n",
    "                             filter_triples=positives_filter,\n",
    "                             use_default_protocol=True, # corrupt subj and obj separately while evaluating\n",
    "                             verbose=True)"
   ]
  },
  {
   "cell_type": "markdown",
   "metadata": {},
   "source": [
    "\n",
    "The ***ranks*** returned by the evaluate_performance function indicate the rank at which the test set triple was found when performing link prediction using the model. \n",
    "\n",
    "For example, given the triple:\n",
    "\n",
    "    <cuba, independence, usa> \n",
    "    \n",
    "The model may return a rank of 2. This tells us that while it's not the highest likelihood true statement (which would be given a rank of 1), it's pretty darn likely.\n"
   ]
  },
  {
   "cell_type": "markdown",
   "metadata": {},
   "source": [
    "Let's compute some evaluate metrics and print them out.\n",
    "\n",
    "We're going to use the mrr_score (mean reciprocal rank) and hits_at_n_score functions. \n",
    "\n",
    "- ***mrr_score***:  The function computes the mean of the reciprocal of elements of a vector of rankings ranks.\n",
    "\n",
    "\n",
    "#TODO: Get the LateX for the equation below\n",
    "\n",
    "It is formally defined as follows:\n",
    "MRR=1|Q|∑i=1|Q|1rank(s,p,o)i\n",
    "\n",
    "where Q\n",
    "is a set of triples and (s,p,o) is a triple ∈Q.\n",
    "\n",
    "- ***hits_at_n_score***: The function computes how many elements of a vector of rankings ranks make it to the top n positions.\n",
    "\n",
    "It is formally defined as follows:\n",
    "Hits@N=∑i=1|Q|1ifrank(s,p,o)i≤N\n",
    "\n",
    "where Q\n",
    "is a set of triples and (s,p,o) is a triple ∈Q.\n",
    "\n"
   ]
  },
  {
   "cell_type": "code",
   "execution_count": 97,
   "metadata": {},
   "outputs": [
    {
     "name": "stdout",
     "output_type": "stream",
     "text": [
      "MRR: 0.545759, Hits@10: 0.975124\n"
     ]
    }
   ],
   "source": [
    "from ampligraph.evaluation import mrr_score, hits_at_n_score\n",
    "\n",
    "mrr = mrr_score(ranks)\n",
    "hits_10 = hits_at_n_score(ranks, n=10)\n",
    "print(\"MRR: %f, Hits@10: %f\" % (mrr, hits_10))"
   ]
  },
  {
   "cell_type": "markdown",
   "metadata": {},
   "source": [
    "---\n",
    "## Performing link prediction\n",
    "\n",
    "Link prediction allows us to infer missing links in a graph. This has many real-world use cases, such as predicting connections between people in a social network, interactions between proteins in a biological network, and music recommendation based on prior user taste. \n",
    "\n",
    "In our case, we're going to see which of the following statements are more likely to be true:\n"
   ]
  },
  {
   "cell_type": "code",
   "execution_count": 91,
   "metadata": {},
   "outputs": [],
   "source": [
    "unseen_triples = np.array([['ussr', 'militaryalliance', 'usa'], \n",
    "                           ['usa', 'militaryalliance', 'ussr'], \n",
    "                           ['usa', 'boycottembargo', 'cuba'],\n",
    "                           ['ussr', 'attackembassy', 'cuba'],\n",
    "                           ['usa', 'militaryalliance', 'cuba'], \n",
    "                           ['usa', 'attackembassy', 'burma']]\n",
    "                         )"
   ]
  },
  {
   "cell_type": "markdown",
   "metadata": {},
   "source": [
    "Because our dataset here is a very small graph, there aren't actually all that many missing links \n",
    "\n",
    "Before predicting, let's make sure that our model wasn't trained on these statements. "
   ]
  },
  {
   "cell_type": "code",
   "execution_count": 92,
   "metadata": {},
   "outputs": [],
   "source": [
    "for new_triple in unseen_triples:\n",
    "    for train_triple in data['train']:\n",
    "        if np.all(train_triple == new_triple):\n",
    "            print('Machine learning? More like machine cheating!')"
   ]
  },
  {
   "cell_type": "markdown",
   "metadata": {},
   "source": [
    "Now lets make our predictions:"
   ]
  },
  {
   "cell_type": "code",
   "execution_count": 93,
   "metadata": {},
   "outputs": [],
   "source": [
    "predictions = model.predict(unseen_triples)"
   ]
  },
  {
   "cell_type": "markdown",
   "metadata": {},
   "source": [
    ".. and print them out. "
   ]
  },
  {
   "cell_type": "code",
   "execution_count": 96,
   "metadata": {
    "scrolled": true
   },
   "outputs": [
    {
     "name": "stdout",
     "output_type": "stream",
     "text": [
      "['ussr' 'militaryalliance' 'usa'] score: 0.29\n",
      "['usa' 'militaryalliance' 'ussr'] score: 0.05\n",
      "['usa' 'boycottembargo' 'cuba'] score: -0.08\n",
      "['ussr' 'attackembassy' 'cuba'] score: 0.06\n",
      "['usa' 'militaryalliance' 'cuba'] score: 0.25\n",
      "['usa' 'attackembassy' 'burma'] score: -0.13\n"
     ]
    }
   ],
   "source": [
    "for triple, y in zip(unseen_triples, predictions):\n",
    "    print(triple, 'score: %0.2f' % y)"
   ]
  },
  {
   "cell_type": "markdown",
   "metadata": {},
   "source": [
    "---\n",
    "# Comparing entities\n",
    "\n",
    "Sometimes you may want to compare two specific entities. Here we'll show you how to extract the embeddings for two named entities and calculate the cosine similarity between them.\n",
    "\n",
    "First, let's take a look at the entities in our model. During training the model maps entities to internal integer IDs, which we can look at by checking the `ent_to_idx` dict in the model. "
   ]
  },
  {
   "cell_type": "code",
   "execution_count": 155,
   "metadata": {
    "scrolled": true
   },
   "outputs": [
    {
     "name": "stdout",
     "output_type": "stream",
     "text": [
      "Model entities:\n",
      "ID: 0 \t brazil \n",
      "ID: 1 \t burma \n",
      "ID: 2 \t china \n",
      "ID: 3 \t cuba \n",
      "ID: 4 \t egypt \n",
      "ID: 5 \t india \n",
      "ID: 6 \t indonesia \n",
      "ID: 7 \t israel \n",
      "ID: 8 \t jordan \n",
      "ID: 9 \t netherlands \n",
      "ID: 10 \t poland \n",
      "ID: 11 \t uk \n",
      "ID: 12 \t usa \n",
      "ID: 13 \t ussr \n"
     ]
    }
   ],
   "source": [
    "print('Model entities:')\n",
    "for key, val in model.ent_to_idx.items():\n",
    "    print('ID: %d \\t %s ' %(val, key))"
   ]
  },
  {
   "cell_type": "markdown",
   "metadata": {},
   "source": [
    "We don't need to worry about these IDs, as we can use the `get_embeddings` function to retrieve embeddings from an entity string (or list of strings).\n",
    "\n",
    "Let's get the embeddings for '*india*' and '*egypt*' and calculate their similarity:"
   ]
  },
  {
   "cell_type": "code",
   "execution_count": 128,
   "metadata": {},
   "outputs": [],
   "source": [
    "embeddings = model.get_embeddings(['egypt', 'india'])"
   ]
  },
  {
   "cell_type": "markdown",
   "metadata": {},
   "source": [
    "We also need to define our `cosine_similarity` function:"
   ]
  },
  {
   "cell_type": "code",
   "execution_count": 133,
   "metadata": {},
   "outputs": [],
   "source": [
    "cosine_similarity = lambda A, B:  np.dot(A, B) / ( np.linalg.norm(A) * np.linalg.norm(B) )"
   ]
  },
  {
   "cell_type": "markdown",
   "metadata": {},
   "source": [
    "Now we can see how close '*india*' and '*egypt*' are in the embedding space:"
   ]
  },
  {
   "cell_type": "code",
   "execution_count": 140,
   "metadata": {},
   "outputs": [
    {
     "name": "stdout",
     "output_type": "stream",
     "text": [
      "0.17321563\n"
     ]
    }
   ],
   "source": [
    "sim = cosine_similarity(embeddings[0], embeddings[1])\n",
    "\n",
    "print(sim)"
   ]
  },
  {
   "cell_type": "markdown",
   "metadata": {},
   "source": [
    "Similarly, we can extract the embeddings for a *relation*:"
   ]
  },
  {
   "cell_type": "code",
   "execution_count": 156,
   "metadata": {
    "scrolled": true
   },
   "outputs": [
    {
     "name": "stdout",
     "output_type": "stream",
     "text": [
      "dict_keys(['accusation', 'aidenemy', 'attackembassy', 'blockpositionindex', 'booktranslations', 'boycottembargo', 'commonbloc0', 'commonbloc1', 'commonbloc2', 'conferences', 'dependent', 'duration', 'economicaid', 'eemigrants', 'embassy', 'emigrants3', 'expeldiplomats', 'exportbooks', 'exports3', 'independence', 'intergovorgs', 'intergovorgs3', 'lostterritory', 'militaryactions', 'militaryalliance', 'negativebehavior', 'negativecomm', 'ngo', 'ngoorgs3', 'nonviolentbehavior', 'officialvisits', 'pprotests', 'relbooktranslations', 'reldiplomacy', 'releconomicaid', 'relemigrants', 'relexportbooks', 'relexports', 'relintergovorgs', 'relngo', 'relstudents', 'reltourism', 'reltreaties', 'severdiplomatic', 'students', 'timesinceally', 'timesincewar', 'tourism', 'tourism3', 'treaties', 'unoffialacts', 'unweightedunvote', 'violentactions', 'warning', 'weightedunvote'])\n"
     ]
    }
   ],
   "source": [
    "print(model.rel_to_idx.keys())"
   ]
  },
  {
   "cell_type": "markdown",
   "metadata": {},
   "source": [
    "Relations are also mapped to internal integer IDs, and we can use the same `get_embeddings` function to return them, although we must specify `type='relation'`:"
   ]
  },
  {
   "cell_type": "code",
   "execution_count": 157,
   "metadata": {},
   "outputs": [
    {
     "name": "stdout",
     "output_type": "stream",
     "text": [
      "[-0.03753308  0.32619956 -0.39504996  0.32349876 -0.23779649 -0.5650244\n",
      " -0.15050094 -0.07272594 -0.06668092  0.02771894  0.24203274 -0.16239871\n",
      " -0.10952631  0.08926132 -0.13547944  0.10634978  0.05615523 -0.10192978\n",
      " -0.30027008  0.08138705]\n"
     ]
    }
   ],
   "source": [
    "emb_milalliance = model.get_embeddings('militaryalliance', type='relation')\n",
    "print(emb_milalliance)"
   ]
  },
  {
   "cell_type": "markdown",
   "metadata": {},
   "source": [
    "Once we have these embeddings, we can do some vector algebra to manually perform the link prediction task from above.\n",
    "\n",
    "Let's calculate the likelihood of the `<usa, militaryalliance, cuba>` triple being true:\n"
   ]
  },
  {
   "cell_type": "code",
   "execution_count": 191,
   "metadata": {},
   "outputs": [
    {
     "data": {
      "text/plain": [
       "0.25062627"
      ]
     },
     "execution_count": 191,
     "metadata": {},
     "output_type": "execute_result"
    }
   ],
   "source": [
    "emb_usa = model.get_embeddings('usa')\n",
    "emb_cuba = model.get_embeddings('cuba')\n",
    "\n",
    "def complex_predict(s, p, o):\n",
    "    # See Eq. 9 [Trouillon17)\n",
    "    s_real, s_img = np.split(s, 2)\n",
    "    p_real, p_img = np.split(p, 2)\n",
    "    o_real, o_img = np.split(o, 2)\n",
    "    \n",
    "    return np.sum(p_real * s_real * o_real) + \\\n",
    "           np.sum(p_real * s_img * o_img) + \\\n",
    "           np.sum(p_img * s_real * o_img) - \\\n",
    "           np.sum(p_img * s_img * o_real)\n",
    "\n",
    "complex_predict(emb_usa, emb_milalliance, emb_cuba)"
   ]
  },
  {
   "cell_type": "markdown",
   "metadata": {},
   "source": [
    "Which is the same result as the score output by the models `predict` function above:\n"
   ]
  },
  {
   "cell_type": "markdown",
   "metadata": {},
   "source": [
    "---\n",
    "# Visualizing with Tensorboard projector \n",
    "\n",
    "The kind folks at Google have created Tensorboard, which allows us to graph how our model is learning (or .. not :|), peer into the innards of neural networks, and visualize high-dimensional embeddings in the browser.   \n",
    "\n",
    "Lets import the `create_tensorboard_visualization` function, which simplifies the creation of the files necessary for Tensorboard to display the embeddings."
   ]
  },
  {
   "cell_type": "code",
   "execution_count": 22,
   "metadata": {},
   "outputs": [
    {
     "ename": "ImportError",
     "evalue": "cannot import name 'create_tensorboard_visualizations' from 'ampligraph.latent_features.model_utils' (/opt/anaconda3/envs/jupyterhub/lib/python3.7/site-packages/ampligraph/latent_features/model_utils.py)",
     "output_type": "error",
     "traceback": [
      "\u001b[0;31m---------------------------------------------------------------------------\u001b[0m",
      "\u001b[0;31mImportError\u001b[0m                               Traceback (most recent call last)",
      "\u001b[0;32m<ipython-input-22-7638b3159348>\u001b[0m in \u001b[0;36m<module>\u001b[0;34m\u001b[0m\n\u001b[0;32m----> 1\u001b[0;31m \u001b[0;32mfrom\u001b[0m \u001b[0mampligraph\u001b[0m\u001b[0;34m.\u001b[0m\u001b[0mlatent_features\u001b[0m\u001b[0;34m.\u001b[0m\u001b[0mmodel_utils\u001b[0m \u001b[0;32mimport\u001b[0m \u001b[0mcreate_tensorboard_visualizations\u001b[0m\u001b[0;34m\u001b[0m\u001b[0;34m\u001b[0m\u001b[0m\n\u001b[0m",
      "\u001b[0;31mImportError\u001b[0m: cannot import name 'create_tensorboard_visualizations' from 'ampligraph.latent_features.model_utils' (/opt/anaconda3/envs/jupyterhub/lib/python3.7/site-packages/ampligraph/latent_features/model_utils.py)"
     ]
    }
   ],
   "source": [
    "from ampligraph.latent_features.model_utils import create_tensorboard_visualizations"
   ]
  },
  {
   "cell_type": "markdown",
   "metadata": {},
   "source": [
    "And now we'll run the function with our model, specifying the output path:"
   ]
  },
  {
   "cell_type": "code",
   "execution_count": null,
   "metadata": {},
   "outputs": [],
   "source": [
    "create_tensorboard_visualizations(model, './ampligraph_tutorial/visualizations')"
   ]
  },
  {
   "cell_type": "markdown",
   "metadata": {},
   "source": [
    "If all went well, we should now have a number of files in the *'./ampligraph_tutoria/visualizations/'* directory:\n",
    "\n",
    "- checkpoint\n",
    "- metadata.tsv\n",
    "- projector_config.pbtxt\n",
    "- .. and a number of graph_embedding.ckpt.* files \n",
    "\n",
    "To visualize the embeddings in Tensorboard, run the following from your command line in the *ampligraph_tutorial* directory.\n",
    "\n",
    "    tensorboard --logdir=./visualizations\n",
    "    \n",
    "    \n",
    ".. and once your browser opens up you should be able to see and explore your embeddings as below. \n",
    "\n",
    "![title](tensorboard_graph_example.png)\n",
    "\n",
    "\n",
    "---\n",
    "## The End\n",
    "\n",
    "You made it to the end! Well done!\n",
    "\n",
    "For more information please visit:\n",
    "\n",
    "- github.com/Accenture/AmpliGraph (and remember to star the project!) \n",
    "- docs.ampligraph.com\n",
    "\n",
    "\n",
    "---\n"
   ]
  }
 ],
 "metadata": {
  "kernelspec": {
   "display_name": "Python [conda env:ampligraph]",
   "language": "python",
   "name": "conda-env-ampligraph-py"
  },
  "language_info": {
   "codemirror_mode": {
    "name": "ipython",
    "version": 3
   },
   "file_extension": ".py",
   "mimetype": "text/x-python",
   "name": "python",
   "nbconvert_exporter": "python",
   "pygments_lexer": "ipython3",
   "version": "3.7.3"
  }
 },
 "nbformat": 4,
 "nbformat_minor": 2
}
