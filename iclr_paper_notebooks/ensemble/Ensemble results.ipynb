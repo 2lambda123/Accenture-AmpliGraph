{
 "cells": [
  {
   "cell_type": "code",
   "execution_count": null,
   "metadata": {},
   "outputs": [],
   "source": [
    "import os\n",
    "import json\n",
    "import pandas as pd"
   ]
  },
  {
   "cell_type": "code",
   "execution_count": 110,
   "metadata": {},
   "outputs": [
    {
     "data": {
      "text/plain": [
       "{'calibration': [0.9482418160429852, 0.9575, 169.7262],\n",
       " 'mean': [0.9462264741248446, 0.955, 520.1792],\n",
       " 'expit': [0.94565264033078, 0.9549, 412.3635]}"
      ]
     },
     "execution_count": 110,
     "metadata": {},
     "output_type": "execute_result"
    }
   ],
   "source": [
    "results[0]"
   ]
  },
  {
   "cell_type": "code",
   "execution_count": 111,
   "metadata": {},
   "outputs": [],
   "source": [
    "results = []\n",
    "datasets = []\n",
    "for i in os.listdir():\n",
    "    if i.endswith(\"results.json\"):\n",
    "        with open(i, 'r') as f:\n",
    "            r = json.load(f)\n",
    "            results.append(r)\n",
    "            datasets.append(i.split('_results.json')[0])"
   ]
  },
  {
   "cell_type": "code",
   "execution_count": 112,
   "metadata": {},
   "outputs": [
    {
     "data": {
      "text/html": [
       "<div>\n",
       "<style scoped>\n",
       "    .dataframe tbody tr th:only-of-type {\n",
       "        vertical-align: middle;\n",
       "    }\n",
       "\n",
       "    .dataframe tbody tr th {\n",
       "        vertical-align: top;\n",
       "    }\n",
       "\n",
       "    .dataframe thead th {\n",
       "        text-align: right;\n",
       "    }\n",
       "</style>\n",
       "<table border=\"1\" class=\"dataframe\">\n",
       "  <thead>\n",
       "    <tr style=\"text-align: right;\">\n",
       "      <th></th>\n",
       "      <th>calibration</th>\n",
       "      <th>expit</th>\n",
       "      <th>mean</th>\n",
       "    </tr>\n",
       "  </thead>\n",
       "  <tbody>\n",
       "    <tr>\n",
       "      <th>WN18</th>\n",
       "      <td>[0.9482418160429852, 0.9575, 169.7262]</td>\n",
       "      <td>[0.94565264033078, 0.9549, 412.3635]</td>\n",
       "      <td>[0.9462264741248446, 0.955, 520.1792]</td>\n",
       "    </tr>\n",
       "    <tr>\n",
       "      <th>FB15K-237</th>\n",
       "      <td>[0.30994084986300474, 0.49226930228006655, 173...</td>\n",
       "      <td>[0.2762770332507093, 0.4652118602602994, 196.7...</td>\n",
       "      <td>[0.3162208948932377, 0.49867893140228986, 172....</td>\n",
       "    </tr>\n",
       "    <tr>\n",
       "      <th>WN18RR</th>\n",
       "      <td>[0.4950741010374487, 0.5714774281805746, 2329....</td>\n",
       "      <td>[0.49104252907088924, 0.5745554035567716, 3427...</td>\n",
       "      <td>[0.4837868888733338, 0.5528385772913816, 4218....</td>\n",
       "    </tr>\n",
       "    <tr>\n",
       "      <th>FB15K</th>\n",
       "      <td>[0.8304163548493824, 0.8984781026222681, 32.44...</td>\n",
       "      <td>[0.8174511174517024, 0.8859423405732085, 41.37...</td>\n",
       "      <td>[0.8101215219812599, 0.8991552538470654, 39.11...</td>\n",
       "    </tr>\n",
       "  </tbody>\n",
       "</table>\n",
       "</div>"
      ],
      "text/plain": [
       "                                                 calibration  \\\n",
       "WN18                  [0.9482418160429852, 0.9575, 169.7262]   \n",
       "FB15K-237  [0.30994084986300474, 0.49226930228006655, 173...   \n",
       "WN18RR     [0.4950741010374487, 0.5714774281805746, 2329....   \n",
       "FB15K      [0.8304163548493824, 0.8984781026222681, 32.44...   \n",
       "\n",
       "                                                       expit  \\\n",
       "WN18                    [0.94565264033078, 0.9549, 412.3635]   \n",
       "FB15K-237  [0.2762770332507093, 0.4652118602602994, 196.7...   \n",
       "WN18RR     [0.49104252907088924, 0.5745554035567716, 3427...   \n",
       "FB15K      [0.8174511174517024, 0.8859423405732085, 41.37...   \n",
       "\n",
       "                                                        mean  \n",
       "WN18                   [0.9462264741248446, 0.955, 520.1792]  \n",
       "FB15K-237  [0.3162208948932377, 0.49867893140228986, 172....  \n",
       "WN18RR     [0.4837868888733338, 0.5528385772913816, 4218....  \n",
       "FB15K      [0.8101215219812599, 0.8991552538470654, 39.11...  "
      ]
     },
     "execution_count": 112,
     "metadata": {},
     "output_type": "execute_result"
    }
   ],
   "source": [
    "df = pd.DataFrame(results)\n",
    "df.index = datasets\n",
    "df"
   ]
  },
  {
   "cell_type": "code",
   "execution_count": 113,
   "metadata": {},
   "outputs": [],
   "source": [
    "results = []\n",
    "datasets = []\n",
    "for i in os.listdir():\n",
    "    if i.endswith(\"metrics.json\"):\n",
    "        with open(i, 'r') as f:\n",
    "            r = json.load(f)\n",
    "            results.append(r)\n",
    "            datasets.append(i.split('_model_metrics.json')[0])"
   ]
  },
  {
   "cell_type": "code",
   "execution_count": 125,
   "metadata": {},
   "outputs": [
    {
     "ename": "ValueError",
     "evalue": "max() arg is an empty sequence",
     "output_type": "error",
     "traceback": [
      "\u001b[0;31m---------------------------------------------------------------------------\u001b[0m",
      "\u001b[0;31mValueError\u001b[0m                                Traceback (most recent call last)",
      "\u001b[0;32m<ipython-input-125-1fa82e9f8eac>\u001b[0m in \u001b[0;36m<module>\u001b[0;34m\u001b[0m\n\u001b[0;32m----> 1\u001b[0;31m \u001b[0mhighest_mrr\u001b[0m \u001b[0;34m=\u001b[0m \u001b[0;34m{\u001b[0m\u001b[0md\u001b[0m\u001b[0;34m:\u001b[0m \u001b[0mmax\u001b[0m\u001b[0;34m(\u001b[0m\u001b[0mi\u001b[0m\u001b[0;34m[\u001b[0m\u001b[0;36m2\u001b[0m\u001b[0;34m]\u001b[0m \u001b[0;32mfor\u001b[0m \u001b[0mi\u001b[0m \u001b[0;32min\u001b[0m \u001b[0mr\u001b[0m\u001b[0;34m)\u001b[0m \u001b[0;32mfor\u001b[0m \u001b[0mr\u001b[0m\u001b[0;34m,\u001b[0m \u001b[0md\u001b[0m \u001b[0;32min\u001b[0m \u001b[0mzip\u001b[0m\u001b[0;34m(\u001b[0m\u001b[0mresults\u001b[0m\u001b[0;34m,\u001b[0m \u001b[0mdatasets\u001b[0m\u001b[0;34m)\u001b[0m\u001b[0;34m}\u001b[0m\u001b[0;34m\u001b[0m\u001b[0;34m\u001b[0m\u001b[0m\n\u001b[0m\u001b[1;32m      2\u001b[0m \u001b[0;31m# highest_mrr = [highest_mrr[d] for d in df.index]\u001b[0m\u001b[0;34m\u001b[0m\u001b[0;34m\u001b[0m\u001b[0;34m\u001b[0m\u001b[0m\n",
      "\u001b[0;32m<ipython-input-125-1fa82e9f8eac>\u001b[0m in \u001b[0;36m<dictcomp>\u001b[0;34m(.0)\u001b[0m\n\u001b[0;32m----> 1\u001b[0;31m \u001b[0mhighest_mrr\u001b[0m \u001b[0;34m=\u001b[0m \u001b[0;34m{\u001b[0m\u001b[0md\u001b[0m\u001b[0;34m:\u001b[0m \u001b[0mmax\u001b[0m\u001b[0;34m(\u001b[0m\u001b[0mi\u001b[0m\u001b[0;34m[\u001b[0m\u001b[0;36m2\u001b[0m\u001b[0;34m]\u001b[0m \u001b[0;32mfor\u001b[0m \u001b[0mi\u001b[0m \u001b[0;32min\u001b[0m \u001b[0mr\u001b[0m\u001b[0;34m)\u001b[0m \u001b[0;32mfor\u001b[0m \u001b[0mr\u001b[0m\u001b[0;34m,\u001b[0m \u001b[0md\u001b[0m \u001b[0;32min\u001b[0m \u001b[0mzip\u001b[0m\u001b[0;34m(\u001b[0m\u001b[0mresults\u001b[0m\u001b[0;34m,\u001b[0m \u001b[0mdatasets\u001b[0m\u001b[0;34m)\u001b[0m\u001b[0;34m}\u001b[0m\u001b[0;34m\u001b[0m\u001b[0;34m\u001b[0m\u001b[0m\n\u001b[0m\u001b[1;32m      2\u001b[0m \u001b[0;31m# highest_mrr = [highest_mrr[d] for d in df.index]\u001b[0m\u001b[0;34m\u001b[0m\u001b[0;34m\u001b[0m\u001b[0;34m\u001b[0m\u001b[0m\n",
      "\u001b[0;31mValueError\u001b[0m: max() arg is an empty sequence"
     ]
    }
   ],
   "source": [
    "highest_mrr = {d: max(i[2] for i in r) for r, d in zip(results, datasets)}\n",
    "# highest_mrr = [highest_mrr[d] for d in df.index]"
   ]
  },
  {
   "cell_type": "code",
   "execution_count": 128,
   "metadata": {},
   "outputs": [
    {
     "ename": "TypeError",
     "evalue": "list indices must be integers or slices, not str",
     "output_type": "error",
     "traceback": [
      "\u001b[0;31m---------------------------------------------------------------------------\u001b[0m",
      "\u001b[0;31mTypeError\u001b[0m                                 Traceback (most recent call last)",
      "\u001b[0;32m<ipython-input-128-d69a8f68cab9>\u001b[0m in \u001b[0;36m<module>\u001b[0;34m\u001b[0m\n\u001b[1;32m      1\u001b[0m \u001b[0;31m#highest_h10 = {d: max(i[3] for i in r) for r, d in zip(results, datasets)}\u001b[0m\u001b[0;34m\u001b[0m\u001b[0;34m\u001b[0m\u001b[0;34m\u001b[0m\u001b[0m\n\u001b[0;32m----> 2\u001b[0;31m \u001b[0mhighest_h10\u001b[0m \u001b[0;34m=\u001b[0m \u001b[0;34m[\u001b[0m\u001b[0mhighest_h10\u001b[0m\u001b[0;34m[\u001b[0m\u001b[0md\u001b[0m\u001b[0;34m]\u001b[0m \u001b[0;32mfor\u001b[0m \u001b[0md\u001b[0m \u001b[0;32min\u001b[0m \u001b[0mdf\u001b[0m\u001b[0;34m.\u001b[0m\u001b[0mindex\u001b[0m\u001b[0;34m]\u001b[0m\u001b[0;34m\u001b[0m\u001b[0;34m\u001b[0m\u001b[0m\n\u001b[0m",
      "\u001b[0;32m<ipython-input-128-d69a8f68cab9>\u001b[0m in \u001b[0;36m<listcomp>\u001b[0;34m(.0)\u001b[0m\n\u001b[1;32m      1\u001b[0m \u001b[0;31m#highest_h10 = {d: max(i[3] for i in r) for r, d in zip(results, datasets)}\u001b[0m\u001b[0;34m\u001b[0m\u001b[0;34m\u001b[0m\u001b[0;34m\u001b[0m\u001b[0m\n\u001b[0;32m----> 2\u001b[0;31m \u001b[0mhighest_h10\u001b[0m \u001b[0;34m=\u001b[0m \u001b[0;34m[\u001b[0m\u001b[0mhighest_h10\u001b[0m\u001b[0;34m[\u001b[0m\u001b[0md\u001b[0m\u001b[0;34m]\u001b[0m \u001b[0;32mfor\u001b[0m \u001b[0md\u001b[0m \u001b[0;32min\u001b[0m \u001b[0mdf\u001b[0m\u001b[0;34m.\u001b[0m\u001b[0mindex\u001b[0m\u001b[0;34m]\u001b[0m\u001b[0;34m\u001b[0m\u001b[0;34m\u001b[0m\u001b[0m\n\u001b[0m",
      "\u001b[0;31mTypeError\u001b[0m: list indices must be integers or slices, not str"
     ]
    }
   ],
   "source": [
    "#highest_h10 = {d: max(i[3] for i in r) for r, d in zip(results, datasets)}\n",
    "highest_h10 = [highest_h10[d] for d in df.index]"
   ]
  },
  {
   "cell_type": "code",
   "execution_count": 126,
   "metadata": {},
   "outputs": [],
   "source": [
    "highest_mrr = [highest_mrr[d] for d in df.index]"
   ]
  },
  {
   "cell_type": "code",
   "execution_count": 115,
   "metadata": {},
   "outputs": [],
   "source": [
    "def highlight_max(s):\n",
    "    is_max = s == s.max()\n",
    "    return ['font-weight: bold' if v else '' for v in is_max]\n",
    "\n",
    "def highlight_min(s):\n",
    "    is_max = s == s.min()\n",
    "    return ['font-weight: bold' if v else '' for v in is_max]"
   ]
  },
  {
   "cell_type": "code",
   "execution_count": 127,
   "metadata": {
    "scrolled": true
   },
   "outputs": [
    {
     "data": {
      "text/html": [
       "<style  type=\"text/css\" >\n",
       "    #T_29f0026a_ddf1_11e9_b4bb_4525846683d9row0_col0 {\n",
       "            font-weight:  bold;\n",
       "        }    #T_29f0026a_ddf1_11e9_b4bb_4525846683d9row1_col2 {\n",
       "            font-weight:  bold;\n",
       "        }    #T_29f0026a_ddf1_11e9_b4bb_4525846683d9row2_col3 {\n",
       "            font-weight:  bold;\n",
       "        }    #T_29f0026a_ddf1_11e9_b4bb_4525846683d9row3_col0 {\n",
       "            font-weight:  bold;\n",
       "        }</style><table id=\"T_29f0026a_ddf1_11e9_b4bb_4525846683d9\" ><thead>    <tr>        <th class=\"blank level0\" ></th>        <th class=\"col_heading level0 col0\" >calibration</th>        <th class=\"col_heading level0 col1\" >expit</th>        <th class=\"col_heading level0 col2\" >mean</th>        <th class=\"col_heading level0 col3\" >best_model</th>    </tr></thead><tbody>\n",
       "                <tr>\n",
       "                        <th id=\"T_29f0026a_ddf1_11e9_b4bb_4525846683d9level0_row0\" class=\"row_heading level0 row0\" >WN18</th>\n",
       "                        <td id=\"T_29f0026a_ddf1_11e9_b4bb_4525846683d9row0_col0\" class=\"data row0 col0\" >0.948242</td>\n",
       "                        <td id=\"T_29f0026a_ddf1_11e9_b4bb_4525846683d9row0_col1\" class=\"data row0 col1\" >0.945653</td>\n",
       "                        <td id=\"T_29f0026a_ddf1_11e9_b4bb_4525846683d9row0_col2\" class=\"data row0 col2\" >0.946226</td>\n",
       "                        <td id=\"T_29f0026a_ddf1_11e9_b4bb_4525846683d9row0_col3\" class=\"data row0 col3\" >0.93709</td>\n",
       "            </tr>\n",
       "            <tr>\n",
       "                        <th id=\"T_29f0026a_ddf1_11e9_b4bb_4525846683d9level0_row1\" class=\"row_heading level0 row1\" >FB15K-237</th>\n",
       "                        <td id=\"T_29f0026a_ddf1_11e9_b4bb_4525846683d9row1_col0\" class=\"data row1 col0\" >0.309941</td>\n",
       "                        <td id=\"T_29f0026a_ddf1_11e9_b4bb_4525846683d9row1_col1\" class=\"data row1 col1\" >0.276277</td>\n",
       "                        <td id=\"T_29f0026a_ddf1_11e9_b4bb_4525846683d9row1_col2\" class=\"data row1 col2\" >0.316221</td>\n",
       "                        <td id=\"T_29f0026a_ddf1_11e9_b4bb_4525846683d9row1_col3\" class=\"data row1 col3\" >0.312254</td>\n",
       "            </tr>\n",
       "            <tr>\n",
       "                        <th id=\"T_29f0026a_ddf1_11e9_b4bb_4525846683d9level0_row2\" class=\"row_heading level0 row2\" >WN18RR</th>\n",
       "                        <td id=\"T_29f0026a_ddf1_11e9_b4bb_4525846683d9row2_col0\" class=\"data row2 col0\" >0.495074</td>\n",
       "                        <td id=\"T_29f0026a_ddf1_11e9_b4bb_4525846683d9row2_col1\" class=\"data row2 col1\" >0.491043</td>\n",
       "                        <td id=\"T_29f0026a_ddf1_11e9_b4bb_4525846683d9row2_col2\" class=\"data row2 col2\" >0.483787</td>\n",
       "                        <td id=\"T_29f0026a_ddf1_11e9_b4bb_4525846683d9row2_col3\" class=\"data row2 col3\" >0.498904</td>\n",
       "            </tr>\n",
       "            <tr>\n",
       "                        <th id=\"T_29f0026a_ddf1_11e9_b4bb_4525846683d9level0_row3\" class=\"row_heading level0 row3\" >FB15K</th>\n",
       "                        <td id=\"T_29f0026a_ddf1_11e9_b4bb_4525846683d9row3_col0\" class=\"data row3 col0\" >0.830416</td>\n",
       "                        <td id=\"T_29f0026a_ddf1_11e9_b4bb_4525846683d9row3_col1\" class=\"data row3 col1\" >0.817451</td>\n",
       "                        <td id=\"T_29f0026a_ddf1_11e9_b4bb_4525846683d9row3_col2\" class=\"data row3 col2\" >0.810122</td>\n",
       "                        <td id=\"T_29f0026a_ddf1_11e9_b4bb_4525846683d9row3_col3\" class=\"data row3 col3\" >0.790986</td>\n",
       "            </tr>\n",
       "    </tbody></table>"
      ],
      "text/plain": [
       "<pandas.io.formats.style.Styler at 0x7fd6793bf978>"
      ]
     },
     "execution_count": 127,
     "metadata": {},
     "output_type": "execute_result"
    }
   ],
   "source": [
    "df_mrr = df.apply(lambda x: x.str[0])\n",
    "df_mrr[\"best_model\"] = highest_mrr\n",
    "df_mrr.style.apply(highlight_max, axis=1)\n",
    "#df_mrr"
   ]
  },
  {
   "cell_type": "code",
   "execution_count": 130,
   "metadata": {},
   "outputs": [
    {
     "data": {
      "text/html": [
       "<style  type=\"text/css\" >\n",
       "    #T_46a0d3f8_ddf1_11e9_b4bb_4525846683d9row0_col0 {\n",
       "            font-weight:  bold;\n",
       "        }    #T_46a0d3f8_ddf1_11e9_b4bb_4525846683d9row1_col2 {\n",
       "            font-weight:  bold;\n",
       "        }    #T_46a0d3f8_ddf1_11e9_b4bb_4525846683d9row2_col1 {\n",
       "            font-weight:  bold;\n",
       "        }    #T_46a0d3f8_ddf1_11e9_b4bb_4525846683d9row3_col2 {\n",
       "            font-weight:  bold;\n",
       "        }</style><table id=\"T_46a0d3f8_ddf1_11e9_b4bb_4525846683d9\" ><thead>    <tr>        <th class=\"blank level0\" ></th>        <th class=\"col_heading level0 col0\" >calibration</th>        <th class=\"col_heading level0 col1\" >expit</th>        <th class=\"col_heading level0 col2\" >mean</th>        <th class=\"col_heading level0 col3\" >best_model</th>    </tr></thead><tbody>\n",
       "                <tr>\n",
       "                        <th id=\"T_46a0d3f8_ddf1_11e9_b4bb_4525846683d9level0_row0\" class=\"row_heading level0 row0\" >WN18</th>\n",
       "                        <td id=\"T_46a0d3f8_ddf1_11e9_b4bb_4525846683d9row0_col0\" class=\"data row0 col0\" >0.9575</td>\n",
       "                        <td id=\"T_46a0d3f8_ddf1_11e9_b4bb_4525846683d9row0_col1\" class=\"data row0 col1\" >0.9549</td>\n",
       "                        <td id=\"T_46a0d3f8_ddf1_11e9_b4bb_4525846683d9row0_col2\" class=\"data row0 col2\" >0.955</td>\n",
       "                        <td id=\"T_46a0d3f8_ddf1_11e9_b4bb_4525846683d9row0_col3\" class=\"data row0 col3\" >0.9521</td>\n",
       "            </tr>\n",
       "            <tr>\n",
       "                        <th id=\"T_46a0d3f8_ddf1_11e9_b4bb_4525846683d9level0_row1\" class=\"row_heading level0 row1\" >FB15K-237</th>\n",
       "                        <td id=\"T_46a0d3f8_ddf1_11e9_b4bb_4525846683d9row1_col0\" class=\"data row1 col0\" >0.492269</td>\n",
       "                        <td id=\"T_46a0d3f8_ddf1_11e9_b4bb_4525846683d9row1_col1\" class=\"data row1 col1\" >0.465212</td>\n",
       "                        <td id=\"T_46a0d3f8_ddf1_11e9_b4bb_4525846683d9row1_col2\" class=\"data row1 col2\" >0.498679</td>\n",
       "                        <td id=\"T_46a0d3f8_ddf1_11e9_b4bb_4525846683d9row1_col3\" class=\"data row1 col3\" >0.493248</td>\n",
       "            </tr>\n",
       "            <tr>\n",
       "                        <th id=\"T_46a0d3f8_ddf1_11e9_b4bb_4525846683d9level0_row2\" class=\"row_heading level0 row2\" >WN18RR</th>\n",
       "                        <td id=\"T_46a0d3f8_ddf1_11e9_b4bb_4525846683d9row2_col0\" class=\"data row2 col0\" >0.571477</td>\n",
       "                        <td id=\"T_46a0d3f8_ddf1_11e9_b4bb_4525846683d9row2_col1\" class=\"data row2 col1\" >0.574555</td>\n",
       "                        <td id=\"T_46a0d3f8_ddf1_11e9_b4bb_4525846683d9row2_col2\" class=\"data row2 col2\" >0.552839</td>\n",
       "                        <td id=\"T_46a0d3f8_ddf1_11e9_b4bb_4525846683d9row2_col3\" class=\"data row2 col3\" >0.566518</td>\n",
       "            </tr>\n",
       "            <tr>\n",
       "                        <th id=\"T_46a0d3f8_ddf1_11e9_b4bb_4525846683d9level0_row3\" class=\"row_heading level0 row3\" >FB15K</th>\n",
       "                        <td id=\"T_46a0d3f8_ddf1_11e9_b4bb_4525846683d9row3_col0\" class=\"data row3 col0\" >0.898478</td>\n",
       "                        <td id=\"T_46a0d3f8_ddf1_11e9_b4bb_4525846683d9row3_col1\" class=\"data row3 col1\" >0.885942</td>\n",
       "                        <td id=\"T_46a0d3f8_ddf1_11e9_b4bb_4525846683d9row3_col2\" class=\"data row3 col2\" >0.899155</td>\n",
       "                        <td id=\"T_46a0d3f8_ddf1_11e9_b4bb_4525846683d9row3_col3\" class=\"data row3 col3\" >0.865933</td>\n",
       "            </tr>\n",
       "    </tbody></table>"
      ],
      "text/plain": [
       "<pandas.io.formats.style.Styler at 0x7fd679437048>"
      ]
     },
     "execution_count": 130,
     "metadata": {},
     "output_type": "execute_result"
    }
   ],
   "source": [
    "df_h10 = df.apply(lambda x: x.str[1])\n",
    "df_h10[\"best_model\"] = highest_h10[:-1]\n",
    "df_h10.style.apply(highlight_max, axis=1)\n",
    "#df_h10"
   ]
  },
  {
   "cell_type": "code",
   "execution_count": 122,
   "metadata": {},
   "outputs": [
    {
     "data": {
      "text/html": [
       "<style  type=\"text/css\" >\n",
       "    #T_de52093e_ddf0_11e9_b4bb_4525846683d9row0_col0 {\n",
       "            font-weight:  bold;\n",
       "        }    #T_de52093e_ddf0_11e9_b4bb_4525846683d9row1_col2 {\n",
       "            font-weight:  bold;\n",
       "        }    #T_de52093e_ddf0_11e9_b4bb_4525846683d9row2_col0 {\n",
       "            font-weight:  bold;\n",
       "        }    #T_de52093e_ddf0_11e9_b4bb_4525846683d9row3_col0 {\n",
       "            font-weight:  bold;\n",
       "        }</style><table id=\"T_de52093e_ddf0_11e9_b4bb_4525846683d9\" ><thead>    <tr>        <th class=\"blank level0\" ></th>        <th class=\"col_heading level0 col0\" >calibration</th>        <th class=\"col_heading level0 col1\" >expit</th>        <th class=\"col_heading level0 col2\" >mean</th>    </tr></thead><tbody>\n",
       "                <tr>\n",
       "                        <th id=\"T_de52093e_ddf0_11e9_b4bb_4525846683d9level0_row0\" class=\"row_heading level0 row0\" >WN18</th>\n",
       "                        <td id=\"T_de52093e_ddf0_11e9_b4bb_4525846683d9row0_col0\" class=\"data row0 col0\" >169.726</td>\n",
       "                        <td id=\"T_de52093e_ddf0_11e9_b4bb_4525846683d9row0_col1\" class=\"data row0 col1\" >412.363</td>\n",
       "                        <td id=\"T_de52093e_ddf0_11e9_b4bb_4525846683d9row0_col2\" class=\"data row0 col2\" >520.179</td>\n",
       "            </tr>\n",
       "            <tr>\n",
       "                        <th id=\"T_de52093e_ddf0_11e9_b4bb_4525846683d9level0_row1\" class=\"row_heading level0 row1\" >FB15K-237</th>\n",
       "                        <td id=\"T_de52093e_ddf0_11e9_b4bb_4525846683d9row1_col0\" class=\"data row1 col0\" >173.282</td>\n",
       "                        <td id=\"T_de52093e_ddf0_11e9_b4bb_4525846683d9row1_col1\" class=\"data row1 col1\" >196.765</td>\n",
       "                        <td id=\"T_de52093e_ddf0_11e9_b4bb_4525846683d9row1_col2\" class=\"data row1 col2\" >172.992</td>\n",
       "            </tr>\n",
       "            <tr>\n",
       "                        <th id=\"T_de52093e_ddf0_11e9_b4bb_4525846683d9level0_row2\" class=\"row_heading level0 row2\" >WN18RR</th>\n",
       "                        <td id=\"T_de52093e_ddf0_11e9_b4bb_4525846683d9row2_col0\" class=\"data row2 col0\" >2329.88</td>\n",
       "                        <td id=\"T_de52093e_ddf0_11e9_b4bb_4525846683d9row2_col1\" class=\"data row2 col1\" >3427.87</td>\n",
       "                        <td id=\"T_de52093e_ddf0_11e9_b4bb_4525846683d9row2_col2\" class=\"data row2 col2\" >4218.94</td>\n",
       "            </tr>\n",
       "            <tr>\n",
       "                        <th id=\"T_de52093e_ddf0_11e9_b4bb_4525846683d9level0_row3\" class=\"row_heading level0 row3\" >FB15K</th>\n",
       "                        <td id=\"T_de52093e_ddf0_11e9_b4bb_4525846683d9row3_col0\" class=\"data row3 col0\" >32.4415</td>\n",
       "                        <td id=\"T_de52093e_ddf0_11e9_b4bb_4525846683d9row3_col1\" class=\"data row3 col1\" >41.3706</td>\n",
       "                        <td id=\"T_de52093e_ddf0_11e9_b4bb_4525846683d9row3_col2\" class=\"data row3 col2\" >39.1107</td>\n",
       "            </tr>\n",
       "    </tbody></table>"
      ],
      "text/plain": [
       "<pandas.io.formats.style.Styler at 0x7fd6793e7668>"
      ]
     },
     "execution_count": 122,
     "metadata": {},
     "output_type": "execute_result"
    }
   ],
   "source": [
    "df_mr = df.apply(lambda x: x.str[2])\n",
    "df_mr.style.apply(highlight_min, axis=1)\n",
    "#df_h10[\"best_model\"] = highest_h10\n",
    "#df_h10"
   ]
  },
  {
   "cell_type": "code",
   "execution_count": 123,
   "metadata": {},
   "outputs": [
    {
     "data": {
      "text/plain": [
       "{'YAGO310': 0.49252375009674615,\n",
       " 'WN18': 0.9370897018148447,\n",
       " 'FB15K': 0.7909863110141999,\n",
       " 'WN18RR': 0.4989036614319976,\n",
       " 'FB15K-237': 0.3122540354022498}"
      ]
     },
     "execution_count": 123,
     "metadata": {},
     "output_type": "execute_result"
    }
   ],
   "source": [
    "highest_mrr"
   ]
  },
  {
   "cell_type": "code",
   "execution_count": 124,
   "metadata": {},
   "outputs": [
    {
     "data": {
      "text/plain": [
       "[[['ComplEx',\n",
       "   'pairwise',\n",
       "   0.3528233770480353,\n",
       "   0.5586109995985548,\n",
       "   3073.1537535126454],\n",
       "  ['ComplEx',\n",
       "   'nll',\n",
       "   0.37037438848759635,\n",
       "   0.5846045764753112,\n",
       "   3683.745985547973],\n",
       "  ['ComplEx',\n",
       "   'multiclass_nll',\n",
       "   0.35714381298533293,\n",
       "   0.5577077478924127,\n",
       "   1148.1868727418707],\n",
       "  ['ComplEx',\n",
       "   'self_adversarial',\n",
       "   0.3863423295005946,\n",
       "   0.587213970293055,\n",
       "   4027.3383179446005],\n",
       "  ['DistMult',\n",
       "   'pairwise',\n",
       "   0.35477886855575297,\n",
       "   0.5618225612203934,\n",
       "   3237.5152549177037],\n",
       "  ['DistMult',\n",
       "   'nll',\n",
       "   0.3658541655242271,\n",
       "   0.5857085507828181,\n",
       "   3127.956142111602],\n",
       "  ['DistMult',\n",
       "   'multiclass_nll',\n",
       "   0.36637536918561603,\n",
       "   0.5704536330790847,\n",
       "   1072.3648133279808],\n",
       "  ['DistMult',\n",
       "   'self_adversarial',\n",
       "   0.3909030098447516,\n",
       "   0.6263548775592132,\n",
       "   2606.2843235648334],\n",
       "  ['TransE',\n",
       "   'pairwise',\n",
       "   0.44092180563668515,\n",
       "   0.6351866720192694,\n",
       "   2728.4987956643918],\n",
       "  ['TransE',\n",
       "   'nll',\n",
       "   0.06544579199898803,\n",
       "   0.11250501806503413,\n",
       "   2917.9743075070255],\n",
       "  ['TransE',\n",
       "   'multiclass_nll',\n",
       "   0.49252375009674615,\n",
       "   0.6690084303492573,\n",
       "   1094.069550381373],\n",
       "  ['TransE',\n",
       "   'self_adversarial',\n",
       "   0.1624590231869168,\n",
       "   0.29175030108390204,\n",
       "   739.9743075070253],\n",
       "  ['HolE',\n",
       "   'pairwise',\n",
       "   0.17266446105345332,\n",
       "   0.31563629064632676,\n",
       "   2677.514552388599],\n",
       "  ['HolE', 'nll', 0.13007306121823115, 0.2655560016057808, 3229.273384183059],\n",
       "  ['HolE',\n",
       "   'multiclass_nll',\n",
       "   0.19102933965827004,\n",
       "   0.3268767563227619,\n",
       "   1227.3741469289441],\n",
       "  ['HolE',\n",
       "   'self_adversarial',\n",
       "   0.11601390922063667,\n",
       "   0.21407065435568046,\n",
       "   2997.6494379767164]],\n",
       " [],\n",
       " [],\n",
       " [],\n",
       " [['ComplEx',\n",
       "   'pairwise',\n",
       "   0.2800205668838034,\n",
       "   0.4677316762892651,\n",
       "   238.15309717193463],\n",
       "  ['ComplEx',\n",
       "   'nll',\n",
       "   0.20037561492921818,\n",
       "   0.3775075839123202,\n",
       "   423.0822976807907],\n",
       "  ['ComplEx',\n",
       "   'multiclass_nll',\n",
       "   0.30638697562466916,\n",
       "   0.488330560720227,\n",
       "   200.06035326352873],\n",
       "  ['ComplEx',\n",
       "   'self_adversarial',\n",
       "   0.25269298324089645,\n",
       "   0.4210539191701732,\n",
       "   595.5817105391917],\n",
       "  ['DistMult',\n",
       "   'pairwise',\n",
       "   0.288360854059279,\n",
       "   0.47580487327527154,\n",
       "   242.17751247675898],\n",
       "  ['DistMult',\n",
       "   'nll',\n",
       "   0.21153322747714098,\n",
       "   0.38824738232703787,\n",
       "   361.5906399843429],\n",
       "  ['DistMult',\n",
       "   'multiclass_nll',\n",
       "   0.3122540354022498,\n",
       "   0.4932478716117037,\n",
       "   198.8441383697035],\n",
       "  ['DistMult',\n",
       "   'self_adversarial',\n",
       "   0.262361152304941,\n",
       "   0.43671102847636756,\n",
       "   355.15299931500147],\n",
       "  ['TransE',\n",
       "   'pairwise',\n",
       "   0.17572978778576107,\n",
       "   0.38670613562970935,\n",
       "   482.0752519816029],\n",
       "  ['TransE',\n",
       "   'nll',\n",
       "   0.1572602063658632,\n",
       "   0.26281925824444663,\n",
       "   515.9755846951756],\n",
       "  ['TransE',\n",
       "   'multiclass_nll',\n",
       "   0.29039135298929736,\n",
       "   0.4837802133281143,\n",
       "   214.50022017809962],\n",
       "  ['TransE',\n",
       "   'self_adversarial',\n",
       "   0.2857103529651951,\n",
       "   0.466728642724337,\n",
       "   178.70295527938154],\n",
       "  ['HolE',\n",
       "   'pairwise',\n",
       "   0.2782842455653428,\n",
       "   0.4569918778745474,\n",
       "   213.7575594480869],\n",
       "  ['HolE', 'nll', 0.21040693699116564, 0.3787307955768666, 345.9985566102358],\n",
       "  ['HolE',\n",
       "   'multiclass_nll',\n",
       "   0.2926622871175052,\n",
       "   0.45995205010274975,\n",
       "   200.758660338585],\n",
       "  ['HolE',\n",
       "   'self_adversarial',\n",
       "   0.2362520080740106,\n",
       "   0.390253449456894,\n",
       "   376.7607397984147]]]"
      ]
     },
     "execution_count": 124,
     "metadata": {},
     "output_type": "execute_result"
    }
   ],
   "source": [
    "results"
   ]
  },
  {
   "cell_type": "code",
   "execution_count": 129,
   "metadata": {},
   "outputs": [
    {
     "data": {
      "text/plain": [
       "[0.9521,\n",
       " 0.4932478716117037,\n",
       " 0.5665184678522572,\n",
       " 0.865932521880449,\n",
       " 0.6690084303492573]"
      ]
     },
     "execution_count": 129,
     "metadata": {},
     "output_type": "execute_result"
    }
   ],
   "source": [
    "highest_h10"
   ]
  },
  {
   "cell_type": "code",
   "execution_count": null,
   "metadata": {},
   "outputs": [],
   "source": []
  }
 ],
 "metadata": {
  "kernelspec": {
   "display_name": "Python 3",
   "language": "python",
   "name": "python3"
  },
  "language_info": {
   "codemirror_mode": {
    "name": "ipython",
    "version": 3
   },
   "file_extension": ".py",
   "mimetype": "text/x-python",
   "name": "python",
   "nbconvert_exporter": "python",
   "pygments_lexer": "ipython3",
   "version": "3.7.3"
  }
 },
 "nbformat": 4,
 "nbformat_minor": 2
}
