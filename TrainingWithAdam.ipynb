{
 "cells": [
  {
   "cell_type": "code",
   "execution_count": 1,
   "metadata": {
    "scrolled": true
   },
   "outputs": [
    {
     "name": "stdout",
     "output_type": "stream",
     "text": [
      "2.4.0-dev20201007\n"
     ]
    }
   ],
   "source": [
    "import os\n",
    "os.environ['CUDA_VISIBLE_DEVICES'] = '1'\n",
    "os.environ['TF_CPP_MIN_LOG_LEVEL'] = '2' \n",
    "import tensorflow as tf\n",
    "tf.get_logger().setLevel('ERROR')\n",
    "import pandas as pd\n",
    "tf.config.set_soft_device_placement(False)\n",
    "tf.debugging.set_log_device_placement(True)\n",
    "import numpy as np\n",
    "from ampligraph.datasets import load_fb15k_237, load_yago3_10\n",
    "from ampligraph.evaluation.protocol import create_mappings, to_idx\n",
    "\n",
    "from ampligraph.evaluation.metrics import mrr_score, hits_at_n_score, mr_score\n",
    "import time\n",
    "print(tf.__version__)\n",
    "assert(tf.__version__.startswith('2.4'))\n",
    "\n",
    "from ampligraph.datasets import load_fb15k_237, load_fb13, load_fb15k, load_wn11, load_wn18, load_wn18rr, load_yago3_10\n",
    "from ampligraph.latent_features import ScoringBasedEmbeddingModel"
   ]
  },
  {
   "cell_type": "code",
   "execution_count": 2,
   "metadata": {},
   "outputs": [],
   "source": [
    "#loss function\n",
    "def nll(scores_pos, scores_neg):\n",
    "    neg_exp = tf.exp(scores_neg)\n",
    "    pos_exp = tf.exp(scores_pos)\n",
    "    softmax_score = pos_exp / (tf.reduce_sum(neg_exp, axis=0) + pos_exp)\n",
    "\n",
    "    loss = -tf.math.log(softmax_score)\n",
    "    return loss"
   ]
  },
  {
   "cell_type": "markdown",
   "metadata": {},
   "source": [
    "# Train/eval without partition"
   ]
  },
  {
   "cell_type": "code",
   "execution_count": 3,
   "metadata": {},
   "outputs": [
    {
     "name": "stdout",
     "output_type": "stream",
     "text": [
      "Epoch 1/10\n"
     ]
    },
    {
     "name": "stderr",
     "output_type": "stream",
     "text": [
      "/home/spai/.conda/envs/tf_nightly/lib/python3.7/site-packages/tensorflow/python/framework/indexed_slices.py:437: UserWarning: Converting sparse IndexedSlices(IndexedSlices(indices=Tensor(\"PartitionedCall_2:1\", shape=(None,), dtype=int32), values=Tensor(\"PartitionedCall_2:0\", shape=(None, 300), dtype=float32), dense_shape=Tensor(\"PartitionedCall_2:2\", shape=(2,), dtype=int32))) to a dense Tensor of unknown shape. This may consume a large amount of memory.\n",
      "  \"shape. This may consume a large amount of memory.\" % value)\n",
      "/home/spai/.conda/envs/tf_nightly/lib/python3.7/site-packages/tensorflow/python/framework/indexed_slices.py:437: UserWarning: Converting sparse IndexedSlices(IndexedSlices(indices=Tensor(\"PartitionedCall_2:4\", shape=(None,), dtype=int32), values=Tensor(\"PartitionedCall_2:3\", shape=(None, 300), dtype=float32), dense_shape=Tensor(\"PartitionedCall_2:5\", shape=(2,), dtype=int32))) to a dense Tensor of unknown shape. This may consume a large amount of memory.\n",
      "  \"shape. This may consume a large amount of memory.\" % value)\n"
     ]
    },
    {
     "name": "stdout",
     "output_type": "stream",
     "text": [
      "     28/Unknown - 2s 72ms/step - loss: 1.4029\n",
      "Epoch 00001: loss improved from inf to 1.40221, saving model to ./chkpt1\n",
      "29/29 [==============================] - 2s 71ms/step - loss: 1.4022\n",
      "Epoch 2/10\n",
      "28/29 [===========================>..] - ETA: 0s - loss: 1.3488\n",
      "Epoch 00002: loss improved from 1.40221 to 1.34860, saving model to ./chkpt1\n",
      "29/29 [==============================] - 1s 36ms/step - loss: 1.3486\n",
      "Epoch 3/10\n",
      "28/29 [===========================>..] - ETA: 0s - loss: 1.3259\n",
      "Epoch 00003: loss improved from 1.34860 to 1.32573, saving model to ./chkpt1\n",
      "29/29 [==============================] - 1s 37ms/step - loss: 1.3257\n",
      "Epoch 4/10\n",
      "28/29 [===========================>..] - ETA: 0s - loss: 1.3124\n",
      "Epoch 00004: loss improved from 1.32573 to 1.31234, saving model to ./chkpt1\n",
      "29/29 [==============================] - 1s 37ms/step - loss: 1.3123\n",
      "Epoch 5/10\n",
      "28/29 [===========================>..] - ETA: 0s - loss: 1.3033\n",
      "9 triples containing invalid keys skipped!\n",
      "177/177 [==============================] - 5s 30ms/step\n",
      "\n",
      "Epoch 00005: loss improved from 1.31234 to 1.30322, saving model to ./chkpt1\n",
      "29/29 [==============================] - 6s 221ms/step - loss: 1.3032 - val_mrr: 0.0842 - val_mr: 412.9303 - val_hits@1: 0.0000e+00 - val_hits@10: 0.2396\n",
      "Epoch 6/10\n",
      "28/29 [===========================>..] - ETA: 0s - loss: 1.2964\n",
      "Epoch 00006: loss improved from 1.30322 to 1.29640, saving model to ./chkpt1\n",
      "29/29 [==============================] - 1s 37ms/step - loss: 1.2964\n",
      "Epoch 7/10\n",
      "28/29 [===========================>..] - ETA: 0s - loss: 1.2911\n",
      "Epoch 00007: loss improved from 1.29640 to 1.29108, saving model to ./chkpt1\n",
      "29/29 [==============================] - 1s 37ms/step - loss: 1.2911\n",
      "Epoch 8/10\n",
      "28/29 [===========================>..] - ETA: 0s - loss: 1.2868\n",
      "Epoch 00008: loss improved from 1.29108 to 1.28676, saving model to ./chkpt1\n",
      "29/29 [==============================] - 1s 39ms/step - loss: 1.2868\n",
      "Epoch 9/10\n",
      "28/29 [===========================>..] - ETA: 0s - loss: 1.2832\n",
      "Epoch 00009: loss improved from 1.28676 to 1.28313, saving model to ./chkpt1\n",
      "29/29 [==============================] - 1s 37ms/step - loss: 1.2831\n",
      "Epoch 10/10\n",
      "28/29 [===========================>..] - ETA: 0s - loss: 1.2801\n",
      "9 triples containing invalid keys skipped!\n",
      "177/177 [==============================] - 4s 25ms/step\n",
      "\n",
      "Epoch 00010: loss improved from 1.28313 to 1.28005, saving model to ./chkpt1\n",
      "29/29 [==============================] - 6s 192ms/step - loss: 1.2800 - val_mrr: 0.0866 - val_mr: 392.3429 - val_hits@1: 0.0000e+00 - val_hits@10: 0.2465\n",
      "Time taken: 22.434803009033203\n"
     ]
    }
   ],
   "source": [
    "optim = tf.optimizers.Adagrad(learning_rate=0.1)\n",
    "# optim = 'adam'\n",
    "\n",
    "# loss = nll\n",
    "# loss = 'self_adversarial'\n",
    "from ampligraph.latent_features.loss_functions import SelfAdversarialLoss\n",
    "loss = SelfAdversarialLoss({'margin': 0.1, 'alpha': 5, 'reduction': 'sum'})\n",
    "\n",
    "model = ScoringBasedEmbeddingModel(eta=50, \n",
    "                                     k=300,\n",
    "                                     scoring_type='TransE')\n",
    "\n",
    "\n",
    "\n",
    "model.compile(optimizer=optim, loss=loss)\n",
    "\n",
    "from tensorflow.keras.callbacks import ModelCheckpoint\n",
    "checkpoint = ModelCheckpoint('./chkpt1', monitor='loss', verbose=1, save_best_only=True, mode='min')\n",
    "\n",
    "start = time.time()\n",
    "model.fit('/home/spai/code/ampligraph_projects/dataset/fb15k-237/train.txt',\n",
    "             batch_size=10000,\n",
    "             epochs=10,\n",
    "             validation_freq=5,\n",
    "             validation_batch_size=100,\n",
    "             validation_data = '/home/spai/code/ampligraph_projects/dataset/fb15k-237/valid.txt',\n",
    "         callbacks=[checkpoint])\n",
    "\n",
    "end = time.time()\n",
    "print('Time taken:', end-start)"
   ]
  },
  {
   "cell_type": "code",
   "execution_count": 4,
   "metadata": {},
   "outputs": [
    {
     "name": "stdout",
     "output_type": "stream",
     "text": [
      "\n",
      "28 triples containing invalid keys skipped!\n",
      "(20438,)\n",
      "[-0.16675654 -0.29373667 -0.14455742 ... -0.18193679 -0.85444546\n",
      " -0.3182341 ]\n"
     ]
    }
   ],
   "source": [
    "pred = model.predict('/home/spai/code/ampligraph_projects/dataset/fb15k-237/test.txt', \n",
    "                       batch_size=100)\n",
    "print(pred.shape)\n",
    "print(pred)"
   ]
  },
  {
   "cell_type": "code",
   "execution_count": 5,
   "metadata": {},
   "outputs": [
    {
     "name": "stdout",
     "output_type": "stream",
     "text": [
      "\n",
      "28 triples containing invalid keys skipped!\n",
      "\n",
      "9 triples containing invalid keys skipped!\n",
      "\n",
      "28 triples containing invalid keys skipped!\n",
      "206/206 [==============================] - 53s 256ms/step\n",
      "Time taken: 52.680302143096924\n"
     ]
    },
    {
     "data": {
      "text/plain": [
       "(265.79496526078873,\n",
       " 0.1895025991120178,\n",
       " 0.11148351110676191,\n",
       " 0.3431353361385654,\n",
       " 20438)"
      ]
     },
     "execution_count": 5,
     "metadata": {},
     "output_type": "execute_result"
    }
   ],
   "source": [
    "\n",
    "start = time.time()\n",
    "ranks = model.evaluate('/home/spai/code/ampligraph_projects/dataset/fb15k-237/test.txt', \n",
    "                       batch_size=100,\n",
    "                       corrupt_side='s,o',\n",
    "         use_filter={'train':'/home/spai/code/ampligraph_projects/dataset/fb15k-237/train.txt',\n",
    "                  'valid':'/home/spai/code/ampligraph_projects/dataset/fb15k-237/valid.txt',\n",
    "                  'test':'/home/spai/code/ampligraph_projects/dataset/fb15k-237/test.txt'})\n",
    "end = time.time()\n",
    "print('Time taken:', end-start)\n",
    "mr_score(ranks), mrr_score(ranks), hits_at_n_score(ranks, 1), hits_at_n_score(ranks, 10), len(ranks)"
   ]
  },
  {
   "cell_type": "markdown",
   "metadata": {},
   "source": [
    "## Load Checkpoint and evaluate"
   ]
  },
  {
   "cell_type": "code",
   "execution_count": 6,
   "metadata": {},
   "outputs": [
    {
     "name": "stdout",
     "output_type": "stream",
     "text": [
      "\n",
      "28 triples containing invalid keys skipped!\n",
      "\n",
      "9 triples containing invalid keys skipped!\n",
      "\n",
      "28 triples containing invalid keys skipped!\n",
      "206/206 [==============================] - 53s 256ms/step\n",
      "Time taken: 52.745763540267944\n"
     ]
    },
    {
     "data": {
      "text/plain": [
       "(265.79496526078873,\n",
       " 0.1895025991120178,\n",
       " 0.11148351110676191,\n",
       " 0.3431353361385654,\n",
       " 20438)"
      ]
     },
     "execution_count": 6,
     "metadata": {},
     "output_type": "execute_result"
    }
   ],
   "source": [
    "start = time.time()\n",
    "loaded_model = ScoringBasedEmbeddingModel(eta=50, \n",
    "                                     k=300, \n",
    "                                     scoring_type='TransE')\n",
    "loaded_model.load_weights('./chkpt1')\n",
    "ranks = loaded_model.evaluate('/home/spai/code/ampligraph_projects/dataset/fb15k-237/test.txt', \n",
    "                       batch_size=100,\n",
    "                       corrupt_side='s,o',\n",
    "         use_filter={'train':'/home/spai/code/ampligraph_projects/dataset/fb15k-237/train.txt',\n",
    "                  'valid':'/home/spai/code/ampligraph_projects/dataset/fb15k-237/valid.txt',\n",
    "                  'test':'/home/spai/code/ampligraph_projects/dataset/fb15k-237/test.txt'})\n",
    "end = time.time()\n",
    "print('Time taken:', end-start)\n",
    "mr_score(ranks), mrr_score(ranks), hits_at_n_score(ranks, 1), hits_at_n_score(ranks, 10), len(ranks)"
   ]
  },
  {
   "cell_type": "code",
   "execution_count": 7,
   "metadata": {},
   "outputs": [
    {
     "name": "stdout",
     "output_type": "stream",
     "text": [
      "\n",
      "28 triples containing invalid keys skipped!\n",
      "(20438,)\n",
      "[-0.16675654 -0.29373667 -0.14455742 ... -0.18193679 -0.85444546\n",
      " -0.3182341 ]\n"
     ]
    }
   ],
   "source": [
    "pred = model.predict('/home/spai/code/ampligraph_projects/dataset/fb15k-237/test.txt', \n",
    "                       batch_size=100)\n",
    "print(pred.shape)\n",
    "print(pred)"
   ]
  },
  {
   "cell_type": "markdown",
   "metadata": {},
   "source": [
    "# Training/eval with partition "
   ]
  },
  {
   "cell_type": "markdown",
   "metadata": {},
   "source": [
    "## Training with RandomEdges partitioner"
   ]
  },
  {
   "cell_type": "code",
   "execution_count": 7,
   "metadata": {},
   "outputs": [],
   "source": [
    "from ampligraph.datasets import DummyBackend, SQLiteAdapter\n",
    "from ampligraph.datasets import GraphDataLoader\n",
    "from ampligraph.datasets.graph_partitioner import PARTITION_ALGO_REGISTRY\n",
    "dataset_loader = GraphDataLoader('/home/spai/code/ampligraph_projects/dataset/fb15k-237/train.txt', \n",
    "                                 backend=SQLiteAdapter,\n",
    "                                    batch_size=1000, \n",
    "                                    dataset_type='train', \n",
    "                                     use_filter=False,\n",
    "                                    use_indexer=True)"
   ]
  },
  {
   "cell_type": "code",
   "execution_count": 8,
   "metadata": {},
   "outputs": [
    {
     "name": "stdout",
     "output_type": "stream",
     "text": [
      "_split: memory before: 0.0Bytes, after: 12.886MB, consumed: 12.886MB; exec time: 31.461s\n"
     ]
    }
   ],
   "source": [
    "\n",
    "\n",
    "# Choose the partitioner \n",
    "partitioner = PARTITION_ALGO_REGISTRY.get('RandomEdges')(dataset_loader, k=3)"
   ]
  },
  {
   "cell_type": "code",
   "execution_count": 9,
   "metadata": {},
   "outputs": [],
   "source": [
    "optim = tf.optimizers.Adam(learning_rate=0.001, amsgrad=True)\n",
    "\n",
    "partitioned_model = ScoringBasedEmbeddingModel(eta=5, \n",
    "                                     k=300, \n",
    "                                     scoring_type='TransE')\n",
    "partitioned_model.compile(optimizer=optim, loss=nll)"
   ]
  },
  {
   "cell_type": "code",
   "execution_count": 10,
   "metadata": {},
   "outputs": [
    {
     "name": "stdout",
     "output_type": "stream",
     "text": [
      "Epoch 2/2\n",
      "274/274 [==============================] - 16s 58ms/step - loss: 1.5947\n",
      "28.386675596237183\n"
     ]
    }
   ],
   "source": [
    "\n",
    "start = time.time()\n",
    "partitioned_model.fit(partitioner,\n",
    "                     batch_size=1000, use_partitioning=True,\n",
    "                     epochs=2)\n",
    "print((time.time()-start))"
   ]
  },
  {
   "cell_type": "code",
   "execution_count": 11,
   "metadata": {},
   "outputs": [
    {
     "name": "stdout",
     "output_type": "stream",
     "text": [
      "\n",
      "28 triples containing invalid keys skipped!\n"
     ]
    }
   ],
   "source": [
    "\n",
    "dataset_loader_test = GraphDataLoader('/home/spai/code/ampligraph_projects/dataset/fb15k-237/test.txt', \n",
    "                                        backend=SQLiteAdapter,\n",
    "                                        batch_size=400, \n",
    "                                        dataset_type='test', \n",
    "                                        use_indexer=partitioned_model.data_handler.get_mapper())"
   ]
  },
  {
   "cell_type": "code",
   "execution_count": 12,
   "metadata": {},
   "outputs": [
    {
     "name": "stdout",
     "output_type": "stream",
     "text": [
      "53/53 [==============================] - 129s 2s/step\n",
      "Time taken: 129.33987951278687\n"
     ]
    },
    {
     "data": {
      "text/plain": [
       "(2613.1418925530875, 0.07781069124506454, 0.0, 0.22360309227908798, 20438)"
      ]
     },
     "execution_count": 12,
     "metadata": {},
     "output_type": "execute_result"
    }
   ],
   "source": [
    "\n",
    "start = time.time()\n",
    "ranks = partitioned_model.evaluate(dataset_loader_test, \n",
    "                                   batch_size=400)\n",
    "end = time.time()\n",
    "print('Time taken:', end-start)\n",
    "\n",
    "mr_score(ranks), mrr_score(ranks), hits_at_n_score(ranks, 1), hits_at_n_score(ranks, 10), len(ranks)"
   ]
  },
  {
   "cell_type": "code",
   "execution_count": null,
   "metadata": {},
   "outputs": [],
   "source": []
  },
  {
   "cell_type": "markdown",
   "metadata": {},
   "source": [
    "## Save and Load"
   ]
  },
  {
   "cell_type": "code",
   "execution_count": 13,
   "metadata": {},
   "outputs": [],
   "source": [
    "partitioned_model.save_weights('./best_model')"
   ]
  },
  {
   "cell_type": "code",
   "execution_count": 14,
   "metadata": {},
   "outputs": [],
   "source": [
    "loaded_part_model = ScoringBasedEmbeddingModel(eta=5, \n",
    "                                     k=300, \n",
    "                                     scoring_type='TransE')\n",
    "\n",
    "loaded_part_model.load_weights('./best_model')"
   ]
  },
  {
   "cell_type": "code",
   "execution_count": 15,
   "metadata": {},
   "outputs": [
    {
     "name": "stdout",
     "output_type": "stream",
     "text": [
      "\n",
      "28 triples containing invalid keys skipped!\n"
     ]
    }
   ],
   "source": [
    "\n",
    "dataset_loader_test = GraphDataLoader('/home/spai/code/ampligraph_projects/dataset/fb15k-237/test.txt', \n",
    "                                        backend=DummyBackend,\n",
    "                                        batch_size=400, \n",
    "                                        dataset_type='test', \n",
    "                                        use_indexer=loaded_part_model.data_indexer)"
   ]
  },
  {
   "cell_type": "code",
   "execution_count": null,
   "metadata": {},
   "outputs": [],
   "source": []
  },
  {
   "cell_type": "code",
   "execution_count": 16,
   "metadata": {},
   "outputs": [
    {
     "name": "stdout",
     "output_type": "stream",
     "text": [
      "53/53 [==============================] - 131s 2s/step\n",
      "Time taken: 131.47749257087708\n"
     ]
    },
    {
     "data": {
      "text/plain": [
       "(2613.1418925530875, 0.07781069124506454, 0.0, 0.22360309227908798, 20438)"
      ]
     },
     "execution_count": 16,
     "metadata": {},
     "output_type": "execute_result"
    }
   ],
   "source": [
    "\n",
    "\n",
    "start = time.time()\n",
    "ranks = loaded_part_model.evaluate(dataset_loader_test, \n",
    "                                   batch_size=400)\n",
    "end = time.time()\n",
    "print('Time taken:', end-start)\n",
    "\n",
    "mr_score(ranks), mrr_score(ranks), hits_at_n_score(ranks, 1), hits_at_n_score(ranks, 10), len(ranks)"
   ]
  },
  {
   "cell_type": "markdown",
   "metadata": {},
   "source": [
    "# Training/eval with partition (default Partitioning Approach)"
   ]
  },
  {
   "cell_type": "code",
   "execution_count": 17,
   "metadata": {},
   "outputs": [],
   "source": [
    "from ampligraph.datasets import DummyBackend, SQLiteAdapter\n",
    "from ampligraph.datasets import GraphDataLoader\n",
    "from ampligraph.datasets.graph_partitioner import PARTITION_ALGO_REGISTRY\n"
   ]
  },
  {
   "cell_type": "code",
   "execution_count": 18,
   "metadata": {},
   "outputs": [
    {
     "name": "stdout",
     "output_type": "stream",
     "text": [
      "_split: memory before: 102.66MB, after: 115.36MB, consumed: 12.705MB; exec time: 86.93s\n",
      "Epoch 2/10\n",
      "277/277 [==============================] - 9s 34ms/step - loss: 1.7309\n",
      "Epoch 3/10\n",
      "277/277 [==============================] - 9s 32ms/step - loss: 1.6420\n",
      "Epoch 4/10\n",
      "277/277 [==============================] - 9s 31ms/step - loss: 1.5553\n",
      "Epoch 5/10\n",
      "277/277 [==============================] - 9s 32ms/step - loss: 1.4762\n",
      "Epoch 6/10\n",
      "277/277 [==============================] - 9s 31ms/step - loss: 1.4055\n",
      "Epoch 7/10\n",
      "277/277 [==============================] - 9s 31ms/step - loss: 1.3427\n",
      "Epoch 8/10\n",
      "277/277 [==============================] - 9s 32ms/step - loss: 1.2868\n",
      "Epoch 9/10\n",
      "277/277 [==============================] - 9s 32ms/step - loss: 1.2369\n",
      "Epoch 10/10\n",
      "277/277 [==============================] - 9s 32ms/step - loss: 1.1923\n",
      "175.27707862854004\n"
     ]
    }
   ],
   "source": [
    "optim = tf.optimizers.Adam(learning_rate=0.001, amsgrad=True)\n",
    "\n",
    "partitioned_model = ScoringBasedEmbeddingModel(eta=5, \n",
    "                                     k=300, \n",
    "                                     scoring_type='TransE')\n",
    "partitioned_model.compile(optimizer=optim, loss=nll)\n",
    "\n",
    "\n",
    "start = time.time()\n",
    "partitioned_model.fit('/home/spai/code/ampligraph_projects/dataset/fb15k-237/train.txt',\n",
    "                     batch_size=1000, use_partitioning=True,\n",
    "                     epochs=10)\n",
    "print((time.time()-start))"
   ]
  },
  {
   "cell_type": "code",
   "execution_count": 19,
   "metadata": {},
   "outputs": [
    {
     "name": "stdout",
     "output_type": "stream",
     "text": [
      "\n",
      "28 triples containing invalid keys skipped!\n",
      "53/53 [==============================] - 132s 2s/step\n",
      "Time taken: 131.93697667121887\n"
     ]
    },
    {
     "data": {
      "text/plain": [
       "(789.7641892553088, 0.08769968002895012, 0.0, 0.23776788335453566, 20438)"
      ]
     },
     "execution_count": 19,
     "metadata": {},
     "output_type": "execute_result"
    }
   ],
   "source": [
    "\n",
    "\n",
    "start = time.time()\n",
    "ranks = partitioned_model.evaluate('/home/spai/code/ampligraph_projects/dataset/fb15k-237/test.txt', \n",
    "                                   batch_size=400)\n",
    "end = time.time()\n",
    "print('Time taken:', end-start)\n",
    "\n",
    "mr_score(ranks), mrr_score(ranks), hits_at_n_score(ranks, 1), hits_at_n_score(ranks, 10), len(ranks)"
   ]
  },
  {
   "cell_type": "code",
   "execution_count": null,
   "metadata": {},
   "outputs": [],
   "source": []
  },
  {
   "cell_type": "markdown",
   "metadata": {},
   "source": [
    "## Filtered evaluation"
   ]
  },
  {
   "cell_type": "code",
   "execution_count": 20,
   "metadata": {},
   "outputs": [
    {
     "name": "stdout",
     "output_type": "stream",
     "text": [
      "\n",
      "28 triples containing invalid keys skipped!\n",
      "\n",
      "9 triples containing invalid keys skipped!\n",
      "\n",
      "28 triples containing invalid keys skipped!\n",
      "53/53 [==============================] - 297s 6s/step\n",
      "Time taken: 297.1006762981415\n"
     ]
    },
    {
     "data": {
      "text/plain": [
       "(664.6330365006361,\n",
       " 0.1936046545792393,\n",
       " 0.13240043057050593,\n",
       " 0.3117477248263039,\n",
       " 20438)"
      ]
     },
     "execution_count": 20,
     "metadata": {},
     "output_type": "execute_result"
    }
   ],
   "source": [
    "start = time.time()\n",
    "ranks = partitioned_model.evaluate('/home/spai/code/ampligraph_projects/dataset/fb15k-237/test.txt', \n",
    "                       batch_size=400,\n",
    "                       corrupt_side='s,o',\n",
    "                        use_filter={'train':'/home/spai/code/ampligraph_projects/dataset/fb15k-237/train.txt',\n",
    "                              'valid':'/home/spai/code/ampligraph_projects/dataset/fb15k-237/valid.txt',\n",
    "                              'test':'/home/spai/code/ampligraph_projects/dataset/fb15k-237/test.txt'})\n",
    "end = time.time()\n",
    "print('Time taken:', end-start)\n",
    "mr_score(ranks), mrr_score(ranks), hits_at_n_score(ranks, 1), hits_at_n_score(ranks, 10), len(ranks)"
   ]
  },
  {
   "cell_type": "code",
   "execution_count": null,
   "metadata": {},
   "outputs": [],
   "source": []
  },
  {
   "cell_type": "code",
   "execution_count": null,
   "metadata": {},
   "outputs": [],
   "source": []
  },
  {
   "cell_type": "code",
   "execution_count": null,
   "metadata": {},
   "outputs": [],
   "source": []
  },
  {
   "cell_type": "code",
   "execution_count": null,
   "metadata": {},
   "outputs": [],
   "source": []
  }
 ],
 "metadata": {
  "kernelspec": {
   "display_name": "tf2_nightly",
   "language": "python",
   "name": "tf_nightly"
  },
  "language_info": {
   "codemirror_mode": {
    "name": "ipython",
    "version": 3
   },
   "file_extension": ".py",
   "mimetype": "text/x-python",
   "name": "python",
   "nbconvert_exporter": "python",
   "pygments_lexer": "ipython3",
   "version": "3.7.7"
  }
 },
 "nbformat": 4,
 "nbformat_minor": 2
}
