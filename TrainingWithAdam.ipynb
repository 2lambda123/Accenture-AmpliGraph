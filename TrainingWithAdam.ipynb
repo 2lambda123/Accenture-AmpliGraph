{
 "cells": [
  {
   "cell_type": "code",
   "execution_count": 1,
   "metadata": {
    "scrolled": true
   },
   "outputs": [
    {
     "name": "stdout",
     "output_type": "stream",
     "text": [
      "2.3.1\n"
     ]
    }
   ],
   "source": [
    "import os\n",
    "os.environ['CUDA_VISIBLE_DEVICES'] = '1'\n",
    "os.environ['TF_CPP_MIN_LOG_LEVEL'] = '2' \n",
    "import tensorflow as tf\n",
    "tf.get_logger().setLevel('ERROR')\n",
    "import pandas as pd\n",
    "tf.config.set_soft_device_placement(False)\n",
    "tf.debugging.set_log_device_placement(True)\n",
    "import numpy as np\n",
    "from ampligraph.datasets import load_fb15k_237, load_yago3_10\n",
    "from ampligraph.evaluation.protocol import create_mappings, to_idx\n",
    "\n",
    "from ampligraph.evaluation.metrics import mrr_score, hits_at_n_score, mr_score\n",
    "import time\n",
    "print(tf.__version__)\n",
    "assert(tf.__version__.startswith('2.3'))\n",
    "\n",
    "from ampligraph.datasets import load_fb15k_237, load_fb13, load_fb15k, load_wn11, load_wn18, load_wn18rr, load_yago3_10\n",
    "from ampligraph.latent_features import ScoringBasedEmbeddingModel"
   ]
  },
  {
   "cell_type": "code",
   "execution_count": 2,
   "metadata": {},
   "outputs": [],
   "source": [
    "#loss function\n",
    "def nll(scores_pos, scores_neg, eta):\n",
    "    scores_neg_reshaped = tf.reshape(scores_neg, [eta, tf.shape(scores_pos)[0]])\n",
    "    neg_exp = tf.exp(scores_neg_reshaped)\n",
    "    pos_exp = tf.exp(scores_pos)\n",
    "    softmax_score = pos_exp / (tf.reduce_sum(neg_exp, axis=0) + pos_exp)\n",
    "\n",
    "    loss = -tf.reduce_sum(tf.math.log(softmax_score))\n",
    "    return loss"
   ]
  },
  {
   "cell_type": "code",
   "execution_count": null,
   "metadata": {},
   "outputs": [],
   "source": []
  },
  {
   "cell_type": "markdown",
   "metadata": {},
   "source": [
    "# Train/eval without partition"
   ]
  },
  {
   "cell_type": "code",
   "execution_count": 3,
   "metadata": {},
   "outputs": [
    {
     "name": "stdout",
     "output_type": "stream",
     "text": [
      "Epoch 1/10\n",
      "     29/Unknown - 1s 50ms/step - loss: 13395.2031\n",
      "Epoch 00001: loss improved from inf to 13395.20312, saving model to ./chkpt1\n",
      "29/29 [==============================] - 1s 51ms/step - loss: 13395.2031\n",
      "Epoch 2/10\n",
      "28/29 [===========================>..] - ETA: 0s - loss: 12971.0234\n",
      "Epoch 00002: loss improved from 13395.20312 to 12786.13379, saving model to ./chkpt1\n",
      "29/29 [==============================] - 1s 40ms/step - loss: 12786.1338\n",
      "Epoch 3/10\n",
      "28/29 [===========================>..] - ETA: 0s - loss: 12628.9590\n",
      "Epoch 00003: loss improved from 12786.13379 to 12509.62207, saving model to ./chkpt1\n",
      "29/29 [==============================] - 1s 40ms/step - loss: 12509.6221\n",
      "Epoch 4/10\n",
      "28/29 [===========================>..] - ETA: 0s - loss: 12431.5869\n",
      "Epoch 00004: loss improved from 12509.62207 to 12343.49121, saving model to ./chkpt1\n",
      "29/29 [==============================] - 1s 39ms/step - loss: 12343.4912\n",
      "Epoch 5/10\n",
      "29/29 [==============================] - ETA: 0s - loss: 12230.3457\n",
      "9 triples containing invalid keys skipped!\n",
      "177/177 [==============================] - 5s 26ms/step\n",
      "\n",
      "Epoch 00005: loss improved from 12343.49121 to 12230.34570, saving model to ./chkpt1\n",
      "29/29 [==============================] - 6s 222ms/step - loss: 12230.3457 - val_mrr: 0.0915 - val_mr: 470.8601 - val_hits@1: 0.0000e+00 - val_hits@10: 0.2515\n",
      "Epoch 6/10\n",
      "28/29 [===========================>..] - ETA: 0s - loss: 12202.9551\n",
      "Epoch 00006: loss improved from 12230.34570 to 12145.55859, saving model to ./chkpt1\n",
      "29/29 [==============================] - 1s 39ms/step - loss: 12145.5586\n",
      "Epoch 7/10\n",
      "29/29 [==============================] - ETA: 0s - loss: 12080.3125\n",
      "Epoch 00007: loss improved from 12145.55859 to 12080.31250, saving model to ./chkpt1\n",
      "29/29 [==============================] - 1s 42ms/step - loss: 12080.3125\n",
      "Epoch 8/10\n",
      "28/29 [===========================>..] - ETA: 0s - loss: 12069.4365\n",
      "Epoch 00008: loss improved from 12080.31250 to 12026.88477, saving model to ./chkpt1\n",
      "29/29 [==============================] - 1s 39ms/step - loss: 12026.8848\n",
      "Epoch 9/10\n",
      "28/29 [===========================>..] - ETA: 0s - loss: 12020.0420\n",
      "Epoch 00009: loss improved from 12026.88477 to 11982.39844, saving model to ./chkpt1\n",
      "29/29 [==============================] - 1s 38ms/step - loss: 11982.3984\n",
      "Epoch 10/10\n",
      "28/29 [===========================>..] - ETA: 0s - loss: 11978.8428\n",
      "9 triples containing invalid keys skipped!\n",
      "177/177 [==============================] - 5s 26ms/step\n",
      "\n",
      "Epoch 00010: loss improved from 11982.39844 to 11945.12109, saving model to ./chkpt1\n",
      "29/29 [==============================] - 6s 198ms/step - loss: 11945.1211 - val_mrr: 0.0940 - val_mr: 452.6754 - val_hits@1: 0.0000e+00 - val_hits@10: 0.2609\n"
     ]
    },
    {
     "data": {
      "text/plain": [
       "<tensorflow.python.keras.callbacks.History at 0x7f031606ec90>"
      ]
     },
     "execution_count": 3,
     "metadata": {},
     "output_type": "execute_result"
    }
   ],
   "source": [
    "optim = tf.optimizers.Adagrad(learning_rate=0.1)\n",
    "#optim = 'adam'\n",
    "\n",
    "# loss = nll\n",
    "# loss = 'self_adversarial'\n",
    "from ampligraph.latent_features.loss_functions import SelfAdversarialLoss\n",
    "loss = SelfAdversarialLoss({'margin': 0.1, 'alpha': 5})\n",
    "\n",
    "model = ScoringBasedEmbeddingModel(eta=50, \n",
    "                                     k=300,\n",
    "                                     scoring_type='TransE')\n",
    "\n",
    "\n",
    "\n",
    "model.compile(optimizer=optim, loss=loss)\n",
    "\n",
    "from tensorflow.keras.callbacks import ModelCheckpoint\n",
    "checkpoint = ModelCheckpoint('./chkpt1', monitor='loss', verbose=1, save_best_only=True, mode='min')\n",
    "\n",
    "model.fit('/home/spai/code/ampligraph_projects/dataset/fb15k-237/train.txt',\n",
    "             batch_size=10000,\n",
    "             epochs=10,\n",
    "             validation_freq=5,\n",
    "             validation_batch_size=100,\n",
    "             validation_data = '/home/spai/code/ampligraph_projects/dataset/fb15k-237/valid.txt',\n",
    "         callbacks=[checkpoint])\n",
    "\n",
    "\n"
   ]
  },
  {
   "cell_type": "code",
   "execution_count": 4,
   "metadata": {},
   "outputs": [
    {
     "name": "stdout",
     "output_type": "stream",
     "text": [
      "\n",
      "28 triples containing invalid keys skipped!\n",
      "\n",
      "9 triples containing invalid keys skipped!\n",
      "\n",
      "28 triples containing invalid keys skipped!\n",
      "206/206 [==============================] - 96s 464ms/step\n",
      "Time taken: 103.93941831588745\n"
     ]
    },
    {
     "data": {
      "text/plain": [
       "(329.2985370388492,\n",
       " 0.2040339457916862,\n",
       " 0.12824151091104805,\n",
       " 0.35485370388492027)"
      ]
     },
     "execution_count": 4,
     "metadata": {},
     "output_type": "execute_result"
    }
   ],
   "source": [
    "\n",
    "start = time.time()\n",
    "ranks = model.evaluate('/home/spai/code/ampligraph_projects/dataset/fb15k-237/test.txt', \n",
    "                       batch_size=100,\n",
    "                       corrupt_side='s,o',\n",
    "         use_filter={'train':'/home/spai/code/ampligraph_projects/dataset/fb15k-237/train.txt',\n",
    "                  'valid':'/home/spai/code/ampligraph_projects/dataset/fb15k-237/valid.txt',\n",
    "                  'test':'/home/spai/code/ampligraph_projects/dataset/fb15k-237/test.txt'})\n",
    "end = time.time()\n",
    "print('Time taken:', end-start)\n",
    "mr_score(ranks), mrr_score(ranks), hits_at_n_score(ranks, 1), hits_at_n_score(ranks, 10)"
   ]
  },
  {
   "cell_type": "markdown",
   "metadata": {},
   "source": [
    "## Load Checkpoint and evaluate"
   ]
  },
  {
   "cell_type": "code",
   "execution_count": 5,
   "metadata": {},
   "outputs": [
    {
     "name": "stdout",
     "output_type": "stream",
     "text": [
      "\n",
      "28 triples containing invalid keys skipped!\n",
      "\n",
      "9 triples containing invalid keys skipped!\n",
      "\n",
      "28 triples containing invalid keys skipped!\n",
      "206/206 [==============================] - 91s 443ms/step\n",
      "Time taken: 99.60452890396118\n"
     ]
    },
    {
     "data": {
      "text/plain": [
       "(329.2985370388492,\n",
       " 0.2040339457916862,\n",
       " 0.12824151091104805,\n",
       " 0.35485370388492027)"
      ]
     },
     "execution_count": 5,
     "metadata": {},
     "output_type": "execute_result"
    }
   ],
   "source": [
    "start = time.time()\n",
    "loaded_model = ScoringBasedEmbeddingModel(eta=50, \n",
    "                                     k=300, \n",
    "                                     scoring_type='TransE')\n",
    "loaded_model.load_weights('./chkpt1')\n",
    "ranks = loaded_model.evaluate('/home/spai/code/ampligraph_projects/dataset/fb15k-237/test.txt', \n",
    "                       batch_size=100,\n",
    "                       corrupt_side='s,o',\n",
    "         use_filter={'train':'/home/spai/code/ampligraph_projects/dataset/fb15k-237/train.txt',\n",
    "                  'valid':'/home/spai/code/ampligraph_projects/dataset/fb15k-237/valid.txt',\n",
    "                  'test':'/home/spai/code/ampligraph_projects/dataset/fb15k-237/test.txt'})\n",
    "end = time.time()\n",
    "print('Time taken:', end-start)\n",
    "mr_score(ranks), mrr_score(ranks), hits_at_n_score(ranks, 1), hits_at_n_score(ranks, 10)"
   ]
  },
  {
   "cell_type": "markdown",
   "metadata": {},
   "source": [
    "# Training/eval with partition"
   ]
  },
  {
   "cell_type": "code",
   "execution_count": 6,
   "metadata": {},
   "outputs": [
    {
     "name": "stdout",
     "output_type": "stream",
     "text": [
      "_split: memory before: 0.0Bytes, after: 13.189MB, consumed: 13.189MB; exec time: 213.34s\n"
     ]
    }
   ],
   "source": [
    "from ampligraph.datasets import DummyBackend, SQLiteAdapter\n",
    "from ampligraph.datasets import GraphDataLoader\n",
    "from ampligraph.datasets.graph_partitioner import PARTITION_ALGO_REGISTRY\n",
    "dataset_loader = GraphDataLoader('/home/spai/code/ampligraph_projects/dataset/fb15k-237/train.txt', \n",
    "                                 backend=SQLiteAdapter,\n",
    "                                    batch_size=1000, \n",
    "                                    dataset_type='train', \n",
    "                                    epochs=10,\n",
    "                                    use_indexer=True)\n",
    "\n",
    "\n",
    "partitioner = PARTITION_ALGO_REGISTRY.get('Bucket')(dataset_loader, k=3)"
   ]
  },
  {
   "cell_type": "code",
   "execution_count": 7,
   "metadata": {},
   "outputs": [
    {
     "name": "stdout",
     "output_type": "stream",
     "text": [
      "Epoch 1/10\n",
      "    276/Unknown - 10s 35ms/step - loss: 1404.1381\n",
      "Epoch 00001: loss improved from inf to 1399.37598, saving model to ./chkpt1\n",
      "277/277 [==============================] - 10s 38ms/step - loss: 1399.3760\n",
      "Epoch 2/10\n",
      "276/277 [============================>.] - ETA: 0s - loss: 1143.7428\n",
      "Epoch 00002: loss improved from 1399.37598 to 1141.77954, saving model to ./chkpt1\n",
      "277/277 [==============================] - 10s 35ms/step - loss: 1141.7795\n",
      "Epoch 3/10\n",
      "276/277 [============================>.] - ETA: 0s - loss: 940.3823\n",
      "Epoch 00003: loss improved from 1141.77954 to 939.28552, saving model to ./chkpt1\n",
      "277/277 [==============================] - 10s 36ms/step - loss: 939.2855\n",
      "Epoch 4/10\n",
      "276/277 [============================>.] - ETA: 0s - loss: 821.0338\n",
      "Epoch 00004: loss improved from 939.28552 to 820.29999, saving model to ./chkpt1\n",
      "277/277 [==============================] - 10s 36ms/step - loss: 820.3000\n",
      "Epoch 5/10\n",
      "276/277 [============================>.] - ETA: 0s - loss: 742.7835\n",
      "Epoch 00005: loss improved from 820.29999 to 742.25500, saving model to ./chkpt1\n",
      "277/277 [==============================] - 10s 36ms/step - loss: 742.2550\n",
      "Epoch 6/10\n",
      "273/277 [============================>.] - ETA: 0s - loss: 689.5899\n",
      "Epoch 00006: loss improved from 742.25500 to 688.38788, saving model to ./chkpt1\n",
      "277/277 [==============================] - 10s 36ms/step - loss: 688.3879\n",
      "Epoch 7/10\n",
      "275/277 [============================>.] - ETA: 0s - loss: 648.7922\n",
      "Epoch 00007: loss improved from 688.38788 to 648.25690, saving model to ./chkpt1\n",
      "277/277 [==============================] - 10s 37ms/step - loss: 648.2569\n",
      "Epoch 8/10\n",
      "276/277 [============================>.] - ETA: 0s - loss: 617.6880\n",
      "Epoch 00008: loss improved from 648.25690 to 617.41040, saving model to ./chkpt1\n",
      "277/277 [==============================] - 10s 37ms/step - loss: 617.4104\n",
      "Epoch 9/10\n",
      "276/277 [============================>.] - ETA: 0s - loss: 592.1900\n",
      "Epoch 00009: loss improved from 617.41040 to 591.95807, saving model to ./chkpt1\n",
      "277/277 [==============================] - 10s 36ms/step - loss: 591.9581\n",
      "Epoch 10/10\n",
      "276/277 [============================>.] - ETA: 0s - loss: 572.0430\n",
      "Epoch 00010: loss improved from 591.95807 to 571.84033, saving model to ./chkpt1\n",
      "277/277 [==============================] - 10s 36ms/step - loss: 571.8403\n",
      "115.29254484176636\n"
     ]
    }
   ],
   "source": [
    "optim = tf.optimizers.Adam(learning_rate=0.1, amsgrad=True)\n",
    "\n",
    "partitioned_model = ScoringBasedEmbeddingModel(eta=5, \n",
    "                                     k=300, \n",
    "                                     scoring_type='TransE')\n",
    "\n",
    "#model.compile(optimizer='rmsprop', loss=nll)\n",
    "partitioned_model.compile(optimizer=optim, loss=nll)\n",
    "from tensorflow.keras.callbacks import ModelCheckpoint\n",
    "checkpoint = ModelCheckpoint('./chkpt1', monitor='loss', verbose=1, save_best_only=True, mode='min')\n",
    "start = time.time()\n",
    "partitioned_model.fit(partitioner,\n",
    "                     batch_size=1000, use_partitioning=True,\n",
    "                     epochs=10, callbacks=[checkpoint])\n",
    "print((time.time()-start))"
   ]
  },
  {
   "cell_type": "code",
   "execution_count": 8,
   "metadata": {},
   "outputs": [
    {
     "name": "stdout",
     "output_type": "stream",
     "text": [
      "\n",
      "28 triples containing invalid keys skipped!\n",
      "52/52 [==============================] - 126s 2s/step\n",
      "Time taken: 128.60456943511963\n"
     ]
    },
    {
     "data": {
      "text/plain": [
       "(849.2038725490196, 0.06923169819362532, 0.0, 0.19223039215686274)"
      ]
     },
     "execution_count": 8,
     "metadata": {},
     "output_type": "execute_result"
    }
   ],
   "source": [
    "\n",
    "dataset_loader_test = GraphDataLoader('/home/spai/code/ampligraph_projects/dataset/fb15k-237/test.txt', \n",
    "                                        backend=SQLiteAdapter,\n",
    "                                        batch_size=400, \n",
    "                                        dataset_type='test', \n",
    "                                        epochs=1,\n",
    "                                        use_indexer=partitioned_model.data_handler.get_mapper())\n",
    "\n",
    "start = time.time()\n",
    "ranks = partitioned_model.evaluate(dataset_loader_test, \n",
    "                                   batch_size=400)\n",
    "end = time.time()\n",
    "print('Time taken:', end-start)\n",
    "\n",
    "mr_score(ranks), mrr_score(ranks), hits_at_n_score(ranks, 1), hits_at_n_score(ranks, 10)"
   ]
  },
  {
   "cell_type": "markdown",
   "metadata": {},
   "source": [
    "## Save and Load checkpoint"
   ]
  },
  {
   "cell_type": "code",
   "execution_count": 9,
   "metadata": {},
   "outputs": [],
   "source": [
    "partitioned_model.save_weights('./chkpt1_partition')"
   ]
  },
  {
   "cell_type": "code",
   "execution_count": 10,
   "metadata": {},
   "outputs": [],
   "source": [
    "loaded_part_model = ScoringBasedEmbeddingModel(eta=5, \n",
    "                                     k=300, \n",
    "                                     scoring_type='TransE')\n",
    "\n",
    "loaded_part_model.load_weights('./chkpt1_partition')"
   ]
  },
  {
   "cell_type": "code",
   "execution_count": 11,
   "metadata": {},
   "outputs": [
    {
     "name": "stdout",
     "output_type": "stream",
     "text": [
      "\n",
      "28 triples containing invalid keys skipped!\n",
      "52/52 [==============================] - 130s 2s/step\n",
      "Time taken: 132.51785135269165\n"
     ]
    },
    {
     "data": {
      "text/plain": [
       "(849.2038725490196, 0.06923169819362532, 0.0, 0.19223039215686274)"
      ]
     },
     "execution_count": 11,
     "metadata": {},
     "output_type": "execute_result"
    }
   ],
   "source": [
    "\n",
    "dataset_loader_test = GraphDataLoader('/home/spai/code/ampligraph_projects/dataset/fb15k-237/test.txt', \n",
    "                                        backend=SQLiteAdapter,\n",
    "                                        batch_size=400, \n",
    "                                        dataset_type='test', \n",
    "                                        epochs=1,\n",
    "                                        use_indexer=loaded_part_model.data_indexer)\n",
    "\n",
    "start = time.time()\n",
    "ranks = loaded_part_model.evaluate(dataset_loader_test, \n",
    "                                   batch_size=400)\n",
    "end = time.time()\n",
    "print('Time taken:', end-start)\n",
    "\n",
    "mr_score(ranks), mrr_score(ranks), hits_at_n_score(ranks, 1), hits_at_n_score(ranks, 10)"
   ]
  },
  {
   "cell_type": "markdown",
   "metadata": {},
   "source": [
    "## Filtered evaluation"
   ]
  },
  {
   "cell_type": "code",
   "execution_count": 12,
   "metadata": {},
   "outputs": [
    {
     "name": "stdout",
     "output_type": "stream",
     "text": [
      "\n",
      "28 triples containing invalid keys skipped!\n",
      "\n",
      "9 triples containing invalid keys skipped!\n",
      "\n",
      "28 triples containing invalid keys skipped!\n",
      "104/104 [==============================] - 716s 7s/step\n",
      "Time taken: 775.3156113624573\n"
     ]
    },
    {
     "data": {
      "text/plain": [
       "(712.6684607104413,\n",
       " 0.13523140769564457,\n",
       " 0.08178393189157451,\n",
       " 0.24192680301399355)"
      ]
     },
     "execution_count": 12,
     "metadata": {},
     "output_type": "execute_result"
    }
   ],
   "source": [
    "start = time.time()\n",
    "ranks = partitioned_model.evaluate('/home/spai/code/ampligraph_projects/dataset/fb15k-237/test.txt', \n",
    "                       batch_size=200,\n",
    "                       corrupt_side='s,o',\n",
    "                        use_filter={'train':'/home/spai/code/ampligraph_projects/dataset/fb15k-237/train.txt',\n",
    "                              'valid':'/home/spai/code/ampligraph_projects/dataset/fb15k-237/valid.txt',\n",
    "                              'test':'/home/spai/code/ampligraph_projects/dataset/fb15k-237/test.txt'})\n",
    "end = time.time()\n",
    "print('Time taken:', end-start)\n",
    "mr_score(ranks), mrr_score(ranks), hits_at_n_score(ranks, 1), hits_at_n_score(ranks, 10)"
   ]
  },
  {
   "cell_type": "code",
   "execution_count": null,
   "metadata": {},
   "outputs": [],
   "source": []
  }
 ],
 "metadata": {
  "kernelspec": {
   "display_name": "tf2_nightly",
   "language": "python",
   "name": "tf_nightly"
  },
  "language_info": {
   "codemirror_mode": {
    "name": "ipython",
    "version": 3
   },
   "file_extension": ".py",
   "mimetype": "text/x-python",
   "name": "python",
   "nbconvert_exporter": "python",
   "pygments_lexer": "ipython3",
   "version": "3.7.7"
  }
 },
 "nbformat": 4,
 "nbformat_minor": 2
}
