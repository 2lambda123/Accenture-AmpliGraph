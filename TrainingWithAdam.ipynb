{
 "cells": [
  {
   "cell_type": "code",
   "execution_count": 1,
   "metadata": {
    "scrolled": true
   },
   "outputs": [
    {
     "name": "stdout",
     "output_type": "stream",
     "text": [
      "2.3.0\n"
     ]
    }
   ],
   "source": [
    "import os\n",
    "os.environ['CUDA_VISIBLE_DEVICES'] = '1'\n",
    "os.environ['TF_CPP_MIN_LOG_LEVEL'] = '2' \n",
    "import tensorflow as tf\n",
    "tf.get_logger().setLevel('ERROR')\n",
    "import pandas as pd\n",
    "tf.config.set_soft_device_placement(False)\n",
    "tf.debugging.set_log_device_placement(True)\n",
    "import numpy as np\n",
    "from ampligraph.datasets import load_fb15k_237, load_yago3_10\n",
    "from ampligraph.evaluation.protocol import create_mappings, to_idx\n",
    "\n",
    "from ampligraph.evaluation.metrics import mrr_score, hits_at_n_score, mr_score\n",
    "import time\n",
    "print(tf.__version__)\n",
    "assert(tf.__version__.startswith('2.3'))\n",
    "\n",
    "from ampligraph.datasets import load_fb15k_237, load_fb13, load_fb15k, load_wn11, load_wn18, load_wn18rr, load_yago3_10\n",
    "from ampligraph.latent_features import ScoringBasedEmbeddingModel"
   ]
  },
  {
   "cell_type": "code",
   "execution_count": 2,
   "metadata": {},
   "outputs": [],
   "source": [
    "#loss function\n",
    "def nll(scores_pos, scores_neg, eta):\n",
    "    scores_neg_reshaped = tf.reshape(scores_neg, [eta, tf.shape(scores_pos)[0]])\n",
    "    neg_exp = tf.exp(scores_neg_reshaped)\n",
    "    pos_exp = tf.exp(scores_pos)\n",
    "    softmax_score = pos_exp / (tf.reduce_sum(neg_exp, axis=0) + pos_exp)\n",
    "\n",
    "    loss = -tf.reduce_sum(tf.math.log(softmax_score))\n",
    "    return loss"
   ]
  },
  {
   "cell_type": "markdown",
   "metadata": {},
   "source": [
    "# Train/eval without partition"
   ]
  },
  {
   "cell_type": "code",
   "execution_count": 3,
   "metadata": {},
   "outputs": [
    {
     "name": "stdout",
     "output_type": "stream",
     "text": [
      "Epoch 1/10\n",
      "29/29 [==============================] - 1s 47ms/step - loss: 37952.4688\n",
      "Epoch 2/10\n",
      "29/29 [==============================] - 1s 37ms/step - loss: 37624.0742\n",
      "Epoch 3/10\n",
      "29/29 [==============================] - 1s 37ms/step - loss: 37223.4375\n",
      "Epoch 4/10\n",
      "29/29 [==============================] - 1s 37ms/step - loss: 36722.4180\n",
      "Epoch 5/10\n",
      "28/29 [===========================>..] - ETA: 0s - loss: 36336.5195\n",
      "9 triples containing invalid keys skipped!\n",
      "177/177 [==============================] - 5s 26ms/step\n",
      "29/29 [==============================] - 6s 216ms/step - loss: 36128.2305 - val_mrr: 0.0959 - val_mr: 1045.5039 - val_hits@1: 0.0000e+00 - val_hits@10: 0.2593\n",
      "Epoch 6/10\n",
      "29/29 [==============================] - 1s 37ms/step - loss: 35482.7773\n",
      "Epoch 7/10\n",
      "29/29 [==============================] - 1s 37ms/step - loss: 34822.5273\n",
      "Epoch 8/10\n",
      "29/29 [==============================] - 1s 37ms/step - loss: 34163.2930\n",
      "Epoch 9/10\n",
      "29/29 [==============================] - 1s 37ms/step - loss: 33513.8438\n",
      "Epoch 10/10\n",
      "28/29 [===========================>..] - ETA: 0s - loss: 32977.8711\n",
      "9 triples containing invalid keys skipped!\n",
      "177/177 [==============================] - 4s 25ms/step\n",
      "29/29 [==============================] - 6s 196ms/step - loss: 32880.7891 - val_mrr: 0.0914 - val_mr: 848.0619 - val_hits@1: 0.0000e+00 - val_hits@10: 0.2458\n"
     ]
    },
    {
     "data": {
      "text/plain": [
       "<tensorflow.python.keras.callbacks.History at 0x7f2b91f1ff90>"
      ]
     },
     "execution_count": 3,
     "metadata": {},
     "output_type": "execute_result"
    }
   ],
   "source": [
    "model = ScoringBasedEmbeddingModel(eta=50, \n",
    "                                     k=300, \n",
    "                                     max_ent_size=14505, \n",
    "                                     max_rel_size=237,\n",
    "                                     scoring_type='TransE')\n",
    "\n",
    "model.compile(optimizer='adam', loss=nll)\n",
    "\n",
    "from tensorflow.keras.callbacks import ModelCheckpoint\n",
    "checkpoint = ModelCheckpoint('./chkpt1', monitor='loss', verbose=1, save_best_only=True, mode='min')\n",
    "\n",
    "model.fit('/home/spai/code/ampligraph_projects/dataset/fb15k-237/train.txt',\n",
    "             batch_size=10000,\n",
    "             epochs=10,\n",
    "             validation_freq=5,\n",
    "             validation_batch_size=100,\n",
    "             validation_data = '/home/spai/code/ampligraph_projects/dataset/fb15k-237/valid.txt')\n",
    "\n",
    "\n"
   ]
  },
  {
   "cell_type": "code",
   "execution_count": null,
   "metadata": {},
   "outputs": [
    {
     "name": "stdout",
     "output_type": "stream",
     "text": [
      "\n",
      "28 triples containing invalid keys skipped!\n",
      "\n",
      "9 triples containing invalid keys skipped!\n",
      "\n",
      "28 triples containing invalid keys skipped!\n",
      "      6/Unknown - 1s 219ms/step"
     ]
    }
   ],
   "source": [
    "\n",
    "start = time.time()\n",
    "ranks = model.evaluate('/home/spai/code/ampligraph_projects/dataset/fb15k-237/test.txt', \n",
    "                       batch_size=100,\n",
    "                       corrupt_side='s,o',\n",
    "         use_filter={'train':'/home/spai/code/ampligraph_projects/dataset/fb15k-237/train.txt',\n",
    "                  'valid':'/home/spai/code/ampligraph_projects/dataset/fb15k-237/valid.txt',\n",
    "                  'test':'/home/spai/code/ampligraph_projects/dataset/fb15k-237/test.txt'})\n",
    "end = time.time()\n",
    "print('Time taken:', end-start)\n",
    "mr_score(ranks), mrr_score(ranks), hits_at_n_score(ranks, 1), hits_at_n_score(ranks, 10)"
   ]
  },
  {
   "cell_type": "markdown",
   "metadata": {},
   "source": [
    "# Training/eval with partition"
   ]
  },
  {
   "cell_type": "code",
   "execution_count": 5,
   "metadata": {},
   "outputs": [
    {
     "name": "stdout",
     "output_type": "stream",
     "text": [
      "_split: memory before: 896.0Bytes, after: 13.121MB, consumed: 13.121MB; exec time: 210.47s\n"
     ]
    }
   ],
   "source": [
    "from ampligraph.datasets import DummyBackend, SQLiteAdapter\n",
    "from ampligraph.datasets import GraphDataLoader\n",
    "from ampligraph.datasets.graph_partitioner import PARTITION_ALGO_REGISTRY\n",
    "dataset_loader = GraphDataLoader('/home/spai/code/ampligraph_projects/dataset/fb15k-237/train.txt', \n",
    "                                 backend=SQLiteAdapter,\n",
    "                                    batch_size=1000, \n",
    "                                    dataset_type='train', \n",
    "                                    epochs=10,\n",
    "                                    use_indexer=True)\n",
    "\n",
    "\n",
    "partitioner = PARTITION_ALGO_REGISTRY.get('Bucket')(dataset_loader, k=3)"
   ]
  },
  {
   "cell_type": "code",
   "execution_count": 6,
   "metadata": {},
   "outputs": [
    {
     "name": "stdout",
     "output_type": "stream",
     "text": [
      "Epoch 1/10\n",
      "    277/Unknown - 11s 38ms/step - loss: 1675.2634\n",
      "Epoch 00001: loss improved from inf to 1675.26343, saving model to ./chkpt1\n",
      "277/277 [==============================] - 11s 41ms/step - loss: 1675.2634\n",
      "Epoch 2/10\n",
      "276/277 [============================>.] - ETA: 0s - loss: 1553.0312\n",
      "Epoch 00002: loss improved from 1675.26343 to 1550.38745, saving model to ./chkpt1\n",
      "277/277 [==============================] - 9s 32ms/step - loss: 1550.3875\n",
      "Epoch 3/10\n",
      "276/277 [============================>.] - ETA: 0s - loss: 1435.3806\n",
      "Epoch 00003: loss improved from 1550.38745 to 1433.75256, saving model to ./chkpt1\n",
      "277/277 [==============================] - 9s 32ms/step - loss: 1433.7526\n",
      "Epoch 4/10\n",
      "276/277 [============================>.] - ETA: 0s - loss: 1332.5895\n",
      "Epoch 00004: loss improved from 1433.75256 to 1331.45679, saving model to ./chkpt1\n",
      "277/277 [==============================] - 9s 33ms/step - loss: 1331.4568\n",
      "Epoch 5/10\n",
      "276/277 [============================>.] - ETA: 0s - loss: 1244.6838\n",
      "Epoch 00005: loss improved from 1331.45679 to 1243.83887, saving model to ./chkpt1\n",
      "277/277 [==============================] - 9s 32ms/step - loss: 1243.8389\n",
      "Epoch 6/10\n",
      "276/277 [============================>.] - ETA: 0s - loss: 1169.7455\n",
      "Epoch 00006: loss improved from 1243.83887 to 1169.08105, saving model to ./chkpt1\n",
      "277/277 [==============================] - 9s 32ms/step - loss: 1169.0811\n",
      "Epoch 7/10\n",
      "276/277 [============================>.] - ETA: 0s - loss: 1105.1074\n",
      "Epoch 00007: loss improved from 1169.08105 to 1104.57141, saving model to ./chkpt1\n",
      "277/277 [==============================] - 9s 33ms/step - loss: 1104.5714\n",
      "Epoch 8/10\n",
      "276/277 [============================>.] - ETA: 0s - loss: 1048.9260\n",
      "Epoch 00008: loss improved from 1104.57141 to 1048.48206, saving model to ./chkpt1\n",
      "277/277 [==============================] - 9s 33ms/step - loss: 1048.4821\n",
      "Epoch 9/10\n",
      "276/277 [============================>.] - ETA: 0s - loss: 999.6392 \n",
      "Epoch 00009: loss improved from 1048.48206 to 999.26019, saving model to ./chkpt1\n",
      "277/277 [==============================] - 9s 32ms/step - loss: 999.2602\n",
      "Epoch 10/10\n",
      "276/277 [============================>.] - ETA: 0s - loss: 956.1422\n",
      "Epoch 00010: loss improved from 999.26019 to 955.81683, saving model to ./chkpt1\n",
      "277/277 [==============================] - 9s 33ms/step - loss: 955.8168\n"
     ]
    },
    {
     "data": {
      "text/plain": [
       "<tensorflow.python.keras.callbacks.History at 0x7f90adc3b650>"
      ]
     },
     "execution_count": 6,
     "metadata": {},
     "output_type": "execute_result"
    }
   ],
   "source": [
    "partitioned_model = ScoringBasedEmbeddingModel(eta=5, \n",
    "                                     k=300, \n",
    "                                     max_ent_size=9437, \n",
    "                                     max_rel_size=237,\n",
    "                                     scoring_type='TransE')\n",
    "\n",
    "partitioned_model.compile(optimizer='adam', loss=nll)\n",
    "\n",
    "from tensorflow.keras.callbacks import ModelCheckpoint\n",
    "checkpoint = ModelCheckpoint('./chkpt1', monitor='loss', verbose=1, save_best_only=True, mode='min')\n",
    "\n",
    "partitioned_model.fit(partitioner,\n",
    "         batch_size=1000, use_partitioning=True,\n",
    "         epochs=10, callbacks=[checkpoint])"
   ]
  },
  {
   "cell_type": "code",
   "execution_count": 7,
   "metadata": {},
   "outputs": [
    {
     "name": "stdout",
     "output_type": "stream",
     "text": [
      "\n",
      "28 triples containing invalid keys skipped!\n",
      "52/52 [==============================] - 124s 2s/step\n",
      "Time taken: 127.01995515823364\n"
     ]
    },
    {
     "data": {
      "text/plain": [
       "(1264.7075490196078, 0.08407721567857451, 0.0, 0.2399264705882353)"
      ]
     },
     "execution_count": 7,
     "metadata": {},
     "output_type": "execute_result"
    }
   ],
   "source": [
    "\n",
    "dataset_loader_test = GraphDataLoader('/home/spai/code/ampligraph_projects/dataset/fb15k-237/test.txt', \n",
    "                                        backend=SQLiteAdapter,\n",
    "                                        batch_size=400, \n",
    "                                        dataset_type='test', \n",
    "                                        epochs=1,\n",
    "                                        use_indexer=partitioned_model.data_handler.get_mapper())\n",
    "\n",
    "start = time.time()\n",
    "ranks = partitioned_model.evaluate(dataset_loader_test, \n",
    "                                   batch_size=400)\n",
    "end = time.time()\n",
    "print('Time taken:', end-start)\n",
    "\n",
    "mr_score(ranks), mrr_score(ranks), hits_at_n_score(ranks, 1), hits_at_n_score(ranks, 10)"
   ]
  },
  {
   "cell_type": "code",
   "execution_count": 8,
   "metadata": {},
   "outputs": [
    {
     "name": "stdout",
     "output_type": "stream",
     "text": [
      "\n",
      "28 triples containing invalid keys skipped!\n",
      "\n",
      "9 triples containing invalid keys skipped!\n",
      "\n",
      "28 triples containing invalid keys skipped!\n",
      "104/104 [==============================] - 709s 7s/step\n",
      "Time taken: 767.4920349121094\n"
     ]
    },
    {
     "data": {
      "text/plain": [
       "(1142.7554555240238,\n",
       " 0.18002508091586358,\n",
       " 0.11167922497308934,\n",
       " 0.31015754966239356)"
      ]
     },
     "execution_count": 8,
     "metadata": {},
     "output_type": "execute_result"
    }
   ],
   "source": [
    "start = time.time()\n",
    "ranks = partitioned_model.evaluate('/home/spai/code/ampligraph_projects/dataset/fb15k-237/test.txt', \n",
    "                       batch_size=200,\n",
    "                       corrupt_side='s,o',\n",
    "                        use_filter={'train':'/home/spai/code/ampligraph_projects/dataset/fb15k-237/train.txt',\n",
    "                              'valid':'/home/spai/code/ampligraph_projects/dataset/fb15k-237/valid.txt',\n",
    "                              'test':'/home/spai/code/ampligraph_projects/dataset/fb15k-237/test.txt'})\n",
    "end = time.time()\n",
    "print('Time taken:', end-start)\n",
    "mr_score(ranks), mrr_score(ranks), hits_at_n_score(ranks, 1), hits_at_n_score(ranks, 10)"
   ]
  },
  {
   "cell_type": "code",
   "execution_count": null,
   "metadata": {},
   "outputs": [],
   "source": []
  },
  {
   "cell_type": "code",
   "execution_count": null,
   "metadata": {},
   "outputs": [],
   "source": []
  }
 ],
 "metadata": {
  "kernelspec": {
   "display_name": "tf2_nightly",
   "language": "python",
   "name": "tf_nightly"
  },
  "language_info": {
   "codemirror_mode": {
    "name": "ipython",
    "version": 3
   },
   "file_extension": ".py",
   "mimetype": "text/x-python",
   "name": "python",
   "nbconvert_exporter": "python",
   "pygments_lexer": "ipython3",
   "version": "3.7.7"
  }
 },
 "nbformat": 4,
 "nbformat_minor": 2
}
