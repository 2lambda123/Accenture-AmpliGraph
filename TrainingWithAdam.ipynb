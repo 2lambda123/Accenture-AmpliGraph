{
 "cells": [
  {
   "cell_type": "code",
   "execution_count": 1,
   "metadata": {},
   "outputs": [
    {
     "name": "stdout",
     "output_type": "stream",
     "text": [
      "2.3.0\n"
     ]
    }
   ],
   "source": [
    "import os\n",
    "os.environ['CUDA_VISIBLE_DEVICES'] = '1'\n",
    "os.environ['TF_CPP_MIN_LOG_LEVEL'] = '2' \n",
    "import tensorflow as tf\n",
    "tf.get_logger().setLevel('ERROR')\n",
    "import pandas as pd\n",
    "tf.config.set_soft_device_placement(False)\n",
    "tf.debugging.set_log_device_placement(True)\n",
    "import numpy as np\n",
    "from ampligraph.datasets import load_fb15k_237, load_yago3_10\n",
    "from ampligraph.evaluation.protocol import create_mappings, to_idx\n",
    "\n",
    "from ampligraph.evaluation.metrics import mrr_score, hits_at_n_score, mr_score\n",
    "import time\n",
    "print(tf.__version__)\n",
    "assert(tf.__version__.startswith('2.3'))\n",
    "\n",
    "from ampligraph.datasets import load_fb15k_237, load_fb13, load_fb15k, load_wn11, load_wn18, load_wn18rr, load_yago3_10\n",
    "from ampligraph.latent_features import ScoringBasedEmbeddingModel"
   ]
  },
  {
   "cell_type": "code",
   "execution_count": null,
   "metadata": {},
   "outputs": [],
   "source": []
  },
  {
   "cell_type": "code",
   "execution_count": 2,
   "metadata": {},
   "outputs": [],
   "source": [
    "#loss function\n",
    "def nll(scores_pred, eta):\n",
    "    scores_neg = scores_pred[1]\n",
    "    scores_pos = scores_pred[0]\n",
    "\n",
    "    scores_neg_reshaped = tf.reshape(scores_neg, [eta, tf.shape(scores_pos)[0]])\n",
    "    neg_exp = tf.exp(scores_neg_reshaped)\n",
    "    pos_exp = tf.exp(scores_pos)\n",
    "    softmax_score = pos_exp / (tf.reduce_sum(neg_exp, axis=0) + pos_exp)\n",
    "\n",
    "    loss = -tf.reduce_sum(tf.math.log(softmax_score))\n",
    "    return loss\n",
    "\n",
    "#pm.compile(optimizer='adam', loss=nll)"
   ]
  },
  {
   "cell_type": "markdown",
   "metadata": {},
   "source": [
    "# Train and eval without partition"
   ]
  },
  {
   "cell_type": "code",
   "execution_count": 3,
   "metadata": {},
   "outputs": [
    {
     "name": "stdout",
     "output_type": "stream",
     "text": [
      "Epoch 1/10\n",
      "    273/Unknown - 9s 32ms/step - loss: 1497.9250\n",
      "Epoch 00001: loss improved from inf to 1497.92505, saving model to ./chkpt1\n",
      "273/273 [==============================] - 9s 32ms/step - loss: 1497.9250\n",
      "Epoch 2/10\n",
      "273/273 [==============================] - ETA: 0s - loss: 1216.5336\n",
      "Epoch 00002: loss improved from 1497.92505 to 1216.53357, saving model to ./chkpt1\n",
      "273/273 [==============================] - 9s 31ms/step - loss: 1216.5336\n",
      "Epoch 3/10\n",
      "273/273 [==============================] - ETA: 0s - loss: 1030.6790\n",
      "Epoch 00003: loss improved from 1216.53357 to 1030.67896, saving model to ./chkpt1\n",
      "273/273 [==============================] - 9s 31ms/step - loss: 1030.6790\n",
      "Epoch 4/10\n",
      "273/273 [==============================] - ETA: 0s - loss: 902.6467\n",
      "Epoch 00004: loss improved from 1030.67896 to 902.64667, saving model to ./chkpt1\n",
      "273/273 [==============================] - 9s 32ms/step - loss: 902.6467\n",
      "Epoch 5/10\n",
      "272/273 [============================>.] - ETA: 0s - loss: 810.1034\n",
      "Epoch 00005: loss improved from 902.64667 to 809.79675, saving model to ./chkpt1\n",
      "273/273 [==============================] - 9s 32ms/step - loss: 809.7968\n",
      "Epoch 6/10\n",
      "273/273 [==============================] - ETA: 0s - loss: 738.9176\n",
      "Epoch 00006: loss improved from 809.79675 to 738.91760, saving model to ./chkpt1\n",
      "273/273 [==============================] - 8s 31ms/step - loss: 738.9176\n",
      "Epoch 7/10\n",
      "272/273 [============================>.] - ETA: 0s - loss: 683.2000\n",
      "Epoch 00007: loss improved from 738.91760 to 683.01837, saving model to ./chkpt1\n",
      "273/273 [==============================] - 8s 31ms/step - loss: 683.0184\n",
      "Epoch 8/10\n",
      "273/273 [==============================] - ETA: 0s - loss: 637.6382\n",
      "Epoch 00008: loss improved from 683.01837 to 637.63818, saving model to ./chkpt1\n",
      "273/273 [==============================] - 9s 32ms/step - loss: 637.6382\n",
      "Epoch 9/10\n",
      "272/273 [============================>.] - ETA: 0s - loss: 599.8733\n",
      "Epoch 00009: loss improved from 637.63818 to 599.74860, saving model to ./chkpt1\n",
      "273/273 [==============================] - 8s 31ms/step - loss: 599.7486\n",
      "Epoch 10/10\n",
      "273/273 [==============================] - ETA: 0s - loss: 567.9122\n",
      "Epoch 00010: loss improved from 599.74860 to 567.91217, saving model to ./chkpt1\n",
      "273/273 [==============================] - 9s 32ms/step - loss: 567.9122\n",
      "Invalid Key encountered in  ['/m/016zwt' '/location/location/contains' '/m/08hbxv']\n",
      "Invalid Key encountered in  ['/m/05hyf' '/film/film_subject/films' '/m/02yvct']\n",
      "Invalid Key encountered in  ['/m/0qb7t'\n",
      " '/user/tsegaran/random/taxonomy_subject/entry./user/tsegaran/random/taxonomy_entry/taxonomy'\n",
      " '/m/04n6k']\n",
      "Invalid Key encountered in  ['/m/027752' '/common/topic/webpage./common/webpage/category' '/m/08mbj5d']\n",
      "Invalid Key encountered in  ['/m/03f_jk' '/common/topic/webpage./common/webpage/category' '/m/08mbj5d']\n",
      "Invalid Key encountered in  ['/m/027qb1'\n",
      " '/business/job_title/people_with_this_title./business/employment_tenure/company'\n",
      " '/m/03z19']\n",
      "Invalid Key encountered in  ['/m/01x8f6' '/common/topic/webpage./common/webpage/category' '/m/08mbj5d']\n",
      "Invalid Key encountered in  ['/m/025x7g_'\n",
      " '/user/tsegaran/random/taxonomy_subject/entry./user/tsegaran/random/taxonomy_entry/taxonomy'\n",
      " '/m/04n6k']\n",
      "Invalid Key encountered in  ['/m/080v2' '/common/topic/webpage./common/webpage/category' '/m/08mbj5d']\n",
      "Invalid Key encountered in  ['/m/037vqt'\n",
      " '/award/award_category/winners./award/award_honor/award_winner'\n",
      " '/m/03cvfg']\n",
      "Invalid Key encountered in  ['/m/026y05'\n",
      " '/user/tsegaran/random/taxonomy_subject/entry./user/tsegaran/random/taxonomy_entry/taxonomy'\n",
      " '/m/04n6k']\n",
      "Invalid Key encountered in  ['/m/05k8m5' '/music/record_label/artist' '/m/01t8399']\n",
      "Invalid Key encountered in  ['/m/027jbr'\n",
      " '/award/hall_of_fame/inductees./award/hall_of_fame_induction/inductee'\n",
      " '/m/0hsph']\n",
      "Invalid Key encountered in  ['/m/02rxd26' '/time/event/instance_of_recurring_event' '/m/07hn5']\n",
      "Invalid Key encountered in  ['/m/03tp4' '/people/cause_of_death/people' '/m/08959']\n",
      "Invalid Key encountered in  ['/m/04gbl3' '/business/business_operation/industry' '/m/01mw1']\n",
      "Invalid Key encountered in  ['/m/01664_'\n",
      " '/user/tsegaran/random/taxonomy_subject/entry./user/tsegaran/random/taxonomy_entry/taxonomy'\n",
      " '/m/04n6k']\n",
      "Invalid Key encountered in  ['/m/0171c7' '/common/topic/webpage./common/webpage/category' '/m/08mbj5d']\n",
      "Invalid Key encountered in  ['/m/0zq7r' '/common/topic/webpage./common/webpage/category' '/m/08mbj5d']\n",
      "Invalid Key encountered in  ['/m/047vnfs' '/people/profession/specialization_of' '/m/04_tv']\n",
      "Invalid Key encountered in  ['/m/022qqh' '/people/profession/specialization_of' '/m/04_tv']\n",
      "Invalid Key encountered in  ['/m/0jvq'\n",
      " '/user/tsegaran/random/taxonomy_subject/entry./user/tsegaran/random/taxonomy_entry/taxonomy'\n",
      " '/m/04n6k']\n",
      "Invalid Key encountered in  ['/m/0lyb_'\n",
      " '/award/award_category/winners./award/award_honor/award_winner'\n",
      " '/m/01m3x5p']\n",
      "Invalid Key encountered in  ['/m/0ctw_b' '/location/location/contains' '/m/0gslw']\n",
      "Invalid Key encountered in  ['/m/027yjnv' '/time/event/instance_of_recurring_event' '/m/07hn5']\n",
      "Invalid Key encountered in  ['/m/024030'\n",
      " '/award/award_category/winners./award/award_honor/award_winner'\n",
      " '/m/0674cw']\n",
      "Invalid Key encountered in  ['/m/024tv_' '/common/topic/webpage./common/webpage/category' '/m/08mbj5d']\n",
      "Invalid Key encountered in  ['/m/0q96' '/common/topic/webpage./common/webpage/category' '/m/08mbj5d']\n",
      "639/639 [==============================] - 13s 21ms/step\n"
     ]
    }
   ],
   "source": [
    "model = ScoringBasedEmbeddingModel(eta=5, \n",
    "                                     k=300, \n",
    "                                     max_ent_size=14505, \n",
    "                                     max_rel_size=237,\n",
    "                                     scoring_type='TransE')\n",
    "\n",
    "model.compile(optimizer='adam', loss=nll)\n",
    "\n",
    "from tensorflow.keras.callbacks import ModelCheckpoint\n",
    "checkpoint = ModelCheckpoint('./chkpt1', monitor='loss', verbose=1, save_best_only=True, mode='min')\n",
    "\n",
    "model.fit('/home/spai/code/ampligraph_projects/dataset/fb15k-237/train.txt',\n",
    "         batch_size=1000,\n",
    "         epochs=10, callbacks=[checkpoint])\n",
    "\n",
    "start = time.time()\n",
    "ranks = model.evaluate('/home/spai/code/ampligraph_projects/dataset/fb15k-237/test.txt')\n",
    "end = time.time()\n"
   ]
  },
  {
   "cell_type": "code",
   "execution_count": 4,
   "metadata": {},
   "outputs": [
    {
     "data": {
      "text/plain": [
       "(437.08630485893417, 0.09560396082399875)"
      ]
     },
     "execution_count": 4,
     "metadata": {},
     "output_type": "execute_result"
    }
   ],
   "source": [
    "mr_score(ranks), mrr_score(ranks)"
   ]
  },
  {
   "cell_type": "markdown",
   "metadata": {},
   "source": [
    "# Train with partition"
   ]
  },
  {
   "cell_type": "code",
   "execution_count": 5,
   "metadata": {},
   "outputs": [
    {
     "name": "stdout",
     "output_type": "stream",
     "text": [
      "Partitioning may take a while...\n",
      "_split: memory before: 0.0Bytes, after: 13.001MB, consumed: 13.001MB; exec time: 230.68s\n",
      "Epoch 1/10\n",
      "    277/Unknown - 10s 38ms/step - loss: 1631.9161\n",
      "Epoch 00001: loss improved from inf to 1631.91614, saving model to ./chkpt1\n",
      "277/277 [==============================] - 11s 38ms/step - loss: 1631.9161\n",
      "Epoch 2/10\n",
      "276/277 [============================>.] - ETA: 0s - loss: 1542.3390\n",
      "Epoch 00002: loss improved from 1631.91614 to 1541.34094, saving model to ./chkpt1\n",
      "277/277 [==============================] - 8s 30ms/step - loss: 1541.3409\n",
      "Epoch 3/10\n",
      "277/277 [==============================] - ETA: 0s - loss: 1460.8374\n",
      "Epoch 00003: loss improved from 1541.34094 to 1460.83740, saving model to ./chkpt1\n",
      "277/277 [==============================] - 9s 34ms/step - loss: 1460.8374\n",
      "Epoch 4/10\n",
      "275/277 [============================>.] - ETA: 0s - loss: 1392.3140\n",
      "Epoch 00004: loss improved from 1460.83740 to 1392.21301, saving model to ./chkpt1\n",
      "277/277 [==============================] - 9s 34ms/step - loss: 1392.2130\n",
      "Epoch 5/10\n",
      "276/277 [============================>.] - ETA: 0s - loss: 1332.5073\n",
      "Epoch 00005: loss improved from 1392.21301 to 1332.22070, saving model to ./chkpt1\n",
      "277/277 [==============================] - 9s 33ms/step - loss: 1332.2207\n",
      "Epoch 6/10\n",
      "276/277 [============================>.] - ETA: 0s - loss: 1279.1855\n",
      "Epoch 00006: loss improved from 1332.22070 to 1278.96558, saving model to ./chkpt1\n",
      "277/277 [==============================] - 9s 34ms/step - loss: 1278.9656\n",
      "Epoch 7/10\n",
      "275/277 [============================>.] - ETA: 0s - loss: 1231.2090\n",
      "Epoch 00007: loss improved from 1278.96558 to 1231.24158, saving model to ./chkpt1\n",
      "277/277 [==============================] - 9s 34ms/step - loss: 1231.2416\n",
      "Epoch 8/10\n",
      "276/277 [============================>.] - ETA: 0s - loss: 1188.1653\n",
      "Epoch 00008: loss improved from 1231.24158 to 1188.02502, saving model to ./chkpt1\n",
      "277/277 [==============================] - 9s 33ms/step - loss: 1188.0250\n",
      "Epoch 9/10\n",
      "276/277 [============================>.] - ETA: 0s - loss: 1148.9446\n",
      "Epoch 00009: loss improved from 1188.02502 to 1148.83081, saving model to ./chkpt1\n",
      "277/277 [==============================] - 9s 33ms/step - loss: 1148.8308\n",
      "Epoch 10/10\n",
      "275/277 [============================>.] - ETA: 0s - loss: 1112.9684\n",
      "Epoch 00010: loss improved from 1148.83081 to 1113.02905, saving model to ./chkpt1\n",
      "277/277 [==============================] - 10s 35ms/step - loss: 1113.0291\n"
     ]
    },
    {
     "data": {
      "text/plain": [
       "<tensorflow.python.keras.callbacks.History at 0x7fd52c72f610>"
      ]
     },
     "execution_count": 5,
     "metadata": {},
     "output_type": "execute_result"
    }
   ],
   "source": [
    "model = ScoringBasedEmbeddingModel(eta=5, \n",
    "                                     k=300, \n",
    "                                     max_ent_size=10000, \n",
    "                                     max_rel_size=237,\n",
    "                                     scoring_type='TransE')\n",
    "\n",
    "model.compile(optimizer='adam', loss=nll)\n",
    "\n",
    "from tensorflow.keras.callbacks import ModelCheckpoint\n",
    "checkpoint = ModelCheckpoint('./chkpt1', monitor='loss', verbose=1, save_best_only=True, mode='min')\n",
    "\n",
    "model.fit('/home/spai/code/ampligraph_projects/dataset/fb15k-237/train.txt',\n",
    "         batch_size=1000, use_partitioning=True,\n",
    "         epochs=10, callbacks=[checkpoint])\n",
    "\n",
    "#start = time.time()\n",
    "#ranks = model.evaluate('/home/spai/code/ampligraph_projects/dataset/fb15k-237/test.txt')\n",
    "#end = time.time()"
   ]
  },
  {
   "cell_type": "code",
   "execution_count": 6,
   "metadata": {},
   "outputs": [],
   "source": [
    "#mr_score(ranks), mrr_score(ranks)"
   ]
  },
  {
   "cell_type": "code",
   "execution_count": null,
   "metadata": {},
   "outputs": [],
   "source": []
  },
  {
   "cell_type": "code",
   "execution_count": null,
   "metadata": {},
   "outputs": [],
   "source": []
  },
  {
   "cell_type": "code",
   "execution_count": null,
   "metadata": {},
   "outputs": [],
   "source": []
  }
 ],
 "metadata": {
  "kernelspec": {
   "display_name": "tf2_nightly",
   "language": "python",
   "name": "tf_nightly"
  },
  "language_info": {
   "codemirror_mode": {
    "name": "ipython",
    "version": 3
   },
   "file_extension": ".py",
   "mimetype": "text/x-python",
   "name": "python",
   "nbconvert_exporter": "python",
   "pygments_lexer": "ipython3",
   "version": "3.7.7"
  }
 },
 "nbformat": 4,
 "nbformat_minor": 2
}
