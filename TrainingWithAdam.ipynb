{
 "cells": [
  {
   "cell_type": "code",
   "execution_count": 1,
   "metadata": {
    "scrolled": true
   },
   "outputs": [
    {
     "name": "stdout",
     "output_type": "stream",
     "text": [
      "2.4.0-dev20201007\n"
     ]
    }
   ],
   "source": [
    "import os\n",
    "os.environ['CUDA_VISIBLE_DEVICES'] = '1'\n",
    "os.environ['TF_CPP_MIN_LOG_LEVEL'] = '2' \n",
    "import tensorflow as tf\n",
    "tf.get_logger().setLevel('ERROR')\n",
    "import pandas as pd\n",
    "tf.config.set_soft_device_placement(False)\n",
    "tf.debugging.set_log_device_placement(True)\n",
    "import numpy as np\n",
    "from ampligraph.datasets import load_fb15k_237, load_yago3_10\n",
    "from ampligraph.evaluation.protocol import create_mappings, to_idx\n",
    "\n",
    "from ampligraph.evaluation.metrics import mrr_score, hits_at_n_score, mr_score\n",
    "import time\n",
    "print(tf.__version__)\n",
    "assert(tf.__version__.startswith('2.4'))\n",
    "\n",
    "from ampligraph.datasets import load_fb15k_237, load_fb13, load_fb15k, load_wn11, load_wn18, load_wn18rr, load_yago3_10\n",
    "from ampligraph.latent_features import ScoringBasedEmbeddingModel"
   ]
  },
  {
   "cell_type": "code",
   "execution_count": 2,
   "metadata": {},
   "outputs": [],
   "source": [
    "#loss function\n",
    "def nll(scores_pos, scores_neg):\n",
    "    neg_exp = tf.exp(scores_neg)\n",
    "    pos_exp = tf.exp(scores_pos)\n",
    "    softmax_score = pos_exp / (tf.reduce_sum(neg_exp, axis=0) + pos_exp)\n",
    "\n",
    "    loss = -tf.math.log(softmax_score)\n",
    "    return loss"
   ]
  },
  {
   "cell_type": "code",
   "execution_count": null,
   "metadata": {},
   "outputs": [],
   "source": []
  },
  {
   "cell_type": "markdown",
   "metadata": {},
   "source": [
    "# Train/eval without partition"
   ]
  },
  {
   "cell_type": "code",
   "execution_count": 3,
   "metadata": {},
   "outputs": [
    {
     "name": "stdout",
     "output_type": "stream",
     "text": [
      "Epoch 1/10\n"
     ]
    },
    {
     "name": "stderr",
     "output_type": "stream",
     "text": [
      "/home/spai/.conda/envs/tf_nightly/lib/python3.7/site-packages/tensorflow/python/framework/indexed_slices.py:437: UserWarning: Converting sparse IndexedSlices(IndexedSlices(indices=Tensor(\"PartitionedCall_2:1\", shape=(None,), dtype=int32), values=Tensor(\"PartitionedCall_2:0\", shape=(None, 300), dtype=float32), dense_shape=Tensor(\"PartitionedCall_2:2\", shape=(2,), dtype=int32))) to a dense Tensor of unknown shape. This may consume a large amount of memory.\n",
      "  \"shape. This may consume a large amount of memory.\" % value)\n",
      "/home/spai/.conda/envs/tf_nightly/lib/python3.7/site-packages/tensorflow/python/framework/indexed_slices.py:437: UserWarning: Converting sparse IndexedSlices(IndexedSlices(indices=Tensor(\"PartitionedCall_2:4\", shape=(None,), dtype=int32), values=Tensor(\"PartitionedCall_2:3\", shape=(None, 300), dtype=float32), dense_shape=Tensor(\"PartitionedCall_2:5\", shape=(2,), dtype=int32))) to a dense Tensor of unknown shape. This may consume a large amount of memory.\n",
      "  \"shape. This may consume a large amount of memory.\" % value)\n"
     ]
    },
    {
     "name": "stdout",
     "output_type": "stream",
     "text": [
      "     28/Unknown - 2s 72ms/step - loss: 1.4029\n",
      "Epoch 00001: loss improved from inf to 1.40221, saving model to ./chkpt1\n",
      "29/29 [==============================] - 2s 71ms/step - loss: 1.4022\n",
      "Epoch 2/10\n",
      "28/29 [===========================>..] - ETA: 0s - loss: 1.3488\n",
      "Epoch 00002: loss improved from 1.40221 to 1.34860, saving model to ./chkpt1\n",
      "29/29 [==============================] - 1s 37ms/step - loss: 1.3486\n",
      "Epoch 3/10\n",
      "28/29 [===========================>..] - ETA: 0s - loss: 1.3259\n",
      "Epoch 00003: loss improved from 1.34860 to 1.32573, saving model to ./chkpt1\n",
      "29/29 [==============================] - 1s 38ms/step - loss: 1.3257\n",
      "Epoch 4/10\n",
      "28/29 [===========================>..] - ETA: 0s - loss: 1.3124\n",
      "Epoch 00004: loss improved from 1.32573 to 1.31234, saving model to ./chkpt1\n",
      "29/29 [==============================] - 1s 37ms/step - loss: 1.3123\n",
      "Epoch 5/10\n",
      "28/29 [===========================>..] - ETA: 0s - loss: 1.3033\n",
      "9 triples containing invalid keys skipped!\n",
      "177/177 [==============================] - 5s 30ms/step\n",
      "\n",
      "Epoch 00005: loss improved from 1.31234 to 1.30322, saving model to ./chkpt1\n",
      "29/29 [==============================] - 6s 223ms/step - loss: 1.3032 - val_mrr: 0.0842 - val_mr: 412.9296 - val_hits@1: 0.0000e+00 - val_hits@10: 0.2396\n",
      "Epoch 6/10\n",
      "28/29 [===========================>..] - ETA: 0s - loss: 1.2964\n",
      "Epoch 00006: loss improved from 1.30322 to 1.29639, saving model to ./chkpt1\n",
      "29/29 [==============================] - 1s 38ms/step - loss: 1.2964\n",
      "Epoch 7/10\n",
      "28/29 [===========================>..] - ETA: 0s - loss: 1.2911\n",
      "Epoch 00007: loss improved from 1.29639 to 1.29108, saving model to ./chkpt1\n",
      "29/29 [==============================] - 1s 38ms/step - loss: 1.2911\n",
      "Epoch 8/10\n",
      "28/29 [===========================>..] - ETA: 0s - loss: 1.2868\n",
      "Epoch 00008: loss improved from 1.29108 to 1.28676, saving model to ./chkpt1\n",
      "29/29 [==============================] - 1s 38ms/step - loss: 1.2868\n",
      "Epoch 9/10\n",
      "28/29 [===========================>..] - ETA: 0s - loss: 1.2832\n",
      "Epoch 00009: loss improved from 1.28676 to 1.28313, saving model to ./chkpt1\n",
      "29/29 [==============================] - 1s 40ms/step - loss: 1.2831\n",
      "Epoch 10/10\n",
      "28/29 [===========================>..] - ETA: 0s - loss: 1.2801\n",
      "9 triples containing invalid keys skipped!\n",
      "177/177 [==============================] - 4s 25ms/step\n",
      "\n",
      "Epoch 00010: loss improved from 1.28313 to 1.28005, saving model to ./chkpt1\n",
      "29/29 [==============================] - 6s 191ms/step - loss: 1.2800 - val_mrr: 0.0866 - val_mr: 392.3444 - val_hits@1: 0.0000e+00 - val_hits@10: 0.2465\n",
      "Time taken: 22.713403940200806\n"
     ]
    }
   ],
   "source": [
    "\n",
    "optim = tf.optimizers.Adagrad(learning_rate=0.1)\n",
    "# optim = 'adam'\n",
    "\n",
    "# loss = nll\n",
    "# loss = 'self_adversarial'\n",
    "from ampligraph.latent_features.loss_functions import SelfAdversarialLoss\n",
    "loss = SelfAdversarialLoss({'margin': 0.1, 'alpha': 5, 'reduction': 'sum'})\n",
    "\n",
    "model = ScoringBasedEmbeddingModel(eta=50, \n",
    "                                     k=300,\n",
    "                                     scoring_type='TransE')\n",
    "\n",
    "\n",
    "\n",
    "model.compile(optimizer=optim, loss=loss)\n",
    "\n",
    "from tensorflow.keras.callbacks import ModelCheckpoint\n",
    "checkpoint = ModelCheckpoint('./chkpt1', monitor='loss', verbose=1, save_best_only=True, mode='min')\n",
    "\n",
    "start = time.time()\n",
    "model.fit('/home/spai/code/ampligraph_projects/dataset/fb15k-237/train.txt',\n",
    "             batch_size=10000,\n",
    "             epochs=10,\n",
    "             validation_freq=5,\n",
    "             validation_batch_size=100,\n",
    "             validation_data = '/home/spai/code/ampligraph_projects/dataset/fb15k-237/valid.txt',\n",
    "         callbacks=[checkpoint])\n",
    "\n",
    "end = time.time()\n",
    "print('Time taken:', end-start)"
   ]
  },
  {
   "cell_type": "code",
   "execution_count": 4,
   "metadata": {},
   "outputs": [
    {
     "name": "stdout",
     "output_type": "stream",
     "text": [
      "\n",
      "28 triples containing invalid keys skipped!\n",
      "\n",
      "9 triples containing invalid keys skipped!\n",
      "\n",
      "28 triples containing invalid keys skipped!\n",
      "206/206 [==============================] - 54s 262ms/step\n",
      "Time taken: 54.01689267158508\n"
     ]
    },
    {
     "data": {
      "text/plain": [
       "(265.7934484783247,\n",
       " 0.18948653867548204,\n",
       " 0.11143458264018005,\n",
       " 0.3431108719052745)"
      ]
     },
     "execution_count": 4,
     "metadata": {},
     "output_type": "execute_result"
    }
   ],
   "source": [
    "\n",
    "start = time.time()\n",
    "ranks = model.evaluate('/home/spai/code/ampligraph_projects/dataset/fb15k-237/test.txt', \n",
    "                       batch_size=100,\n",
    "                       corrupt_side='s,o',\n",
    "         use_filter={'train':'/home/spai/code/ampligraph_projects/dataset/fb15k-237/train.txt',\n",
    "                  'valid':'/home/spai/code/ampligraph_projects/dataset/fb15k-237/valid.txt',\n",
    "                  'test':'/home/spai/code/ampligraph_projects/dataset/fb15k-237/test.txt'})\n",
    "end = time.time()\n",
    "print('Time taken:', end-start)\n",
    "mr_score(ranks), mrr_score(ranks), hits_at_n_score(ranks, 1), hits_at_n_score(ranks, 10)"
   ]
  },
  {
   "cell_type": "markdown",
   "metadata": {},
   "source": [
    "## Load Checkpoint and evaluate"
   ]
  },
  {
   "cell_type": "code",
   "execution_count": 5,
   "metadata": {},
   "outputs": [
    {
     "name": "stdout",
     "output_type": "stream",
     "text": [
      "\n",
      "28 triples containing invalid keys skipped!\n",
      "\n",
      "9 triples containing invalid keys skipped!\n",
      "\n",
      "28 triples containing invalid keys skipped!\n",
      "206/206 [==============================] - 54s 262ms/step\n",
      "Time taken: 54.01914381980896\n"
     ]
    },
    {
     "data": {
      "text/plain": [
       "(265.7934484783247,\n",
       " 0.18948653867548204,\n",
       " 0.11143458264018005,\n",
       " 0.3431108719052745)"
      ]
     },
     "execution_count": 5,
     "metadata": {},
     "output_type": "execute_result"
    }
   ],
   "source": [
    "start = time.time()\n",
    "loaded_model = ScoringBasedEmbeddingModel(eta=50, \n",
    "                                     k=300, \n",
    "                                     scoring_type='TransE')\n",
    "loaded_model.load_weights('./chkpt1')\n",
    "ranks = loaded_model.evaluate('/home/spai/code/ampligraph_projects/dataset/fb15k-237/test.txt', \n",
    "                       batch_size=100,\n",
    "                       corrupt_side='s,o',\n",
    "         use_filter={'train':'/home/spai/code/ampligraph_projects/dataset/fb15k-237/train.txt',\n",
    "                  'valid':'/home/spai/code/ampligraph_projects/dataset/fb15k-237/valid.txt',\n",
    "                  'test':'/home/spai/code/ampligraph_projects/dataset/fb15k-237/test.txt'})\n",
    "end = time.time()\n",
    "print('Time taken:', end-start)\n",
    "mr_score(ranks), mrr_score(ranks), hits_at_n_score(ranks, 1), hits_at_n_score(ranks, 10)"
   ]
  },
  {
   "cell_type": "markdown",
   "metadata": {},
   "source": [
    "# Training/eval with partition "
   ]
  },
  {
   "cell_type": "markdown",
   "metadata": {},
   "source": [
    "## Training with RandomEdges partitioner"
   ]
  },
  {
   "cell_type": "code",
   "execution_count": 6,
   "metadata": {},
   "outputs": [
    {
     "name": "stdout",
     "output_type": "stream",
     "text": [
      "_split: memory before: 0.0Bytes, after: 12.888MB, consumed: 12.888MB; exec time: 31.396s\n"
     ]
    }
   ],
   "source": [
    "from ampligraph.datasets import DummyBackend, SQLiteAdapter\n",
    "from ampligraph.datasets import GraphDataLoader\n",
    "from ampligraph.datasets.graph_partitioner import PARTITION_ALGO_REGISTRY\n",
    "dataset_loader = GraphDataLoader('/home/spai/code/ampligraph_projects/dataset/fb15k-237/train.txt', \n",
    "                                 backend=SQLiteAdapter,\n",
    "                                    batch_size=1000, \n",
    "                                    dataset_type='train', \n",
    "                                    epochs=10,\n",
    "                                    use_indexer=True)\n",
    "\n",
    "# Choose the partitioner \n",
    "partitioner = PARTITION_ALGO_REGISTRY.get('RandomEdges')(dataset_loader, k=3)"
   ]
  },
  {
   "cell_type": "code",
   "execution_count": 7,
   "metadata": {},
   "outputs": [],
   "source": [
    "optim = tf.optimizers.Adam(learning_rate=0.001, amsgrad=True)\n",
    "\n",
    "partitioned_model = ScoringBasedEmbeddingModel(eta=5, \n",
    "                                     k=300, \n",
    "                                     scoring_type='TransE')\n",
    "partitioned_model.compile(optimizer=optim, loss=nll)"
   ]
  },
  {
   "cell_type": "code",
   "execution_count": 8,
   "metadata": {},
   "outputs": [
    {
     "name": "stdout",
     "output_type": "stream",
     "text": [
      "Epoch 1/10\n",
      "274/274 [==============================] - 16s 59ms/step - loss: 1.5947\n",
      "Epoch 2/10\n",
      "274/274 [==============================] - 15s 55ms/step - loss: 1.4213\n",
      "Epoch 3/10\n",
      "274/274 [==============================] - 15s 56ms/step - loss: 1.2638\n",
      "Epoch 4/10\n",
      "274/274 [==============================] - 15s 55ms/step - loss: 1.1327\n",
      "Epoch 5/10\n",
      "274/274 [==============================] - 15s 56ms/step - loss: 1.0269\n",
      "Epoch 6/10\n",
      "274/274 [==============================] - 15s 55ms/step - loss: 0.9414\n",
      "Epoch 7/10\n",
      "274/274 [==============================] - 15s 55ms/step - loss: 0.8716\n",
      "Epoch 8/10\n",
      "274/274 [==============================] - 15s 55ms/step - loss: 0.8139\n",
      "Epoch 9/10\n",
      "274/274 [==============================] - 15s 55ms/step - loss: 0.7652\n",
      "Epoch 10/10\n",
      "274/274 [==============================] - 15s 55ms/step - loss: 0.7237\n",
      "164.69696426391602\n"
     ]
    }
   ],
   "source": [
    "\n",
    "start = time.time()\n",
    "partitioned_model.fit(partitioner,\n",
    "                     batch_size=1000, use_partitioning=True,\n",
    "                     epochs=10)\n",
    "print((time.time()-start))"
   ]
  },
  {
   "cell_type": "code",
   "execution_count": 9,
   "metadata": {},
   "outputs": [
    {
     "name": "stdout",
     "output_type": "stream",
     "text": [
      "\n",
      "28 triples containing invalid keys skipped!\n",
      "53/53 [==============================] - 128s 2s/step\n",
      "Time taken: 127.85662364959717\n"
     ]
    },
    {
     "data": {
      "text/plain": [
       "(488.4006996770721, 0.09720079053038014, 0.0, 0.2657305020060671)"
      ]
     },
     "execution_count": 9,
     "metadata": {},
     "output_type": "execute_result"
    }
   ],
   "source": [
    "\n",
    "dataset_loader_test = GraphDataLoader('/home/spai/code/ampligraph_projects/dataset/fb15k-237/test.txt', \n",
    "                                        backend=DummyBackend,\n",
    "                                        batch_size=400, \n",
    "                                        dataset_type='test', \n",
    "                                        epochs=1,\n",
    "                                        use_indexer=partitioned_model.data_handler.get_mapper())\n",
    "\n",
    "start = time.time()\n",
    "ranks = partitioned_model.evaluate(dataset_loader_test, \n",
    "                                   batch_size=400)\n",
    "end = time.time()\n",
    "print('Time taken:', end-start)\n",
    "\n",
    "mr_score(ranks), mrr_score(ranks), hits_at_n_score(ranks, 1), hits_at_n_score(ranks, 10)"
   ]
  },
  {
   "cell_type": "code",
   "execution_count": null,
   "metadata": {},
   "outputs": [],
   "source": []
  },
  {
   "cell_type": "markdown",
   "metadata": {},
   "source": [
    "## Save and Load"
   ]
  },
  {
   "cell_type": "code",
   "execution_count": 10,
   "metadata": {},
   "outputs": [],
   "source": [
    "partitioned_model.save_weights('./best_model')"
   ]
  },
  {
   "cell_type": "code",
   "execution_count": 11,
   "metadata": {},
   "outputs": [],
   "source": [
    "loaded_part_model = ScoringBasedEmbeddingModel(eta=5, \n",
    "                                     k=300, \n",
    "                                     scoring_type='TransE')\n",
    "\n",
    "loaded_part_model.load_weights('./best_model')"
   ]
  },
  {
   "cell_type": "code",
   "execution_count": 12,
   "metadata": {},
   "outputs": [
    {
     "name": "stdout",
     "output_type": "stream",
     "text": [
      "\n",
      "28 triples containing invalid keys skipped!\n",
      "53/53 [==============================] - 131s 2s/step\n",
      "Time taken: 130.72745776176453\n"
     ]
    },
    {
     "data": {
      "text/plain": [
       "(488.4006996770721, 0.09720079053038014, 0.0, 0.2657305020060671)"
      ]
     },
     "execution_count": 12,
     "metadata": {},
     "output_type": "execute_result"
    }
   ],
   "source": [
    "\n",
    "dataset_loader_test = GraphDataLoader('/home/spai/code/ampligraph_projects/dataset/fb15k-237/test.txt', \n",
    "                                        backend=DummyBackend,\n",
    "                                        batch_size=400, \n",
    "                                        dataset_type='test', \n",
    "                                        epochs=1,\n",
    "                                        use_indexer=loaded_part_model.data_indexer)\n",
    "\n",
    "start = time.time()\n",
    "ranks = loaded_part_model.evaluate(dataset_loader_test, \n",
    "                                   batch_size=400)\n",
    "end = time.time()\n",
    "print('Time taken:', end-start)\n",
    "\n",
    "mr_score(ranks), mrr_score(ranks), hits_at_n_score(ranks, 1), hits_at_n_score(ranks, 10)"
   ]
  },
  {
   "cell_type": "markdown",
   "metadata": {},
   "source": [
    "# Training/eval with partition (default Partitioning Approach)"
   ]
  },
  {
   "cell_type": "code",
   "execution_count": 13,
   "metadata": {},
   "outputs": [],
   "source": [
    "from ampligraph.datasets import DummyBackend, SQLiteAdapter\n",
    "from ampligraph.datasets import GraphDataLoader\n",
    "from ampligraph.datasets.graph_partitioner import PARTITION_ALGO_REGISTRY\n"
   ]
  },
  {
   "cell_type": "code",
   "execution_count": 14,
   "metadata": {},
   "outputs": [
    {
     "name": "stdout",
     "output_type": "stream",
     "text": [
      "_split: memory before: 102.71MB, after: 115.42MB, consumed: 12.706MB; exec time: 85.124s\n",
      "Epoch 1/10\n",
      "277/277 [==============================] - 9s 34ms/step - loss: 1.7309\n",
      "Epoch 2/10\n",
      "277/277 [==============================] - 9s 32ms/step - loss: 1.6420\n",
      "Epoch 3/10\n",
      "277/277 [==============================] - 9s 32ms/step - loss: 1.5553\n",
      "Epoch 4/10\n",
      "277/277 [==============================] - 9s 33ms/step - loss: 1.4762\n",
      "Epoch 5/10\n",
      "277/277 [==============================] - 9s 33ms/step - loss: 1.4055\n",
      "Epoch 6/10\n",
      "277/277 [==============================] - 9s 32ms/step - loss: 1.3427\n",
      "Epoch 7/10\n",
      "277/277 [==============================] - 9s 32ms/step - loss: 1.2868\n",
      "Epoch 8/10\n",
      "277/277 [==============================] - 9s 33ms/step - loss: 1.2369\n",
      "Epoch 9/10\n",
      "277/277 [==============================] - 9s 33ms/step - loss: 1.1923\n",
      "Epoch 10/10\n",
      "277/277 [==============================] - 9s 32ms/step - loss: 1.1523\n",
      "183.76288604736328\n"
     ]
    }
   ],
   "source": [
    "optim = tf.optimizers.Adam(learning_rate=0.001, amsgrad=True)\n",
    "\n",
    "partitioned_model = ScoringBasedEmbeddingModel(eta=5, \n",
    "                                     k=300, \n",
    "                                     scoring_type='TransE')\n",
    "partitioned_model.compile(optimizer=optim, loss=nll)\n",
    "\n",
    "\n",
    "start = time.time()\n",
    "partitioned_model.fit('/home/spai/code/ampligraph_projects/dataset/fb15k-237/train.txt',\n",
    "                     batch_size=1000, use_partitioning=True,\n",
    "                     epochs=10)\n",
    "print((time.time()-start))"
   ]
  },
  {
   "cell_type": "code",
   "execution_count": 15,
   "metadata": {},
   "outputs": [
    {
     "name": "stdout",
     "output_type": "stream",
     "text": [
      "\n",
      "28 triples containing invalid keys skipped!\n",
      "53/53 [==============================] - 131s 2s/step\n",
      "Time taken: 130.80173540115356\n"
     ]
    },
    {
     "data": {
      "text/plain": [
       "(769.9404295919365, 0.08808123789332144, 0.0, 0.23911341618553675)"
      ]
     },
     "execution_count": 15,
     "metadata": {},
     "output_type": "execute_result"
    }
   ],
   "source": [
    "\n",
    "\n",
    "start = time.time()\n",
    "ranks = partitioned_model.evaluate('/home/spai/code/ampligraph_projects/dataset/fb15k-237/test.txt', \n",
    "                                   batch_size=400)\n",
    "end = time.time()\n",
    "print('Time taken:', end-start)\n",
    "\n",
    "mr_score(ranks), mrr_score(ranks), hits_at_n_score(ranks, 1), hits_at_n_score(ranks, 10)"
   ]
  },
  {
   "cell_type": "code",
   "execution_count": null,
   "metadata": {},
   "outputs": [],
   "source": []
  },
  {
   "cell_type": "markdown",
   "metadata": {},
   "source": [
    "## Filtered evaluation"
   ]
  },
  {
   "cell_type": "code",
   "execution_count": 16,
   "metadata": {},
   "outputs": [
    {
     "name": "stdout",
     "output_type": "stream",
     "text": [
      "\n",
      "28 triples containing invalid keys skipped!\n",
      "\n",
      "9 triples containing invalid keys skipped!\n",
      "\n",
      "28 triples containing invalid keys skipped!\n",
      "53/53 [==============================] - 296s 6s/step\n",
      "Time taken: 295.847562789917\n"
     ]
    },
    {
     "data": {
      "text/plain": [
       "(644.7648742538408,\n",
       " 0.19486104781589067,\n",
       " 0.13406399843428907,\n",
       " 0.31321557882375967)"
      ]
     },
     "execution_count": 16,
     "metadata": {},
     "output_type": "execute_result"
    }
   ],
   "source": [
    "start = time.time()\n",
    "ranks = partitioned_model.evaluate('/home/spai/code/ampligraph_projects/dataset/fb15k-237/test.txt', \n",
    "                       batch_size=400,\n",
    "                       corrupt_side='s,o',\n",
    "                        use_filter={'train':'/home/spai/code/ampligraph_projects/dataset/fb15k-237/train.txt',\n",
    "                              'valid':'/home/spai/code/ampligraph_projects/dataset/fb15k-237/valid.txt',\n",
    "                              'test':'/home/spai/code/ampligraph_projects/dataset/fb15k-237/test.txt'})\n",
    "end = time.time()\n",
    "print('Time taken:', end-start)\n",
    "mr_score(ranks), mrr_score(ranks), hits_at_n_score(ranks, 1), hits_at_n_score(ranks, 10)"
   ]
  },
  {
   "cell_type": "code",
   "execution_count": null,
   "metadata": {},
   "outputs": [],
   "source": []
  },
  {
   "cell_type": "code",
   "execution_count": null,
   "metadata": {},
   "outputs": [],
   "source": []
  },
  {
   "cell_type": "code",
   "execution_count": null,
   "metadata": {},
   "outputs": [],
   "source": []
  }
 ],
 "metadata": {
  "kernelspec": {
   "display_name": "tf2_nightly",
   "language": "python",
   "name": "tf_nightly"
  },
  "language_info": {
   "codemirror_mode": {
    "name": "ipython",
    "version": 3
   },
   "file_extension": ".py",
   "mimetype": "text/x-python",
   "name": "python",
   "nbconvert_exporter": "python",
   "pygments_lexer": "ipython3",
   "version": "3.7.7"
  }
 },
 "nbformat": 4,
 "nbformat_minor": 2
}
