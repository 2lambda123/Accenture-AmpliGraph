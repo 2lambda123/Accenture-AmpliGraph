{
 "cells": [
  {
   "cell_type": "code",
   "execution_count": 1,
   "metadata": {
    "scrolled": true
   },
   "outputs": [
    {
     "name": "stdout",
     "output_type": "stream",
     "text": [
      "2.4.0-dev20201007\n"
     ]
    }
   ],
   "source": [
    "import os\n",
    "os.environ['CUDA_VISIBLE_DEVICES'] = '1'\n",
    "os.environ['TF_CPP_MIN_LOG_LEVEL'] = '2' \n",
    "import tensorflow as tf\n",
    "tf.get_logger().setLevel('ERROR')\n",
    "import pandas as pd\n",
    "tf.config.set_soft_device_placement(False)\n",
    "tf.debugging.set_log_device_placement(True)\n",
    "import numpy as np\n",
    "from ampligraph.datasets import load_fb15k_237, load_yago3_10\n",
    "from ampligraph.evaluation.protocol import create_mappings, to_idx\n",
    "\n",
    "from ampligraph.evaluation.metrics import mrr_score, hits_at_n_score, mr_score\n",
    "import time\n",
    "print(tf.__version__)\n",
    "assert(tf.__version__.startswith('2.4'))\n",
    "\n",
    "from ampligraph.datasets import load_fb15k_237, load_fb13, load_fb15k, load_wn11, load_wn18, load_wn18rr, load_yago3_10\n",
    "from ampligraph.latent_features import ScoringBasedEmbeddingModel"
   ]
  },
  {
   "cell_type": "code",
   "execution_count": 2,
   "metadata": {},
   "outputs": [],
   "source": [
    "#loss function\n",
    "def nll(scores_pos, scores_neg, eta):\n",
    "    scores_neg_reshaped = tf.reshape(scores_neg, [eta, tf.shape(scores_pos)[0]])\n",
    "    neg_exp = tf.exp(scores_neg_reshaped)\n",
    "    pos_exp = tf.exp(scores_pos)\n",
    "    softmax_score = pos_exp / (tf.reduce_sum(neg_exp, axis=0) + pos_exp)\n",
    "\n",
    "    loss = -tf.reduce_sum(tf.math.log(softmax_score))\n",
    "    return loss"
   ]
  },
  {
   "cell_type": "code",
   "execution_count": null,
   "metadata": {},
   "outputs": [],
   "source": []
  },
  {
   "cell_type": "markdown",
   "metadata": {},
   "source": [
    "# Train/eval without partition"
   ]
  },
  {
   "cell_type": "code",
   "execution_count": 3,
   "metadata": {},
   "outputs": [
    {
     "name": "stdout",
     "output_type": "stream",
     "text": [
      "Epoch 1/10\n"
     ]
    },
    {
     "name": "stderr",
     "output_type": "stream",
     "text": [
      "/home/spai/.conda/envs/tf_nightly/lib/python3.7/site-packages/tensorflow/python/framework/indexed_slices.py:437: UserWarning: Converting sparse IndexedSlices(IndexedSlices(indices=Tensor(\"PartitionedCall_2:1\", shape=(None,), dtype=int32), values=Tensor(\"PartitionedCall_2:0\", shape=(None, 300), dtype=float32), dense_shape=Tensor(\"PartitionedCall_2:2\", shape=(2,), dtype=int32))) to a dense Tensor of unknown shape. This may consume a large amount of memory.\n",
      "  \"shape. This may consume a large amount of memory.\" % value)\n",
      "/home/spai/.conda/envs/tf_nightly/lib/python3.7/site-packages/tensorflow/python/framework/indexed_slices.py:437: UserWarning: Converting sparse IndexedSlices(IndexedSlices(indices=Tensor(\"PartitionedCall_2:4\", shape=(None,), dtype=int32), values=Tensor(\"PartitionedCall_2:3\", shape=(None, 300), dtype=float32), dense_shape=Tensor(\"PartitionedCall_2:5\", shape=(2,), dtype=int32))) to a dense Tensor of unknown shape. This may consume a large amount of memory.\n",
      "  \"shape. This may consume a large amount of memory.\" % value)\n"
     ]
    },
    {
     "name": "stdout",
     "output_type": "stream",
     "text": [
      "     28/Unknown - 2s 77ms/step - loss: 13790.8828\n",
      "Epoch 00001: loss improved from inf to 13395.02441, saving model to ./chkpt1\n",
      "29/29 [==============================] - 2s 77ms/step - loss: 13395.0244\n",
      "Epoch 2/10\n",
      "28/29 [===========================>..] - ETA: 0s - loss: 12973.6162\n",
      "Epoch 00002: loss improved from 13395.02441 to 12788.68945, saving model to ./chkpt1\n",
      "29/29 [==============================] - 1s 39ms/step - loss: 12788.6895\n",
      "Epoch 3/10\n",
      "28/29 [===========================>..] - ETA: 0s - loss: 12630.3213\n",
      "Epoch 00003: loss improved from 12788.68945 to 12510.76367, saving model to ./chkpt1\n",
      "29/29 [==============================] - 1s 39ms/step - loss: 12510.7637\n",
      "Epoch 4/10\n",
      "28/29 [===========================>..] - ETA: 0s - loss: 12432.0020\n",
      "Epoch 00004: loss improved from 12510.76367 to 12344.02539, saving model to ./chkpt1\n",
      "29/29 [==============================] - 1s 39ms/step - loss: 12344.0254\n",
      "Epoch 5/10\n",
      "28/29 [===========================>..] - ETA: 0s - loss: 12299.4893\n",
      "9 triples containing invalid keys skipped!\n",
      "177/177 [==============================] - 6s 32ms/step\n",
      "\n",
      "Epoch 00005: loss improved from 12344.02539 to 12229.95898, saving model to ./chkpt1\n",
      "29/29 [==============================] - 7s 236ms/step - loss: 12229.9590 - val_mrr: 0.0923 - val_mr: 473.0001 - val_hits@1: 0.0000e+00 - val_hits@10: 0.2563\n",
      "Epoch 6/10\n",
      "28/29 [===========================>..] - ETA: 0s - loss: 12202.6846\n",
      "Epoch 00006: loss improved from 12229.95898 to 12145.24414, saving model to ./chkpt1\n",
      "29/29 [==============================] - 1s 39ms/step - loss: 12145.2441\n",
      "Epoch 7/10\n",
      "28/29 [===========================>..] - ETA: 0s - loss: 12128.9014\n",
      "Epoch 00007: loss improved from 12145.24414 to 12080.04688, saving model to ./chkpt1\n",
      "29/29 [==============================] - 1s 41ms/step - loss: 12080.0469\n",
      "Epoch 8/10\n",
      "28/29 [===========================>..] - ETA: 0s - loss: 12069.3926\n",
      "Epoch 00008: loss improved from 12080.04688 to 12026.84375, saving model to ./chkpt1\n",
      "29/29 [==============================] - 1s 40ms/step - loss: 12026.8438\n",
      "Epoch 9/10\n",
      "28/29 [===========================>..] - ETA: 0s - loss: 12020.3887\n",
      "Epoch 00009: loss improved from 12026.84375 to 11982.74414, saving model to ./chkpt1\n",
      "29/29 [==============================] - 1s 38ms/step - loss: 11982.7441\n",
      "Epoch 10/10\n",
      "28/29 [===========================>..] - ETA: 0s - loss: 11979.0586\n",
      "9 triples containing invalid keys skipped!\n",
      "177/177 [==============================] - 5s 27ms/step\n",
      "\n",
      "Epoch 00010: loss improved from 11982.74414 to 11945.30762, saving model to ./chkpt1\n",
      "29/29 [==============================] - 6s 204ms/step - loss: 11945.3076 - val_mrr: 0.0936 - val_mr: 456.0157 - val_hits@1: 0.0000e+00 - val_hits@10: 0.2596\n",
      "Time taken: 23.92389154434204\n"
     ]
    }
   ],
   "source": [
    "optim = tf.optimizers.Adagrad(learning_rate=0.1)\n",
    "# optim = 'adam'\n",
    "\n",
    "# loss = nll\n",
    "# loss = 'self_adversarial'\n",
    "from ampligraph.latent_features.loss_functions import SelfAdversarialLoss\n",
    "loss = SelfAdversarialLoss({'margin': 0.1, 'alpha': 5})\n",
    "\n",
    "model = ScoringBasedEmbeddingModel(eta=50, \n",
    "                                     k=300,\n",
    "                                     scoring_type='TransE')\n",
    "\n",
    "\n",
    "\n",
    "model.compile(optimizer=optim, loss=loss)\n",
    "\n",
    "from tensorflow.keras.callbacks import ModelCheckpoint\n",
    "checkpoint = ModelCheckpoint('./chkpt1', monitor='loss', verbose=1, save_best_only=True, mode='min')\n",
    "\n",
    "start = time.time()\n",
    "model.fit('/home/spai/code/ampligraph_projects/dataset/fb15k-237/train.txt',\n",
    "             batch_size=10000,\n",
    "             epochs=10,\n",
    "             validation_freq=5,\n",
    "             validation_batch_size=100,\n",
    "             validation_data = '/home/spai/code/ampligraph_projects/dataset/fb15k-237/valid.txt',\n",
    "         callbacks=[checkpoint])\n",
    "\n",
    "end = time.time()\n",
    "print('Time taken:', end-start)"
   ]
  },
  {
   "cell_type": "code",
   "execution_count": 4,
   "metadata": {},
   "outputs": [
    {
     "name": "stdout",
     "output_type": "stream",
     "text": [
      "\n",
      "28 triples containing invalid keys skipped!\n",
      "\n",
      "9 triples containing invalid keys skipped!\n",
      "\n",
      "28 triples containing invalid keys skipped!\n",
      "206/206 [==============================] - 55s 269ms/step\n",
      "Time taken: 55.378262758255005\n"
     ]
    },
    {
     "data": {
      "text/plain": [
       "(329.49283197964576,\n",
       " 0.20089428661245567,\n",
       " 0.12388687738526274,\n",
       " 0.3540708484196105)"
      ]
     },
     "execution_count": 4,
     "metadata": {},
     "output_type": "execute_result"
    }
   ],
   "source": [
    "\n",
    "start = time.time()\n",
    "ranks = model.evaluate('/home/spai/code/ampligraph_projects/dataset/fb15k-237/test.txt', \n",
    "                       batch_size=100,\n",
    "                       corrupt_side='s,o',\n",
    "         use_filter={'train':'/home/spai/code/ampligraph_projects/dataset/fb15k-237/train.txt',\n",
    "                  'valid':'/home/spai/code/ampligraph_projects/dataset/fb15k-237/valid.txt',\n",
    "                  'test':'/home/spai/code/ampligraph_projects/dataset/fb15k-237/test.txt'})\n",
    "end = time.time()\n",
    "print('Time taken:', end-start)\n",
    "mr_score(ranks), mrr_score(ranks), hits_at_n_score(ranks, 1), hits_at_n_score(ranks, 10)"
   ]
  },
  {
   "cell_type": "markdown",
   "metadata": {},
   "source": [
    "## Load Checkpoint and evaluate"
   ]
  },
  {
   "cell_type": "code",
   "execution_count": 5,
   "metadata": {},
   "outputs": [
    {
     "name": "stdout",
     "output_type": "stream",
     "text": [
      "\n",
      "28 triples containing invalid keys skipped!\n",
      "\n",
      "9 triples containing invalid keys skipped!\n",
      "\n",
      "28 triples containing invalid keys skipped!\n",
      "206/206 [==============================] - 55s 266ms/step\n",
      "Time taken: 54.866934061050415\n"
     ]
    },
    {
     "data": {
      "text/plain": [
       "(329.49283197964576,\n",
       " 0.20089428661245567,\n",
       " 0.12388687738526274,\n",
       " 0.3540708484196105)"
      ]
     },
     "execution_count": 5,
     "metadata": {},
     "output_type": "execute_result"
    }
   ],
   "source": [
    "start = time.time()\n",
    "loaded_model = ScoringBasedEmbeddingModel(eta=50, \n",
    "                                     k=300, \n",
    "                                     scoring_type='TransE')\n",
    "loaded_model.load_weights('./chkpt1')\n",
    "ranks = loaded_model.evaluate('/home/spai/code/ampligraph_projects/dataset/fb15k-237/test.txt', \n",
    "                       batch_size=100,\n",
    "                       corrupt_side='s,o',\n",
    "         use_filter={'train':'/home/spai/code/ampligraph_projects/dataset/fb15k-237/train.txt',\n",
    "                  'valid':'/home/spai/code/ampligraph_projects/dataset/fb15k-237/valid.txt',\n",
    "                  'test':'/home/spai/code/ampligraph_projects/dataset/fb15k-237/test.txt'})\n",
    "end = time.time()\n",
    "print('Time taken:', end-start)\n",
    "mr_score(ranks), mrr_score(ranks), hits_at_n_score(ranks, 1), hits_at_n_score(ranks, 10)"
   ]
  },
  {
   "cell_type": "markdown",
   "metadata": {},
   "source": [
    "# Training/eval with partition "
   ]
  },
  {
   "cell_type": "markdown",
   "metadata": {},
   "source": [
    "## Training with RandomEdges partitioner"
   ]
  },
  {
   "cell_type": "code",
   "execution_count": 3,
   "metadata": {},
   "outputs": [
    {
     "name": "stdout",
     "output_type": "stream",
     "text": [
      "_split: memory before: 896.0Bytes, after: 12.974MB, consumed: 12.974MB; exec time: 31.264s\n"
     ]
    }
   ],
   "source": [
    "from ampligraph.datasets import DummyBackend, SQLiteAdapter\n",
    "from ampligraph.datasets import GraphDataLoader\n",
    "from ampligraph.datasets.graph_partitioner import PARTITION_ALGO_REGISTRY\n",
    "dataset_loader = GraphDataLoader('/home/spai/code/ampligraph_projects/dataset/fb15k-237/train.txt', \n",
    "                                 backend=SQLiteAdapter,\n",
    "                                    batch_size=1000, \n",
    "                                    dataset_type='train', \n",
    "                                    epochs=10,\n",
    "                                    use_indexer=True)\n",
    "\n",
    "# Choose the partitioner \n",
    "partitioner = PARTITION_ALGO_REGISTRY.get('RandomEdges')(dataset_loader, k=3)"
   ]
  },
  {
   "cell_type": "code",
   "execution_count": 4,
   "metadata": {},
   "outputs": [],
   "source": [
    "optim = tf.optimizers.Adam(learning_rate=0.001, amsgrad=True)\n",
    "\n",
    "partitioned_model = ScoringBasedEmbeddingModel(eta=5, \n",
    "                                     k=300, \n",
    "                                     scoring_type='TransE')\n",
    "partitioned_model.compile(optimizer=optim, loss=nll)"
   ]
  },
  {
   "cell_type": "code",
   "execution_count": 5,
   "metadata": {},
   "outputs": [
    {
     "name": "stdout",
     "output_type": "stream",
     "text": [
      "Epoch 1/10\n",
      "274/274 [==============================] - 17s 60ms/step - loss: 1583.6094\n",
      "Epoch 2/10\n",
      "274/274 [==============================] - 15s 56ms/step - loss: 1408.4923\n",
      "Epoch 3/10\n",
      "274/274 [==============================] - 16s 57ms/step - loss: 1257.2207\n",
      "Epoch 4/10\n",
      "274/274 [==============================] - 15s 56ms/step - loss: 1132.7302\n",
      "Epoch 5/10\n",
      "274/274 [==============================] - 15s 55ms/step - loss: 1031.3352\n",
      "Epoch 6/10\n",
      "274/274 [==============================] - 15s 56ms/step - loss: 948.8479\n",
      "Epoch 7/10\n",
      "274/274 [==============================] - 15s 55ms/step - loss: 880.7571\n",
      "Epoch 8/10\n",
      "274/274 [==============================] - 15s 56ms/step - loss: 823.7659\n",
      "Epoch 9/10\n",
      "274/274 [==============================] - 15s 56ms/step - loss: 775.5018\n",
      "Epoch 10/10\n",
      "274/274 [==============================] - 15s 57ms/step - loss: 734.1245\n",
      "167.24223685264587\n"
     ]
    }
   ],
   "source": [
    "\n",
    "start = time.time()\n",
    "partitioned_model.fit(partitioner,\n",
    "                     batch_size=1000, use_partitioning=True,\n",
    "                     epochs=10)\n",
    "print((time.time()-start))"
   ]
  },
  {
   "cell_type": "code",
   "execution_count": 7,
   "metadata": {},
   "outputs": [
    {
     "name": "stdout",
     "output_type": "stream",
     "text": [
      "\n",
      "28 triples containing invalid keys skipped!\n",
      "53/53 [==============================] - 129s 2s/step\n",
      "Time taken: 129.43282413482666\n"
     ]
    },
    {
     "data": {
      "text/plain": [
       "(526.5985663959292, 0.09950692531469157, 0.0, 0.2718710245620902)"
      ]
     },
     "execution_count": 7,
     "metadata": {},
     "output_type": "execute_result"
    }
   ],
   "source": [
    "\n",
    "dataset_loader_test = GraphDataLoader('/home/spai/code/ampligraph_projects/dataset/fb15k-237/test.txt', \n",
    "                                        backend=DummyBackend,\n",
    "                                        batch_size=400, \n",
    "                                        dataset_type='test', \n",
    "                                        epochs=1,\n",
    "                                        use_indexer=partitioned_model.data_handler.get_mapper())\n",
    "\n",
    "start = time.time()\n",
    "ranks = partitioned_model.evaluate(dataset_loader_test, \n",
    "                                   batch_size=400)\n",
    "end = time.time()\n",
    "print('Time taken:', end-start)\n",
    "\n",
    "mr_score(ranks), mrr_score(ranks), hits_at_n_score(ranks, 1), hits_at_n_score(ranks, 10)"
   ]
  },
  {
   "cell_type": "code",
   "execution_count": null,
   "metadata": {},
   "outputs": [],
   "source": []
  },
  {
   "cell_type": "markdown",
   "metadata": {},
   "source": [
    "## Save and Load"
   ]
  },
  {
   "cell_type": "code",
   "execution_count": 8,
   "metadata": {},
   "outputs": [],
   "source": [
    "partitioned_model.save_weights('./best_model')"
   ]
  },
  {
   "cell_type": "code",
   "execution_count": 9,
   "metadata": {},
   "outputs": [],
   "source": [
    "loaded_part_model = ScoringBasedEmbeddingModel(eta=5, \n",
    "                                     k=300, \n",
    "                                     scoring_type='TransE')\n",
    "\n",
    "loaded_part_model.load_weights('./best_model')"
   ]
  },
  {
   "cell_type": "code",
   "execution_count": 10,
   "metadata": {},
   "outputs": [
    {
     "name": "stdout",
     "output_type": "stream",
     "text": [
      "\n",
      "28 triples containing invalid keys skipped!\n",
      "53/53 [==============================] - 133s 3s/step\n",
      "Time taken: 133.1391897201538\n"
     ]
    },
    {
     "data": {
      "text/plain": [
       "(526.5985663959292, 0.09950692531469157, 0.0, 0.2718710245620902)"
      ]
     },
     "execution_count": 10,
     "metadata": {},
     "output_type": "execute_result"
    }
   ],
   "source": [
    "\n",
    "dataset_loader_test = GraphDataLoader('/home/spai/code/ampligraph_projects/dataset/fb15k-237/test.txt', \n",
    "                                        backend=DummyBackend,\n",
    "                                        batch_size=400, \n",
    "                                        dataset_type='test', \n",
    "                                        epochs=1,\n",
    "                                        use_indexer=loaded_part_model.data_indexer)\n",
    "\n",
    "start = time.time()\n",
    "ranks = loaded_part_model.evaluate(dataset_loader_test, \n",
    "                                   batch_size=400)\n",
    "end = time.time()\n",
    "print('Time taken:', end-start)\n",
    "\n",
    "mr_score(ranks), mrr_score(ranks), hits_at_n_score(ranks, 1), hits_at_n_score(ranks, 10)"
   ]
  },
  {
   "cell_type": "markdown",
   "metadata": {},
   "source": [
    "# Training/eval with partition (default Partitioning Approach)"
   ]
  },
  {
   "cell_type": "code",
   "execution_count": 3,
   "metadata": {},
   "outputs": [],
   "source": [
    "from ampligraph.datasets import DummyBackend, SQLiteAdapter\n",
    "from ampligraph.datasets import GraphDataLoader\n",
    "from ampligraph.datasets.graph_partitioner import PARTITION_ALGO_REGISTRY\n"
   ]
  },
  {
   "cell_type": "code",
   "execution_count": 4,
   "metadata": {},
   "outputs": [
    {
     "name": "stdout",
     "output_type": "stream",
     "text": [
      "_split: memory before: 896.0Bytes, after: 12.862MB, consumed: 12.861MB; exec time: 82.599s\n",
      "Epoch 1/10\n",
      "277/277 [==============================] - 11s 38ms/step - loss: 1704.0818\n",
      "Epoch 2/10\n",
      "277/277 [==============================] - 9s 33ms/step - loss: 1609.8291\n",
      "Epoch 3/10\n",
      "277/277 [==============================] - 9s 34ms/step - loss: 1520.3560\n",
      "Epoch 4/10\n",
      "277/277 [==============================] - 9s 33ms/step - loss: 1439.7467\n",
      "Epoch 5/10\n",
      "277/277 [==============================] - 9s 33ms/step - loss: 1368.3000\n",
      "Epoch 6/10\n",
      "277/277 [==============================] - 9s 34ms/step - loss: 1305.2173\n",
      "Epoch 7/10\n",
      "277/277 [==============================] - 9s 33ms/step - loss: 1249.3754\n",
      "Epoch 8/10\n",
      "277/277 [==============================] - 9s 33ms/step - loss: 1199.8024\n",
      "Epoch 9/10\n",
      "277/277 [==============================] - 9s 34ms/step - loss: 1155.5101\n",
      "Epoch 10/10\n",
      "277/277 [==============================] - 9s 33ms/step - loss: 1115.8169\n",
      "184.2071602344513\n"
     ]
    }
   ],
   "source": [
    "optim = tf.optimizers.Adam(learning_rate=0.001, amsgrad=True)\n",
    "\n",
    "partitioned_model = ScoringBasedEmbeddingModel(eta=5, \n",
    "                                     k=300, \n",
    "                                     scoring_type='TransE')\n",
    "partitioned_model.compile(optimizer=optim, loss=nll)\n",
    "\n",
    "\n",
    "start = time.time()\n",
    "partitioned_model.fit('/home/spai/code/ampligraph_projects/dataset/fb15k-237/train.txt',\n",
    "                     batch_size=1000, use_partitioning=True,\n",
    "                     epochs=10)\n",
    "print((time.time()-start))"
   ]
  },
  {
   "cell_type": "code",
   "execution_count": 5,
   "metadata": {},
   "outputs": [
    {
     "name": "stdout",
     "output_type": "stream",
     "text": [
      "\n",
      "28 triples containing invalid keys skipped!\n",
      "53/53 [==============================] - 130s 2s/step\n",
      "Time taken: 130.32165026664734\n"
     ]
    },
    {
     "data": {
      "text/plain": [
       "(813.9855661023583, 0.08932181231265608, 0.0, 0.24018984245033762)"
      ]
     },
     "execution_count": 5,
     "metadata": {},
     "output_type": "execute_result"
    }
   ],
   "source": [
    "\n",
    "\n",
    "start = time.time()\n",
    "ranks = partitioned_model.evaluate('/home/spai/code/ampligraph_projects/dataset/fb15k-237/test.txt', \n",
    "                                   batch_size=400)\n",
    "end = time.time()\n",
    "print('Time taken:', end-start)\n",
    "\n",
    "mr_score(ranks), mrr_score(ranks), hits_at_n_score(ranks, 1), hits_at_n_score(ranks, 10)"
   ]
  },
  {
   "cell_type": "code",
   "execution_count": null,
   "metadata": {},
   "outputs": [],
   "source": []
  },
  {
   "cell_type": "markdown",
   "metadata": {},
   "source": [
    "## Filtered evaluation"
   ]
  },
  {
   "cell_type": "code",
   "execution_count": 6,
   "metadata": {},
   "outputs": [
    {
     "name": "stdout",
     "output_type": "stream",
     "text": [
      "\n",
      "28 triples containing invalid keys skipped!\n",
      "\n",
      "9 triples containing invalid keys skipped!\n",
      "\n",
      "28 triples containing invalid keys skipped!\n",
      "53/53 [==============================] - 289s 5s/step\n",
      "Time taken: 289.215669631958\n"
     ]
    },
    {
     "data": {
      "text/plain": [
       "(689.3758684802818,\n",
       " 0.19849747101114806,\n",
       " 0.13976416479107545,\n",
       " 0.3149525393874156)"
      ]
     },
     "execution_count": 6,
     "metadata": {},
     "output_type": "execute_result"
    }
   ],
   "source": [
    "start = time.time()\n",
    "ranks = partitioned_model.evaluate('/home/spai/code/ampligraph_projects/dataset/fb15k-237/test.txt', \n",
    "                       batch_size=400,\n",
    "                       corrupt_side='s,o',\n",
    "                        use_filter={'train':'/home/spai/code/ampligraph_projects/dataset/fb15k-237/train.txt',\n",
    "                              'valid':'/home/spai/code/ampligraph_projects/dataset/fb15k-237/valid.txt',\n",
    "                              'test':'/home/spai/code/ampligraph_projects/dataset/fb15k-237/test.txt'})\n",
    "end = time.time()\n",
    "print('Time taken:', end-start)\n",
    "mr_score(ranks), mrr_score(ranks), hits_at_n_score(ranks, 1), hits_at_n_score(ranks, 10)"
   ]
  },
  {
   "cell_type": "code",
   "execution_count": null,
   "metadata": {},
   "outputs": [],
   "source": []
  },
  {
   "cell_type": "code",
   "execution_count": null,
   "metadata": {},
   "outputs": [],
   "source": []
  }
 ],
 "metadata": {
  "kernelspec": {
   "display_name": "tf2_nightly",
   "language": "python",
   "name": "tf_nightly"
  },
  "language_info": {
   "codemirror_mode": {
    "name": "ipython",
    "version": 3
   },
   "file_extension": ".py",
   "mimetype": "text/x-python",
   "name": "python",
   "nbconvert_exporter": "python",
   "pygments_lexer": "ipython3",
   "version": "3.7.7"
  }
 },
 "nbformat": 4,
 "nbformat_minor": 2
}
