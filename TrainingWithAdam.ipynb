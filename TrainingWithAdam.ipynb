{
 "cells": [
  {
   "cell_type": "code",
   "execution_count": 1,
   "metadata": {
    "scrolled": true
   },
   "outputs": [
    {
     "name": "stdout",
     "output_type": "stream",
     "text": [
      "2.3.0\n"
     ]
    }
   ],
   "source": [
    "import os\n",
    "os.environ['CUDA_VISIBLE_DEVICES'] = '1'\n",
    "os.environ['TF_CPP_MIN_LOG_LEVEL'] = '2' \n",
    "import tensorflow as tf\n",
    "tf.get_logger().setLevel('ERROR')\n",
    "import pandas as pd\n",
    "tf.config.set_soft_device_placement(False)\n",
    "tf.debugging.set_log_device_placement(True)\n",
    "import numpy as np\n",
    "from ampligraph.datasets import load_fb15k_237, load_yago3_10\n",
    "from ampligraph.evaluation.protocol import create_mappings, to_idx\n",
    "\n",
    "from ampligraph.evaluation.metrics import mrr_score, hits_at_n_score, mr_score\n",
    "import time\n",
    "print(tf.__version__)\n",
    "assert(tf.__version__.startswith('2.3'))\n",
    "\n",
    "from ampligraph.datasets import load_fb15k_237, load_fb13, load_fb15k, load_wn11, load_wn18, load_wn18rr, load_yago3_10\n",
    "from ampligraph.latent_features import ScoringBasedEmbeddingModel"
   ]
  },
  {
   "cell_type": "code",
   "execution_count": 2,
   "metadata": {},
   "outputs": [],
   "source": [
    "#loss function\n",
    "def nll(scores_pos, scores_neg, eta):\n",
    "    scores_neg_reshaped = tf.reshape(scores_neg, [eta, tf.shape(scores_pos)[0]])\n",
    "    neg_exp = tf.exp(scores_neg_reshaped)\n",
    "    pos_exp = tf.exp(scores_pos)\n",
    "    softmax_score = pos_exp / (tf.reduce_sum(neg_exp, axis=0) + pos_exp)\n",
    "\n",
    "    loss = -tf.reduce_sum(tf.math.log(softmax_score))\n",
    "    return loss"
   ]
  },
  {
   "cell_type": "markdown",
   "metadata": {},
   "source": [
    "# Train/eval without partition"
   ]
  },
  {
   "cell_type": "code",
   "execution_count": 3,
   "metadata": {},
   "outputs": [
    {
     "name": "stdout",
     "output_type": "stream",
     "text": [
      "Epoch 1/10\n",
      "29/29 [==============================] - 1s 52ms/step - loss: 13395.2246\n",
      "Epoch 2/10\n",
      "29/29 [==============================] - 1s 38ms/step - loss: 12786.1807\n",
      "Epoch 3/10\n",
      "29/29 [==============================] - 1s 37ms/step - loss: 12509.6895\n",
      "Epoch 4/10\n",
      "29/29 [==============================] - 1s 37ms/step - loss: 12343.5781\n",
      "Epoch 5/10\n",
      "28/29 [===========================>..] - ETA: 0s - loss: 12299.9727\n",
      "9 triples containing invalid keys skipped!\n",
      "177/177 [==============================] - 5s 26ms/step\n",
      "29/29 [==============================] - 6s 219ms/step - loss: 12230.4512 - val_mrr: 0.0915 - val_mr: 470.8200 - val_hits@1: 0.0000e+00 - val_hits@10: 0.2517\n",
      "Epoch 6/10\n",
      "29/29 [==============================] - 1s 37ms/step - loss: 12145.6768\n",
      "Epoch 7/10\n",
      "29/29 [==============================] - 1s 39ms/step - loss: 12080.4492\n",
      "Epoch 8/10\n",
      "29/29 [==============================] - 1s 38ms/step - loss: 12027.0420\n",
      "Epoch 9/10\n",
      "29/29 [==============================] - 1s 37ms/step - loss: 11982.5723\n",
      "Epoch 10/10\n",
      "28/29 [===========================>..] - ETA: 0s - loss: 11979.0303\n",
      "9 triples containing invalid keys skipped!\n",
      "177/177 [==============================] - 5s 26ms/step\n",
      "29/29 [==============================] - 6s 198ms/step - loss: 11945.3086 - val_mrr: 0.0940 - val_mr: 452.6601 - val_hits@1: 0.0000e+00 - val_hits@10: 0.2608\n"
     ]
    },
    {
     "data": {
      "text/plain": [
       "<tensorflow.python.keras.callbacks.History at 0x7f9f937ecfd0>"
      ]
     },
     "execution_count": 3,
     "metadata": {},
     "output_type": "execute_result"
    }
   ],
   "source": [
    "optim = tf.optimizers.Adagrad(learning_rate=0.1)\n",
    "# optim = 'adam'\n",
    "\n",
    "# loss = nll\n",
    "# loss = 'self_adversarial'\n",
    "from ampligraph.latent_features.loss_functions import SelfAdversarialLoss\n",
    "loss = SelfAdversarialLoss({'margin': 0.1, 'alpha': 5})\n",
    "\n",
    "model = ScoringBasedEmbeddingModel(eta=50, \n",
    "                                     k=300, \n",
    "                                     max_ent_size=14505, \n",
    "                                     max_rel_size=237,\n",
    "                                     scoring_type='TransE')\n",
    "\n",
    "\n",
    "\n",
    "model.compile(optimizer=optim, loss=loss)\n",
    "\n",
    "from tensorflow.keras.callbacks import ModelCheckpoint\n",
    "checkpoint = ModelCheckpoint('./chkpt1', monitor='loss', verbose=1, save_best_only=True, mode='min')\n",
    "\n",
    "model.fit('/home/spai/code/ampligraph_projects/dataset/fb15k-237/train.txt',\n",
    "             batch_size=10000,\n",
    "             epochs=10,\n",
    "             validation_freq=5,\n",
    "             validation_batch_size=100,\n",
    "             validation_data = '/home/spai/code/ampligraph_projects/dataset/fb15k-237/valid.txt')\n",
    "\n",
    "\n"
   ]
  },
  {
   "cell_type": "code",
   "execution_count": 4,
   "metadata": {},
   "outputs": [
    {
     "name": "stdout",
     "output_type": "stream",
     "text": [
      "\n",
      "28 triples containing invalid keys skipped!\n",
      "\n",
      "9 triples containing invalid keys skipped!\n",
      "\n",
      "28 triples containing invalid keys skipped!\n",
      "206/206 [==============================] - 93s 454ms/step\n",
      "Time taken: 101.26544547080994\n"
     ]
    },
    {
     "data": {
      "text/plain": [
       "(329.3016929249437,\n",
       " 0.20396551111124014,\n",
       " 0.12819258244446619,\n",
       " 0.35485370388492027)"
      ]
     },
     "execution_count": 4,
     "metadata": {},
     "output_type": "execute_result"
    }
   ],
   "source": [
    "\n",
    "start = time.time()\n",
    "ranks = model.evaluate('/home/spai/code/ampligraph_projects/dataset/fb15k-237/test.txt', \n",
    "                       batch_size=100,\n",
    "                       corrupt_side='s,o',\n",
    "         use_filter={'train':'/home/spai/code/ampligraph_projects/dataset/fb15k-237/train.txt',\n",
    "                  'valid':'/home/spai/code/ampligraph_projects/dataset/fb15k-237/valid.txt',\n",
    "                  'test':'/home/spai/code/ampligraph_projects/dataset/fb15k-237/test.txt'})\n",
    "end = time.time()\n",
    "print('Time taken:', end-start)\n",
    "mr_score(ranks), mrr_score(ranks), hits_at_n_score(ranks, 1), hits_at_n_score(ranks, 10)"
   ]
  },
  {
   "cell_type": "markdown",
   "metadata": {},
   "source": [
    "# Training/eval with partition"
   ]
  },
  {
   "cell_type": "code",
   "execution_count": 5,
   "metadata": {},
   "outputs": [
    {
     "name": "stdout",
     "output_type": "stream",
     "text": [
      "_split: memory before: 896.0Bytes, after: 13.12MB, consumed: 13.119MB; exec time: 211.03s\n"
     ]
    }
   ],
   "source": [
    "from ampligraph.datasets import DummyBackend, SQLiteAdapter\n",
    "from ampligraph.datasets import GraphDataLoader\n",
    "from ampligraph.datasets.graph_partitioner import PARTITION_ALGO_REGISTRY\n",
    "dataset_loader = GraphDataLoader('/home/spai/code/ampligraph_projects/dataset/fb15k-237/train.txt', \n",
    "                                 backend=SQLiteAdapter,\n",
    "                                    batch_size=1000, \n",
    "                                    dataset_type='train', \n",
    "                                    epochs=10,\n",
    "                                    use_indexer=True)\n",
    "\n",
    "\n",
    "partitioner = PARTITION_ALGO_REGISTRY.get('Bucket')(dataset_loader, k=3)"
   ]
  },
  {
   "cell_type": "code",
   "execution_count": 9,
   "metadata": {},
   "outputs": [
    {
     "name": "stdout",
     "output_type": "stream",
     "text": [
      "Epoch 1/10\n",
      "    277/Unknown - 11s 38ms/step - loss: 1601.5470\n",
      "Epoch 00001: loss improved from inf to 1601.54700, saving model to ./chkpt1\n",
      "277/277 [==============================] - 11s 40ms/step - loss: 1601.5470\n",
      "Epoch 2/10\n",
      "276/277 [============================>.] - ETA: 0s - loss: 1235.1089\n",
      "Epoch 00002: loss improved from 1601.54700 to 1233.28357, saving model to ./chkpt1\n",
      "277/277 [==============================] - 9s 32ms/step - loss: 1233.2836\n",
      "Epoch 3/10\n",
      "276/277 [============================>.] - ETA: 0s - loss: 1061.9808\n",
      "Epoch 00003: loss improved from 1233.28357 to 1060.90527, saving model to ./chkpt1\n",
      "277/277 [==============================] - 9s 34ms/step - loss: 1060.9053\n",
      "Epoch 4/10\n",
      "276/277 [============================>.] - ETA: 0s - loss: 963.2993\n",
      "Epoch 00004: loss improved from 1060.90527 to 962.56677, saving model to ./chkpt1\n",
      "277/277 [==============================] - 9s 34ms/step - loss: 962.5668\n",
      "Epoch 5/10\n",
      "276/277 [============================>.] - ETA: 0s - loss: 897.6848\n",
      "Epoch 00005: loss improved from 962.56677 to 897.14130, saving model to ./chkpt1\n",
      "277/277 [==============================] - 9s 34ms/step - loss: 897.1413\n",
      "Epoch 6/10\n",
      "276/277 [============================>.] - ETA: 0s - loss: 853.6876\n",
      "Epoch 00006: loss improved from 897.14130 to 853.25964, saving model to ./chkpt1\n",
      "277/277 [==============================] - 9s 34ms/step - loss: 853.2596\n",
      "Epoch 7/10\n",
      "276/277 [============================>.] - ETA: 0s - loss: 820.7894\n",
      "Epoch 00007: loss improved from 853.25964 to 820.43890, saving model to ./chkpt1\n",
      "277/277 [==============================] - 9s 34ms/step - loss: 820.4389\n",
      "Epoch 8/10\n",
      "276/277 [============================>.] - ETA: 0s - loss: 794.6537\n",
      "Epoch 00008: loss improved from 820.43890 to 794.35529, saving model to ./chkpt1\n",
      "277/277 [==============================] - 9s 34ms/step - loss: 794.3553\n",
      "Epoch 9/10\n",
      "276/277 [============================>.] - ETA: 0s - loss: 774.7148\n",
      "Epoch 00009: loss improved from 794.35529 to 774.45612, saving model to ./chkpt1\n",
      "277/277 [==============================] - 9s 34ms/step - loss: 774.4561\n",
      "Epoch 10/10\n",
      "276/277 [============================>.] - ETA: 0s - loss: 759.1470\n",
      "Epoch 00010: loss improved from 774.45612 to 758.91864, saving model to ./chkpt1\n",
      "277/277 [==============================] - 9s 34ms/step - loss: 758.9186\n",
      "108.54710006713867\n"
     ]
    }
   ],
   "source": [
    "optim = tf.optimizers.Adam(learning_rate=0.1, amsgrad=True)\n",
    "\n",
    "partitioned_model = ScoringBasedEmbeddingModel(eta=5, \n",
    "                                     k=300, \n",
    "                                     max_ent_size=9437, \n",
    "                                     max_rel_size=237,\n",
    "                                     scoring_type='TransE')\n",
    "\n",
    "#model.compile(optimizer='rmsprop', loss=nll)\n",
    "partitioned_model.compile(optimizer=optim, loss=nll)\n",
    "from tensorflow.keras.callbacks import ModelCheckpoint\n",
    "checkpoint = ModelCheckpoint('./chkpt1', monitor='loss', verbose=1, save_best_only=True, mode='min')\n",
    "start = time.time()\n",
    "partitioned_model.fit(partitioner,\n",
    "                     batch_size=1000, use_partitioning=True,\n",
    "                     epochs=10, callbacks=[checkpoint])\n",
    "print((time.time()-start))"
   ]
  },
  {
   "cell_type": "code",
   "execution_count": 10,
   "metadata": {},
   "outputs": [
    {
     "name": "stdout",
     "output_type": "stream",
     "text": [
      "\n",
      "28 triples containing invalid keys skipped!\n",
      "52/52 [==============================] - 123s 2s/step\n",
      "Time taken: 126.11965680122375\n"
     ]
    },
    {
     "data": {
      "text/plain": [
       "(1309.519975490196, 0.06925623684115728, 0.0, 0.19512254901960785)"
      ]
     },
     "execution_count": 10,
     "metadata": {},
     "output_type": "execute_result"
    }
   ],
   "source": [
    "\n",
    "dataset_loader_test = GraphDataLoader('/home/spai/code/ampligraph_projects/dataset/fb15k-237/test.txt', \n",
    "                                        backend=SQLiteAdapter,\n",
    "                                        batch_size=400, \n",
    "                                        dataset_type='test', \n",
    "                                        epochs=1,\n",
    "                                        use_indexer=partitioned_model.data_handler.get_mapper())\n",
    "\n",
    "start = time.time()\n",
    "ranks = partitioned_model.evaluate(dataset_loader_test, \n",
    "                                   batch_size=400)\n",
    "end = time.time()\n",
    "print('Time taken:', end-start)\n",
    "\n",
    "mr_score(ranks), mrr_score(ranks), hits_at_n_score(ranks, 1), hits_at_n_score(ranks, 10)"
   ]
  },
  {
   "cell_type": "code",
   "execution_count": 11,
   "metadata": {},
   "outputs": [
    {
     "name": "stdout",
     "output_type": "stream",
     "text": [
      "\n",
      "28 triples containing invalid keys skipped!\n",
      "\n",
      "9 triples containing invalid keys skipped!\n",
      "\n",
      "28 triples containing invalid keys skipped!\n",
      "104/104 [==============================] - 711s 7s/step\n",
      "Time taken: 769.5899913311005\n"
     ]
    },
    {
     "data": {
      "text/plain": [
       "(1181.0907133770427,\n",
       " 0.13077588574264687,\n",
       " 0.07300127214013113,\n",
       " 0.24143751834817498)"
      ]
     },
     "execution_count": 11,
     "metadata": {},
     "output_type": "execute_result"
    }
   ],
   "source": [
    "start = time.time()\n",
    "ranks = partitioned_model.evaluate('/home/spai/code/ampligraph_projects/dataset/fb15k-237/test.txt', \n",
    "                       batch_size=200,\n",
    "                       corrupt_side='s,o',\n",
    "                        use_filter={'train':'/home/spai/code/ampligraph_projects/dataset/fb15k-237/train.txt',\n",
    "                              'valid':'/home/spai/code/ampligraph_projects/dataset/fb15k-237/valid.txt',\n",
    "                              'test':'/home/spai/code/ampligraph_projects/dataset/fb15k-237/test.txt'})\n",
    "end = time.time()\n",
    "print('Time taken:', end-start)\n",
    "mr_score(ranks), mrr_score(ranks), hits_at_n_score(ranks, 1), hits_at_n_score(ranks, 10)"
   ]
  },
  {
   "cell_type": "code",
   "execution_count": null,
   "metadata": {},
   "outputs": [],
   "source": []
  },
  {
   "cell_type": "code",
   "execution_count": null,
   "metadata": {},
   "outputs": [],
   "source": []
  },
  {
   "cell_type": "code",
   "execution_count": null,
   "metadata": {},
   "outputs": [],
   "source": []
  }
 ],
 "metadata": {
  "kernelspec": {
   "display_name": "tf2_nightly",
   "language": "python",
   "name": "tf_nightly"
  },
  "language_info": {
   "codemirror_mode": {
    "name": "ipython",
    "version": 3
   },
   "file_extension": ".py",
   "mimetype": "text/x-python",
   "name": "python",
   "nbconvert_exporter": "python",
   "pygments_lexer": "ipython3",
   "version": "3.7.7"
  }
 },
 "nbformat": 4,
 "nbformat_minor": 2
}
