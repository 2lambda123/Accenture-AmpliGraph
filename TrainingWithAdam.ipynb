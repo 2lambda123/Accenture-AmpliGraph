{
 "cells": [
  {
   "cell_type": "code",
   "execution_count": 1,
   "metadata": {
    "scrolled": true
   },
   "outputs": [
    {
     "name": "stdout",
     "output_type": "stream",
     "text": [
      "2.3.1\n"
     ]
    }
   ],
   "source": [
    "import os\n",
    "os.environ['CUDA_VISIBLE_DEVICES'] = '1'\n",
    "os.environ['TF_CPP_MIN_LOG_LEVEL'] = '2' \n",
    "import tensorflow as tf\n",
    "tf.get_logger().setLevel('ERROR')\n",
    "import pandas as pd\n",
    "tf.config.set_soft_device_placement(False)\n",
    "tf.debugging.set_log_device_placement(True)\n",
    "import numpy as np\n",
    "from ampligraph.datasets import load_fb15k_237, load_yago3_10\n",
    "from ampligraph.evaluation.protocol import create_mappings, to_idx\n",
    "\n",
    "from ampligraph.evaluation.metrics import mrr_score, hits_at_n_score, mr_score\n",
    "import time\n",
    "print(tf.__version__)\n",
    "assert(tf.__version__.startswith('2.3'))\n",
    "\n",
    "from ampligraph.datasets import load_fb15k_237, load_fb13, load_fb15k, load_wn11, load_wn18, load_wn18rr, load_yago3_10\n",
    "from ampligraph.latent_features import ScoringBasedEmbeddingModel"
   ]
  },
  {
   "cell_type": "code",
   "execution_count": 2,
   "metadata": {},
   "outputs": [],
   "source": [
    "#loss function\n",
    "def nll(scores_pos, scores_neg, eta):\n",
    "    scores_neg_reshaped = tf.reshape(scores_neg, [eta, tf.shape(scores_pos)[0]])\n",
    "    neg_exp = tf.exp(scores_neg_reshaped)\n",
    "    pos_exp = tf.exp(scores_pos)\n",
    "    softmax_score = pos_exp / (tf.reduce_sum(neg_exp, axis=0) + pos_exp)\n",
    "\n",
    "    loss = -tf.reduce_sum(tf.math.log(softmax_score))\n",
    "    return loss"
   ]
  },
  {
   "cell_type": "markdown",
   "metadata": {},
   "source": [
    "# Train/eval without partition"
   ]
  },
  {
   "cell_type": "code",
   "execution_count": 3,
   "metadata": {},
   "outputs": [
    {
     "name": "stdout",
     "output_type": "stream",
     "text": [
      "Epoch 1/10\n",
      "     29/Unknown - 1s 50ms/step - loss: 13395.2051\n",
      "Epoch 00001: loss improved from inf to 13395.20508, saving model to ./chkpt1\n",
      "29/29 [==============================] - 1s 51ms/step - loss: 13395.2051\n",
      "Epoch 2/10\n",
      "28/29 [===========================>..] - ETA: 0s - loss: 12971.0303\n",
      "Epoch 00002: loss improved from 13395.20508 to 12786.14062, saving model to ./chkpt1\n",
      "29/29 [==============================] - 1s 40ms/step - loss: 12786.1406\n",
      "Epoch 3/10\n",
      "28/29 [===========================>..] - ETA: 0s - loss: 12628.9678\n",
      "Epoch 00003: loss improved from 12786.14062 to 12509.63086, saving model to ./chkpt1\n",
      "29/29 [==============================] - 1s 40ms/step - loss: 12509.6309\n",
      "Epoch 4/10\n",
      "28/29 [===========================>..] - ETA: 0s - loss: 12431.6025\n",
      "Epoch 00004: loss improved from 12509.63086 to 12343.50684, saving model to ./chkpt1\n",
      "29/29 [==============================] - 1s 40ms/step - loss: 12343.5068\n",
      "Epoch 5/10\n",
      "29/29 [==============================] - ETA: 0s - loss: 12230.3682\n",
      "9 triples containing invalid keys skipped!\n",
      "177/177 [==============================] - 5s 27ms/step\n",
      "\n",
      "Epoch 00005: loss improved from 12343.50684 to 12230.36816, saving model to ./chkpt1\n",
      "29/29 [==============================] - 7s 226ms/step - loss: 12230.3682 - val_mrr: 0.0915 - val_mr: 470.8210 - val_hits@1: 0.0000e+00 - val_hits@10: 0.2517\n",
      "Epoch 6/10\n",
      "28/29 [===========================>..] - ETA: 0s - loss: 12202.9775\n",
      "Epoch 00006: loss improved from 12230.36816 to 12145.58105, saving model to ./chkpt1\n",
      "29/29 [==============================] - 1s 41ms/step - loss: 12145.5811\n",
      "Epoch 7/10\n",
      "28/29 [===========================>..] - ETA: 0s - loss: 12129.2617\n",
      "Epoch 00007: loss improved from 12145.58105 to 12080.34277, saving model to ./chkpt1\n",
      "29/29 [==============================] - 1s 40ms/step - loss: 12080.3428\n",
      "Epoch 8/10\n",
      "28/29 [===========================>..] - ETA: 0s - loss: 12069.4756\n",
      "Epoch 00008: loss improved from 12080.34277 to 12026.92383, saving model to ./chkpt1\n",
      "29/29 [==============================] - 1s 40ms/step - loss: 12026.9238\n",
      "Epoch 9/10\n",
      "28/29 [===========================>..] - ETA: 0s - loss: 12020.0850\n",
      "Epoch 00009: loss improved from 12026.92383 to 11982.44141, saving model to ./chkpt1\n",
      "29/29 [==============================] - 1s 41ms/step - loss: 11982.4414\n",
      "Epoch 10/10\n",
      "28/29 [===========================>..] - ETA: 0s - loss: 11978.8877\n",
      "9 triples containing invalid keys skipped!\n",
      "177/177 [==============================] - 5s 26ms/step\n",
      "\n",
      "Epoch 00010: loss improved from 11982.44141 to 11945.16602, saving model to ./chkpt1\n",
      "29/29 [==============================] - 6s 203ms/step - loss: 11945.1660 - val_mrr: 0.0940 - val_mr: 452.7062 - val_hits@1: 0.0000e+00 - val_hits@10: 0.2606\n"
     ]
    },
    {
     "data": {
      "text/plain": [
       "<tensorflow.python.keras.callbacks.History at 0x7f88343569d0>"
      ]
     },
     "execution_count": 3,
     "metadata": {},
     "output_type": "execute_result"
    }
   ],
   "source": [
    "optim = tf.optimizers.Adagrad(learning_rate=0.1)\n",
    "# optim = 'adam'\n",
    "\n",
    "# loss = nll\n",
    "# loss = 'self_adversarial'\n",
    "from ampligraph.latent_features.loss_functions import SelfAdversarialLoss\n",
    "loss = SelfAdversarialLoss({'margin': 0.1, 'alpha': 5})\n",
    "\n",
    "model = ScoringBasedEmbeddingModel(eta=50, \n",
    "                                     k=300, \n",
    "                                     max_ent_size=14505, \n",
    "                                     max_rel_size=237,\n",
    "                                     scoring_type='TransE')\n",
    "\n",
    "\n",
    "\n",
    "model.compile(optimizer=optim, loss=loss)\n",
    "\n",
    "from tensorflow.keras.callbacks import ModelCheckpoint\n",
    "checkpoint = ModelCheckpoint('./chkpt1', monitor='loss', verbose=1, save_best_only=True, mode='min')\n",
    "\n",
    "model.fit('/home/spai/code/ampligraph_projects/dataset/fb15k-237/train.txt',\n",
    "             batch_size=10000,\n",
    "             epochs=10,\n",
    "             validation_freq=5,\n",
    "             validation_batch_size=100,\n",
    "             validation_data = '/home/spai/code/ampligraph_projects/dataset/fb15k-237/valid.txt',\n",
    "         callbacks=[checkpoint])\n",
    "\n",
    "\n"
   ]
  },
  {
   "cell_type": "code",
   "execution_count": 4,
   "metadata": {},
   "outputs": [
    {
     "name": "stdout",
     "output_type": "stream",
     "text": [
      "\n",
      "28 triples containing invalid keys skipped!\n",
      "\n",
      "9 triples containing invalid keys skipped!\n",
      "\n",
      "28 triples containing invalid keys skipped!\n",
      "206/206 [==============================] - 93s 451ms/step\n",
      "Time taken: 100.90809726715088\n"
     ]
    },
    {
     "data": {
      "text/plain": [
       "(329.3206771699775,\n",
       " 0.2039852313069685,\n",
       " 0.12816811821117527,\n",
       " 0.3548292396516293)"
      ]
     },
     "execution_count": 4,
     "metadata": {},
     "output_type": "execute_result"
    }
   ],
   "source": [
    "\n",
    "start = time.time()\n",
    "ranks = model.evaluate('/home/spai/code/ampligraph_projects/dataset/fb15k-237/test.txt', \n",
    "                       batch_size=100,\n",
    "                       corrupt_side='s,o',\n",
    "         use_filter={'train':'/home/spai/code/ampligraph_projects/dataset/fb15k-237/train.txt',\n",
    "                  'valid':'/home/spai/code/ampligraph_projects/dataset/fb15k-237/valid.txt',\n",
    "                  'test':'/home/spai/code/ampligraph_projects/dataset/fb15k-237/test.txt'})\n",
    "end = time.time()\n",
    "print('Time taken:', end-start)\n",
    "mr_score(ranks), mrr_score(ranks), hits_at_n_score(ranks, 1), hits_at_n_score(ranks, 10)"
   ]
  },
  {
   "cell_type": "markdown",
   "metadata": {},
   "source": [
    "## Load Checkpoint and evaluate"
   ]
  },
  {
   "cell_type": "code",
   "execution_count": 5,
   "metadata": {},
   "outputs": [
    {
     "name": "stdout",
     "output_type": "stream",
     "text": [
      "\n",
      "28 triples containing invalid keys skipped!\n",
      "\n",
      "9 triples containing invalid keys skipped!\n",
      "\n",
      "28 triples containing invalid keys skipped!\n",
      "206/206 [==============================] - 93s 449ms/step\n",
      "Time taken: 100.94414258003235\n"
     ]
    },
    {
     "data": {
      "text/plain": [
       "(329.3206771699775,\n",
       " 0.2039852313069685,\n",
       " 0.12816811821117527,\n",
       " 0.3548292396516293)"
      ]
     },
     "execution_count": 5,
     "metadata": {},
     "output_type": "execute_result"
    }
   ],
   "source": [
    "start = time.time()\n",
    "loaded_model = ScoringBasedEmbeddingModel(eta=50, \n",
    "                                     k=300, \n",
    "                                     max_ent_size=14505, \n",
    "                                     max_rel_size=237,\n",
    "                                     scoring_type='TransE')\n",
    "\n",
    "loaded_model.load_weights('./chkpt1')\n",
    "ranks = loaded_model.evaluate('/home/spai/code/ampligraph_projects/dataset/fb15k-237/test.txt', \n",
    "                       batch_size=100,\n",
    "                       corrupt_side='s,o',\n",
    "         use_filter={'train':'/home/spai/code/ampligraph_projects/dataset/fb15k-237/train.txt',\n",
    "                  'valid':'/home/spai/code/ampligraph_projects/dataset/fb15k-237/valid.txt',\n",
    "                  'test':'/home/spai/code/ampligraph_projects/dataset/fb15k-237/test.txt'})\n",
    "end = time.time()\n",
    "print('Time taken:', end-start)\n",
    "mr_score(ranks), mrr_score(ranks), hits_at_n_score(ranks, 1), hits_at_n_score(ranks, 10)"
   ]
  },
  {
   "cell_type": "markdown",
   "metadata": {},
   "source": [
    "# Training/eval with partition"
   ]
  },
  {
   "cell_type": "code",
   "execution_count": 3,
   "metadata": {},
   "outputs": [
    {
     "name": "stdout",
     "output_type": "stream",
     "text": [
      "_split: memory before: 896.0Bytes, after: 13.114MB, consumed: 13.113MB; exec time: 210.2s\n"
     ]
    }
   ],
   "source": [
    "from ampligraph.datasets import DummyBackend, SQLiteAdapter\n",
    "from ampligraph.datasets import GraphDataLoader\n",
    "from ampligraph.datasets.graph_partitioner import PARTITION_ALGO_REGISTRY\n",
    "dataset_loader = GraphDataLoader('/home/spai/code/ampligraph_projects/dataset/fb15k-237/train.txt', \n",
    "                                 backend=SQLiteAdapter,\n",
    "                                    batch_size=1000, \n",
    "                                    dataset_type='train', \n",
    "                                    epochs=10,\n",
    "                                    use_indexer=True)\n",
    "\n",
    "\n",
    "partitioner = PARTITION_ALGO_REGISTRY.get('Bucket')(dataset_loader, k=3)"
   ]
  },
  {
   "cell_type": "code",
   "execution_count": 4,
   "metadata": {},
   "outputs": [
    {
     "name": "stdout",
     "output_type": "stream",
     "text": [
      "Epoch 1/10\n",
      "    274/Unknown - 10s 36ms/step - loss: 1422.5144\n",
      "Epoch 00001: loss improved from inf to 1415.20312, saving model to ./chkpt1\n",
      "277/277 [==============================] - 10s 38ms/step - loss: 1415.2031\n",
      "Epoch 2/10\n",
      "275/277 [============================>.] - ETA: 0s - loss: 1022.1102\n",
      "Epoch 00002: loss improved from 1415.20312 to 1019.76959, saving model to ./chkpt1\n",
      "277/277 [==============================] - 9s 34ms/step - loss: 1019.7696\n",
      "Epoch 3/10\n",
      "274/277 [============================>.] - ETA: 0s - loss: 838.1067\n",
      "Epoch 00003: loss improved from 1019.76959 to 835.89728, saving model to ./chkpt1\n",
      "277/277 [==============================] - 10s 35ms/step - loss: 835.8973\n",
      "Epoch 4/10\n",
      "276/277 [============================>.] - ETA: 0s - loss: 734.9833\n",
      "Epoch 00004: loss improved from 835.89728 to 734.32019, saving model to ./chkpt1\n",
      "277/277 [==============================] - 10s 35ms/step - loss: 734.3202\n",
      "Epoch 5/10\n",
      "275/277 [============================>.] - ETA: 0s - loss: 670.0822\n",
      "Epoch 00005: loss improved from 734.32019 to 669.27454, saving model to ./chkpt1\n",
      "277/277 [==============================] - 10s 35ms/step - loss: 669.2745\n",
      "Epoch 6/10\n",
      "275/277 [============================>.] - ETA: 0s - loss: 626.6677\n",
      "Epoch 00006: loss improved from 669.27454 to 626.04346, saving model to ./chkpt1\n",
      "277/277 [==============================] - 10s 35ms/step - loss: 626.0435\n",
      "Epoch 7/10\n",
      "276/277 [============================>.] - ETA: 0s - loss: 594.5536\n",
      "Epoch 00007: loss improved from 626.04346 to 594.25439, saving model to ./chkpt1\n",
      "277/277 [==============================] - 10s 35ms/step - loss: 594.2544\n",
      "Epoch 8/10\n",
      "276/277 [============================>.] - ETA: 0s - loss: 569.1993\n",
      "Epoch 00008: loss improved from 594.25439 to 568.94452, saving model to ./chkpt1\n",
      "277/277 [==============================] - 10s 34ms/step - loss: 568.9445\n",
      "Epoch 9/10\n",
      "276/277 [============================>.] - ETA: 0s - loss: 549.5280\n",
      "Epoch 00009: loss improved from 568.94452 to 549.31097, saving model to ./chkpt1\n",
      "277/277 [==============================] - 10s 35ms/step - loss: 549.3110\n",
      "Epoch 10/10\n",
      "275/277 [============================>.] - ETA: 0s - loss: 534.0851\n",
      "Epoch 00010: loss improved from 549.31097 to 533.76880, saving model to ./chkpt1\n",
      "277/277 [==============================] - 10s 34ms/step - loss: 533.7688\n",
      "110.5086305141449\n"
     ]
    }
   ],
   "source": [
    "optim = tf.optimizers.Adam(learning_rate=0.1, amsgrad=True)\n",
    "\n",
    "partitioned_model = ScoringBasedEmbeddingModel(eta=5, \n",
    "                                     k=300, \n",
    "                                     max_ent_size=9437, \n",
    "                                     max_rel_size=237,\n",
    "                                     scoring_type='TransE')\n",
    "\n",
    "#model.compile(optimizer='rmsprop', loss=nll)\n",
    "partitioned_model.compile(optimizer=optim, loss=nll)\n",
    "from tensorflow.keras.callbacks import ModelCheckpoint\n",
    "checkpoint = ModelCheckpoint('./chkpt1', monitor='loss', verbose=1, save_best_only=True, mode='min')\n",
    "start = time.time()\n",
    "partitioned_model.fit(partitioner,\n",
    "                     batch_size=1000, use_partitioning=True,\n",
    "                     epochs=10, callbacks=[checkpoint])\n",
    "print((time.time()-start))"
   ]
  },
  {
   "cell_type": "code",
   "execution_count": 5,
   "metadata": {},
   "outputs": [
    {
     "name": "stdout",
     "output_type": "stream",
     "text": [
      "\n",
      "28 triples containing invalid keys skipped!\n",
      "52/52 [==============================] - 119s 2s/step\n",
      "Time taken: 122.69469952583313\n"
     ]
    },
    {
     "data": {
      "text/plain": [
       "(1331.8668137254901, 0.07005025369356002, 0.0, 0.1947794117647059)"
      ]
     },
     "execution_count": 5,
     "metadata": {},
     "output_type": "execute_result"
    }
   ],
   "source": [
    "\n",
    "dataset_loader_test = GraphDataLoader('/home/spai/code/ampligraph_projects/dataset/fb15k-237/test.txt', \n",
    "                                        backend=SQLiteAdapter,\n",
    "                                        batch_size=400, \n",
    "                                        dataset_type='test', \n",
    "                                        epochs=1,\n",
    "                                        use_indexer=partitioned_model.data_handler.get_mapper())\n",
    "\n",
    "start = time.time()\n",
    "ranks = partitioned_model.evaluate(dataset_loader_test, \n",
    "                                   batch_size=400)\n",
    "end = time.time()\n",
    "print('Time taken:', end-start)\n",
    "\n",
    "mr_score(ranks), mrr_score(ranks), hits_at_n_score(ranks, 1), hits_at_n_score(ranks, 10)"
   ]
  },
  {
   "cell_type": "markdown",
   "metadata": {},
   "source": [
    "## Save and Load checkpoint"
   ]
  },
  {
   "cell_type": "code",
   "execution_count": 6,
   "metadata": {},
   "outputs": [],
   "source": [
    "partitioned_model.save_weights('./chkpt_partition')"
   ]
  },
  {
   "cell_type": "code",
   "execution_count": 7,
   "metadata": {},
   "outputs": [],
   "source": [
    "loaded_part_model = ScoringBasedEmbeddingModel(eta=5, \n",
    "                                     k=300, \n",
    "                                     max_ent_size=9437, \n",
    "                                     max_rel_size=237,\n",
    "                                     scoring_type='TransE')\n",
    "\n",
    "loaded_part_model.load_weights('./chkpt_partition')"
   ]
  },
  {
   "cell_type": "code",
   "execution_count": 8,
   "metadata": {},
   "outputs": [
    {
     "name": "stdout",
     "output_type": "stream",
     "text": [
      "\n",
      "28 triples containing invalid keys skipped!\n",
      "52/52 [==============================] - 120s 2s/step\n",
      "Time taken: 122.4106113910675\n"
     ]
    },
    {
     "data": {
      "text/plain": [
       "(1331.8668137254901, 0.07005025369356002, 0.0, 0.1947794117647059)"
      ]
     },
     "execution_count": 8,
     "metadata": {},
     "output_type": "execute_result"
    }
   ],
   "source": [
    "\n",
    "dataset_loader_test = GraphDataLoader('/home/spai/code/ampligraph_projects/dataset/fb15k-237/test.txt', \n",
    "                                        backend=SQLiteAdapter,\n",
    "                                        batch_size=400, \n",
    "                                        dataset_type='test', \n",
    "                                        epochs=1,\n",
    "                                        use_indexer=loaded_part_model.data_indexer)\n",
    "\n",
    "start = time.time()\n",
    "ranks = loaded_part_model.evaluate(dataset_loader_test, \n",
    "                                   batch_size=400)\n",
    "end = time.time()\n",
    "print('Time taken:', end-start)\n",
    "\n",
    "mr_score(ranks), mrr_score(ranks), hits_at_n_score(ranks, 1), hits_at_n_score(ranks, 10)"
   ]
  },
  {
   "cell_type": "markdown",
   "metadata": {},
   "source": [
    "## Filtered evaluation"
   ]
  },
  {
   "cell_type": "code",
   "execution_count": 11,
   "metadata": {},
   "outputs": [
    {
     "name": "stdout",
     "output_type": "stream",
     "text": [
      "\n",
      "28 triples containing invalid keys skipped!\n",
      "\n",
      "9 triples containing invalid keys skipped!\n",
      "\n",
      "28 triples containing invalid keys skipped!\n",
      "104/104 [==============================] - 711s 7s/step\n",
      "Time taken: 769.5899913311005\n"
     ]
    },
    {
     "data": {
      "text/plain": [
       "(1181.0907133770427,\n",
       " 0.13077588574264687,\n",
       " 0.07300127214013113,\n",
       " 0.24143751834817498)"
      ]
     },
     "execution_count": 11,
     "metadata": {},
     "output_type": "execute_result"
    }
   ],
   "source": [
    "start = time.time()\n",
    "ranks = partitioned_model.evaluate('/home/spai/code/ampligraph_projects/dataset/fb15k-237/test.txt', \n",
    "                       batch_size=200,\n",
    "                       corrupt_side='s,o',\n",
    "                        use_filter={'train':'/home/spai/code/ampligraph_projects/dataset/fb15k-237/train.txt',\n",
    "                              'valid':'/home/spai/code/ampligraph_projects/dataset/fb15k-237/valid.txt',\n",
    "                              'test':'/home/spai/code/ampligraph_projects/dataset/fb15k-237/test.txt'})\n",
    "end = time.time()\n",
    "print('Time taken:', end-start)\n",
    "mr_score(ranks), mrr_score(ranks), hits_at_n_score(ranks, 1), hits_at_n_score(ranks, 10)"
   ]
  },
  {
   "cell_type": "code",
   "execution_count": null,
   "metadata": {},
   "outputs": [],
   "source": []
  },
  {
   "cell_type": "code",
   "execution_count": null,
   "metadata": {},
   "outputs": [],
   "source": []
  }
 ],
 "metadata": {
  "kernelspec": {
   "display_name": "tf2_nightly",
   "language": "python",
   "name": "tf_nightly"
  },
  "language_info": {
   "codemirror_mode": {
    "name": "ipython",
    "version": 3
   },
   "file_extension": ".py",
   "mimetype": "text/x-python",
   "name": "python",
   "nbconvert_exporter": "python",
   "pygments_lexer": "ipython3",
   "version": "3.7.7"
  }
 },
 "nbformat": 4,
 "nbformat_minor": 2
}
