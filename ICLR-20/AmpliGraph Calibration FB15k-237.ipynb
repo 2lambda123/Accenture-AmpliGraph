{
 "cells": [
  {
   "cell_type": "code",
   "execution_count": 1,
   "metadata": {},
   "outputs": [],
   "source": [
    "import numpy as np\n",
    "import itertools\n",
    "import json\n",
    "\n",
    "from sklearn.isotonic import IsotonicRegression\n",
    "from sklearn.calibration import calibration_curve, _SigmoidCalibration, _sigmoid_calibration\n",
    "from ampligraph.evaluation import evaluate_performance, mr_score, mrr_score, hits_at_n_score, generate_corruptions_for_eval\n",
    "from sklearn.metrics import brier_score_loss, log_loss\n",
    "from scipy.special import expit\n",
    "\n",
    "from ampligraph.datasets import load_fb15k_237\n",
    "from ampligraph.latent_features.models import TransE, ComplEx"
   ]
  },
  {
   "cell_type": "code",
   "execution_count": 2,
   "metadata": {},
   "outputs": [],
   "source": [
    "%matplotlib inline\n",
    "import matplotlib.pyplot as plt"
   ]
  },
  {
   "cell_type": "code",
   "execution_count": 20,
   "metadata": {},
   "outputs": [],
   "source": [
    "from generate_corruptions import generate_corruptions, calibration_loss, pos_iso"
   ]
  },
  {
   "cell_type": "code",
   "execution_count": 4,
   "metadata": {},
   "outputs": [
    {
     "name": "stdout",
     "output_type": "stream",
     "text": [
      "env: CUDA_VISIBLE_DEVICES=1\n"
     ]
    }
   ],
   "source": [
    "%env CUDA_VISIBLE_DEVICES=1"
   ]
  },
  {
   "cell_type": "code",
   "execution_count": 5,
   "metadata": {},
   "outputs": [],
   "source": [
    "X = load_fb15k_237()"
   ]
  },
  {
   "cell_type": "code",
   "execution_count": 19,
   "metadata": {},
   "outputs": [],
   "source": [
    "import types\n",
    "from functools import partial\n",
    "import tensorflow as tf\n",
    "from sklearn.utils import check_random_state\n",
    "from tqdm import tqdm\n",
    "from ampligraph.datasets import AmpligraphDatasetAdapter, NumpyDatasetAdapter\n",
    "from ampligraph.evaluation import generate_corruptions_for_fit, to_idx, generate_corruptions_for_eval, \\\n",
    "    hits_at_n_score, mrr_score\n",
    "\n",
    "\n",
    "def generate_corruptions_triples(self, X_pos, batches_count, epochs):\n",
    "    try:\n",
    "        tf.reset_default_graph()\n",
    "        self.rnd = check_random_state(self.seed)\n",
    "        tf.random.set_random_seed(self.seed)\n",
    "\n",
    "        self._load_model_from_trained_params()\n",
    "\n",
    "        dataset_handle = NumpyDatasetAdapter()\n",
    "        dataset_handle.use_mappings(self.rel_to_idx, self.ent_to_idx)\n",
    "\n",
    "        dataset_handle.set_data(X_pos, \"pos\")\n",
    "\n",
    "        batch_size_pos = int(np.ceil(dataset_handle.get_size(\"pos\") / batches_count))\n",
    "\n",
    "        gen_fn = partial(dataset_handle.get_next_batch, batches_count=batches_count, dataset_type=\"pos\")\n",
    "        dataset = tf.data.Dataset.from_generator(gen_fn,\n",
    "                                                 output_types=tf.int32,\n",
    "                                                 output_shapes=(None, 3))\n",
    "        dataset = dataset.repeat().prefetch(1)\n",
    "        dataset_iter = tf.data.make_one_shot_iterator(dataset)\n",
    "\n",
    "        x_pos_tf = dataset_iter.get_next()\n",
    "\n",
    "        e_s, e_p, e_o = self._lookup_embeddings(x_pos_tf)\n",
    "        scores_pos = self._fn(e_s, e_p, e_o)\n",
    "\n",
    "        x_neg_tf = generate_corruptions_for_fit(x_pos_tf,\n",
    "                                                entities_list=None,\n",
    "                                                eta=1,\n",
    "                                                corrupt_side='s+o',\n",
    "                                                entities_size=0,\n",
    "                                                rnd=self.seed)\n",
    "\n",
    "        epoch_iterator_with_progress = tqdm(range(1, epochs + 1), disable=(not self.verbose), unit='epoch')\n",
    "\n",
    "        scores_list = []\n",
    "        with tf.Session(config=self.tf_config) as sess:\n",
    "            sess.run(tf.global_variables_initializer())\n",
    "            for _ in epoch_iterator_with_progress:\n",
    "                losses = []\n",
    "                for batch in range(batches_count):\n",
    "                    scores_list.append(sess.run(x_neg_tf))\n",
    "\n",
    "        dataset_handle.cleanup()\n",
    "        return np.concatenate(scores_list)\n",
    "    \n",
    "    except Exception as e:\n",
    "        print(e)\n",
    "        dataset_handle.cleanup()"
   ]
  },
  {
   "cell_type": "code",
   "execution_count": 15,
   "metadata": {},
   "outputs": [],
   "source": [
    "def pos_iso(cal_model, pos_scores, neg_scores, positive_base_rate):\n",
    "    weigths_pos = len(neg_scores) / len(pos_scores)\n",
    "    weights_neg = (1.0 - positive_base_rate) / positive_base_rate\n",
    "    weights = np.concatenate((np.full(pos_scores.shape, weigths_pos),\n",
    "                              np.full(neg_scores.shape, weights_neg))).astype(float)\n",
    "    target =  np.concatenate((np.ones(pos_scores.shape), np.zeros(neg_scores.shape))).astype(float)\n",
    "    x = np.concatenate((pos_scores, neg_scores)).astype(float)\n",
    "    \n",
    "    cal_model.fit(x, target, sample_weight=weights)\n",
    "    return cal_model"
   ]
  },
  {
   "cell_type": "code",
   "execution_count": 8,
   "metadata": {},
   "outputs": [
    {
     "name": "stdout",
     "output_type": "stream",
     "text": [
      "WARNING - From /home/ptabacof/.conda/envs/tf_gpu/lib/python3.7/site-packages/tensorflow/python/framework/op_def_library.py:263: colocate_with (from tensorflow.python.framework.ops) is deprecated and will be removed in a future version.\n",
      "Instructions for updating:\n",
      "Colocations handled automatically by placer.\n",
      "WARNING - From /home/ptabacof/.conda/envs/tf_gpu/lib/python3.7/site-packages/tensorflow/python/data/ops/dataset_ops.py:429: py_func (from tensorflow.python.ops.script_ops) is deprecated and will be removed in a future version.\n",
      "Instructions for updating:\n",
      "tf.py_func is deprecated in TF V2. Instead, use\n",
      "    tf.py_function, which takes a python function which manipulates tf eager\n",
      "    tensors instead of numpy arrays. It's easy to convert a tf eager tensor to\n",
      "    an ndarray (just call tensor.numpy()) but having access to eager tensors\n",
      "    means `tf.py_function`s can use accelerators such as GPUs as well as\n",
      "    being differentiable using a gradient tape.\n",
      "    \n",
      "WARNING - From /home/ptabacof/.conda/envs/tf_gpu/lib/python3.7/site-packages/tensorflow/python/ops/math_ops.py:3066: to_int32 (from tensorflow.python.ops.math_ops) is deprecated and will be removed in a future version.\n",
      "Instructions for updating:\n",
      "Use tf.cast instead.\n"
     ]
    },
    {
     "name": "stderr",
     "output_type": "stream",
     "text": [
      "Average Loss:   0.206223: 100%|██████████| 500/500 [27:24<00:00,  3.29s/epoch]\n"
     ]
    }
   ],
   "source": [
    "model = ComplEx(batches_count=64, seed=0, epochs=500, k=350, eta=30,\n",
    "                optimizer='adam', optimizer_params={'lr':0.00005},\n",
    "                regularizer='LP', regularizer_params={'lambda': 0.0001},\n",
    "                loss='multiclass_nll', verbose=True)\n",
    "\n",
    "filter_triples = np.concatenate((X['train'], X['valid'], X['test']))\n",
    "\n",
    "model.fit(X['train'], False)"
   ]
  },
  {
   "cell_type": "code",
   "execution_count": 9,
   "metadata": {},
   "outputs": [
    {
     "name": "stderr",
     "output_type": "stream",
     "text": [
      "100%|██████████| 20438/20438 [02:22<00:00, 143.53it/s]\n"
     ]
    }
   ],
   "source": [
    "ranks = evaluate_performance(X['test'], \n",
    "                             model=model, \n",
    "                             filter_triples=filter_triples,\n",
    "                             use_default_protocol=True, \n",
    "                             verbose=False)"
   ]
  },
  {
   "cell_type": "code",
   "execution_count": 10,
   "metadata": {},
   "outputs": [
    {
     "data": {
      "text/plain": [
       "(0.3203637788540833, 0.4987767883354536, 182.66488893238085)"
      ]
     },
     "execution_count": 10,
     "metadata": {},
     "output_type": "execute_result"
    }
   ],
   "source": [
    "mrr_score(ranks),  hits_at_n_score(ranks, n=10), mr_score(ranks)"
   ]
  },
  {
   "cell_type": "code",
   "execution_count": 16,
   "metadata": {},
   "outputs": [
    {
     "name": "stdout",
     "output_type": "stream",
     "text": [
      "WARNING - From /home/ptabacof/AmpliGraph-Lab/ampligraph/evaluation/protocol.py:352: multinomial (from tensorflow.python.ops.random_ops) is deprecated and will be removed in a future version.\n",
      "Instructions for updating:\n",
      "Use tf.random.categorical instead.\n"
     ]
    },
    {
     "name": "stderr",
     "output_type": "stream",
     "text": [
      "100%|██████████| 1000/1000 [00:28<00:00, 35.55epoch/s]\n"
     ]
    }
   ],
   "source": [
    "model.generate_corruptions_triples = types.MethodType(generate_corruptions_triples, model)\n",
    "fake_negatives = model.generate_corruptions_triples(X['test'], batches_count=10, epochs=1000)"
   ]
  },
  {
   "cell_type": "code",
   "execution_count": 17,
   "metadata": {},
   "outputs": [],
   "source": [
    "idx_to_ent = {v: k for k, v in model.ent_to_idx.items()} \n",
    "idx_to_rel = {v: k for k, v in model.rel_to_idx.items()} "
   ]
  },
  {
   "cell_type": "code",
   "execution_count": 24,
   "metadata": {
    "scrolled": true
   },
   "outputs": [
    {
     "name": "stderr",
     "output_type": "stream",
     "text": [
      "Calibration Loss:   0.830982: 100%|██████████| 1000/1000 [00:40<00:00, 22.62epoch/s]\n"
     ]
    },
    {
     "name": "stdout",
     "output_type": "stream",
     "text": [
      "pos [-0.44122803, 5.0400944]\n"
     ]
    },
    {
     "name": "stderr",
     "output_type": "stream",
     "text": [
      "100%|██████████| 1000/1000 [00:30<00:00, 33.20epoch/s]\n"
     ]
    },
    {
     "name": "stdout",
     "output_type": "stream",
     "text": [
      "pos sc -0.450853233926018 5.448441701088486\n",
      "{\n",
      "  \"pbr\": 0.05,\n",
      "  \"brier_score_baseline\": 0.04749999999999995,\n",
      "  \"log_loss_baseline\": 0.19851524334587223,\n",
      "  \"brier_score_scores\": 0.26980923178549016,\n",
      "  \"log_loss_scores\": 1.4254506676883343,\n",
      "  \"brier_score_probas_pos\": 0.03022059993355192,\n",
      "  \"log_loss_probas_pos\": 0.09573632062397083,\n",
      "  \"brier_score_probas_pos_iso\": 0.02904455848861283,\n",
      "  \"log_loss_probas_pos_iso\": 0.08998615245941406,\n",
      "  \"brier_score_probas_pos_sc\": 0.02996057168893332,\n",
      "  \"log_loss_probas_pos_sc\": 0.09415125535095266,\n",
      "  \"ece_scores\": 0.41351468573112127,\n",
      "  \"ece_probas_pos\": 0.010318255216854403,\n",
      "  \"ece_probas_pos_iso\": 0.0006545040186330029,\n",
      "  \"ece_probas_pos_sc\": 0.008704743413331146,\n",
      "  \"metrics_mrr\": 0.3203637788540833,\n",
      "  \"metrics_hits@10\": 0.4987767883354536,\n",
      "  \"metrics_mr\": 182.66488893238085\n",
      "}\n"
     ]
    },
    {
     "name": "stderr",
     "output_type": "stream",
     "text": [
      "Calibration Loss:   0.588032: 100%|██████████| 1000/1000 [00:39<00:00, 25.36epoch/s]\n"
     ]
    },
    {
     "name": "stdout",
     "output_type": "stream",
     "text": [
      "pos [-0.49303725, 4.808776]\n"
     ]
    },
    {
     "name": "stderr",
     "output_type": "stream",
     "text": [
      "100%|██████████| 1000/1000 [00:29<00:00, 33.42epoch/s]\n"
     ]
    },
    {
     "name": "stdout",
     "output_type": "stream",
     "text": [
      "pos sc -0.44800720876236055 4.699874586718216\n",
      "{\n",
      "  \"pbr\": 0.1,\n",
      "  \"brier_score_baseline\": 0.08999999999999986,\n",
      "  \"log_loss_baseline\": 0.3250829733914479,\n",
      "  \"brier_score_scores\": 0.25379738360101556,\n",
      "  \"log_loss_scores\": 1.334598660038867,\n",
      "  \"brier_score_probas_pos\": 0.043262066647011634,\n",
      "  \"log_loss_probas_pos\": 0.13631289918028322,\n",
      "  \"brier_score_probas_pos_iso\": 0.041901695720859784,\n",
      "  \"log_loss_probas_pos_iso\": 0.12830096648038136,\n",
      "  \"brier_score_probas_pos_sc\": 0.04312894122049539,\n",
      "  \"log_loss_probas_pos_sc\": 0.13527496434678835,\n",
      "  \"ece_scores\": 0.3899569472497615,\n",
      "  \"ece_probas_pos\": 0.013421767335871752,\n",
      "  \"ece_probas_pos_iso\": 0.001200075820617559,\n",
      "  \"ece_probas_pos_sc\": 0.01602823671431844,\n",
      "  \"metrics_mrr\": 0.3203637788540833,\n",
      "  \"metrics_hits@10\": 0.4987767883354536,\n",
      "  \"metrics_mr\": 182.66488893238085\n",
      "}\n"
     ]
    },
    {
     "name": "stderr",
     "output_type": "stream",
     "text": [
      "Calibration Loss:   0.467873: 100%|██████████| 1000/1000 [00:40<00:00, 23.47epoch/s]\n"
     ]
    },
    {
     "name": "stdout",
     "output_type": "stream",
     "text": [
      "pos [-0.5196964, 4.589352]\n"
     ]
    },
    {
     "name": "stderr",
     "output_type": "stream",
     "text": [
      "100%|██████████| 1000/1000 [00:29<00:00, 34.19epoch/s]\n"
     ]
    },
    {
     "name": "stdout",
     "output_type": "stream",
     "text": [
      "pos sc -0.43583415651849966 3.8104580467727147\n",
      "{\n",
      "  \"pbr\": 0.15,\n",
      "  \"brier_score_baseline\": 0.12750025687507796,\n",
      "  \"log_loss_baseline\": 0.4227097243428217,\n",
      "  \"brier_score_scores\": 0.24217811888243646,\n",
      "  \"log_loss_scores\": 1.284183769625678,\n",
      "  \"brier_score_probas_pos\": 0.05183296479210487,\n",
      "  \"log_loss_probas_pos\": 0.1663968349243564,\n",
      "  \"brier_score_probas_pos_iso\": 0.0502835157618446,\n",
      "  \"log_loss_probas_pos_iso\": 0.15569822322574853,\n",
      "  \"brier_score_probas_pos_sc\": 0.05131279315458267,\n",
      "  \"log_loss_probas_pos_sc\": 0.16800470746315727,\n",
      "  \"ece_scores\": 0.36999146187807563,\n",
      "  \"ece_probas_pos\": 0.016368070203471436,\n",
      "  \"ece_probas_pos_iso\": 0.0020625349689011186,\n",
      "  \"ece_probas_pos_sc\": 0.020485101126379787,\n",
      "  \"metrics_mrr\": 0.3203637788540833,\n",
      "  \"metrics_hits@10\": 0.4987767883354536,\n",
      "  \"metrics_mr\": 182.66488893238085\n",
      "}\n"
     ]
    },
    {
     "name": "stderr",
     "output_type": "stream",
     "text": [
      "Calibration Loss:   0.390925: 100%|██████████| 1000/1000 [00:39<00:00, 25.47epoch/s]\n"
     ]
    },
    {
     "name": "stdout",
     "output_type": "stream",
     "text": [
      "pos [-0.5364693, 4.3821664]\n"
     ]
    },
    {
     "name": "stderr",
     "output_type": "stream",
     "text": [
      "100%|██████████| 1000/1000 [00:29<00:00, 33.87epoch/s]\n"
     ]
    },
    {
     "name": "stdout",
     "output_type": "stream",
     "text": [
      "pos sc -0.44292882675460604 4.242331740162054\n",
      "{\n",
      "  \"pbr\": 0.2,\n",
      "  \"brier_score_baseline\": 0.16000000000000011,\n",
      "  \"log_loss_baseline\": 0.5004024235381878,\n",
      "  \"brier_score_scores\": 0.22706986458678013,\n",
      "  \"log_loss_scores\": 1.1948120494444805,\n",
      "  \"brier_score_probas_pos\": 0.05561868794343745,\n",
      "  \"log_loss_probas_pos\": 0.18281052882118026,\n",
      "  \"brier_score_probas_pos_iso\": 0.054243678399247576,\n",
      "  \"log_loss_probas_pos_iso\": 0.17140446391213182,\n",
      "  \"brier_score_probas_pos_sc\": 0.05904878342041919,\n",
      "  \"log_loss_probas_pos_sc\": 0.1881691734261763,\n",
      "  \"ece_scores\": 0.347013538277351,\n",
      "  \"ece_probas_pos\": 0.018049085680338868,\n",
      "  \"ece_probas_pos_iso\": 0.0020299018693885995,\n",
      "  \"ece_probas_pos_sc\": 0.03289293406845991,\n",
      "  \"metrics_mrr\": 0.3203637788540833,\n",
      "  \"metrics_hits@10\": 0.4987767883354536,\n",
      "  \"metrics_mr\": 182.66488893238085\n",
      "}\n"
     ]
    },
    {
     "name": "stderr",
     "output_type": "stream",
     "text": [
      "Calibration Loss:   0.335390: 100%|██████████| 1000/1000 [00:40<00:00, 24.72epoch/s]\n"
     ]
    },
    {
     "name": "stdout",
     "output_type": "stream",
     "text": [
      "pos [-0.5484132, 4.1875496]\n"
     ]
    },
    {
     "name": "stderr",
     "output_type": "stream",
     "text": [
      "100%|██████████| 1000/1000 [00:31<00:00, 31.88epoch/s]\n"
     ]
    },
    {
     "name": "stdout",
     "output_type": "stream",
     "text": [
      "pos sc -0.4337406897319396 3.5271707614686103\n",
      "{\n",
      "  \"pbr\": 0.25,\n",
      "  \"brier_score_baseline\": 0.1875,\n",
      "  \"log_loss_baseline\": 0.5623351446188083,\n",
      "  \"brier_score_scores\": 0.2120990000773988,\n",
      "  \"log_loss_scores\": 1.1196625558709161,\n",
      "  \"brier_score_probas_pos\": 0.058342808392123476,\n",
      "  \"log_loss_probas_pos\": 0.19624549810914835,\n",
      "  \"brier_score_probas_pos_iso\": 0.05685647734689661,\n",
      "  \"log_loss_probas_pos_iso\": 0.18320214563777243,\n",
      "  \"brier_score_probas_pos_sc\": 0.05876741835595218,\n",
      "  \"log_loss_probas_pos_sc\": 0.19761974797141282,\n",
      "  \"ece_scores\": 0.3243011260338289,\n",
      "  \"ece_probas_pos\": 0.020467531028961827,\n",
      "  \"ece_probas_pos_iso\": 0.0034220813693531106,\n",
      "  \"ece_probas_pos_sc\": 0.031594872038841086,\n",
      "  \"metrics_mrr\": 0.3203637788540833,\n",
      "  \"metrics_hits@10\": 0.4987767883354536,\n",
      "  \"metrics_mr\": 182.66488893238085\n",
      "}\n"
     ]
    },
    {
     "name": "stderr",
     "output_type": "stream",
     "text": [
      "Calibration Loss:   0.292378: 100%|██████████| 1000/1000 [00:39<00:00, 26.49epoch/s]\n"
     ]
    },
    {
     "name": "stdout",
     "output_type": "stream",
     "text": [
      "pos [-0.5578609, 4.005075]\n"
     ]
    },
    {
     "name": "stderr",
     "output_type": "stream",
     "text": [
      "100%|██████████| 1000/1000 [00:30<00:00, 32.45epoch/s]\n"
     ]
    },
    {
     "name": "stdout",
     "output_type": "stream",
     "text": [
      "pos sc -0.4303138850915756 3.103476418955717\n",
      "{\n",
      "  \"pbr\": 0.3,\n",
      "  \"brier_score_baseline\": 0.2100011742946893,\n",
      "  \"log_loss_baseline\": 0.6108667894983377,\n",
      "  \"brier_score_scores\": 0.19821798526803341,\n",
      "  \"log_loss_scores\": 1.0383687311408418,\n",
      "  \"brier_score_probas_pos\": 0.059089893584680926,\n",
      "  \"log_loss_probas_pos\": 0.20259537639379138,\n",
      "  \"brier_score_probas_pos_iso\": 0.05760362562217982,\n",
      "  \"log_loss_probas_pos_iso\": 0.1894706133214513,\n",
      "  \"brier_score_probas_pos_sc\": 0.059018959241297575,\n",
      "  \"log_loss_probas_pos_sc\": 0.20631922199498778,\n",
      "  \"ece_scores\": 0.3024551713683274,\n",
      "  \"ece_probas_pos\": 0.02158490033059149,\n",
      "  \"ece_probas_pos_iso\": 0.0033218000937571173,\n",
      "  \"ece_probas_pos_sc\": 0.03358263921913,\n",
      "  \"metrics_mrr\": 0.3203637788540833,\n",
      "  \"metrics_hits@10\": 0.4987767883354536,\n",
      "  \"metrics_mr\": 182.66488893238085\n",
      "}\n"
     ]
    },
    {
     "name": "stderr",
     "output_type": "stream",
     "text": [
      "Calibration Loss:   0.257447: 100%|██████████| 1000/1000 [00:40<00:00, 24.75epoch/s]\n"
     ]
    },
    {
     "name": "stdout",
     "output_type": "stream",
     "text": [
      "pos [-0.5660413, 3.8333955]\n"
     ]
    },
    {
     "name": "stderr",
     "output_type": "stream",
     "text": [
      "100%|██████████| 1000/1000 [00:28<00:00, 34.95epoch/s]\n"
     ]
    },
    {
     "name": "stdout",
     "output_type": "stream",
     "text": [
      "pos sc -0.4249351122070513 2.6027989143605748\n",
      "{\n",
      "  \"pbr\": 0.35,\n",
      "  \"brier_score_baseline\": 0.2275005137514129,\n",
      "  \"log_loss_baseline\": 0.6474476991421921,\n",
      "  \"brier_score_scores\": 0.18779365228188494,\n",
      "  \"log_loss_scores\": 1.00681186424528,\n",
      "  \"brier_score_probas_pos\": 0.06264089844180341,\n",
      "  \"log_loss_probas_pos\": 0.2161702127170621,\n",
      "  \"brier_score_probas_pos_iso\": 0.060948936065319856,\n",
      "  \"log_loss_probas_pos_iso\": 0.20205349006725867,\n",
      "  \"brier_score_probas_pos_sc\": 0.062700399030859,\n",
      "  \"log_loss_probas_pos_sc\": 0.22596549762365803,\n",
      "  \"ece_scores\": 0.2836055745816204,\n",
      "  \"ece_probas_pos\": 0.025499032066918243,\n",
      "  \"ece_probas_pos_iso\": 0.005165833751140523,\n",
      "  \"ece_probas_pos_sc\": 0.0347326766005766,\n",
      "  \"metrics_mrr\": 0.3203637788540833,\n",
      "  \"metrics_hits@10\": 0.4987767883354536,\n",
      "  \"metrics_mr\": 182.66488893238085\n",
      "}\n"
     ]
    },
    {
     "name": "stderr",
     "output_type": "stream",
     "text": [
      "Calibration Loss:   0.228080: 100%|██████████| 1000/1000 [00:40<00:00, 24.47epoch/s]\n"
     ]
    },
    {
     "name": "stdout",
     "output_type": "stream",
     "text": [
      "pos [-0.5736308, 3.6703708]\n"
     ]
    },
    {
     "name": "stderr",
     "output_type": "stream",
     "text": [
      "100%|██████████| 1000/1000 [00:31<00:00, 31.58epoch/s]\n"
     ]
    },
    {
     "name": "stdout",
     "output_type": "stream",
     "text": [
      "pos sc -0.4199623323413796 2.266455873130448\n",
      "{\n",
      "  \"pbr\": 0.39999999999999997,\n",
      "  \"brier_score_baseline\": 0.24000000000000002,\n",
      "  \"log_loss_baseline\": 0.6730116670092564,\n",
      "  \"brier_score_scores\": 0.17082503312823508,\n",
      "  \"log_loss_scores\": 0.9111823747386303,\n",
      "  \"brier_score_probas_pos\": 0.060788203784938676,\n",
      "  \"log_loss_probas_pos\": 0.21641526675875367,\n",
      "  \"brier_score_probas_pos_iso\": 0.05895836207944596,\n",
      "  \"log_loss_probas_pos_iso\": 0.20073318715618454,\n",
      "  \"brier_score_probas_pos_sc\": 0.061829698248956226,\n",
      "  \"log_loss_probas_pos_sc\": 0.23226460749996394,\n",
      "  \"ece_scores\": 0.25887204230047506,\n",
      "  \"ece_probas_pos\": 0.027719883704584457,\n",
      "  \"ece_probas_pos_iso\": 0.003910326600513463,\n",
      "  \"ece_probas_pos_sc\": 0.042930021830265806,\n",
      "  \"metrics_mrr\": 0.3203637788540833,\n",
      "  \"metrics_hits@10\": 0.4987767883354536,\n",
      "  \"metrics_mr\": 182.66488893238085\n",
      "}\n"
     ]
    },
    {
     "name": "stderr",
     "output_type": "stream",
     "text": [
      "Calibration Loss:   0.202717: 100%|██████████| 1000/1000 [00:38<00:00, 25.43epoch/s]\n"
     ]
    },
    {
     "name": "stdout",
     "output_type": "stream",
     "text": [
      "pos [-0.5810122, 3.513366]\n"
     ]
    },
    {
     "name": "stderr",
     "output_type": "stream",
     "text": [
      "100%|██████████| 1000/1000 [00:30<00:00, 32.93epoch/s]\n"
     ]
    },
    {
     "name": "stdout",
     "output_type": "stream",
     "text": [
      "pos sc -0.416994210182014 2.0260310635213106\n",
      "{\n",
      "  \"pbr\": 0.44999999999999996,\n",
      "  \"brier_score_baseline\": 0.24750077063654588,\n",
      "  \"log_loss_baseline\": 0.6881403601553046,\n",
      "  \"brier_score_scores\": 0.1564589024743738,\n",
      "  \"log_loss_scores\": 0.8266344608473133,\n",
      "  \"brier_score_probas_pos\": 0.05891980763803334,\n",
      "  \"log_loss_probas_pos\": 0.21320748200353237,\n",
      "  \"brier_score_probas_pos_iso\": 0.056783481757926926,\n",
      "  \"log_loss_probas_pos_iso\": 0.19729411923601217,\n",
      "  \"brier_score_probas_pos_sc\": 0.06076750186446273,\n",
      "  \"log_loss_probas_pos_sc\": 0.23341027937493367,\n",
      "  \"ece_scores\": 0.23687160928789489,\n",
      "  \"ece_probas_pos\": 0.028261867007226087,\n",
      "  \"ece_probas_pos_iso\": 0.003960333785657498,\n",
      "  \"ece_probas_pos_sc\": 0.04697122187452604,\n",
      "  \"metrics_mrr\": 0.3203637788540833,\n",
      "  \"metrics_hits@10\": 0.4987767883354536,\n",
      "  \"metrics_mr\": 182.66488893238085\n",
      "}\n"
     ]
    },
    {
     "name": "stderr",
     "output_type": "stream",
     "text": [
      "Calibration Loss:   0.180329: 100%|██████████| 1000/1000 [00:42<00:00, 23.58epoch/s]\n"
     ]
    },
    {
     "name": "stdout",
     "output_type": "stream",
     "text": [
      "pos [-0.5884199, 3.3595138]\n"
     ]
    },
    {
     "name": "stderr",
     "output_type": "stream",
     "text": [
      "100%|██████████| 1000/1000 [00:35<00:00, 28.87epoch/s]\n"
     ]
    },
    {
     "name": "stdout",
     "output_type": "stream",
     "text": [
      "pos sc -0.4123244764315961 2.122247964406506\n",
      "{\n",
      "  \"pbr\": 0.49999999999999994,\n",
      "  \"brier_score_baseline\": 0.25,\n",
      "  \"log_loss_baseline\": 0.6931471805599454,\n",
      "  \"brier_score_scores\": 0.1426850921701486,\n",
      "  \"log_loss_scores\": 0.7554543973614781,\n",
      "  \"brier_score_probas_pos\": 0.057302535297342874,\n",
      "  \"log_loss_probas_pos\": 0.21116404653382684,\n",
      "  \"brier_score_probas_pos_iso\": 0.054967349335739935,\n",
      "  \"log_loss_probas_pos_iso\": 0.19488918126956623,\n",
      "  \"brier_score_probas_pos_sc\": 0.058336825293231885,\n",
      "  \"log_loss_probas_pos_sc\": 0.2235036814143973,\n",
      "  \"ece_scores\": 0.21489111510890024,\n",
      "  \"ece_probas_pos\": 0.028764399031928286,\n",
      "  \"ece_probas_pos_iso\": 0.003695730838873606,\n",
      "  \"ece_probas_pos_sc\": 0.04102365919891314,\n",
      "  \"metrics_mrr\": 0.3203637788540833,\n",
      "  \"metrics_hits@10\": 0.4987767883354536,\n",
      "  \"metrics_mr\": 182.66488893238085\n",
      "}\n"
     ]
    },
    {
     "name": "stderr",
     "output_type": "stream",
     "text": [
      "Calibration Loss:   0.160191: 100%|██████████| 1000/1000 [00:42<00:00, 23.74epoch/s]\n"
     ]
    },
    {
     "name": "stdout",
     "output_type": "stream",
     "text": [
      "pos [-0.5960073, 3.2056608]\n"
     ]
    },
    {
     "name": "stderr",
     "output_type": "stream",
     "text": [
      "100%|██████████| 1000/1000 [00:35<00:00, 28.04epoch/s]\n"
     ]
    },
    {
     "name": "stdout",
     "output_type": "stream",
     "text": [
      "pos sc -0.41318873775913356 2.2876358726657706\n",
      "{\n",
      "  \"pbr\": 0.5499999999999999,\n",
      "  \"brier_score_baseline\": 0.24750000000000005,\n",
      "  \"log_loss_baseline\": 0.6881388137135885,\n",
      "  \"brier_score_scores\": 0.12890994096948222,\n",
      "  \"log_loss_scores\": 0.6795005751356494,\n",
      "  \"brier_score_probas_pos\": 0.054568615564771376,\n",
      "  \"log_loss_probas_pos\": 0.20529163674947518,\n",
      "  \"brier_score_probas_pos_iso\": 0.05210869395508585,\n",
      "  \"log_loss_probas_pos_iso\": 0.18884781609935242,\n",
      "  \"brier_score_probas_pos_sc\": 0.05675789638750858,\n",
      "  \"log_loss_probas_pos_sc\": 0.21646515781841863,\n",
      "  \"ece_scores\": 0.1936004482634743,\n",
      "  \"ece_probas_pos\": 0.029851878754417683,\n",
      "  \"ece_probas_pos_iso\": 0.0031003763829702317,\n",
      "  \"ece_probas_pos_sc\": 0.052452325559824035,\n",
      "  \"metrics_mrr\": 0.3203637788540833,\n",
      "  \"metrics_hits@10\": 0.4987767883354536,\n",
      "  \"metrics_mr\": 182.66488893238085\n",
      "}\n"
     ]
    },
    {
     "name": "stderr",
     "output_type": "stream",
     "text": [
      "Calibration Loss:   0.141772: 100%|██████████| 1000/1000 [00:42<00:00, 22.85epoch/s]\n"
     ]
    },
    {
     "name": "stdout",
     "output_type": "stream",
     "text": [
      "pos [-0.60396, 3.0488243]\n"
     ]
    },
    {
     "name": "stderr",
     "output_type": "stream",
     "text": [
      "100%|██████████| 1000/1000 [00:34<00:00, 28.74epoch/s]\n"
     ]
    },
    {
     "name": "stdout",
     "output_type": "stream",
     "text": [
      "pos sc -0.41476485687476017 2.244156337091305\n",
      "{\n",
      "  \"pbr\": 0.6,\n",
      "  \"brier_score_baseline\": 0.23999882570531084,\n",
      "  \"log_loss_baseline\": 0.6730092863316406,\n",
      "  \"brier_score_scores\": 0.11443739430805361,\n",
      "  \"log_loss_scores\": 0.6067865080111122,\n",
      "  \"brier_score_probas_pos\": 0.05197397626176126,\n",
      "  \"log_loss_probas_pos\": 0.19859429543973908,\n",
      "  \"brier_score_probas_pos_iso\": 0.049361849978720264,\n",
      "  \"log_loss_probas_pos_iso\": 0.1823144934576228,\n",
      "  \"brier_score_probas_pos_sc\": 0.05506736062470701,\n",
      "  \"log_loss_probas_pos_sc\": 0.2114385522844882,\n",
      "  \"ece_scores\": 0.17068563085635044,\n",
      "  \"ece_probas_pos\": 0.029556631660467025,\n",
      "  \"ece_probas_pos_iso\": 0.0034554073451883082,\n",
      "  \"ece_probas_pos_sc\": 0.05672226680593059,\n",
      "  \"metrics_mrr\": 0.3203637788540833,\n",
      "  \"metrics_hits@10\": 0.4987767883354536,\n",
      "  \"metrics_mr\": 182.66488893238085\n",
      "}\n"
     ]
    },
    {
     "name": "stderr",
     "output_type": "stream",
     "text": [
      "Calibration Loss:   0.124660: 100%|██████████| 1000/1000 [00:42<00:00, 22.91epoch/s]\n"
     ]
    },
    {
     "name": "stdout",
     "output_type": "stream",
     "text": [
      "pos [-0.6124753, 2.8854053]\n"
     ]
    },
    {
     "name": "stderr",
     "output_type": "stream",
     "text": [
      "100%|██████████| 1000/1000 [00:32<00:00, 30.32epoch/s]\n"
     ]
    },
    {
     "name": "stdout",
     "output_type": "stream",
     "text": [
      "pos sc -0.40981175704631245 2.082344164399395\n",
      "{\n",
      "  \"pbr\": 0.65,\n",
      "  \"brier_score_baseline\": 0.2274995229462838,\n",
      "  \"log_loss_baseline\": 0.6474456546514498,\n",
      "  \"brier_score_scores\": 0.10221794679605957,\n",
      "  \"log_loss_scores\": 0.542251328725139,\n",
      "  \"brier_score_probas_pos\": 0.048988604338296445,\n",
      "  \"log_loss_probas_pos\": 0.19119829827527524,\n",
      "  \"brier_score_probas_pos_iso\": 0.04642936410510346,\n",
      "  \"log_loss_probas_pos_iso\": 0.1747381649296076,\n",
      "  \"brier_score_probas_pos_sc\": 0.052675522843110244,\n",
      "  \"log_loss_probas_pos_sc\": 0.20607230899501092,\n",
      "  \"ece_scores\": 0.1510108001692485,\n",
      "  \"ece_probas_pos\": 0.02823633674946966,\n",
      "  \"ece_probas_pos_iso\": 0.0038587773343624026,\n",
      "  \"ece_probas_pos_sc\": 0.06037005883914722,\n",
      "  \"metrics_mrr\": 0.3203637788540833,\n",
      "  \"metrics_hits@10\": 0.4987767883354536,\n",
      "  \"metrics_mr\": 182.66488893238085\n",
      "}\n"
     ]
    },
    {
     "name": "stderr",
     "output_type": "stream",
     "text": [
      "/home/ptabacof/AmpliGraph-Lab/iclr_paper_notebooks/generate_corruptions.py:201: RuntimeWarning: invalid value encountered in true_divide\n",
      "  avg_pred_true = y_true[i_start:i_end].sum() / delta_count\n",
      "/home/ptabacof/AmpliGraph-Lab/iclr_paper_notebooks/generate_corruptions.py:202: RuntimeWarning: invalid value encountered in double_scalars\n",
      "  bin_centroid = y_prob[i_start:i_end].sum() / delta_count\n",
      "Calibration Loss:   0.108513: 100%|██████████| 1000/1000 [00:42<00:00, 23.55epoch/s]\n"
     ]
    },
    {
     "name": "stdout",
     "output_type": "stream",
     "text": [
      "pos [-0.6218169, 2.7108257]\n"
     ]
    },
    {
     "name": "stderr",
     "output_type": "stream",
     "text": [
      "100%|██████████| 1000/1000 [00:35<00:00, 29.66epoch/s]\n"
     ]
    },
    {
     "name": "stdout",
     "output_type": "stream",
     "text": [
      "pos sc -0.41674778119127287 2.0319100219446704\n",
      "{\n",
      "  \"pbr\": 0.7,\n",
      "  \"brier_score_baseline\": 0.20999862999623256,\n",
      "  \"log_loss_baseline\": 0.6108614000517412,\n",
      "  \"brier_score_scores\": 0.08570926117322997,\n",
      "  \"log_loss_scores\": 0.44309388279265255,\n",
      "  \"brier_score_probas_pos\": 0.04280347827409644,\n",
      "  \"log_loss_probas_pos\": 0.17055661212380274,\n",
      "  \"brier_score_probas_pos_iso\": 0.04005151579918727,\n",
      "  \"log_loss_probas_pos_iso\": 0.15598620995792975,\n",
      "  \"brier_score_probas_pos_sc\": 0.04752811598752329,\n",
      "  \"log_loss_probas_pos_sc\": 0.1896952112728663,\n",
      "  \"ece_scores\": 0.12701183138397673,\n",
      "  \"ece_probas_pos\": 0.027883710553189906,\n",
      "  \"ece_probas_pos_iso\": 0.002030247268691671,\n",
      "  \"ece_probas_pos_sc\": 0.06353839626560329,\n",
      "  \"metrics_mrr\": 0.3203637788540833,\n",
      "  \"metrics_hits@10\": 0.4987767883354536,\n",
      "  \"metrics_mr\": 182.66488893238085\n",
      "}\n"
     ]
    },
    {
     "name": "stderr",
     "output_type": "stream",
     "text": [
      "Calibration Loss:   0.093024: 100%|██████████| 1000/1000 [00:42<00:00, 23.29epoch/s]\n"
     ]
    },
    {
     "name": "stdout",
     "output_type": "stream",
     "text": [
      "pos [-0.632363, 2.5185409]\n"
     ]
    },
    {
     "name": "stderr",
     "output_type": "stream",
     "text": [
      "100%|██████████| 1000/1000 [00:33<00:00, 30.30epoch/s]\n"
     ]
    },
    {
     "name": "stdout",
     "output_type": "stream",
     "text": [
      "pos sc -0.40810995722274035 1.1386188516378033\n",
      "{\n",
      "  \"pbr\": 0.75,\n",
      "  \"brier_score_baseline\": 0.1874908256880734,\n",
      "  \"log_loss_baseline\": 0.562314986595163,\n",
      "  \"brier_score_scores\": 0.07123334826448943,\n",
      "  \"log_loss_scores\": 0.3766241019840096,\n",
      "  \"brier_score_probas_pos\": 0.038937310700674396,\n",
      "  \"log_loss_probas_pos\": 0.16026376701823458,\n",
      "  \"brier_score_probas_pos_iso\": 0.03588276484413837,\n",
      "  \"log_loss_probas_pos_iso\": 0.14439416937191413,\n",
      "  \"brier_score_probas_pos_sc\": 0.04352816083486665,\n",
      "  \"log_loss_probas_pos_sc\": 0.17889489261354855,\n",
      "  \"ece_scores\": 0.1041231599860235,\n",
      "  \"ece_probas_pos\": 0.025407916707730037,\n",
      "  \"ece_probas_pos_iso\": 0.0029120667091843376,\n",
      "  \"ece_probas_pos_sc\": 0.04917408856333127,\n",
      "  \"metrics_mrr\": 0.3203637788540833,\n",
      "  \"metrics_hits@10\": 0.4987767883354536,\n",
      "  \"metrics_mr\": 182.66488893238085\n",
      "}\n"
     ]
    },
    {
     "name": "stderr",
     "output_type": "stream",
     "text": [
      "/home/ptabacof/AmpliGraph-Lab/iclr_paper_notebooks/generate_corruptions.py:201: RuntimeWarning: invalid value encountered in true_divide\n",
      "  avg_pred_true = y_true[i_start:i_end].sum() / delta_count\n",
      "/home/ptabacof/AmpliGraph-Lab/iclr_paper_notebooks/generate_corruptions.py:202: RuntimeWarning: invalid value encountered in double_scalars\n",
      "  bin_centroid = y_prob[i_start:i_end].sum() / delta_count\n",
      "Calibration Loss:   0.077884: 100%|██████████| 1000/1000 [00:41<00:00, 24.15epoch/s]\n"
     ]
    },
    {
     "name": "stdout",
     "output_type": "stream",
     "text": [
      "pos [-0.6447056, 2.2980225]\n"
     ]
    },
    {
     "name": "stderr",
     "output_type": "stream",
     "text": [
      "100%|██████████| 1000/1000 [00:34<00:00, 29.27epoch/s]\n"
     ]
    },
    {
     "name": "stdout",
     "output_type": "stream",
     "text": [
      "pos sc -0.4144261500503252 1.8980809225094464\n",
      "{\n",
      "  \"pbr\": 0.7999999999999999,\n",
      "  \"brier_score_baseline\": 0.15999060555055386,\n",
      "  \"log_loss_baseline\": 0.5003807177510329,\n",
      "  \"brier_score_scores\": 0.058683450354320064,\n",
      "  \"log_loss_scores\": 0.3109757553306465,\n",
      "  \"brier_score_probas_pos\": 0.03440950533556503,\n",
      "  \"log_loss_probas_pos\": 0.14498098638757806,\n",
      "  \"brier_score_probas_pos_iso\": 0.03173961961119595,\n",
      "  \"log_loss_probas_pos_iso\": 0.13052374559785376,\n",
      "  \"brier_score_probas_pos_sc\": 0.042045615439749454,\n",
      "  \"log_loss_probas_pos_sc\": 0.17219221093483683,\n",
      "  \"ece_scores\": 0.08353118338024756,\n",
      "  \"ece_probas_pos\": 0.023195337576329925,\n",
      "  \"ece_probas_pos_iso\": 0.003201844640555683,\n",
      "  \"ece_probas_pos_sc\": 0.06928019973071929,\n",
      "  \"metrics_mrr\": 0.3203637788540833,\n",
      "  \"metrics_hits@10\": 0.4987767883354536,\n",
      "  \"metrics_mr\": 182.66488893238085\n",
      "}\n"
     ]
    },
    {
     "name": "stderr",
     "output_type": "stream",
     "text": [
      "Calibration Loss:   0.062722: 100%|██████████| 1000/1000 [00:41<00:00, 26.45epoch/s]\n"
     ]
    },
    {
     "name": "stdout",
     "output_type": "stream",
     "text": [
      "pos [-0.65985125, 2.029704]\n"
     ]
    },
    {
     "name": "stderr",
     "output_type": "stream",
     "text": [
      "100%|██████████| 1000/1000 [00:30<00:00, 32.31epoch/s]\n"
     ]
    },
    {
     "name": "stdout",
     "output_type": "stream",
     "text": [
      "pos sc -0.40621707789178174 1.4792098291213858\n",
      "{\n",
      "  \"pbr\": 0.85,\n",
      "  \"brier_score_baseline\": 0.12748253202462154,\n",
      "  \"log_loss_baseline\": 0.4226658021366665,\n",
      "  \"brier_score_scores\": 0.04376995376085403,\n",
      "  \"log_loss_scores\": 0.23283796094606704,\n",
      "  \"brier_score_probas_pos\": 0.028357334988879893,\n",
      "  \"log_loss_probas_pos\": 0.12243839545382189,\n",
      "  \"brier_score_probas_pos_iso\": 0.025650700150728005,\n",
      "  \"log_loss_probas_pos_iso\": 0.10918277891280431,\n",
      "  \"brier_score_probas_pos_sc\": 0.034035069995010034,\n",
      "  \"log_loss_probas_pos_sc\": 0.14574186293503685,\n",
      "  \"ece_scores\": 0.06059665081802846,\n",
      "  \"ece_probas_pos\": 0.020412215018823714,\n",
      "  \"ece_probas_pos_iso\": 0.003618408557025277,\n",
      "  \"ece_probas_pos_sc\": 0.06025897996035086,\n",
      "  \"metrics_mrr\": 0.3203637788540833,\n",
      "  \"metrics_hits@10\": 0.4987767883354536,\n",
      "  \"metrics_mr\": 182.66488893238085\n",
      "}\n"
     ]
    },
    {
     "name": "stderr",
     "output_type": "stream",
     "text": [
      "Calibration Loss:   0.046978: 100%|██████████| 1000/1000 [00:40<00:00, 24.14epoch/s]\n"
     ]
    },
    {
     "name": "stdout",
     "output_type": "stream",
     "text": [
      "pos [-0.6796722, 1.6689684]\n"
     ]
    },
    {
     "name": "stderr",
     "output_type": "stream",
     "text": [
      "100%|██████████| 1000/1000 [00:32<00:00, 30.29epoch/s]\n"
     ]
    },
    {
     "name": "stdout",
     "output_type": "stream",
     "text": [
      "pos sc -0.4004568842503645 1.0488643506096726\n",
      "{\n",
      "  \"pbr\": 0.9,\n",
      "  \"brier_score_baseline\": 0.08997181610005286,\n",
      "  \"log_loss_baseline\": 0.325005565444387,\n",
      "  \"brier_score_scores\": 0.029888923600977956,\n",
      "  \"log_loss_scores\": 0.1549024823497006,\n",
      "  \"brier_score_probas_pos\": 0.02114033516996933,\n",
      "  \"log_loss_probas_pos\": 0.09409248252906899,\n",
      "  \"brier_score_probas_pos_iso\": 0.019102052019867574,\n",
      "  \"log_loss_probas_pos_iso\": 0.08333943096021468,\n",
      "  \"brier_score_probas_pos_sc\": 0.025770285221293786,\n",
      "  \"log_loss_probas_pos_sc\": 0.11536179369797707,\n",
      "  \"ece_scores\": 0.039315355775304574,\n",
      "  \"ece_probas_pos\": 0.01455790294776898,\n",
      "  \"ece_probas_pos_iso\": 0.0019909200474455533,\n",
      "  \"ece_probas_pos_sc\": 0.050426725993103355,\n",
      "  \"metrics_mrr\": 0.3203637788540833,\n",
      "  \"metrics_hits@10\": 0.4987767883354536,\n",
      "  \"metrics_mr\": 182.66488893238085\n",
      "}\n"
     ]
    },
    {
     "name": "stderr",
     "output_type": "stream",
     "text": [
      "Calibration Loss:   0.029441: 100%|██████████| 1000/1000 [00:41<00:00, 25.09epoch/s]\n"
     ]
    },
    {
     "name": "stdout",
     "output_type": "stream",
     "text": [
      "pos [-0.70737255, 1.0662148]\n"
     ]
    },
    {
     "name": "stderr",
     "output_type": "stream",
     "text": [
      "100%|██████████| 1000/1000 [00:33<00:00, 29.74epoch/s]\n"
     ]
    },
    {
     "name": "stdout",
     "output_type": "stream",
     "text": [
      "pos sc -0.39859661833693294 0.36710001090671784\n",
      "{\n",
      "  \"pbr\": 0.95,\n",
      "  \"brier_score_baseline\": 0.04747280713986892,\n",
      "  \"log_loss_baseline\": 0.19842627921551143,\n",
      "  \"brier_score_scores\": 0.015817127376793094,\n",
      "  \"log_loss_scores\": 0.08848061567353917,\n",
      "  \"brier_score_probas_pos\": 0.014024524014923007,\n",
      "  \"log_loss_probas_pos\": 0.06570007228474867,\n",
      "  \"brier_score_probas_pos_iso\": 0.012490009460111893,\n",
      "  \"log_loss_probas_pos_iso\": 0.05743645585721034,\n",
      "  \"brier_score_probas_pos_sc\": 0.017070839127696975,\n",
      "  \"log_loss_probas_pos_sc\": 0.07747046639392467,\n",
      "  \"ece_scores\": 0.01770403638619935,\n",
      "  \"ece_probas_pos\": 0.011711201640965964,\n",
      "  \"ece_probas_pos_iso\": 0.0021733243809249126,\n",
      "  \"ece_probas_pos_sc\": 0.03268925297681467,\n",
      "  \"metrics_mrr\": 0.3203637788540833,\n",
      "  \"metrics_hits@10\": 0.4987767883354536,\n",
      "  \"metrics_mr\": 182.66488893238085\n",
      "}\n"
     ]
    }
   ],
   "source": [
    "results = []\n",
    "                                        \n",
    "for pbr in np.linspace(0.05, 0.95, 19):\n",
    "\n",
    "    fake_idx = np.random.randint(len(fake_negatives), size=int(len(X['test'])/pbr-len(X['test'])))\n",
    "    fake_test = fake_negatives[fake_idx, :]\n",
    "\n",
    "    s = np.vectorize(idx_to_ent.get)(fake_test[:, 0])\n",
    "    p = np.vectorize(idx_to_rel.get)(fake_test[:, 1])\n",
    "    o = np.vectorize(idx_to_ent.get)(fake_test[:, 2])\n",
    "\n",
    "    fake_test = np.vstack((s, p, o)).T\n",
    "    X_test = np.vstack((X['test'], fake_test))\n",
    "    X_test_labels = np.concatenate((np.ones(len(X['test'])), np.zeros(len(fake_idx))))\n",
    "    \n",
    "    scores = model.predict(X_test)\n",
    "\n",
    "    model.calibrate(X['valid'], batches_count=10, epochs=1000, positive_base_rate=pbr)\n",
    "    print(\"pos\", model.calibration_parameters)\n",
    "    probas1 = model.predict_proba(X_test)\n",
    "\n",
    "    model.generate_corruptions = types.MethodType(generate_corruptions, model)\n",
    "    corruptions = model.generate_corruptions(X['valid'], batches_count=10, epochs=1000)\n",
    "    val_pos_scores = np.squeeze(model.predict(X['valid']))\n",
    "    iso_pos = pos_iso(IsotonicRegression(out_of_bounds='clip'), val_pos_scores, corruptions, positive_base_rate=pbr)\n",
    "    probas4 = iso_pos.predict(np.squeeze(scores).astype(float))\n",
    "\n",
    "    sc_pos = pos_iso(_SigmoidCalibration(), val_pos_scores, corruptions, positive_base_rate=pbr)\n",
    "    print(\"pos sc\", sc_pos.a_, sc_pos.b_)\n",
    "    probas5 = sc_pos.predict(np.squeeze(scores).astype(float))\n",
    "\n",
    "    results.append({\n",
    "        'pbr': pbr,\n",
    "        'brier_score_baseline': brier_score_loss(X_test_labels, np.array([pbr]*len(X_test_labels))),\n",
    "        'log_loss_baseline': log_loss(X_test_labels, np.array([pbr]*len(X_test_labels)), eps=1e-7),\n",
    "        'brier_score_scores': brier_score_loss(X_test_labels, expit(scores)),\n",
    "        'log_loss_scores': log_loss(X_test_labels, expit(scores), eps=1e-7),\n",
    "        'brier_score_probas_pos': brier_score_loss(X_test_labels, probas1),\n",
    "        'log_loss_probas_pos': log_loss(X_test_labels, probas1, eps=1e-7),\n",
    "        'brier_score_probas_pos_iso': brier_score_loss(X_test_labels, probas4),\n",
    "        'log_loss_probas_pos_iso': log_loss(X_test_labels, probas4, eps=1e-7),\n",
    "        'brier_score_probas_pos_sc': brier_score_loss(X_test_labels, probas5),\n",
    "        'log_loss_probas_pos_sc': log_loss(X_test_labels, probas5, eps=1e-7),\n",
    "        'ece_scores': calibration_loss(X_test_labels, expit(scores)),\n",
    "        'ece_probas_pos': calibration_loss(X_test_labels, probas1),\n",
    "        'ece_probas_pos_iso': calibration_loss(X_test_labels, probas4),\n",
    "        'ece_probas_pos_sc': calibration_loss(X_test_labels, probas5),\n",
    "        'metrics_mrr': mrr_score(ranks), \n",
    "        'metrics_hits@10': hits_at_n_score(ranks, n=10),\n",
    "        'metrics_mr': mr_score(ranks)\n",
    "    })\n",
    "        \n",
    "    print(json.dumps(results[-1], indent=2))"
   ]
  },
  {
   "cell_type": "code",
   "execution_count": 25,
   "metadata": {},
   "outputs": [],
   "source": [
    "import pandas as pd"
   ]
  },
  {
   "cell_type": "code",
   "execution_count": 26,
   "metadata": {},
   "outputs": [],
   "source": [
    "def highlight_min(s):\n",
    "    is_min = s == s.min()\n",
    "    return ['font-weight: bold' if v else '' for v in is_min]"
   ]
  },
  {
   "cell_type": "code",
   "execution_count": 27,
   "metadata": {},
   "outputs": [],
   "source": [
    "df = pd.DataFrame(results).set_index(['pbr'])\n",
    "df.index = [np.round(i, 2) for i in df.index]\n",
    "df.to_csv(\"main_results_fb15k_237.csv\", index=False)"
   ]
  },
  {
   "cell_type": "code",
   "execution_count": 28,
   "metadata": {},
   "outputs": [
    {
     "data": {
      "text/html": [
       "<style  type=\"text/css\" >\n",
       "    #T_0b234108_06ff_11ea_addc_3916036c4ef7row0_col2 {\n",
       "            font-weight:  bold;\n",
       "        }    #T_0b234108_06ff_11ea_addc_3916036c4ef7row1_col2 {\n",
       "            font-weight:  bold;\n",
       "        }    #T_0b234108_06ff_11ea_addc_3916036c4ef7row2_col2 {\n",
       "            font-weight:  bold;\n",
       "        }    #T_0b234108_06ff_11ea_addc_3916036c4ef7row3_col2 {\n",
       "            font-weight:  bold;\n",
       "        }    #T_0b234108_06ff_11ea_addc_3916036c4ef7row4_col2 {\n",
       "            font-weight:  bold;\n",
       "        }    #T_0b234108_06ff_11ea_addc_3916036c4ef7row5_col2 {\n",
       "            font-weight:  bold;\n",
       "        }    #T_0b234108_06ff_11ea_addc_3916036c4ef7row6_col2 {\n",
       "            font-weight:  bold;\n",
       "        }    #T_0b234108_06ff_11ea_addc_3916036c4ef7row7_col2 {\n",
       "            font-weight:  bold;\n",
       "        }    #T_0b234108_06ff_11ea_addc_3916036c4ef7row8_col2 {\n",
       "            font-weight:  bold;\n",
       "        }    #T_0b234108_06ff_11ea_addc_3916036c4ef7row9_col2 {\n",
       "            font-weight:  bold;\n",
       "        }    #T_0b234108_06ff_11ea_addc_3916036c4ef7row10_col2 {\n",
       "            font-weight:  bold;\n",
       "        }    #T_0b234108_06ff_11ea_addc_3916036c4ef7row11_col2 {\n",
       "            font-weight:  bold;\n",
       "        }    #T_0b234108_06ff_11ea_addc_3916036c4ef7row12_col2 {\n",
       "            font-weight:  bold;\n",
       "        }    #T_0b234108_06ff_11ea_addc_3916036c4ef7row13_col2 {\n",
       "            font-weight:  bold;\n",
       "        }    #T_0b234108_06ff_11ea_addc_3916036c4ef7row14_col2 {\n",
       "            font-weight:  bold;\n",
       "        }    #T_0b234108_06ff_11ea_addc_3916036c4ef7row15_col2 {\n",
       "            font-weight:  bold;\n",
       "        }    #T_0b234108_06ff_11ea_addc_3916036c4ef7row16_col2 {\n",
       "            font-weight:  bold;\n",
       "        }    #T_0b234108_06ff_11ea_addc_3916036c4ef7row17_col2 {\n",
       "            font-weight:  bold;\n",
       "        }    #T_0b234108_06ff_11ea_addc_3916036c4ef7row18_col2 {\n",
       "            font-weight:  bold;\n",
       "        }</style><table id=\"T_0b234108_06ff_11ea_addc_3916036c4ef7\" ><thead>    <tr>        <th class=\"blank level0\" ></th>        <th class=\"col_heading level0 col0\" >baseline</th>        <th class=\"col_heading level0 col1\" >probas_pos</th>        <th class=\"col_heading level0 col2\" >probas_pos_iso</th>        <th class=\"col_heading level0 col3\" >probas_pos_sc</th>        <th class=\"col_heading level0 col4\" >scores</th>    </tr></thead><tbody>\n",
       "                <tr>\n",
       "                        <th id=\"T_0b234108_06ff_11ea_addc_3916036c4ef7level0_row0\" class=\"row_heading level0 row0\" >0.05</th>\n",
       "                        <td id=\"T_0b234108_06ff_11ea_addc_3916036c4ef7row0_col0\" class=\"data row0 col0\" >0.0475</td>\n",
       "                        <td id=\"T_0b234108_06ff_11ea_addc_3916036c4ef7row0_col1\" class=\"data row0 col1\" >0.0302206</td>\n",
       "                        <td id=\"T_0b234108_06ff_11ea_addc_3916036c4ef7row0_col2\" class=\"data row0 col2\" >0.0290446</td>\n",
       "                        <td id=\"T_0b234108_06ff_11ea_addc_3916036c4ef7row0_col3\" class=\"data row0 col3\" >0.0299606</td>\n",
       "                        <td id=\"T_0b234108_06ff_11ea_addc_3916036c4ef7row0_col4\" class=\"data row0 col4\" >0.269809</td>\n",
       "            </tr>\n",
       "            <tr>\n",
       "                        <th id=\"T_0b234108_06ff_11ea_addc_3916036c4ef7level0_row1\" class=\"row_heading level0 row1\" >0.1</th>\n",
       "                        <td id=\"T_0b234108_06ff_11ea_addc_3916036c4ef7row1_col0\" class=\"data row1 col0\" >0.09</td>\n",
       "                        <td id=\"T_0b234108_06ff_11ea_addc_3916036c4ef7row1_col1\" class=\"data row1 col1\" >0.0432621</td>\n",
       "                        <td id=\"T_0b234108_06ff_11ea_addc_3916036c4ef7row1_col2\" class=\"data row1 col2\" >0.0419017</td>\n",
       "                        <td id=\"T_0b234108_06ff_11ea_addc_3916036c4ef7row1_col3\" class=\"data row1 col3\" >0.0431289</td>\n",
       "                        <td id=\"T_0b234108_06ff_11ea_addc_3916036c4ef7row1_col4\" class=\"data row1 col4\" >0.253797</td>\n",
       "            </tr>\n",
       "            <tr>\n",
       "                        <th id=\"T_0b234108_06ff_11ea_addc_3916036c4ef7level0_row2\" class=\"row_heading level0 row2\" >0.15</th>\n",
       "                        <td id=\"T_0b234108_06ff_11ea_addc_3916036c4ef7row2_col0\" class=\"data row2 col0\" >0.1275</td>\n",
       "                        <td id=\"T_0b234108_06ff_11ea_addc_3916036c4ef7row2_col1\" class=\"data row2 col1\" >0.051833</td>\n",
       "                        <td id=\"T_0b234108_06ff_11ea_addc_3916036c4ef7row2_col2\" class=\"data row2 col2\" >0.0502835</td>\n",
       "                        <td id=\"T_0b234108_06ff_11ea_addc_3916036c4ef7row2_col3\" class=\"data row2 col3\" >0.0513128</td>\n",
       "                        <td id=\"T_0b234108_06ff_11ea_addc_3916036c4ef7row2_col4\" class=\"data row2 col4\" >0.242178</td>\n",
       "            </tr>\n",
       "            <tr>\n",
       "                        <th id=\"T_0b234108_06ff_11ea_addc_3916036c4ef7level0_row3\" class=\"row_heading level0 row3\" >0.2</th>\n",
       "                        <td id=\"T_0b234108_06ff_11ea_addc_3916036c4ef7row3_col0\" class=\"data row3 col0\" >0.16</td>\n",
       "                        <td id=\"T_0b234108_06ff_11ea_addc_3916036c4ef7row3_col1\" class=\"data row3 col1\" >0.0556187</td>\n",
       "                        <td id=\"T_0b234108_06ff_11ea_addc_3916036c4ef7row3_col2\" class=\"data row3 col2\" >0.0542437</td>\n",
       "                        <td id=\"T_0b234108_06ff_11ea_addc_3916036c4ef7row3_col3\" class=\"data row3 col3\" >0.0590488</td>\n",
       "                        <td id=\"T_0b234108_06ff_11ea_addc_3916036c4ef7row3_col4\" class=\"data row3 col4\" >0.22707</td>\n",
       "            </tr>\n",
       "            <tr>\n",
       "                        <th id=\"T_0b234108_06ff_11ea_addc_3916036c4ef7level0_row4\" class=\"row_heading level0 row4\" >0.25</th>\n",
       "                        <td id=\"T_0b234108_06ff_11ea_addc_3916036c4ef7row4_col0\" class=\"data row4 col0\" >0.1875</td>\n",
       "                        <td id=\"T_0b234108_06ff_11ea_addc_3916036c4ef7row4_col1\" class=\"data row4 col1\" >0.0583428</td>\n",
       "                        <td id=\"T_0b234108_06ff_11ea_addc_3916036c4ef7row4_col2\" class=\"data row4 col2\" >0.0568565</td>\n",
       "                        <td id=\"T_0b234108_06ff_11ea_addc_3916036c4ef7row4_col3\" class=\"data row4 col3\" >0.0587674</td>\n",
       "                        <td id=\"T_0b234108_06ff_11ea_addc_3916036c4ef7row4_col4\" class=\"data row4 col4\" >0.212099</td>\n",
       "            </tr>\n",
       "            <tr>\n",
       "                        <th id=\"T_0b234108_06ff_11ea_addc_3916036c4ef7level0_row5\" class=\"row_heading level0 row5\" >0.3</th>\n",
       "                        <td id=\"T_0b234108_06ff_11ea_addc_3916036c4ef7row5_col0\" class=\"data row5 col0\" >0.210001</td>\n",
       "                        <td id=\"T_0b234108_06ff_11ea_addc_3916036c4ef7row5_col1\" class=\"data row5 col1\" >0.0590899</td>\n",
       "                        <td id=\"T_0b234108_06ff_11ea_addc_3916036c4ef7row5_col2\" class=\"data row5 col2\" >0.0576036</td>\n",
       "                        <td id=\"T_0b234108_06ff_11ea_addc_3916036c4ef7row5_col3\" class=\"data row5 col3\" >0.059019</td>\n",
       "                        <td id=\"T_0b234108_06ff_11ea_addc_3916036c4ef7row5_col4\" class=\"data row5 col4\" >0.198218</td>\n",
       "            </tr>\n",
       "            <tr>\n",
       "                        <th id=\"T_0b234108_06ff_11ea_addc_3916036c4ef7level0_row6\" class=\"row_heading level0 row6\" >0.35</th>\n",
       "                        <td id=\"T_0b234108_06ff_11ea_addc_3916036c4ef7row6_col0\" class=\"data row6 col0\" >0.227501</td>\n",
       "                        <td id=\"T_0b234108_06ff_11ea_addc_3916036c4ef7row6_col1\" class=\"data row6 col1\" >0.0626409</td>\n",
       "                        <td id=\"T_0b234108_06ff_11ea_addc_3916036c4ef7row6_col2\" class=\"data row6 col2\" >0.0609489</td>\n",
       "                        <td id=\"T_0b234108_06ff_11ea_addc_3916036c4ef7row6_col3\" class=\"data row6 col3\" >0.0627004</td>\n",
       "                        <td id=\"T_0b234108_06ff_11ea_addc_3916036c4ef7row6_col4\" class=\"data row6 col4\" >0.187794</td>\n",
       "            </tr>\n",
       "            <tr>\n",
       "                        <th id=\"T_0b234108_06ff_11ea_addc_3916036c4ef7level0_row7\" class=\"row_heading level0 row7\" >0.4</th>\n",
       "                        <td id=\"T_0b234108_06ff_11ea_addc_3916036c4ef7row7_col0\" class=\"data row7 col0\" >0.24</td>\n",
       "                        <td id=\"T_0b234108_06ff_11ea_addc_3916036c4ef7row7_col1\" class=\"data row7 col1\" >0.0607882</td>\n",
       "                        <td id=\"T_0b234108_06ff_11ea_addc_3916036c4ef7row7_col2\" class=\"data row7 col2\" >0.0589584</td>\n",
       "                        <td id=\"T_0b234108_06ff_11ea_addc_3916036c4ef7row7_col3\" class=\"data row7 col3\" >0.0618297</td>\n",
       "                        <td id=\"T_0b234108_06ff_11ea_addc_3916036c4ef7row7_col4\" class=\"data row7 col4\" >0.170825</td>\n",
       "            </tr>\n",
       "            <tr>\n",
       "                        <th id=\"T_0b234108_06ff_11ea_addc_3916036c4ef7level0_row8\" class=\"row_heading level0 row8\" >0.45</th>\n",
       "                        <td id=\"T_0b234108_06ff_11ea_addc_3916036c4ef7row8_col0\" class=\"data row8 col0\" >0.247501</td>\n",
       "                        <td id=\"T_0b234108_06ff_11ea_addc_3916036c4ef7row8_col1\" class=\"data row8 col1\" >0.0589198</td>\n",
       "                        <td id=\"T_0b234108_06ff_11ea_addc_3916036c4ef7row8_col2\" class=\"data row8 col2\" >0.0567835</td>\n",
       "                        <td id=\"T_0b234108_06ff_11ea_addc_3916036c4ef7row8_col3\" class=\"data row8 col3\" >0.0607675</td>\n",
       "                        <td id=\"T_0b234108_06ff_11ea_addc_3916036c4ef7row8_col4\" class=\"data row8 col4\" >0.156459</td>\n",
       "            </tr>\n",
       "            <tr>\n",
       "                        <th id=\"T_0b234108_06ff_11ea_addc_3916036c4ef7level0_row9\" class=\"row_heading level0 row9\" >0.5</th>\n",
       "                        <td id=\"T_0b234108_06ff_11ea_addc_3916036c4ef7row9_col0\" class=\"data row9 col0\" >0.25</td>\n",
       "                        <td id=\"T_0b234108_06ff_11ea_addc_3916036c4ef7row9_col1\" class=\"data row9 col1\" >0.0573025</td>\n",
       "                        <td id=\"T_0b234108_06ff_11ea_addc_3916036c4ef7row9_col2\" class=\"data row9 col2\" >0.0549673</td>\n",
       "                        <td id=\"T_0b234108_06ff_11ea_addc_3916036c4ef7row9_col3\" class=\"data row9 col3\" >0.0583368</td>\n",
       "                        <td id=\"T_0b234108_06ff_11ea_addc_3916036c4ef7row9_col4\" class=\"data row9 col4\" >0.142685</td>\n",
       "            </tr>\n",
       "            <tr>\n",
       "                        <th id=\"T_0b234108_06ff_11ea_addc_3916036c4ef7level0_row10\" class=\"row_heading level0 row10\" >0.55</th>\n",
       "                        <td id=\"T_0b234108_06ff_11ea_addc_3916036c4ef7row10_col0\" class=\"data row10 col0\" >0.2475</td>\n",
       "                        <td id=\"T_0b234108_06ff_11ea_addc_3916036c4ef7row10_col1\" class=\"data row10 col1\" >0.0545686</td>\n",
       "                        <td id=\"T_0b234108_06ff_11ea_addc_3916036c4ef7row10_col2\" class=\"data row10 col2\" >0.0521087</td>\n",
       "                        <td id=\"T_0b234108_06ff_11ea_addc_3916036c4ef7row10_col3\" class=\"data row10 col3\" >0.0567579</td>\n",
       "                        <td id=\"T_0b234108_06ff_11ea_addc_3916036c4ef7row10_col4\" class=\"data row10 col4\" >0.12891</td>\n",
       "            </tr>\n",
       "            <tr>\n",
       "                        <th id=\"T_0b234108_06ff_11ea_addc_3916036c4ef7level0_row11\" class=\"row_heading level0 row11\" >0.6</th>\n",
       "                        <td id=\"T_0b234108_06ff_11ea_addc_3916036c4ef7row11_col0\" class=\"data row11 col0\" >0.239999</td>\n",
       "                        <td id=\"T_0b234108_06ff_11ea_addc_3916036c4ef7row11_col1\" class=\"data row11 col1\" >0.051974</td>\n",
       "                        <td id=\"T_0b234108_06ff_11ea_addc_3916036c4ef7row11_col2\" class=\"data row11 col2\" >0.0493618</td>\n",
       "                        <td id=\"T_0b234108_06ff_11ea_addc_3916036c4ef7row11_col3\" class=\"data row11 col3\" >0.0550674</td>\n",
       "                        <td id=\"T_0b234108_06ff_11ea_addc_3916036c4ef7row11_col4\" class=\"data row11 col4\" >0.114437</td>\n",
       "            </tr>\n",
       "            <tr>\n",
       "                        <th id=\"T_0b234108_06ff_11ea_addc_3916036c4ef7level0_row12\" class=\"row_heading level0 row12\" >0.65</th>\n",
       "                        <td id=\"T_0b234108_06ff_11ea_addc_3916036c4ef7row12_col0\" class=\"data row12 col0\" >0.2275</td>\n",
       "                        <td id=\"T_0b234108_06ff_11ea_addc_3916036c4ef7row12_col1\" class=\"data row12 col1\" >0.0489886</td>\n",
       "                        <td id=\"T_0b234108_06ff_11ea_addc_3916036c4ef7row12_col2\" class=\"data row12 col2\" >0.0464294</td>\n",
       "                        <td id=\"T_0b234108_06ff_11ea_addc_3916036c4ef7row12_col3\" class=\"data row12 col3\" >0.0526755</td>\n",
       "                        <td id=\"T_0b234108_06ff_11ea_addc_3916036c4ef7row12_col4\" class=\"data row12 col4\" >0.102218</td>\n",
       "            </tr>\n",
       "            <tr>\n",
       "                        <th id=\"T_0b234108_06ff_11ea_addc_3916036c4ef7level0_row13\" class=\"row_heading level0 row13\" >0.7</th>\n",
       "                        <td id=\"T_0b234108_06ff_11ea_addc_3916036c4ef7row13_col0\" class=\"data row13 col0\" >0.209999</td>\n",
       "                        <td id=\"T_0b234108_06ff_11ea_addc_3916036c4ef7row13_col1\" class=\"data row13 col1\" >0.0428035</td>\n",
       "                        <td id=\"T_0b234108_06ff_11ea_addc_3916036c4ef7row13_col2\" class=\"data row13 col2\" >0.0400515</td>\n",
       "                        <td id=\"T_0b234108_06ff_11ea_addc_3916036c4ef7row13_col3\" class=\"data row13 col3\" >0.0475281</td>\n",
       "                        <td id=\"T_0b234108_06ff_11ea_addc_3916036c4ef7row13_col4\" class=\"data row13 col4\" >0.0857093</td>\n",
       "            </tr>\n",
       "            <tr>\n",
       "                        <th id=\"T_0b234108_06ff_11ea_addc_3916036c4ef7level0_row14\" class=\"row_heading level0 row14\" >0.75</th>\n",
       "                        <td id=\"T_0b234108_06ff_11ea_addc_3916036c4ef7row14_col0\" class=\"data row14 col0\" >0.187491</td>\n",
       "                        <td id=\"T_0b234108_06ff_11ea_addc_3916036c4ef7row14_col1\" class=\"data row14 col1\" >0.0389373</td>\n",
       "                        <td id=\"T_0b234108_06ff_11ea_addc_3916036c4ef7row14_col2\" class=\"data row14 col2\" >0.0358828</td>\n",
       "                        <td id=\"T_0b234108_06ff_11ea_addc_3916036c4ef7row14_col3\" class=\"data row14 col3\" >0.0435282</td>\n",
       "                        <td id=\"T_0b234108_06ff_11ea_addc_3916036c4ef7row14_col4\" class=\"data row14 col4\" >0.0712333</td>\n",
       "            </tr>\n",
       "            <tr>\n",
       "                        <th id=\"T_0b234108_06ff_11ea_addc_3916036c4ef7level0_row15\" class=\"row_heading level0 row15\" >0.8</th>\n",
       "                        <td id=\"T_0b234108_06ff_11ea_addc_3916036c4ef7row15_col0\" class=\"data row15 col0\" >0.159991</td>\n",
       "                        <td id=\"T_0b234108_06ff_11ea_addc_3916036c4ef7row15_col1\" class=\"data row15 col1\" >0.0344095</td>\n",
       "                        <td id=\"T_0b234108_06ff_11ea_addc_3916036c4ef7row15_col2\" class=\"data row15 col2\" >0.0317396</td>\n",
       "                        <td id=\"T_0b234108_06ff_11ea_addc_3916036c4ef7row15_col3\" class=\"data row15 col3\" >0.0420456</td>\n",
       "                        <td id=\"T_0b234108_06ff_11ea_addc_3916036c4ef7row15_col4\" class=\"data row15 col4\" >0.0586835</td>\n",
       "            </tr>\n",
       "            <tr>\n",
       "                        <th id=\"T_0b234108_06ff_11ea_addc_3916036c4ef7level0_row16\" class=\"row_heading level0 row16\" >0.85</th>\n",
       "                        <td id=\"T_0b234108_06ff_11ea_addc_3916036c4ef7row16_col0\" class=\"data row16 col0\" >0.127483</td>\n",
       "                        <td id=\"T_0b234108_06ff_11ea_addc_3916036c4ef7row16_col1\" class=\"data row16 col1\" >0.0283573</td>\n",
       "                        <td id=\"T_0b234108_06ff_11ea_addc_3916036c4ef7row16_col2\" class=\"data row16 col2\" >0.0256507</td>\n",
       "                        <td id=\"T_0b234108_06ff_11ea_addc_3916036c4ef7row16_col3\" class=\"data row16 col3\" >0.0340351</td>\n",
       "                        <td id=\"T_0b234108_06ff_11ea_addc_3916036c4ef7row16_col4\" class=\"data row16 col4\" >0.04377</td>\n",
       "            </tr>\n",
       "            <tr>\n",
       "                        <th id=\"T_0b234108_06ff_11ea_addc_3916036c4ef7level0_row17\" class=\"row_heading level0 row17\" >0.9</th>\n",
       "                        <td id=\"T_0b234108_06ff_11ea_addc_3916036c4ef7row17_col0\" class=\"data row17 col0\" >0.0899718</td>\n",
       "                        <td id=\"T_0b234108_06ff_11ea_addc_3916036c4ef7row17_col1\" class=\"data row17 col1\" >0.0211403</td>\n",
       "                        <td id=\"T_0b234108_06ff_11ea_addc_3916036c4ef7row17_col2\" class=\"data row17 col2\" >0.0191021</td>\n",
       "                        <td id=\"T_0b234108_06ff_11ea_addc_3916036c4ef7row17_col3\" class=\"data row17 col3\" >0.0257703</td>\n",
       "                        <td id=\"T_0b234108_06ff_11ea_addc_3916036c4ef7row17_col4\" class=\"data row17 col4\" >0.0298889</td>\n",
       "            </tr>\n",
       "            <tr>\n",
       "                        <th id=\"T_0b234108_06ff_11ea_addc_3916036c4ef7level0_row18\" class=\"row_heading level0 row18\" >0.95</th>\n",
       "                        <td id=\"T_0b234108_06ff_11ea_addc_3916036c4ef7row18_col0\" class=\"data row18 col0\" >0.0474728</td>\n",
       "                        <td id=\"T_0b234108_06ff_11ea_addc_3916036c4ef7row18_col1\" class=\"data row18 col1\" >0.0140245</td>\n",
       "                        <td id=\"T_0b234108_06ff_11ea_addc_3916036c4ef7row18_col2\" class=\"data row18 col2\" >0.01249</td>\n",
       "                        <td id=\"T_0b234108_06ff_11ea_addc_3916036c4ef7row18_col3\" class=\"data row18 col3\" >0.0170708</td>\n",
       "                        <td id=\"T_0b234108_06ff_11ea_addc_3916036c4ef7row18_col4\" class=\"data row18 col4\" >0.0158171</td>\n",
       "            </tr>\n",
       "    </tbody></table>"
      ],
      "text/plain": [
       "<pandas.io.formats.style.Styler at 0x7f5878189240>"
      ]
     },
     "execution_count": 28,
     "metadata": {},
     "output_type": "execute_result"
    }
   ],
   "source": [
    "bs = df[(c for c in df.columns if c.startswith('brier'))]\n",
    "bs.columns = [c[len(\"brier_score_\"):] for c in bs.columns]\n",
    "bs.style.apply(highlight_min, axis=1)"
   ]
  },
  {
   "cell_type": "code",
   "execution_count": 34,
   "metadata": {},
   "outputs": [
    {
     "data": {
      "text/plain": [
       "Text(0.5, 1.0, 'FB15K-237: Synthetic calibration')"
      ]
     },
     "execution_count": 34,
     "metadata": {},
     "output_type": "execute_result"
    },
    {
     "data": {
      "image/png": "[encoded data removed]",
      "text/plain": [
       "<Figure size 1152x720 with 1 Axes>"
      ]
     },
     "metadata": {
      "needs_background": "light"
     },
     "output_type": "display_data"
    }
   ],
   "source": [
    "plt.figure(figsize=(16, 10))\n",
    "plt.rcParams.update({'font.size': 30, 'axes.titlesize': 36})\n",
    "plt.plot(bs.index, bs.baseline, \"-\", lw=3, label=\"Baseline\",\n",
    "         fillstyle='full', color='purple', markersize=18)\n",
    "plt.plot(bs.index, bs.probas_pos, \"^:\",lw=4, label=\"Platt scaling\",  \n",
    "         fillstyle='full', color='orange', markersize=20)\n",
    "plt.plot(bs.index, bs.probas_pos_iso, \"^--\",  lw=3, label=\"Isotonic\", \n",
    "         fillstyle='full', color='tab:blue', markersize=18)\n",
    "plt.plot(bs.index, bs.scores, \"x-\",lw=3,  \n",
    "         fillstyle='full', color='r', markersize=18,\n",
    "         label=\"Uncalibrated scores\")\n",
    "\n",
    "plt.xlabel(\"Positive base rate\")\n",
    "plt.ylabel(\"Brier score\")\n",
    "plt.legend()\n",
    "plt.xticks(np.linspace(0.1, 0.9, 9))\n",
    "plt.yticks(np.linspace(0, 0.3, 5))\n",
    "plt.title(\"FB15K-237: Synthetic calibration\")"
   ]
  },
  {
   "cell_type": "code",
   "execution_count": 30,
   "metadata": {},
   "outputs": [
    {
     "data": {
      "text/html": [
       "<style  type=\"text/css\" >\n",
       "    #T_0b87cf10_06ff_11ea_addc_3916036c4ef7row0_col2 {\n",
       "            font-weight:  bold;\n",
       "        }    #T_0b87cf10_06ff_11ea_addc_3916036c4ef7row1_col2 {\n",
       "            font-weight:  bold;\n",
       "        }    #T_0b87cf10_06ff_11ea_addc_3916036c4ef7row2_col2 {\n",
       "            font-weight:  bold;\n",
       "        }    #T_0b87cf10_06ff_11ea_addc_3916036c4ef7row3_col2 {\n",
       "            font-weight:  bold;\n",
       "        }    #T_0b87cf10_06ff_11ea_addc_3916036c4ef7row4_col2 {\n",
       "            font-weight:  bold;\n",
       "        }    #T_0b87cf10_06ff_11ea_addc_3916036c4ef7row5_col2 {\n",
       "            font-weight:  bold;\n",
       "        }    #T_0b87cf10_06ff_11ea_addc_3916036c4ef7row6_col2 {\n",
       "            font-weight:  bold;\n",
       "        }    #T_0b87cf10_06ff_11ea_addc_3916036c4ef7row7_col2 {\n",
       "            font-weight:  bold;\n",
       "        }    #T_0b87cf10_06ff_11ea_addc_3916036c4ef7row8_col2 {\n",
       "            font-weight:  bold;\n",
       "        }    #T_0b87cf10_06ff_11ea_addc_3916036c4ef7row9_col2 {\n",
       "            font-weight:  bold;\n",
       "        }    #T_0b87cf10_06ff_11ea_addc_3916036c4ef7row10_col2 {\n",
       "            font-weight:  bold;\n",
       "        }    #T_0b87cf10_06ff_11ea_addc_3916036c4ef7row11_col2 {\n",
       "            font-weight:  bold;\n",
       "        }    #T_0b87cf10_06ff_11ea_addc_3916036c4ef7row12_col2 {\n",
       "            font-weight:  bold;\n",
       "        }    #T_0b87cf10_06ff_11ea_addc_3916036c4ef7row13_col2 {\n",
       "            font-weight:  bold;\n",
       "        }    #T_0b87cf10_06ff_11ea_addc_3916036c4ef7row14_col2 {\n",
       "            font-weight:  bold;\n",
       "        }    #T_0b87cf10_06ff_11ea_addc_3916036c4ef7row15_col2 {\n",
       "            font-weight:  bold;\n",
       "        }    #T_0b87cf10_06ff_11ea_addc_3916036c4ef7row16_col2 {\n",
       "            font-weight:  bold;\n",
       "        }    #T_0b87cf10_06ff_11ea_addc_3916036c4ef7row17_col2 {\n",
       "            font-weight:  bold;\n",
       "        }    #T_0b87cf10_06ff_11ea_addc_3916036c4ef7row18_col2 {\n",
       "            font-weight:  bold;\n",
       "        }</style><table id=\"T_0b87cf10_06ff_11ea_addc_3916036c4ef7\" ><thead>    <tr>        <th class=\"blank level0\" ></th>        <th class=\"col_heading level0 col0\" >baseline</th>        <th class=\"col_heading level0 col1\" >probas_pos</th>        <th class=\"col_heading level0 col2\" >probas_pos_iso</th>        <th class=\"col_heading level0 col3\" >probas_pos_sc</th>        <th class=\"col_heading level0 col4\" >scores</th>    </tr></thead><tbody>\n",
       "                <tr>\n",
       "                        <th id=\"T_0b87cf10_06ff_11ea_addc_3916036c4ef7level0_row0\" class=\"row_heading level0 row0\" >0.05</th>\n",
       "                        <td id=\"T_0b87cf10_06ff_11ea_addc_3916036c4ef7row0_col0\" class=\"data row0 col0\" >0.198515</td>\n",
       "                        <td id=\"T_0b87cf10_06ff_11ea_addc_3916036c4ef7row0_col1\" class=\"data row0 col1\" >0.0957363</td>\n",
       "                        <td id=\"T_0b87cf10_06ff_11ea_addc_3916036c4ef7row0_col2\" class=\"data row0 col2\" >0.0899862</td>\n",
       "                        <td id=\"T_0b87cf10_06ff_11ea_addc_3916036c4ef7row0_col3\" class=\"data row0 col3\" >0.0941513</td>\n",
       "                        <td id=\"T_0b87cf10_06ff_11ea_addc_3916036c4ef7row0_col4\" class=\"data row0 col4\" >1.42545</td>\n",
       "            </tr>\n",
       "            <tr>\n",
       "                        <th id=\"T_0b87cf10_06ff_11ea_addc_3916036c4ef7level0_row1\" class=\"row_heading level0 row1\" >0.1</th>\n",
       "                        <td id=\"T_0b87cf10_06ff_11ea_addc_3916036c4ef7row1_col0\" class=\"data row1 col0\" >0.325083</td>\n",
       "                        <td id=\"T_0b87cf10_06ff_11ea_addc_3916036c4ef7row1_col1\" class=\"data row1 col1\" >0.136313</td>\n",
       "                        <td id=\"T_0b87cf10_06ff_11ea_addc_3916036c4ef7row1_col2\" class=\"data row1 col2\" >0.128301</td>\n",
       "                        <td id=\"T_0b87cf10_06ff_11ea_addc_3916036c4ef7row1_col3\" class=\"data row1 col3\" >0.135275</td>\n",
       "                        <td id=\"T_0b87cf10_06ff_11ea_addc_3916036c4ef7row1_col4\" class=\"data row1 col4\" >1.3346</td>\n",
       "            </tr>\n",
       "            <tr>\n",
       "                        <th id=\"T_0b87cf10_06ff_11ea_addc_3916036c4ef7level0_row2\" class=\"row_heading level0 row2\" >0.15</th>\n",
       "                        <td id=\"T_0b87cf10_06ff_11ea_addc_3916036c4ef7row2_col0\" class=\"data row2 col0\" >0.42271</td>\n",
       "                        <td id=\"T_0b87cf10_06ff_11ea_addc_3916036c4ef7row2_col1\" class=\"data row2 col1\" >0.166397</td>\n",
       "                        <td id=\"T_0b87cf10_06ff_11ea_addc_3916036c4ef7row2_col2\" class=\"data row2 col2\" >0.155698</td>\n",
       "                        <td id=\"T_0b87cf10_06ff_11ea_addc_3916036c4ef7row2_col3\" class=\"data row2 col3\" >0.168005</td>\n",
       "                        <td id=\"T_0b87cf10_06ff_11ea_addc_3916036c4ef7row2_col4\" class=\"data row2 col4\" >1.28418</td>\n",
       "            </tr>\n",
       "            <tr>\n",
       "                        <th id=\"T_0b87cf10_06ff_11ea_addc_3916036c4ef7level0_row3\" class=\"row_heading level0 row3\" >0.2</th>\n",
       "                        <td id=\"T_0b87cf10_06ff_11ea_addc_3916036c4ef7row3_col0\" class=\"data row3 col0\" >0.500402</td>\n",
       "                        <td id=\"T_0b87cf10_06ff_11ea_addc_3916036c4ef7row3_col1\" class=\"data row3 col1\" >0.182811</td>\n",
       "                        <td id=\"T_0b87cf10_06ff_11ea_addc_3916036c4ef7row3_col2\" class=\"data row3 col2\" >0.171404</td>\n",
       "                        <td id=\"T_0b87cf10_06ff_11ea_addc_3916036c4ef7row3_col3\" class=\"data row3 col3\" >0.188169</td>\n",
       "                        <td id=\"T_0b87cf10_06ff_11ea_addc_3916036c4ef7row3_col4\" class=\"data row3 col4\" >1.19481</td>\n",
       "            </tr>\n",
       "            <tr>\n",
       "                        <th id=\"T_0b87cf10_06ff_11ea_addc_3916036c4ef7level0_row4\" class=\"row_heading level0 row4\" >0.25</th>\n",
       "                        <td id=\"T_0b87cf10_06ff_11ea_addc_3916036c4ef7row4_col0\" class=\"data row4 col0\" >0.562335</td>\n",
       "                        <td id=\"T_0b87cf10_06ff_11ea_addc_3916036c4ef7row4_col1\" class=\"data row4 col1\" >0.196245</td>\n",
       "                        <td id=\"T_0b87cf10_06ff_11ea_addc_3916036c4ef7row4_col2\" class=\"data row4 col2\" >0.183202</td>\n",
       "                        <td id=\"T_0b87cf10_06ff_11ea_addc_3916036c4ef7row4_col3\" class=\"data row4 col3\" >0.19762</td>\n",
       "                        <td id=\"T_0b87cf10_06ff_11ea_addc_3916036c4ef7row4_col4\" class=\"data row4 col4\" >1.11966</td>\n",
       "            </tr>\n",
       "            <tr>\n",
       "                        <th id=\"T_0b87cf10_06ff_11ea_addc_3916036c4ef7level0_row5\" class=\"row_heading level0 row5\" >0.3</th>\n",
       "                        <td id=\"T_0b87cf10_06ff_11ea_addc_3916036c4ef7row5_col0\" class=\"data row5 col0\" >0.610867</td>\n",
       "                        <td id=\"T_0b87cf10_06ff_11ea_addc_3916036c4ef7row5_col1\" class=\"data row5 col1\" >0.202595</td>\n",
       "                        <td id=\"T_0b87cf10_06ff_11ea_addc_3916036c4ef7row5_col2\" class=\"data row5 col2\" >0.189471</td>\n",
       "                        <td id=\"T_0b87cf10_06ff_11ea_addc_3916036c4ef7row5_col3\" class=\"data row5 col3\" >0.206319</td>\n",
       "                        <td id=\"T_0b87cf10_06ff_11ea_addc_3916036c4ef7row5_col4\" class=\"data row5 col4\" >1.03837</td>\n",
       "            </tr>\n",
       "            <tr>\n",
       "                        <th id=\"T_0b87cf10_06ff_11ea_addc_3916036c4ef7level0_row6\" class=\"row_heading level0 row6\" >0.35</th>\n",
       "                        <td id=\"T_0b87cf10_06ff_11ea_addc_3916036c4ef7row6_col0\" class=\"data row6 col0\" >0.647448</td>\n",
       "                        <td id=\"T_0b87cf10_06ff_11ea_addc_3916036c4ef7row6_col1\" class=\"data row6 col1\" >0.21617</td>\n",
       "                        <td id=\"T_0b87cf10_06ff_11ea_addc_3916036c4ef7row6_col2\" class=\"data row6 col2\" >0.202053</td>\n",
       "                        <td id=\"T_0b87cf10_06ff_11ea_addc_3916036c4ef7row6_col3\" class=\"data row6 col3\" >0.225965</td>\n",
       "                        <td id=\"T_0b87cf10_06ff_11ea_addc_3916036c4ef7row6_col4\" class=\"data row6 col4\" >1.00681</td>\n",
       "            </tr>\n",
       "            <tr>\n",
       "                        <th id=\"T_0b87cf10_06ff_11ea_addc_3916036c4ef7level0_row7\" class=\"row_heading level0 row7\" >0.4</th>\n",
       "                        <td id=\"T_0b87cf10_06ff_11ea_addc_3916036c4ef7row7_col0\" class=\"data row7 col0\" >0.673012</td>\n",
       "                        <td id=\"T_0b87cf10_06ff_11ea_addc_3916036c4ef7row7_col1\" class=\"data row7 col1\" >0.216415</td>\n",
       "                        <td id=\"T_0b87cf10_06ff_11ea_addc_3916036c4ef7row7_col2\" class=\"data row7 col2\" >0.200733</td>\n",
       "                        <td id=\"T_0b87cf10_06ff_11ea_addc_3916036c4ef7row7_col3\" class=\"data row7 col3\" >0.232265</td>\n",
       "                        <td id=\"T_0b87cf10_06ff_11ea_addc_3916036c4ef7row7_col4\" class=\"data row7 col4\" >0.911182</td>\n",
       "            </tr>\n",
       "            <tr>\n",
       "                        <th id=\"T_0b87cf10_06ff_11ea_addc_3916036c4ef7level0_row8\" class=\"row_heading level0 row8\" >0.45</th>\n",
       "                        <td id=\"T_0b87cf10_06ff_11ea_addc_3916036c4ef7row8_col0\" class=\"data row8 col0\" >0.68814</td>\n",
       "                        <td id=\"T_0b87cf10_06ff_11ea_addc_3916036c4ef7row8_col1\" class=\"data row8 col1\" >0.213207</td>\n",
       "                        <td id=\"T_0b87cf10_06ff_11ea_addc_3916036c4ef7row8_col2\" class=\"data row8 col2\" >0.197294</td>\n",
       "                        <td id=\"T_0b87cf10_06ff_11ea_addc_3916036c4ef7row8_col3\" class=\"data row8 col3\" >0.23341</td>\n",
       "                        <td id=\"T_0b87cf10_06ff_11ea_addc_3916036c4ef7row8_col4\" class=\"data row8 col4\" >0.826634</td>\n",
       "            </tr>\n",
       "            <tr>\n",
       "                        <th id=\"T_0b87cf10_06ff_11ea_addc_3916036c4ef7level0_row9\" class=\"row_heading level0 row9\" >0.5</th>\n",
       "                        <td id=\"T_0b87cf10_06ff_11ea_addc_3916036c4ef7row9_col0\" class=\"data row9 col0\" >0.693147</td>\n",
       "                        <td id=\"T_0b87cf10_06ff_11ea_addc_3916036c4ef7row9_col1\" class=\"data row9 col1\" >0.211164</td>\n",
       "                        <td id=\"T_0b87cf10_06ff_11ea_addc_3916036c4ef7row9_col2\" class=\"data row9 col2\" >0.194889</td>\n",
       "                        <td id=\"T_0b87cf10_06ff_11ea_addc_3916036c4ef7row9_col3\" class=\"data row9 col3\" >0.223504</td>\n",
       "                        <td id=\"T_0b87cf10_06ff_11ea_addc_3916036c4ef7row9_col4\" class=\"data row9 col4\" >0.755454</td>\n",
       "            </tr>\n",
       "            <tr>\n",
       "                        <th id=\"T_0b87cf10_06ff_11ea_addc_3916036c4ef7level0_row10\" class=\"row_heading level0 row10\" >0.55</th>\n",
       "                        <td id=\"T_0b87cf10_06ff_11ea_addc_3916036c4ef7row10_col0\" class=\"data row10 col0\" >0.688139</td>\n",
       "                        <td id=\"T_0b87cf10_06ff_11ea_addc_3916036c4ef7row10_col1\" class=\"data row10 col1\" >0.205292</td>\n",
       "                        <td id=\"T_0b87cf10_06ff_11ea_addc_3916036c4ef7row10_col2\" class=\"data row10 col2\" >0.188848</td>\n",
       "                        <td id=\"T_0b87cf10_06ff_11ea_addc_3916036c4ef7row10_col3\" class=\"data row10 col3\" >0.216465</td>\n",
       "                        <td id=\"T_0b87cf10_06ff_11ea_addc_3916036c4ef7row10_col4\" class=\"data row10 col4\" >0.679501</td>\n",
       "            </tr>\n",
       "            <tr>\n",
       "                        <th id=\"T_0b87cf10_06ff_11ea_addc_3916036c4ef7level0_row11\" class=\"row_heading level0 row11\" >0.6</th>\n",
       "                        <td id=\"T_0b87cf10_06ff_11ea_addc_3916036c4ef7row11_col0\" class=\"data row11 col0\" >0.673009</td>\n",
       "                        <td id=\"T_0b87cf10_06ff_11ea_addc_3916036c4ef7row11_col1\" class=\"data row11 col1\" >0.198594</td>\n",
       "                        <td id=\"T_0b87cf10_06ff_11ea_addc_3916036c4ef7row11_col2\" class=\"data row11 col2\" >0.182314</td>\n",
       "                        <td id=\"T_0b87cf10_06ff_11ea_addc_3916036c4ef7row11_col3\" class=\"data row11 col3\" >0.211439</td>\n",
       "                        <td id=\"T_0b87cf10_06ff_11ea_addc_3916036c4ef7row11_col4\" class=\"data row11 col4\" >0.606787</td>\n",
       "            </tr>\n",
       "            <tr>\n",
       "                        <th id=\"T_0b87cf10_06ff_11ea_addc_3916036c4ef7level0_row12\" class=\"row_heading level0 row12\" >0.65</th>\n",
       "                        <td id=\"T_0b87cf10_06ff_11ea_addc_3916036c4ef7row12_col0\" class=\"data row12 col0\" >0.647446</td>\n",
       "                        <td id=\"T_0b87cf10_06ff_11ea_addc_3916036c4ef7row12_col1\" class=\"data row12 col1\" >0.191198</td>\n",
       "                        <td id=\"T_0b87cf10_06ff_11ea_addc_3916036c4ef7row12_col2\" class=\"data row12 col2\" >0.174738</td>\n",
       "                        <td id=\"T_0b87cf10_06ff_11ea_addc_3916036c4ef7row12_col3\" class=\"data row12 col3\" >0.206072</td>\n",
       "                        <td id=\"T_0b87cf10_06ff_11ea_addc_3916036c4ef7row12_col4\" class=\"data row12 col4\" >0.542251</td>\n",
       "            </tr>\n",
       "            <tr>\n",
       "                        <th id=\"T_0b87cf10_06ff_11ea_addc_3916036c4ef7level0_row13\" class=\"row_heading level0 row13\" >0.7</th>\n",
       "                        <td id=\"T_0b87cf10_06ff_11ea_addc_3916036c4ef7row13_col0\" class=\"data row13 col0\" >0.610861</td>\n",
       "                        <td id=\"T_0b87cf10_06ff_11ea_addc_3916036c4ef7row13_col1\" class=\"data row13 col1\" >0.170557</td>\n",
       "                        <td id=\"T_0b87cf10_06ff_11ea_addc_3916036c4ef7row13_col2\" class=\"data row13 col2\" >0.155986</td>\n",
       "                        <td id=\"T_0b87cf10_06ff_11ea_addc_3916036c4ef7row13_col3\" class=\"data row13 col3\" >0.189695</td>\n",
       "                        <td id=\"T_0b87cf10_06ff_11ea_addc_3916036c4ef7row13_col4\" class=\"data row13 col4\" >0.443094</td>\n",
       "            </tr>\n",
       "            <tr>\n",
       "                        <th id=\"T_0b87cf10_06ff_11ea_addc_3916036c4ef7level0_row14\" class=\"row_heading level0 row14\" >0.75</th>\n",
       "                        <td id=\"T_0b87cf10_06ff_11ea_addc_3916036c4ef7row14_col0\" class=\"data row14 col0\" >0.562315</td>\n",
       "                        <td id=\"T_0b87cf10_06ff_11ea_addc_3916036c4ef7row14_col1\" class=\"data row14 col1\" >0.160264</td>\n",
       "                        <td id=\"T_0b87cf10_06ff_11ea_addc_3916036c4ef7row14_col2\" class=\"data row14 col2\" >0.144394</td>\n",
       "                        <td id=\"T_0b87cf10_06ff_11ea_addc_3916036c4ef7row14_col3\" class=\"data row14 col3\" >0.178895</td>\n",
       "                        <td id=\"T_0b87cf10_06ff_11ea_addc_3916036c4ef7row14_col4\" class=\"data row14 col4\" >0.376624</td>\n",
       "            </tr>\n",
       "            <tr>\n",
       "                        <th id=\"T_0b87cf10_06ff_11ea_addc_3916036c4ef7level0_row15\" class=\"row_heading level0 row15\" >0.8</th>\n",
       "                        <td id=\"T_0b87cf10_06ff_11ea_addc_3916036c4ef7row15_col0\" class=\"data row15 col0\" >0.500381</td>\n",
       "                        <td id=\"T_0b87cf10_06ff_11ea_addc_3916036c4ef7row15_col1\" class=\"data row15 col1\" >0.144981</td>\n",
       "                        <td id=\"T_0b87cf10_06ff_11ea_addc_3916036c4ef7row15_col2\" class=\"data row15 col2\" >0.130524</td>\n",
       "                        <td id=\"T_0b87cf10_06ff_11ea_addc_3916036c4ef7row15_col3\" class=\"data row15 col3\" >0.172192</td>\n",
       "                        <td id=\"T_0b87cf10_06ff_11ea_addc_3916036c4ef7row15_col4\" class=\"data row15 col4\" >0.310976</td>\n",
       "            </tr>\n",
       "            <tr>\n",
       "                        <th id=\"T_0b87cf10_06ff_11ea_addc_3916036c4ef7level0_row16\" class=\"row_heading level0 row16\" >0.85</th>\n",
       "                        <td id=\"T_0b87cf10_06ff_11ea_addc_3916036c4ef7row16_col0\" class=\"data row16 col0\" >0.422666</td>\n",
       "                        <td id=\"T_0b87cf10_06ff_11ea_addc_3916036c4ef7row16_col1\" class=\"data row16 col1\" >0.122438</td>\n",
       "                        <td id=\"T_0b87cf10_06ff_11ea_addc_3916036c4ef7row16_col2\" class=\"data row16 col2\" >0.109183</td>\n",
       "                        <td id=\"T_0b87cf10_06ff_11ea_addc_3916036c4ef7row16_col3\" class=\"data row16 col3\" >0.145742</td>\n",
       "                        <td id=\"T_0b87cf10_06ff_11ea_addc_3916036c4ef7row16_col4\" class=\"data row16 col4\" >0.232838</td>\n",
       "            </tr>\n",
       "            <tr>\n",
       "                        <th id=\"T_0b87cf10_06ff_11ea_addc_3916036c4ef7level0_row17\" class=\"row_heading level0 row17\" >0.9</th>\n",
       "                        <td id=\"T_0b87cf10_06ff_11ea_addc_3916036c4ef7row17_col0\" class=\"data row17 col0\" >0.325006</td>\n",
       "                        <td id=\"T_0b87cf10_06ff_11ea_addc_3916036c4ef7row17_col1\" class=\"data row17 col1\" >0.0940925</td>\n",
       "                        <td id=\"T_0b87cf10_06ff_11ea_addc_3916036c4ef7row17_col2\" class=\"data row17 col2\" >0.0833394</td>\n",
       "                        <td id=\"T_0b87cf10_06ff_11ea_addc_3916036c4ef7row17_col3\" class=\"data row17 col3\" >0.115362</td>\n",
       "                        <td id=\"T_0b87cf10_06ff_11ea_addc_3916036c4ef7row17_col4\" class=\"data row17 col4\" >0.154902</td>\n",
       "            </tr>\n",
       "            <tr>\n",
       "                        <th id=\"T_0b87cf10_06ff_11ea_addc_3916036c4ef7level0_row18\" class=\"row_heading level0 row18\" >0.95</th>\n",
       "                        <td id=\"T_0b87cf10_06ff_11ea_addc_3916036c4ef7row18_col0\" class=\"data row18 col0\" >0.198426</td>\n",
       "                        <td id=\"T_0b87cf10_06ff_11ea_addc_3916036c4ef7row18_col1\" class=\"data row18 col1\" >0.0657001</td>\n",
       "                        <td id=\"T_0b87cf10_06ff_11ea_addc_3916036c4ef7row18_col2\" class=\"data row18 col2\" >0.0574365</td>\n",
       "                        <td id=\"T_0b87cf10_06ff_11ea_addc_3916036c4ef7row18_col3\" class=\"data row18 col3\" >0.0774705</td>\n",
       "                        <td id=\"T_0b87cf10_06ff_11ea_addc_3916036c4ef7row18_col4\" class=\"data row18 col4\" >0.0884806</td>\n",
       "            </tr>\n",
       "    </tbody></table>"
      ],
      "text/plain": [
       "<pandas.io.formats.style.Styler at 0x7f57d82ac7f0>"
      ]
     },
     "execution_count": 30,
     "metadata": {},
     "output_type": "execute_result"
    }
   ],
   "source": [
    "ll = df[(c for c in df.columns if c.startswith('log_loss'))]\n",
    "ll.columns = [c[len(\"log_loss_\"):] for c in ll.columns]\n",
    "ll.style.apply(highlight_min, axis=1)"
   ]
  },
  {
   "cell_type": "code",
   "execution_count": 33,
   "metadata": {},
   "outputs": [
    {
     "data": {
      "text/plain": [
       "Text(0.5, 1.0, 'FB15K-237: Synthetic calibration')"
      ]
     },
     "execution_count": 33,
     "metadata": {},
     "output_type": "execute_result"
    },
    {
     "data": {
      "image/png": "[encoded data removed]",
      "text/plain": [
       "<Figure size 1152x720 with 1 Axes>"
      ]
     },
     "metadata": {
      "needs_background": "light"
     },
     "output_type": "display_data"
    }
   ],
   "source": [
    "plt.figure(figsize=(16, 10))\n",
    "plt.rcParams.update({'font.size': 30, 'axes.titlesize': 36})\n",
    "plt.plot(ll.index, ll.baseline, \"-\", lw=3, label=\"Baseline\",\n",
    "         fillstyle='full', color='purple', markersize=18)\n",
    "plt.plot(ll.index, ll.probas_pos, \"^:\",lw=4, label=\"Platt scaling\",  \n",
    "         fillstyle='full', color='orange', markersize=20)\n",
    "plt.plot(ll.index, ll.probas_pos_iso, \"^--\",  lw=3, label=\"Isotonic\", \n",
    "         fillstyle='full', color='tab:blue', markersize=18)\n",
    "plt.plot(ll.index, ll.scores, \"x-\",lw=3,  \n",
    "         fillstyle='full', color='r', markersize=18,\n",
    "         label=\"Uncalibrated scores\")\n",
    "\n",
    "plt.xlabel(\"Positive base rate\")\n",
    "plt.ylabel(\"Log loss\")\n",
    "plt.legend()\n",
    "plt.xticks(np.linspace(0.1, 0.9, 9))\n",
    "plt.title(\"FB15K-237: Synthetic calibration\")"
   ]
  },
  {
   "cell_type": "code",
   "execution_count": null,
   "metadata": {},
   "outputs": [],
   "source": []
  }
 ],
 "metadata": {
  "kernelspec": {
   "display_name": "Python 3",
   "language": "python",
   "name": "python3"
  },
  "language_info": {
   "codemirror_mode": {
    "name": "ipython",
    "version": 3
   },
   "file_extension": ".py",
   "mimetype": "text/x-python",
   "name": "python",
   "nbconvert_exporter": "python",
   "pygments_lexer": "ipython3",
   "version": "3.7.3"
  }
 },
 "nbformat": 4,
 "nbformat_minor": 2
}
