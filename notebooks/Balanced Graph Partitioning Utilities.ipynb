{
 "cells": [
  {
   "cell_type": "markdown",
   "metadata": {},
   "source": [
    "## Overview\n",
    "In this notebook, a draft of balanced graph partitioning strategies along with utils functions are stored.\n",
    "For testing FB15k-237 dataset was used.\n",
    "\n",
    "Specifically:\n",
    "- Utilities functions for measuring time and memory usage of functions implemented as decorators.\n",
    "- Class hierarchy for graph partitioning: AbstractGraphPartitioner and derived classes of RandomVerticesGraphPartitioner and RandomEdgesGraphPartitioner.\n",
    "- Utility class for assesing the quality of the partitionings called QualityReporter, which calculates the following metrics: edge cut, edge and vertex imbalances, time and memory used. "
   ]
  },
  {
   "cell_type": "markdown",
   "metadata": {},
   "source": [
    "#### Imports"
   ]
  },
  {
   "cell_type": "code",
   "execution_count": 5,
   "metadata": {},
   "outputs": [],
   "source": [
    "import numpy as np\n",
    "import matplotlib.pyplot as plt\n",
    "import ampligraph as amp\n",
    "from ampligraph import datasets\n",
    "import tracemalloc\n",
    "from time import time\n",
    "import pytest\n",
    "from abc import ABC, abstractmethod\n",
    "from functools import wraps"
   ]
  },
  {
   "cell_type": "markdown",
   "metadata": {},
   "source": [
    "#### Time & Memory Functions"
   ]
  },
  {
   "cell_type": "code",
   "execution_count": 16,
   "metadata": {},
   "outputs": [],
   "source": [
    "def get_memory_size():\n",
    "    \"\"\"Get memory size.\n",
    "    \n",
    "    Returns\n",
    "    -------\n",
    "    total: memory size in usage in total\n",
    "    \"\"\"\n",
    "    snapshot = tracemalloc.take_snapshot()\n",
    "    stats = snapshot.statistics('lineno', cumulative=True)\n",
    "    total = sum(stat.size for stat in stats)\n",
    "    return total\n",
    "\n",
    "def get_human_readable_size(size_in_bytes):\n",
    "    \"\"\"Convert size in bytes in human readable units.\n",
    "    \n",
    "    Parameters\n",
    "    ----------\n",
    "    size_in_bytes: original size given in bytes\n",
    "    \n",
    "    Returns\n",
    "    -------\n",
    "    tuple of new size and unit, size in units GB/MB/KB/Bytes according to thresholds.\n",
    "    \"\"\"\n",
    "    if size_in_bytes >= 1024*1024*1024:\n",
    "        return float(size_in_bytes/(1024*1024*1024)), \"GB\" # return in GB\n",
    "    if size_in_bytes >= 1024*1024:\n",
    "        return float(size_in_bytes/(1024*1024)), \"MB\" # return in MB\n",
    "    if size_in_bytes >= 1024:\n",
    "        return float(size_in_bytes/1024), \"KB\" # return in KB\n",
    "    return float(size_in_bytes), \"Bytes\"    \n",
    "\n",
    "def timing_and_memory(f):\n",
    "    \"\"\"Decorator to register time and memory used by a function f.\n",
    "    \n",
    "    Parameters\n",
    "    ----------\n",
    "    f: function for which the time an memory will be measured\n",
    "    \n",
    "    It logs the time and the memory in the dictionary passed inside 'log' parameter if provided.\n",
    "    Time is logged in seconds, memory in bytes. Example dictionary entry looks like that:\n",
    "    {'SPLIT':{'time':1.62, 'memory-bytes':789.097}}, where keys are names of functions that \n",
    "    were called to get the time measured in uppercase.\n",
    "    \"\"\"\n",
    "    @wraps(f)\n",
    "    def wrapper(*args, **kwargs):\n",
    "        tracemalloc.start()\n",
    "        mem_before = get_memory_size()\n",
    "        start = time()\n",
    "        result = f(*args, **kwargs)\n",
    "        end = time()\n",
    "        mem_after = get_memory_size()\n",
    "        mem_diff = mem_after - mem_before\n",
    "        print(\"{}: memory before: {:.5}{}, after: {:.5}{}, consumed: {:.5}{}; exec time: {:.5}s\".format(\n",
    "            f.__name__,\n",
    "            *get_human_readable_size(mem_before), *get_human_readable_size(mem_after), *get_human_readable_size(mem_diff), end-start))        \n",
    "        \n",
    "        if 'log' in kwargs:\n",
    "            name = kwargs.get('log_name', f.__name__.upper())\n",
    "            kwargs['log'][name] = {'time': end - start, 'memory-bytes': mem_diff}\n",
    "        return result\n",
    "    return wrapper"
   ]
  },
  {
   "cell_type": "markdown",
   "metadata": {},
   "source": [
    "#### Quality of partitionings assessment"
   ]
  },
  {
   "cell_type": "code",
   "execution_count": 17,
   "metadata": {},
   "outputs": [],
   "source": [
    "class QualityReporter:\n",
    "    \"\"\"Assesses the quality of partitioning according to \n",
    "    chosen metrics and report it.\n",
    "    \n",
    "    Available metrics: edge cut, edge imbalance, vertex imbalance, time, memory usage.\n",
    "    \n",
    "    Parameters\n",
    "    ----------\n",
    "    partitionings: data splits to be compared\n",
    "    \n",
    "    Example\n",
    "    -------\n",
    "    \n",
    "    >>>>quality = QualityReporter(partitionings)\n",
    "    >>>>report = quality.report(visualize=False)\n",
    "    \"\"\"\n",
    "    def __init__(self, partitionings):\n",
    "        self.partitionings = partitionings\n",
    "    \n",
    "    def get_edge_cut(self, k, partitions, avg_size=None):\n",
    "        \"\"\"Calculates mean edge cut across partitions in a single \n",
    "        partitioning.\n",
    "        \n",
    "        Parameters\n",
    "        ----------\n",
    "        k: number of partitions\n",
    "        partitions: partitions in one partitioning\n",
    "        \n",
    "        Returns\n",
    "        -------\n",
    "        \n",
    "        edge_cut: average edge cut between partitions\"\"\"\n",
    "\n",
    "        intersections = []\n",
    "        for i in range(k):\n",
    "            tmp = []\n",
    "            for j in range(k):\n",
    "                tmp.append(len(np.intersect1d(partitions[i], partitions[j])))\n",
    "            intersections.append(np.mean(tmp))\n",
    "\n",
    "        edge_cut = np.mean(intersections)\n",
    "        edge_cut_proportion = None\n",
    "        if avg_size:\n",
    "            edge_cut_proportion = (edge_cut*100)/avg_size # edge cut with respect to the average partition size\n",
    "        return edge_cut, edge_cut_proportion\n",
    "    \n",
    "    def get_edge_imbalance(self, avg_size, max_size):\n",
    "        \"\"\"Calculates edge imbalance of partitions\n",
    "        \n",
    "        Parameters\n",
    "        ----------\n",
    "        avg_size: average size of partition\n",
    "        max_size: maximum size of partition\n",
    "        \n",
    "        Returns\n",
    "        -------\n",
    "        edge_imb: edge imbalance\n",
    "        \"\"\"\n",
    "        \n",
    "        edge_imb = max_size/avg_size - 1\n",
    "        return edge_imb\n",
    "    \n",
    "    def get_vertex_imbalance(self, partitions):\n",
    "        \"\"\"Calculates vertex imbalance of partitions\n",
    "        \n",
    "        Parameters\n",
    "        ----------\n",
    "        partitions: partitions in one partitioning\n",
    "        \n",
    "        Returns\n",
    "        -------\n",
    "        vertex_imb: vertex imbalance\n",
    "        \"\"\"\n",
    "        lengths = []\n",
    "        for partition in partitions:\n",
    "            lengths.append(len(np.asarray(list(set(partition[:,0]).union(set(partition[:,2]))))))\n",
    "        \n",
    "        vertex_imb = np.max(lengths)/np.mean(lengths) - 1\n",
    "        return vertex_imb\n",
    "        \n",
    "    def get_modularity(self):\n",
    "        \"\"\"Calculates modularity of partitions.\n",
    "                \n",
    "        Parameters\n",
    "        ----------\n",
    "        \n",
    "        Returns\n",
    "        -------\n",
    "        modularity: modularity\n",
    "        \"\"\"\n",
    "        raise NotImplementedError       \n",
    "        \n",
    "    def report_single_partitioning(self, partitioning, EDGE_CUT=True, \\\n",
    "                                   EDGE_IMB=True, VERTEX_IMB=True):\n",
    "        \"\"\"Calculate different metrics for a single partition.\n",
    "        \n",
    "        Parameters\n",
    "        ----------\n",
    "        partitioning: single split of data into partitions\n",
    "        EDGE_CUT [True/False]: flag whether to calculate edge cut or not\n",
    "        EDGE_IMB [True/False]: flag whether to calculate edge imbalance or not\n",
    "        VERTEX_IMB [True/False]: flag whether to calculate vertex imbalance or not        \n",
    "        \n",
    "        Returns\n",
    "        -------\n",
    "        metrics: dictionary with metrics\n",
    "        \"\"\"\n",
    "        logs = partitioning[1]\n",
    "        partitioning = partitioning[0]\n",
    "        k = len(partitioning)\n",
    "        sizes = [len(x) for x in partitioning]\n",
    "        avg_size = np.mean(sizes)\n",
    "        max_size = np.max(sizes)        \n",
    "        metrics = {\"EDGE_IMB\": None, \"VERTEX_IMB\": None, \"EDGE_CUT\": None}\n",
    "        \n",
    "        if logs:\n",
    "            metrics[\"PARTITIONING TIME\"] = logs[\"SPLIT\"]['time']\n",
    "            metrics[\"PARTITIONING MEMORY\"] = logs[\"SPLIT\"]['memory-bytes']\n",
    "        if EDGE_CUT:\n",
    "            edge_cut, edge_cut_proportion = self.get_edge_cut(k, partitioning, avg_size)\n",
    "            metrics[\"EDGE_CUT\"] = edge_cut\n",
    "            metrics[\"EDGE_CUT_PERCENTAGE\"] = edge_cut_proportion            \n",
    "        if EDGE_IMB:\n",
    "            edge_imb = self.get_edge_imbalance(avg_size, max_size)\n",
    "            metrics[\"EDGE_IMB\"] = edge_imb\n",
    "        if VERTEX_IMB:\n",
    "            vertex_imb = self.get_vertex_imbalance(partitioning)\n",
    "            metrics[\"VERTEX_IMB\"] = vertex_imb              \n",
    "            \n",
    "        return metrics\n",
    "    \n",
    "    def report(self, visualize=True):\n",
    "        \"\"\"Collect individual reports for every partitioning.\n",
    "        \n",
    "        Parameters\n",
    "        ----------\n",
    "        visualize [True/False] flag indicating whether to visualize output\n",
    "        \n",
    "        Returns\n",
    "        -------\n",
    "        reports: calculated metrics for all partitionings, dictionary with key \n",
    "        as numbers of partitions and values as dictionary with metrics\n",
    "        \"\"\"\n",
    "        reports = {}\n",
    "        for name, partitioning in self.partitionings.items():\n",
    "            reports[name] = self.report_single_partitioning(partitioning, EDGE_IMB=True, \\\n",
    "                                                         VERTEX_IMB=True)\n",
    "            \n",
    "        if visualize:\n",
    "            for metric in reports[list(reports.keys())[0]]:\n",
    "                plot = False\n",
    "                for report in reports:\n",
    "                    if reports[report][metric] != None:\n",
    "                        plt.bar(str(report),reports[report][metric])\n",
    "                        plot = True\n",
    "                if plot:\n",
    "                    plt.title(metric)\n",
    "                    plt.show()\n",
    "            \n",
    "        return reports"
   ]
  },
  {
   "cell_type": "code",
   "execution_count": 18,
   "metadata": {},
   "outputs": [],
   "source": [
    "class AbstractGraphPartitioner(ABC):\n",
    "    def __init__(self, data, k=2):\n",
    "        self._data = data\n",
    "        self._k = k\n",
    "            \n",
    "    def get_triples(self, vertices, **kwargs):\n",
    "        \"\"\"Given list of vertices return all triples which contain them.\n",
    "        \n",
    "        Parameters\n",
    "        ----------\n",
    "        vertices: list of vertices\n",
    "            \n",
    "        Returns\n",
    "        -------\n",
    "        array with triples containing vertices\n",
    "            \n",
    "        \"\"\"\n",
    "        return np.array([x for x in self._data if x[2] in vertices \\\n",
    "                         or x[0] in vertices])\n",
    "            \n",
    "    @abstractmethod\n",
    "    def split(self, **kwargs):\n",
    "        \"\"\"Split data into k equal size partitions.\n",
    "           \n",
    "           Returns\n",
    "           -------\n",
    "            partitions: parts of equal size with triples\n",
    "        \"\"\"\n",
    "        pass\n",
    "    \n",
    "class RandomVerticesGraphPartitioner(AbstractGraphPartitioner):\n",
    "    def __init__(self, data, k=2):\n",
    "        super().__init__(data, k)\n",
    "\n",
    "    @timing_and_memory\n",
    "    def split(self, **kwargs):\n",
    "        \"\"\"Split data into k equal size partitions by randomly drawing subset of vertices\n",
    "           of partition size and retrieving triples associated with these vertices.\n",
    "           \n",
    "           Returns\n",
    "           -------\n",
    "            partitions: parts of equal size with triples\n",
    "        \"\"\"\n",
    "        vertices = np.asarray(list(set(self._data[:,0]).union(set(self._data[:,2]))))\n",
    "        self.size = len(vertices)\n",
    "        indexes = range(self.size)\n",
    "        self.partition_size = int(self.size / self._k)\n",
    "        vertices_partitions = []\n",
    "        remaining_data = indexes\n",
    "        for part in range(self._k):\n",
    "            split = np.random.choice(indexes, self.partition_size)\n",
    "            remaining_data = np.setdiff1d(remaining_data, split)\n",
    "            vertices_partitions.append(self.get_triples(vertices[split]))\n",
    "        \n",
    "        return vertices_partitions    \n",
    "    \n",
    "class RandomEdgesGraphPartitioner(AbstractGraphPartitioner):\n",
    "    def __init__(self, data, k=2):\n",
    "        super().__init__(data, k)\n",
    "\n",
    "    @timing_and_memory\n",
    "    def split(self, **kwargs):\n",
    "        \"\"\"Split data into k equal size partitions by randomly drawing subset of \n",
    "           \n",
    "           Returns\n",
    "           -------\n",
    "            partitions: parts of equal size with triples\n",
    "        \"\"\"\n",
    "        \n",
    "        self.size = len(self._data)\n",
    "        indexes = range(self.size)\n",
    "        self.partition_size = int(self.size / self._k)\n",
    "        partitions = []\n",
    "        remaining_data = indexes\n",
    "        for part in range(self._k):\n",
    "            split = np.random.choice(indexes, self.partition_size)\n",
    "            remaining_data = np.setdiff1d(remaining_data, split)\n",
    "            partitions.append(self._data[split])\n",
    "        \n",
    "        return partitions        "
   ]
  },
  {
   "cell_type": "markdown",
   "metadata": {},
   "source": [
    "### Usage"
   ]
  },
  {
   "cell_type": "code",
   "execution_count": 19,
   "metadata": {},
   "outputs": [],
   "source": [
    "data = datasets.load_fb15k_237()\n",
    "sample = data[\"train\"]"
   ]
  },
  {
   "cell_type": "code",
   "execution_count": 20,
   "metadata": {},
   "outputs": [
    {
     "name": "stdout",
     "output_type": "stream",
     "text": [
      "split: memory before: 880.0Bytes, after: 9.3133MB, consumed: 9.3125MB; exec time: 62.884s\n",
      "split: memory before: 9.3235MB, after: 15.558MB, consumed: 6.2345MB; exec time: 0.9207s\n"
     ]
    }
   ],
   "source": [
    "partitionings = {}\n",
    "logs1 = {}\n",
    "partitioner1 = RandomVerticesGraphPartitioner(sample, k=2)\n",
    "tmp1 = partitioner1.split(log=logs1)\n",
    "partitionings['random vertices'] = (tmp1, logs1)\n",
    "logs2 = {}\n",
    "partitioner2 = RandomEdgesGraphPartitioner(sample, k=2)\n",
    "tmp2 = partitioner2.split(log=logs2)\n",
    "partitionings['random edges'] = (tmp2, logs2)"
   ]
  },
  {
   "cell_type": "markdown",
   "metadata": {},
   "source": [
    "#### Comparison of partitionings strategies"
   ]
  },
  {
   "cell_type": "code",
   "execution_count": 21,
   "metadata": {},
   "outputs": [
    {
     "data": {
      "image/png": "[encoded data removed]",
      "text/plain": [
       "<Figure size 432x288 with 1 Axes>"
      ]
     },
     "metadata": {
      "needs_background": "light"
     },
     "output_type": "display_data"
    },
    {
     "data": {
      "image/png": "[encoded data removed]",
      "text/plain": [
       "<Figure size 432x288 with 1 Axes>"
      ]
     },
     "metadata": {
      "needs_background": "light"
     },
     "output_type": "display_data"
    },
    {
     "data": {
      "image/png": "[encoded data removed]",
      "text/plain": [
       "<Figure size 432x288 with 1 Axes>"
      ]
     },
     "metadata": {
      "needs_background": "light"
     },
     "output_type": "display_data"
    },
    {
     "data": {
      "image/png": "[encoded data removed]",
      "text/plain": [
       "<Figure size 432x288 with 1 Axes>"
      ]
     },
     "metadata": {
      "needs_background": "light"
     },
     "output_type": "display_data"
    },
    {
     "data": {
      "image/png": "[encoded data removed]",
      "text/plain": [
       "<Figure size 432x288 with 1 Axes>"
      ]
     },
     "metadata": {
      "needs_background": "light"
     },
     "output_type": "display_data"
    },
    {
     "data": {
      "image/png": "[encoded data removed]",
      "text/plain": [
       "<Figure size 432x288 with 1 Axes>"
      ]
     },
     "metadata": {
      "needs_background": "light"
     },
     "output_type": "display_data"
    }
   ],
   "source": [
    "quality = QualityReporter(partitionings)\n",
    "reports = quality.report()"
   ]
  },
  {
   "cell_type": "markdown",
   "metadata": {},
   "source": [
    "### Tests:"
   ]
  },
  {
   "cell_type": "code",
   "execution_count": 22,
   "metadata": {},
   "outputs": [],
   "source": [
    "def test_get_triples_random_vertices():\n",
    "    vertices = [1]\n",
    "    data = np.array([[1,2,3],[4,5,1],[1,2,4],[5,2,4]])\n",
    "    test_data = np.array([[1,2,3],[4,5,1],[1,2,4]])\n",
    "    graph_partitioner = RandomVerticesGraphPartitioner(data, 2)\n",
    "    assert (graph_partitioner.get_triples(vertices) == test_data).all()\n",
    "\n",
    "def test_get_triples_random_edges():\n",
    "    vertices = [1]\n",
    "    data = np.array([[1,2,3],[4,5,1],[1,2,4],[5,2,4]])\n",
    "    test_data = np.array([[1,2,3],[4,5,1],[1,2,4]])\n",
    "    graph_partitioner = RandomEdgesGraphPartitioner(data, 2)\n",
    "    assert (graph_partitioner.get_triples(vertices) == test_data).all()    \n",
    "    \n",
    "def test_not_equal():\n",
    "    vertices = [1]    \n",
    "    data = np.array([[1,2,3],[2,3,4],[3,4,1],[1,1,1],[0,3,2]])    \n",
    "    test_data = np.array([[1,2,3],[4,5,1],[1,2,4]])\n",
    "    graph_partitioner = RandomVerticesGraphPartitioner(data, 2)\n",
    "    assert not (graph_partitioner.get_triples(vertices) == test_data).all()"
   ]
  },
  {
   "cell_type": "code",
   "execution_count": 23,
   "metadata": {},
   "outputs": [],
   "source": [
    "test_get_triples_random_edges()\n",
    "test_get_triples_random_vertices()\n",
    "test_not_equal()"
   ]
  }
 ],
 "metadata": {
  "kernelspec": {
   "display_name": "venv",
   "language": "python",
   "name": "venv"
  },
  "language_info": {
   "codemirror_mode": {
    "name": "ipython",
    "version": 3
   },
   "file_extension": ".py",
   "mimetype": "text/x-python",
   "name": "python",
   "nbconvert_exporter": "python",
   "pygments_lexer": "ipython3",
   "version": "3.7.3"
  }
 },
 "nbformat": 4,
 "nbformat_minor": 4
}
