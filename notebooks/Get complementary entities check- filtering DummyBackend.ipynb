{
 "cells": [
  {
   "cell_type": "code",
   "execution_count": 1,
   "metadata": {},
   "outputs": [
    {
     "name": "stdout",
     "output_type": "stream",
     "text": [
      "[PhysicalDevice(name='/physical_device:GPU:0', device_type='GPU')]\n",
      "1 Physical GPU, 2 Logical GPUs\n"
     ]
    },
    {
     "data": {
      "text/plain": [
       "[LogicalDevice(name='/device:GPU:0', device_type='GPU'),\n",
       " LogicalDevice(name='/device:GPU:1', device_type='GPU')]"
      ]
     },
     "execution_count": 1,
     "metadata": {},
     "output_type": "execute_result"
    }
   ],
   "source": [
    "import os\n",
    "os.environ['CUDA_VISIBLE_DEVICES'] = '0'\n",
    "\n",
    "import tensorflow as tf\n",
    "gpus = tf.config.experimental.list_physical_devices('GPU')\n",
    "print(gpus)\n",
    "tf.config.experimental.set_virtual_device_configuration(\n",
    "    gpus[0],\n",
    "    [tf.config.experimental.VirtualDeviceConfiguration(memory_limit=8000),\n",
    "    tf.config.experimental.VirtualDeviceConfiguration(memory_limit=8000)])\n",
    "\n",
    "logical_gpus = tf.config.experimental.list_logical_devices('GPU')\n",
    "print(len(gpus), \"Physical GPU,\", len(logical_gpus), \"Logical GPUs\")\n",
    "\n",
    "logical_gpus  "
   ]
  },
  {
   "cell_type": "code",
   "execution_count": 9,
   "metadata": {},
   "outputs": [],
   "source": [
    "tf.config.set_soft_device_placement(False)\n",
    "tf.debugging.set_log_device_placement(True)\n",
    "import numpy as np\n",
    "from ampligraph.datasets import GraphDataLoader"
   ]
  },
  {
   "cell_type": "code",
   "execution_count": 38,
   "metadata": {},
   "outputs": [],
   "source": [
    "train = np.array([[1,1,2], [1,1,3],[1,1,4],[5,1,3],[5,1,4],[6,1,3],[6,1,2],[6,1,4],[6,1,7]])\n",
    "test = np.array([[3,1,2], [4,1,3],[5,1,4], [5,1,2], [1,1,5]])\n",
    "val = np.array([[3,1,6], [2,1,2],[1,1,6]])\n",
    "use_filter = {'train':train,'test':test, 'val':val}\n",
    "\n",
    "# complementary objects to 1,1,?: train: 2, 3, 4, test: 5, val: 6 \n",
    "# complementary subjects to ?,1,2: train: 1, 6, test: 3, 5, val: 2\n",
    "\n",
    "data = GraphDataLoader(train, batch_size=1, dataset_type=\"train\", use_filter=use_filter)"
   ]
  },
  {
   "cell_type": "code",
   "execution_count": 39,
   "metadata": {},
   "outputs": [
    {
     "name": "stdout",
     "output_type": "stream",
     "text": [
      "[[1 1 2]]\n",
      "Complementary objects to (1, 1, ?)\n",
      "['2' '3' '4' '5' '6']\n",
      "Complementary subjects to (?, 1, 2)\n",
      "['1' '6' '3' '5' '2']\n",
      "Raw:  ([[0, 5, 2, 4, 1]], [[1, 2, 3, 4, 5]])\n"
     ]
    }
   ],
   "source": [
    "triple = np.array([[0,0,1]])\n",
    "converted = data.backend.mapper.get_indexes(triple, order='ind2raw')\n",
    "print(converted)\n",
    "for batch in data:\n",
    "    print(\"Complementary objects to ({}, {}, ?)\".format(converted[0,0],converted[0,1]))\n",
    "    print(data.backend.mapper.get_indexes(data.get_complementary_objects(triple, use_filter=use_filter)[0], type_of='e', order='ind2raw'))\n",
    "    print(\"Complementary subjects to (?, {}, {})\".format(converted[0,1],converted[0,2]))    \n",
    "    print(data.backend.mapper.get_indexes(data.get_complementary_subjects(triple, use_filter=use_filter)[0], type_of='e', order='ind2raw'))\n",
    "    print(\"Raw: \", data.get_complementary_entities(triple, use_filter=use_filter))    \n",
    "    break"
   ]
  },
  {
   "cell_type": "code",
   "execution_count": null,
   "metadata": {},
   "outputs": [],
   "source": []
  }
 ],
 "metadata": {
  "kernelspec": {
   "display_name": "tf2-py3.7",
   "language": "python",
   "name": "tf2-py3.7"
  },
  "language_info": {
   "codemirror_mode": {
    "name": "ipython",
    "version": 3
   },
   "file_extension": ".py",
   "mimetype": "text/x-python",
   "name": "python",
   "nbconvert_exporter": "python",
   "pygments_lexer": "ipython3",
   "version": "3.7.6"
  }
 },
 "nbformat": 4,
 "nbformat_minor": 2
}
