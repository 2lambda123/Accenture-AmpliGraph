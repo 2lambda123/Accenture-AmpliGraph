{
 "cells": [
  {
   "cell_type": "markdown",
   "metadata": {},
   "source": [
    "#### Imports"
   ]
  },
  {
   "cell_type": "code",
   "execution_count": 2,
   "metadata": {},
   "outputs": [],
   "source": [
    "import shelve"
   ]
  },
  {
   "cell_type": "markdown",
   "metadata": {},
   "source": [
    "#### Create and write values to the database"
   ]
  },
  {
   "cell_type": "code",
   "execution_count": 3,
   "metadata": {},
   "outputs": [],
   "source": [
    "db_fname  = \"test_graph.db\"\n",
    "\n",
    "s = shelve.open(db_fname)\n",
    "try:\n",
    "    s['ind1'] = { 's': 10, 'p':9, 'o':1 } # mind that indexes need to be strings\n",
    "finally:\n",
    "    s.close()"
   ]
  },
  {
   "cell_type": "markdown",
   "metadata": {},
   "source": [
    "#### Read values from the database"
   ]
  },
  {
   "cell_type": "code",
   "execution_count": 5,
   "metadata": {},
   "outputs": [
    {
     "name": "stdout",
     "output_type": "stream",
     "text": [
      "{'s': 10, 'p': 9, 'o': 1}\n"
     ]
    }
   ],
   "source": [
    "s = shelve.open(db_fname)\n",
    "try:\n",
    "    print(s['ind1'])\n",
    "finally:\n",
    "    s.close()"
   ]
  },
  {
   "cell_type": "markdown",
   "metadata": {},
   "source": [
    "#### Update the value in the database"
   ]
  },
  {
   "cell_type": "code",
   "execution_count": 9,
   "metadata": {},
   "outputs": [],
   "source": [
    "s = shelve.open(db_fname)\n",
    "try:\n",
    "    s['ind1'] = { 's': 10, 'p':10, 'o':1 }\n",
    "finally:\n",
    "    s.close()"
   ]
  },
  {
   "cell_type": "markdown",
   "metadata": {},
   "source": [
    "#### Check the update"
   ]
  },
  {
   "cell_type": "code",
   "execution_count": 10,
   "metadata": {},
   "outputs": [
    {
     "name": "stdout",
     "output_type": "stream",
     "text": [
      "{'s': 10, 'p': 10, 'o': 1}\n"
     ]
    }
   ],
   "source": [
    "s = shelve.open(db_fname)\n",
    "try:\n",
    "    print(s['ind1'])\n",
    "finally:\n",
    "    s.close()"
   ]
  },
  {
   "cell_type": "markdown",
   "metadata": {},
   "source": [
    "#### Check yet another way"
   ]
  },
  {
   "cell_type": "code",
   "execution_count": 12,
   "metadata": {},
   "outputs": [],
   "source": [
    "s = shelve.open(db_fname)      \n",
    "try:\n",
    "    s['ind1']['w'] = 13\n",
    "finally:\n",
    "    s.close()"
   ]
  },
  {
   "cell_type": "markdown",
   "metadata": {},
   "source": [
    "#### Check the update - save didn't work, you need to overwrite the value or give the argument writeback=True! "
   ]
  },
  {
   "cell_type": "code",
   "execution_count": 13,
   "metadata": {},
   "outputs": [
    {
     "name": "stdout",
     "output_type": "stream",
     "text": [
      "{'s': 10, 'p': 10, 'o': 1}\n"
     ]
    }
   ],
   "source": [
    "s = shelve.open(db_fname)\n",
    "try:\n",
    "    print(s['ind1'])\n",
    "finally:\n",
    "    s.close()"
   ]
  },
  {
   "cell_type": "code",
   "execution_count": null,
   "metadata": {},
   "outputs": [],
   "source": []
  }
 ],
 "metadata": {
  "kernelspec": {
   "display_name": "tf2-py3.7",
   "language": "python",
   "name": "tf2-py3.7"
  },
  "language_info": {
   "codemirror_mode": {
    "name": "ipython",
    "version": 3
   },
   "file_extension": ".py",
   "mimetype": "text/x-python",
   "name": "python",
   "nbconvert_exporter": "python",
   "pygments_lexer": "ipython3",
   "version": "3.7.6"
  }
 },
 "nbformat": 4,
 "nbformat_minor": 2
}
