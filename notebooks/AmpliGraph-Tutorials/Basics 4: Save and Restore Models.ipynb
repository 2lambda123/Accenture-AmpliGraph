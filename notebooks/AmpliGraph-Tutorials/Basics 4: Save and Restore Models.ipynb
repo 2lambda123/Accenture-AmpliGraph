{
 "cells": [
  {
   "cell_type": "code",
   "execution_count": 1,
   "id": "f7d979c1",
   "metadata": {},
   "outputs": [],
   "source": [
    "import sys\n",
    "sys.path.append('../..')\n",
    "import os\n",
    "os.environ['CUDA_VISIBLE_DEVICES'] = '0'\n",
    "os.environ['TF_ENABLE_ONEDNN_OPTS'] = '0'\n",
    "os.environ['TF_CPP_MIN_LOG_LEVEL'] = '3'\n",
    "import tensorflow as tf\n",
    "tf.get_logger().setLevel('ERROR')"
   ]
  },
  {
   "cell_type": "code",
   "execution_count": 2,
   "id": "dafa4c11",
   "metadata": {},
   "outputs": [],
   "source": [
    "import ampligraph\n",
    "# Benchmark datasets are under ampligraph.datasets module\n",
    "from ampligraph.datasets import load_fb15k_237\n",
    "# load fb15k-237 dataset\n",
    "dataset = load_fb15k_237()"
   ]
  },
  {
   "cell_type": "code",
   "execution_count": 3,
   "id": "87ed1243",
   "metadata": {},
   "outputs": [
    {
     "name": "stdout",
     "output_type": "stream",
     "text": [
      "Epoch 1/10\n",
      "29/29 [==============================] - 2s 75ms/step - loss: 6698.2188\n",
      "Epoch 2/10\n",
      "3/3 [==============================] - 1s 364ms/steposs: 6743.884\n",
      "29/29 [==============================] - 2s 71ms/step - loss: 6648.8862 - val_mrr: 0.0672 - val_mr: 2604.4943 - val_hits@1: 0.0000e+00 - val_hits@10: 0.1847\n",
      "\n",
      "Epoch 2: val_mrr improved from inf to 0.06722, saving model to ./chkpt1_transe\n",
      "WARNING - Found untraced functions such as _get_ranks while saving (showing 1 of 1). These functions will not be directly callable after loading.\n",
      "Epoch 3/10\n",
      "29/29 [==============================] - 1s 32ms/step - loss: 6590.2842\n",
      "Epoch 4/10\n",
      "3/3 [==============================] - 0s 88ms/steploss: 6564.021\n",
      "29/29 [==============================] - 1s 43ms/step - loss: 6517.4517 - val_mrr: 0.0918 - val_mr: 1316.6335 - val_hits@1: 0.0000e+00 - val_hits@10: 0.2528\n",
      "\n",
      "Epoch 4: val_mrr did not improve from 0.06722\n",
      "Epoch 5/10\n",
      "29/29 [==============================] - 1s 32ms/step - loss: 6431.8696\n",
      "Epoch 6/10\n",
      "3/3 [==============================] - 0s 104ms/steposs: 6369.422\n",
      "29/29 [==============================] - 1s 45ms/step - loss: 6338.9854 - val_mrr: 0.0873 - val_mr: 935.4460 - val_hits@1: 0.0000e+00 - val_hits@10: 0.2443\n",
      "\n",
      "Epoch 6: val_mrr did not improve from 0.06722\n",
      "Epoch 7/10\n",
      "29/29 [==============================] - 1s 32ms/step - loss: 6243.9902\n",
      "Epoch 8/10\n",
      "3/3 [==============================] - 1s 368ms/steposs: 6170.871\n",
      "29/29 [==============================] - 2s 71ms/step - loss: 6148.5376 - val_mrr: 0.0843 - val_mr: 857.0710 - val_hits@1: 0.0000e+00 - val_hits@10: 0.2159\n",
      "\n",
      "Epoch 8: val_mrr did not improve from 0.06722\n",
      "Epoch 9/10\n",
      "29/29 [==============================] - 1s 32ms/step - loss: 6054.7817\n",
      "Epoch 10/10\n",
      "3/3 [==============================] - 0s 108ms/steposs: 5980.499\n",
      "29/29 [==============================] - 1s 44ms/step - loss: 5963.0801 - val_mrr: 0.0778 - val_mr: 814.8352 - val_hits@1: 0.0000e+00 - val_hits@10: 0.1790\n",
      "\n",
      "Epoch 10: val_mrr did not improve from 0.06722\n"
     ]
    },
    {
     "data": {
      "text/plain": [
       "<tensorflow.python.keras.callbacks.History at 0x7f0a345e70d0>"
      ]
     },
     "execution_count": 3,
     "metadata": {},
     "output_type": "execute_result"
    }
   ],
   "source": [
    "# Import the KGE model\n",
    "from ampligraph.latent_features import ScoringBasedEmbeddingModel\n",
    "\n",
    "# create the model with transe scoring function\n",
    "model = ScoringBasedEmbeddingModel(eta=1, \n",
    "                                     k=10,\n",
    "                                     scoring_type='TransE')\n",
    "\n",
    "\n",
    "# compile the model with loss and optimizer\n",
    "model.compile(optimizer='adam', loss='multiclass_nll')\n",
    "\n",
    "# Use this for checkpoints at regular intervals\n",
    "checkpoint = tf.keras.callbacks.ModelCheckpoint('./chkpt1_transe', monitor='val_mrr', verbose=1, save_best_only=True, mode='min')\n",
    "\n",
    "dataset = load_fb15k_237()\n",
    "\n",
    "model.fit(dataset['train'],\n",
    "             batch_size=10000,\n",
    "             epochs=10,\n",
    "             validation_freq=2,\n",
    "             validation_batch_size=100,\n",
    "             validation_data = dataset['valid'][::100],\n",
    "         callbacks=[checkpoint])     # Pass the callback to the fit function\n"
   ]
  },
  {
   "cell_type": "code",
   "execution_count": null,
   "id": "fd478620",
   "metadata": {},
   "outputs": [],
   "source": []
  },
  {
   "cell_type": "code",
   "execution_count": 4,
   "id": "e5b4dc3b",
   "metadata": {},
   "outputs": [
    {
     "name": "stdout",
     "output_type": "stream",
     "text": [
      "206/206 [==============================] - 85s 410ms/step\n",
      "MR: 683.0425188374596\n",
      "MRR: 0.15564075295325883\n",
      "hits@1: 0.10260299442215481\n",
      "hits@10: 0.258929445151189\n"
     ]
    }
   ],
   "source": [
    "# evaluate on the test set\n",
    "ranks = model.evaluate(dataset['test'], # test set\n",
    "                       batch_size=100, # evaluation batch size\n",
    "                       corrupt_side='s,o', \n",
    "                       use_filter={'train':dataset['train'], # Filter to be used for evaluation\n",
    "                                   'valid':dataset['valid'],\n",
    "                                   'test':dataset['test']}\n",
    "                       )\n",
    "\n",
    "# import the evaluation metrics\n",
    "from ampligraph.evaluation.metrics import mrr_score, hits_at_n_score, mr_score\n",
    "\n",
    "print('MR:', mr_score(ranks))\n",
    "print('MRR:', mrr_score(ranks))\n",
    "print('hits@1:', hits_at_n_score(ranks, 1))\n",
    "print('hits@10:', hits_at_n_score(ranks, 10))"
   ]
  },
  {
   "cell_type": "code",
   "execution_count": 5,
   "id": "fee12a7d",
   "metadata": {},
   "outputs": [
    {
     "name": "stdout",
     "output_type": "stream",
     "text": [
      "The path saved_model_transE already exists. This save operation will overwrite the model                 at the specified path.\n",
      "WARNING - Found untraced functions such as _get_ranks while saving (showing 1 of 1). These functions will not be directly callable after loading.\n"
     ]
    }
   ],
   "source": [
    "from ampligraph.utils import save_model\n",
    "# explictly save the model\n",
    "save_model(model, 'saved_model_transE')\n"
   ]
  },
  {
   "cell_type": "code",
   "execution_count": 6,
   "id": "adc72ebd",
   "metadata": {},
   "outputs": [],
   "source": [
    "from ampligraph.utils import restore_model\n",
    "\n",
    "# restore saved models or checkpoints\n",
    "model = restore_model('saved_model_transE')"
   ]
  },
  {
   "cell_type": "code",
   "execution_count": 7,
   "id": "115f311e",
   "metadata": {},
   "outputs": [
    {
     "name": "stdout",
     "output_type": "stream",
     "text": [
      "206/206 [==============================] - 85s 413ms/step\n",
      "MR: 683.0425188374596\n",
      "MRR: 0.15564075295325883\n",
      "hits@1: 0.10260299442215481\n",
      "hits@10: 0.258929445151189\n"
     ]
    }
   ],
   "source": [
    "# evaluate on the test set\n",
    "ranks = model.evaluate(dataset['test'], # test set\n",
    "                       batch_size=100, # evaluation batch size\n",
    "                       corrupt_side='s,o', \n",
    "                       use_filter={'train':dataset['train'], # Filter to be used for evaluation\n",
    "                                   'valid':dataset['valid'],\n",
    "                                   'test':dataset['test']}\n",
    "                       )\n",
    "\n",
    "# import the evaluation metrics\n",
    "from ampligraph.evaluation.metrics import mrr_score, hits_at_n_score, mr_score\n",
    "\n",
    "print('MR:', mr_score(ranks))\n",
    "print('MRR:', mrr_score(ranks))\n",
    "print('hits@1:', hits_at_n_score(ranks, 1))\n",
    "print('hits@10:', hits_at_n_score(ranks, 10))"
   ]
  },
  {
   "cell_type": "code",
   "execution_count": null,
   "id": "f625f2a5",
   "metadata": {},
   "outputs": [],
   "source": []
  },
  {
   "cell_type": "code",
   "execution_count": null,
   "id": "24cb1627",
   "metadata": {},
   "outputs": [],
   "source": []
  }
 ],
 "metadata": {
  "kernelspec": {
   "display_name": "tf2.8",
   "language": "python",
   "name": "tf2.8"
  },
  "language_info": {
   "codemirror_mode": {
    "name": "ipython",
    "version": 3
   },
   "file_extension": ".py",
   "mimetype": "text/x-python",
   "name": "python",
   "nbconvert_exporter": "python",
   "pygments_lexer": "ipython3",
   "version": "3.9.12"
  }
 },
 "nbformat": 4,
 "nbformat_minor": 5
}
