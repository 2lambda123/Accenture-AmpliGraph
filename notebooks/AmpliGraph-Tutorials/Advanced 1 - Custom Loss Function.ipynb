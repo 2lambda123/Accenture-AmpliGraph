{
 "cells": [
  {
   "cell_type": "code",
   "execution_count": 1,
   "id": "f7d979c1",
   "metadata": {},
   "outputs": [],
   "source": [
    "import sys\n",
    "sys.path.append('../..')\n",
    "import os\n",
    "os.environ['CUDA_VISIBLE_DEVICES'] = '0'\n",
    "os.environ['TF_ENABLE_ONEDNN_OPTS'] = '0'\n",
    "os.environ['TF_CPP_MIN_LOG_LEVEL'] = '3'\n",
    "import tensorflow as tf\n",
    "tf.get_logger().setLevel('ERROR')\n",
    "import numpy as np"
   ]
  },
  {
   "cell_type": "code",
   "execution_count": 2,
   "id": "dafa4c11",
   "metadata": {},
   "outputs": [],
   "source": [
    "import ampligraph\n",
    "# Benchmark datasets are under ampligraph.datasets module\n",
    "from ampligraph.datasets import load_fb15k_237\n",
    "# load fb15k-237 dataset\n",
    "dataset = load_fb15k_237()"
   ]
  },
  {
   "cell_type": "markdown",
   "id": "49e03ab8",
   "metadata": {},
   "source": [
    "## Train the model using custom loss function\n"
   ]
  },
  {
   "cell_type": "code",
   "execution_count": 3,
   "id": "94e04064",
   "metadata": {},
   "outputs": [],
   "source": [
    "def userLoss(scores_pos, scores_neg):\n",
    "    # user defined loss - takes in 2 params and returns loss\n",
    "    neg_exp = tf.exp(scores_neg)\n",
    "    pos_exp = tf.exp(scores_pos)\n",
    "    softmax_score = pos_exp / (tf.reduce_sum(neg_exp, axis=0) + pos_exp)\n",
    "    loss = -tf.math.log(softmax_score)\n",
    "    return loss"
   ]
  },
  {
   "cell_type": "code",
   "execution_count": 4,
   "id": "87ed1243",
   "metadata": {},
   "outputs": [
    {
     "name": "stdout",
     "output_type": "stream",
     "text": [
      "Epoch 1/10\n",
      "29/29 [==============================] - 2s 84ms/step - loss: 6736.2163\n",
      "Epoch 2/10\n",
      "29/29 [==============================] - 1s 34ms/step - loss: 6734.2759\n",
      "Epoch 3/10\n",
      "29/29 [==============================] - 1s 33ms/step - loss: 6722.5811\n",
      "Epoch 4/10\n",
      "29/29 [==============================] - 1s 35ms/step - loss: 6670.1821\n",
      "Epoch 5/10\n",
      "29/29 [==============================] - 1s 34ms/step - loss: 6525.2368\n",
      "Epoch 6/10\n",
      "29/29 [==============================] - 1s 33ms/step - loss: 6255.4956\n",
      "Epoch 7/10\n",
      "29/29 [==============================] - 1s 34ms/step - loss: 5888.8159\n",
      "Epoch 8/10\n",
      "29/29 [==============================] - 1s 34ms/step - loss: 5486.6587\n",
      "Epoch 9/10\n",
      "29/29 [==============================] - 1s 32ms/step - loss: 5098.1455\n",
      "Epoch 10/10\n",
      "29/29 [==============================] - 1s 32ms/step - loss: 4743.7100\n"
     ]
    },
    {
     "data": {
      "text/plain": [
       "<tensorflow.python.keras.callbacks.History at 0x7fa8f826cbe0>"
      ]
     },
     "execution_count": 4,
     "metadata": {},
     "output_type": "execute_result"
    }
   ],
   "source": [
    "# Import the KGE model\n",
    "from ampligraph.latent_features import ScoringBasedEmbeddingModel\n",
    "\n",
    "# create the model with transe scoring function\n",
    "model = ScoringBasedEmbeddingModel(eta=1, \n",
    "                                     k=100,\n",
    "                                     scoring_type='ComplEx')\n",
    "\n",
    "\n",
    "# compile the model with loss and optimizer\n",
    "model.compile(optimizer='adam', loss=userLoss)\n",
    "\n",
    "\n",
    "dataset = load_fb15k_237()\n",
    "\n",
    "model.fit(dataset['train'],\n",
    "             batch_size=10000,\n",
    "             epochs=10)     \n"
   ]
  },
  {
   "cell_type": "code",
   "execution_count": null,
   "id": "badb504e",
   "metadata": {},
   "outputs": [],
   "source": []
  },
  {
   "cell_type": "code",
   "execution_count": null,
   "id": "f8d55c73",
   "metadata": {},
   "outputs": [],
   "source": []
  }
 ],
 "metadata": {
  "kernelspec": {
   "display_name": "tf2.8",
   "language": "python",
   "name": "tf2.8"
  },
  "language_info": {
   "codemirror_mode": {
    "name": "ipython",
    "version": 3
   },
   "file_extension": ".py",
   "mimetype": "text/x-python",
   "name": "python",
   "nbconvert_exporter": "python",
   "pygments_lexer": "ipython3",
   "version": "3.9.12"
  }
 },
 "nbformat": 4,
 "nbformat_minor": 5
}
