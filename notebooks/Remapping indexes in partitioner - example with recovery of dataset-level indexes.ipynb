{
 "cells": [
  {
   "cell_type": "code",
   "execution_count": 1,
   "metadata": {},
   "outputs": [
    {
     "name": "stdout",
     "output_type": "stream",
     "text": [
      "[PhysicalDevice(name='/physical_device:GPU:0', device_type='GPU')]\n",
      "1 Physical GPU, 2 Logical GPUs\n"
     ]
    },
    {
     "data": {
      "text/plain": [
       "[LogicalDevice(name='/device:GPU:0', device_type='GPU'),\n",
       " LogicalDevice(name='/device:GPU:1', device_type='GPU')]"
      ]
     },
     "execution_count": 1,
     "metadata": {},
     "output_type": "execute_result"
    }
   ],
   "source": [
    "import os\n",
    "os.environ['CUDA_VISIBLE_DEVICES'] = '0'\n",
    "\n",
    "import tensorflow as tf\n",
    "gpus = tf.config.experimental.list_physical_devices('GPU')\n",
    "print(gpus)\n",
    "tf.config.experimental.set_virtual_device_configuration(\n",
    "    gpus[0],\n",
    "    [tf.config.experimental.VirtualDeviceConfiguration(memory_limit=8000),\n",
    "    tf.config.experimental.VirtualDeviceConfiguration(memory_limit=8000)])\n",
    "\n",
    "logical_gpus = tf.config.experimental.list_logical_devices('GPU')\n",
    "print(len(gpus), \"Physical GPU,\", len(logical_gpus), \"Logical GPUs\")\n",
    "\n",
    "logical_gpus  "
   ]
  },
  {
   "cell_type": "code",
   "execution_count": 2,
   "metadata": {},
   "outputs": [],
   "source": [
    "tf.config.set_soft_device_placement(False)\n",
    "tf.debugging.set_log_device_placement(True)\n",
    "import numpy as np\n",
    "from ampligraph.datasets.graph_partitioner import BucketGraphPartitioner\n",
    "from ampligraph.datasets import GraphDataLoader\n",
    "import shelve"
   ]
  },
  {
   "cell_type": "code",
   "execution_count": 5,
   "metadata": {
    "scrolled": false
   },
   "outputs": [
    {
     "name": "stdout",
     "output_type": "stream",
     "text": [
      "data_source is an object\n",
      "The mappings will be created for data in main_partition.\n",
      "Mappings updated with: 7 ents, 7 rev_ents, 1 rels and 1 rev_rels\n",
      "The mappings will be created for data in partition_0_buckets_0-0.\n",
      "Mappings are created in the following files:\n",
      "entities_partition_0_buckets_0-0_16-07-2020_01-18-43_PM.shf\n",
      "reversed_entities_partition_0_buckets_0-0_16-07-2020_01-18-43_PM.shf\n",
      "relations_partition_0_buckets_0-0_16-07-2020_01-18-43_PM.shf\n",
      "reversed_relations_partition_0_buckets_0-0_16-07-2020_01-18-43_PM.shf\n",
      "The mappings will be created for data in partition_1_buckets_0-1.\n",
      "Mappings are created in the following files:\n",
      "entities_partition_1_buckets_0-1_16-07-2020_01-18-43_PM.shf\n",
      "reversed_entities_partition_1_buckets_0-1_16-07-2020_01-18-43_PM.shf\n",
      "relations_partition_1_buckets_0-1_16-07-2020_01-18-43_PM.shf\n",
      "reversed_relations_partition_1_buckets_0-1_16-07-2020_01-18-43_PM.shf\n",
      "The mappings will be created for data in partition_2_buckets_1-1.\n",
      "Mappings are created in the following files:\n",
      "entities_partition_2_buckets_1-1_16-07-2020_01-18-43_PM.shf\n",
      "reversed_entities_partition_2_buckets_1-1_16-07-2020_01-18-43_PM.shf\n",
      "relations_partition_2_buckets_1-1_16-07-2020_01-18-43_PM.shf\n",
      "reversed_relations_partition_2_buckets_1-1_16-07-2020_01-18-43_PM.shf\n",
      "_split: memory before: 556.69KB, after: 611.91KB, consumed: 55.217KB; exec time: 0.040815s\n",
      "partition  0\n",
      "[[0 0 1]]\n",
      "original data recovery:\n",
      "0 0 1\n",
      "[[0 0 2]]\n",
      "original data recovery:\n",
      "0 0 2\n",
      "[[0 0 3]]\n",
      "original data recovery:\n",
      "0 0 3\n",
      "Partition Metadata:  {'entities_shelf': './entities_partition_0_buckets_0-0_16-07-2020_01-18-43_PM.shf', 'reversed_entities_shelf': './reversed_entities_partition_0_buckets_0-0_16-07-2020_01-18-43_PM.shf', 'relations': './relations_partition_0_buckets_0-0_16-07-2020_01-18-43_PM.shf', 'reversed_relations_dict': './reversed_relations_partition_0_buckets_0-0_16-07-2020_01-18-43_PM.shf', 'name': 'partition_0_buckets_0-0'}\n",
      "partition  1\n",
      "[[3 0 0]]\n",
      "original data recovery:\n",
      "4 0 1\n",
      "[[3 0 1]]\n",
      "original data recovery:\n",
      "4 0 2\n",
      "[[4 0 0]]\n",
      "original data recovery:\n",
      "5 0 1\n",
      "[[4 0 1]]\n",
      "original data recovery:\n",
      "5 0 2\n",
      "[[4 0 2]]\n",
      "original data recovery:\n",
      "5 0 3\n",
      "Partition Metadata:  {'entities_shelf': './entities_partition_1_buckets_0-1_16-07-2020_01-18-43_PM.shf', 'reversed_entities_shelf': './reversed_entities_partition_1_buckets_0-1_16-07-2020_01-18-43_PM.shf', 'relations': './relations_partition_1_buckets_0-1_16-07-2020_01-18-43_PM.shf', 'reversed_relations_dict': './reversed_relations_partition_1_buckets_0-1_16-07-2020_01-18-43_PM.shf', 'name': 'partition_1_buckets_0-1'}\n",
      "partition  2\n",
      "[[0 0 1]]\n",
      "original data recovery:\n",
      "5 0 6\n",
      "Partition Metadata:  {'entities_shelf': './entities_partition_2_buckets_1-1_16-07-2020_01-18-43_PM.shf', 'reversed_entities_shelf': './reversed_entities_partition_2_buckets_1-1_16-07-2020_01-18-43_PM.shf', 'relations': './relations_partition_2_buckets_1-1_16-07-2020_01-18-43_PM.shf', 'reversed_relations_dict': './reversed_relations_partition_2_buckets_1-1_16-07-2020_01-18-43_PM.shf', 'name': 'partition_2_buckets_1-1'}\n"
     ]
    }
   ],
   "source": [
    "d = np.array([[1,1,2], [1,1,3],[1,1,4],[5,1,3],[5,1,2],[6,1,3],[6,1,2],[6,1,4],[6,1,7]])\n",
    "data = GraphDataLoader(d, batch_size=1, dataset_type=\"test\")\n",
    "partitioner = BucketGraphPartitioner(data, k=2)\n",
    "for i, partition in enumerate(partitioner):\n",
    "    print(\"partition \", i)\n",
    "    for batch in partition:\n",
    "        print(batch)\n",
    "        print(\"original data recovery:\")\n",
    "        with shelve.open(partition.backend.mapper.entities_dict) as ents:\n",
    "            with shelve.open(partition.backend.mapper.relations_dict) as rels:\n",
    "                print(ents[str(batch[0][0])], rels[str(batch[0][1])], ents[str(batch[0][2])])\n",
    "\n",
    "    print(\"Partition Metadata: \", partition.metadata)"
   ]
  },
  {
   "cell_type": "code",
   "execution_count": null,
   "metadata": {},
   "outputs": [],
   "source": []
  },
  {
   "cell_type": "code",
   "execution_count": null,
   "metadata": {},
   "outputs": [],
   "source": []
  }
 ],
 "metadata": {
  "kernelspec": {
   "display_name": "tf2-py3.7",
   "language": "python",
   "name": "tf2-py3.7"
  },
  "language_info": {
   "codemirror_mode": {
    "name": "ipython",
    "version": 3
   },
   "file_extension": ".py",
   "mimetype": "text/x-python",
   "name": "python",
   "nbconvert_exporter": "python",
   "pygments_lexer": "ipython3",
   "version": "3.7.6"
  }
 },
 "nbformat": 4,
 "nbformat_minor": 2
}
